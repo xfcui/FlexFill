{
 "cells": [
  {
   "cell_type": "code",
   "execution_count": 47,
   "id": "abf00413",
   "metadata": {},
   "outputs": [],
   "source": [
    "import os\n",
    "import time\n",
    "import shutil"
   ]
  },
  {
   "cell_type": "code",
   "execution_count": 2,
   "id": "1cda0af6",
   "metadata": {},
   "outputs": [],
   "source": [
    "os.environ['CUDA_VISIBLE_DEVICES']='5'\n",
    "os.environ['TF_CPP_MIN_LOG_LEVEL'] = '0'"
   ]
  },
  {
   "cell_type": "code",
   "execution_count": 3,
   "id": "a2be3c3e",
   "metadata": {},
   "outputs": [
    {
     "name": "stderr",
     "output_type": "stream",
     "text": [
      "2024-08-22 02:05:16.052584: I external/xla/xla/service/service.cc:168] XLA service 0x3d605e0 initialized for platform CUDA (this does not guarantee that XLA will be used). Devices:\n",
      "2024-08-22 02:05:16.052615: I external/xla/xla/service/service.cc:176]   StreamExecutor device (0): NVIDIA GeForce RTX 2080 Ti, Compute Capability 7.5\n",
      "2024-08-22 02:05:16.053020: I external/xla/xla/pjrt/gpu/se_gpu_pjrt_client.cc:738] Using BFC allocator.\n",
      "2024-08-22 02:05:16.053094: I external/xla/xla/pjrt/gpu/gpu_helpers.cc:105] XLA backend allocating 8654290944 bytes on device 0 for BFCAllocator.\n",
      "2024-08-22 02:05:16.096414: I external/xla/xla/stream_executor/cuda/cuda_dnn.cc:455] Loaded cuDNN version 8906\n",
      "2024-08-22 02:05:16.101034: I external/tsl/tsl/platform/default/subprocess.cc:304] Start cannot spawn child process: No such file or directory\n",
      "2024-08-22 02:05:16.104236: I external/tsl/tsl/platform/default/subprocess.cc:304] Start cannot spawn child process: No such file or directory\n",
      "2024-08-22 02:05:16.108978: I external/xla/xla/stream_executor/cuda/cuda_asm_compiler.cc:52] Using nvlink for parallel linking\n"
     ]
    }
   ],
   "source": [
    "import numpy as onp\n",
    "\n",
    "import jax.numpy as np\n",
    "from jax import random\n",
    "from jax import jit, grad, vmap, value_and_grad\n",
    "from jax import lax\n",
    "from jax import ops\n",
    "\n",
    "from jax import config\n",
    "config.update(\"jax_enable_x64\", True)\n",
    "\n",
    "from jax_md import space, smap, energy, minimize, quantity, simulate, partition\n",
    "\n",
    "from functools import partial\n",
    "import time\n",
    "\n",
    "f32 = np.float32\n",
    "f64 = np.float64\n",
    "  \n",
    "key = random.PRNGKey(0)"
   ]
  },
  {
   "cell_type": "code",
   "execution_count": 4,
   "id": "df2488de",
   "metadata": {},
   "outputs": [],
   "source": [
    "#从TMalign输出中获取得分\n",
    "def getscore(file):\n",
    "    cnt=0\n",
    "    score=0.0\n",
    "    with open(file) as f:\n",
    "        for i in f:\n",
    "            #print(cnt,i)\n",
    "            if cnt==14:\n",
    "                xi=i.split()\n",
    "                score=float(xi[1])\n",
    "                break\n",
    "            cnt=cnt+1\n",
    "    return score"
   ]
  },
  {
   "cell_type": "code",
   "execution_count": 5,
   "id": "15a1be59",
   "metadata": {},
   "outputs": [],
   "source": [
    "#成对距离的计算\n",
    "from jax_md import space\n",
    "import jax.numpy as np\n",
    "def displacement(Ra, Rb, **unused_kwargs):\n",
    "    dR = Ra - Rb\n",
    "    return dR\n",
    "metric = space.metric(displacement)\n",
    "metrix = space.map_product(metric)"
   ]
  },
  {
   "cell_type": "code",
   "execution_count": 6,
   "id": "97590f5b",
   "metadata": {},
   "outputs": [],
   "source": [
    "#酶和小分子的读入\n",
    "from biopandas.pdb import PandasPdb\n",
    "def readlig(file):\n",
    "    data = PandasPdb().read_pdb(file)\n",
    "    df = data.df['HETATM']\n",
    "    typ=df['atom_name']\n",
    "    lx=df['x_coord']\n",
    "    ly=df['y_coord']\n",
    "    lz=df['z_coord']\n",
    "    osym=df['element_symbol']\n",
    "    otyp=[]\n",
    "    opos=[]\n",
    "    for i in range(len(typ)):\n",
    "        otyp.append(typ[i])\n",
    "        opos.append([lx[i],ly[i],lz[i]])\n",
    "    \n",
    "    nom=['CHA', 'CHB', 'CHC', 'CHD', 'C1A', 'C2A', 'C3A', 'C4A', 'CMA', 'CAA', 'CBA', 'CGA', 'O1A', 'O2A', 'C1B', 'C2B', 'C3B', 'C4B', 'CMB', 'CAB', 'CBB', 'C1C', 'C2C', 'C3C', 'C4C', 'CMC', 'CAC', 'CBC', 'C1D', 'C2D', 'C3D', 'C4D', 'CMD', 'CAD', 'CBD', 'CGD', 'O1D', 'O2D', 'NA', 'NB', 'NC', 'ND', 'FE']\n",
    "    if len(otyp)!=43:\n",
    "        return otyp,opos\n",
    "#    if otyp[0]!=nom[0]:\n",
    "    dic={}\n",
    "    new_pos=[]\n",
    "    new_typ=[]\n",
    "    new_sym=[]\n",
    "    for i in range(len(otyp)):\n",
    "        dic[otyp[i]]=i\n",
    "    for i in nom:\n",
    "        j=dic[i]\n",
    "        new_pos.append(opos[j])\n",
    "        new_typ.append(otyp[j])\n",
    "        new_sym.append(osym[j])\n",
    "    return new_typ,new_pos,new_sym\n",
    "    \n",
    "    return otyp,opos,osym\n",
    "\n",
    "def readrec(file):\n",
    "    data = PandasPdb().read_pdb(file)\n",
    "    df = data.df['ATOM']\n",
    "    res=df['residue_name']\n",
    "    typ=df['atom_name']\n",
    "    lx=df['x_coord']\n",
    "    ly=df['y_coord']\n",
    "    lz=df['z_coord']\n",
    "    sym=df['element_symbol']\n",
    "    otyp=[]\n",
    "    opos=[]\n",
    "    ores=[]\n",
    "    osym=[]\n",
    "    for i in range(len(typ)):\n",
    "        otyp.append(typ[i])\n",
    "        opos.append([lx[i],ly[i],lz[i]])\n",
    "        ores.append(res[i])\n",
    "        osym.append(sym[i])\n",
    "    return otyp,opos,ores,osym"
   ]
  },
  {
   "cell_type": "code",
   "execution_count": 7,
   "id": "89310bc9",
   "metadata": {},
   "outputs": [],
   "source": [
    "def readrecx(file):\n",
    "    data = PandasPdb().read_pdb(file)\n",
    "    df = data.df['ATOM']\n",
    "    #print(df)\n",
    "    res=df['residue_name']\n",
    "    resnum=df['residue_number']\n",
    "    typ=df['atom_name']\n",
    "    lx=df['x_coord']\n",
    "    ly=df['y_coord']\n",
    "    lz=df['z_coord']\n",
    "    sym=df['element_symbol']\n",
    "    otyp=[]\n",
    "    opos=[]\n",
    "    ores=[]\n",
    "    osym=[]\n",
    "    onum=[]\n",
    "    for i in range(len(typ)):\n",
    "        otyp.append(typ[i])\n",
    "        opos.append([lx[i],ly[i],lz[i]])\n",
    "        ores.append(res[i])\n",
    "        osym.append(sym[i])\n",
    "        onum.append(resnum[i])\n",
    "    return otyp,opos,ores,osym,onum"
   ]
  },
  {
   "cell_type": "code",
   "execution_count": 8,
   "id": "e639e43f",
   "metadata": {},
   "outputs": [],
   "source": [
    "dicr={'H':0.32,'C':0.77,'N':0.75,'O':0.73,'S':1.02,'FE':0.76}\n",
    "def ckcrash(pres,ps,ppos,hs,hpos):\n",
    "    #检查蛋白质和小分子关系，p代表蛋白质数据，h代表小分子数据\n",
    "    #print('***')\n",
    "    \n",
    "    #生成原子半径\n",
    "    pr=[]\n",
    "    hr=[]\n",
    "    for i in ps:\n",
    "        if i not in dicr:\n",
    "            print(i,dicr)\n",
    "            return\n",
    "        pr.append(dicr[i])\n",
    "    for i in hs:\n",
    "        if i not in dicr:\n",
    "            print(i,dicr)\n",
    "            return\n",
    "        hr.append(dicr[i])\n",
    "    \n",
    "    \n",
    "    pr=np.array(pr)\n",
    "    hr=np.array(hr)\n",
    "    ppos=np.array(ppos)\n",
    "    hpos=np.array(hpos)\n",
    "    disph=[]\n",
    "    result='success'\n",
    "    minfes=100.0\n",
    "    spos=0\n",
    "    \n",
    "    #计算heme小分子的原子与蛋白质原子的距离\n",
    "    for i in range(len(hs)):\n",
    "        dis=metric(hpos[i],ppos)-(pr+hr[i])\n",
    "        disph.append(np.min(dis))\n",
    "        if hs[i]=='FE':\n",
    "            for j in range(len(pr)):\n",
    "                if ps[j]=='S': #and pres[j]=='CYS':\n",
    "                    fes=dis[j]+pr[j]+hr[i]\n",
    "                    #print(fes)\n",
    "                    if fes<minfes:\n",
    "                        minfes=fes\n",
    "                        spos=j\n",
    "            if minfes<1.93 or minfes>2.77:\n",
    "                result='Fe_remote'\n",
    "\n",
    "    for i in disph:\n",
    "#         if result!='success':\n",
    "#             break\n",
    "        if i<0:\n",
    "            result='crash'\n",
    "            break\n",
    "        if i>11:\n",
    "            result='notin'\n",
    "            break\n",
    "\n",
    "    return disph,result,minfes,spos"
   ]
  },
  {
   "cell_type": "code",
   "execution_count": 9,
   "id": "d041322f",
   "metadata": {},
   "outputs": [],
   "source": [
    "def process(rfile,lfile):\n",
    "    #检查蛋白质和小分子的具体关系，rfile代表蛋白质数据路径，lfile代表小分子数据路径\n",
    "#     if scorel[tag]!=omscore[tag]:\n",
    "#         print('err')\n",
    "#         return\n",
    "#     com='./TMalign '+oplist[tag]+' '+orlist[tag]+' -o TM_sup > outtm.txt'\n",
    "#     #print(com)\n",
    "#     os.system(com)\n",
    "    ptyp,ppos,pres,psym=readrec(rfile)\n",
    "    ltyp,lpos,lsym=readlig(lfile)\n",
    "    mindis,result,minfes,spos=ckcrash(pres,psym,ppos,lsym,lpos)\n",
    "    return result,minfes,spos\n",
    "    #print(minfes,min(mindis))\n",
    "    if result!='crash':\n",
    "        return result,minfes,spos\n",
    "    #检查具体的crash情况\n",
    "    nl=[ 'CBA', 'CGA', 'O1A', 'O2A',  'CBB', 'CBC', 'CBD', 'CGD', 'O1D', 'O2D'] \n",
    "    mintag=0\n",
    "    crashl=[]\n",
    "    for i in range(len(mindis)):\n",
    "        if mindis[i]<0:\n",
    "            if ltyp[i] not in nl:\n",
    "                mintag=1\n",
    "            crashl.append(ltyp[i])\n",
    "    if mintag==0:\n",
    "        return 'rotate',minfes,spos\n",
    "    if len(crashl)==1 and crashl[0]=='FE':\n",
    "        return 'Fe_crash',minfes,spos\n",
    "    return 'other',minfes,spos"
   ]
  },
  {
   "cell_type": "code",
   "execution_count": 10,
   "id": "d64a7df4",
   "metadata": {},
   "outputs": [],
   "source": [
    "def checkbondhem(ligfile):\n",
    "    conext=0\n",
    "    with open(ligfile) as f:\n",
    "        for i in f:\n",
    "            xi=i.split()\n",
    "            if xi[0]=='CONECT':\n",
    "                conext=1\n",
    "                break\n",
    "    return conext"
   ]
  },
  {
   "cell_type": "code",
   "execution_count": 11,
   "id": "3c37b4ca",
   "metadata": {},
   "outputs": [],
   "source": [
    "def get_tem(blv,top,i):\n",
    "    pat='./alfpdb/alf'+str(i)\n",
    "    fdsk=pat+'/foldseekout.txt'\n",
    "    teml=[]\n",
    "    with open(fdsk)as f:\n",
    "        for j in f:\n",
    "            xi=j.split()\n",
    "            out=xi[1].replace(\"'\", \"\").replace(\",\", \"\")\n",
    "            tpp='./templete/'+out\n",
    "            ligp=tpp+'/lig.pdb'\n",
    "            if checkbondhem(ligp)==0:\n",
    "                continue\n",
    "            teml.append(tpp)\n",
    "            if len(teml)>20:\n",
    "                break\n",
    "    \n",
    "    if blv==1:\n",
    "        outl=[]\n",
    "        for j in range(top):\n",
    "            outl.append(teml[j])\n",
    "        return outl\n",
    "    \n",
    "    if blv==0:\n",
    "        prt='./alfpdb/alf'+str(i)+'/apdb.pdb'\n",
    "        outf='outtmxra.txt'\n",
    "        rel=[]\n",
    "        for j in range(20):\n",
    "            tem=teml[j]+'/rec.pdb'\n",
    "            print(prt,tem)\n",
    "            com='./TMalign '+prt+' '+tem+' > '+outf\n",
    "            os.system(com)\n",
    "            sc=getscore(outf)\n",
    "            rel.append((teml[j],sc))\n",
    "        sortedl=sorted(rel,key=lambda x:x[1],reverse=True)\n",
    "        outl=[]\n",
    "        for j in range(top):\n",
    "            outl.append(sortedl[j][0])\n",
    "        return outl\n",
    "        #print(sortedl)\n",
    "    \n",
    "#print(get_tem(0,10,0))"
   ]
  },
  {
   "cell_type": "code",
   "execution_count": 12,
   "id": "c4c6cf0e",
   "metadata": {},
   "outputs": [],
   "source": [
    "def get_mdp(teml,prt):\n",
    "    suc=0\n",
    "    sucr=teml[0]\n",
    "    for i in teml:\n",
    "        trec=i+'/rec.pdb'\n",
    "        tlig=i+'/lig.pdb'\n",
    "        tmprt='./tmxra/TM_sup.pdb'\n",
    "        com='./TMalign '+prt+' '+trec+' -o ./tmxra/TM_sup > outtmxra.txt'\n",
    "        os.system(com)\n",
    "        result,minfes,spos=process(tmprt,tlig)\n",
    "        if result=='success':\n",
    "            suc=1\n",
    "            sucr=i\n",
    "            break\n",
    "    return suc,sucr,minfes\n",
    "        #print(result,minfes,spos)"
   ]
  },
  {
   "cell_type": "code",
   "execution_count": 13,
   "id": "d3dfaa6c",
   "metadata": {},
   "outputs": [
    {
     "data": {
      "text/plain": [
       "(0, './templete/8EWQ_A', Array(3.01994338, dtype=float64))"
      ]
     },
     "execution_count": 13,
     "metadata": {},
     "output_type": "execute_result"
    }
   ],
   "source": [
    "xl=get_tem(1,10,0)\n",
    "xpath='./alfpdb/alf'+str(1)+'/apdb.pdb'\n",
    "get_mdp(xl,xpath)"
   ]
  },
  {
   "cell_type": "code",
   "execution_count": 14,
   "id": "230b0141",
   "metadata": {},
   "outputs": [
    {
     "name": "stdout",
     "output_type": "stream",
     "text": [
      "(0, './templete/8EWQ_A', Array(3.01994338, dtype=float64))\n"
     ]
    }
   ],
   "source": [
    "print(get_mdp(xl,xpath))"
   ]
  },
  {
   "cell_type": "code",
   "execution_count": 15,
   "id": "84ac7cad",
   "metadata": {},
   "outputs": [],
   "source": [
    "def init(ltyp,lpos,lsym,rtyp,rpos,rres,rsym,rnum):\n",
    "    R=[]\n",
    "    res=[]\n",
    "    typ=[]\n",
    "    resnum=[]\n",
    "    item=[]\n",
    "    dl={}\n",
    "    for i in range(len(lpos)):\n",
    "        R.append(lpos[i])\n",
    "        res.append('HEM')\n",
    "        typ.append(lsym[i])\n",
    "        item.append(ltyp[i])\n",
    "        resnum.append(0)\n",
    "        dl[ltyp[i]]=i\n",
    "    for i in range(len(rpos)):\n",
    "        R.append(rpos[i])\n",
    "        res.append(rres[i])\n",
    "        typ.append(rsym[i])\n",
    "        item.append(rtyp[i])\n",
    "        resnum.append(rnum[i])\n",
    "    R=np.array(R)\n",
    "    return R,res,typ,resnum,item,dl"
   ]
  },
  {
   "cell_type": "code",
   "execution_count": 16,
   "id": "ae1086cc",
   "metadata": {},
   "outputs": [],
   "source": [
    "def bondhem(ligfile,R,d):\n",
    "    dx={}\n",
    "    bond=[]\n",
    "    bond_dis=[]\n",
    "    with open(ligfile) as f:\n",
    "        for i in f:\n",
    "            xi=i.split()\n",
    "            if xi[0]=='HETATM':\n",
    "                dx[xi[1]]=xi[2]\n",
    "            if xi[0]=='CONECT':\n",
    "                st='st'\n",
    "                for j in xi:\n",
    "                    if j=='CONECT':\n",
    "                        continue\n",
    "                    if st=='st':\n",
    "                        st=j\n",
    "                        continue\n",
    "                    a=dx[st]\n",
    "                    b=dx[j]\n",
    "                    bond.append([d[a],d[b]])\n",
    "                    bond_dis.append(metric(R[d[a]],R[d[b]]))\n",
    "    return bond,bond_dis"
   ]
  },
  {
   "cell_type": "code",
   "execution_count": 17,
   "id": "289d8a8b",
   "metadata": {},
   "outputs": [],
   "source": [
    "def bondfes(R,fe,typ,res,d):\n",
    "    fe=d['FE']\n",
    "    s=0\n",
    "    for i in range(len(R)):\n",
    "        if typ[i]=='S' and res[i]=='CYS':\n",
    "            if metric(R[fe],R[i])<5.0:\n",
    "                print(i,metric(R[fe],R[i]))\n",
    "                s=i\n",
    "    return [[fe,s]],[2.38]"
   ]
  },
  {
   "cell_type": "code",
   "execution_count": 41,
   "id": "a7e3c0c7",
   "metadata": {},
   "outputs": [],
   "source": [
    "def bondfesx(R,fe,typ,res,d):\n",
    "    fe=d['FE']\n",
    "    s=0\n",
    "    for i in range(len(R)):\n",
    "        if typ[i]=='S' and res[i]=='CYS':\n",
    "            if metric(R[fe],R[i])<5.0:\n",
    "                print(i,metric(R[fe],R[i]))\n",
    "                s=i\n",
    "    return [[fe,s]],[metric(R[fe],R[s])]"
   ]
  },
  {
   "cell_type": "code",
   "execution_count": 18,
   "id": "39708ff4",
   "metadata": {},
   "outputs": [],
   "source": [
    "def ckcrashx(rtpos,typ,res,resnum):\n",
    "    ar=[]\n",
    "    crashl=[]\n",
    "    for i in typ:\n",
    "        if i not in dicr:\n",
    "            print(i)\n",
    "            return\n",
    "        ar.append(dicr[i])\n",
    "    ar=np.array(ar)\n",
    "    for i in range(len(rtpos)):\n",
    "        if res[i]!='HEM':\n",
    "            break\n",
    "        #print(i)\n",
    "        dis=metric(rtpos[i],rtpos)-(ar[i]+ar)\n",
    "        if np.min(dis[43:])<0:\n",
    "            mdis=np.argwhere(dis<0)\n",
    "            #print(mdis)\n",
    "            for jx in mdis:\n",
    "                j=jx[0]\n",
    "                #print(dis[j])\n",
    "                if resnum[j] not in crashl and j>=43:\n",
    "                    crashl.append(resnum[j])\n",
    "                    print(typ[i],typ[j],dis[j],metric(rtpos[i],rtpos[j]))\n",
    "    return crashl"
   ]
  },
  {
   "cell_type": "code",
   "execution_count": 19,
   "id": "6f521b28",
   "metadata": {},
   "outputs": [],
   "source": [
    "amino_acids = {\n",
    "    'GLY': [('N', 'CA'), ('CA', 'C'), ('C', 'O')],\n",
    "    'ALA': [('N', 'CA'), ('CA', 'C'), ('C', 'O'), ('CA', 'CB')],\n",
    "    'SER': [('N', 'CA'), ('CA', 'C'), ('C', 'O'), ('CA', 'CB'), ('CB', 'OG')],\n",
    "    'CYS': [('N', 'CA'), ('CA', 'C'), ('C', 'O'), ('CA', 'CB'), ('CB', 'SG')],\n",
    "    'VAL': [('N', 'CA'), ('CA', 'C'), ('C', 'O'), ('CA', 'CB'), ('CB', 'CG1'), ('CB', 'CG2')],\n",
    "    'ILE': [('N', 'CA'), ('CA', 'C'), ('C', 'O'), ('CA', 'CB'), ('CB', 'CG1'), ('CG1', 'CD1'), ('CB', 'CG2')],\n",
    "    'LEU': [('N', 'CA'), ('CA', 'C'), ('C', 'O'), ('CA', 'CB'), ('CB', 'CG'), ('CG', 'CD1'), ('CG', 'CD2')],\n",
    "    'THR': [('N', 'CA'), ('CA', 'C'), ('C', 'O'), ('CA', 'CB'), ('CB', 'OG1'), ('CB', 'CG2')],\n",
    "    'ARG': [('N', 'CA'), ('CA', 'C'), ('C', 'O'), ('CA', 'CB'), ('CB', 'CG'), ('CG', 'CD'), ('CD', 'NE'), ('NE', 'CZ'), ('CZ', 'NH1'), ('CZ', 'NH2')],\n",
    "    'LYS': [('N', 'CA'), ('CA', 'C'), ('C', 'O'), ('CA', 'CB'), ('CB', 'CG'), ('CG', 'CD'), ('CD', 'CE'), ('CE', 'NZ')],\n",
    "    'ASP': [('N', 'CA'), ('CA', 'C'), ('C', 'O'), ('CA', 'CB'), ('CB', 'CG'), ('CG', 'OD1'), ('CG', 'OD2')],\n",
    "    'GLU': [('N', 'CA'), ('CA', 'C'), ('C', 'O'), ('CA', 'CB'), ('CB', 'CG'), ('CG', 'CD'), ('CD', 'OE1'), ('CD', 'OE2')],\n",
    "    'ASN': [('N', 'CA'), ('CA', 'C'), ('C', 'O'), ('CA', 'CB'), ('CB', 'CG'), ('CG', 'OD1'), ('CG', 'ND2')],\n",
    "    'GLN': [('N', 'CA'), ('CA', 'C'), ('C', 'O'), ('CA', 'CB'), ('CB', 'CG'), ('CG', 'CD'), ('CD', 'OE1'), ('CD', 'NE2')],\n",
    "    'HIS': [('N', 'CA'), ('CA', 'C'), ('C', 'O'), ('CA', 'CB'), ('CB', 'CG'), ('CG', 'ND1'), ('CG', 'CD2'), ('CD2', 'NE2'),('CE1', 'ND1'),('CE1', 'NE2')],\n",
    "    'PHE': [('N', 'CA'), ('CA', 'C'), ('C', 'O'), ('CA', 'CB'), ('CB', 'CG'), ('CG', 'CD1'), ('CG', 'CD2'), ('CD1', 'CE1'), ('CD2', 'CE2'), ('CE1', 'CZ'), ('CE2', 'CZ')],\n",
    "    'TYR': [('N', 'CA'), ('CA', 'C'), ('C', 'O'), ('CA', 'CB'), ('CB', 'CG'), ('CG', 'CD1'), ('CG', 'CD2'), ('CD1', 'CE1'), ('CD2', 'CE2'), ('CE1', 'CZ'), ('CZ', 'OH'), ('CE2', 'CZ')],\n",
    "    'TRP': [('N', 'CA'), ('CA', 'C'), ('C', 'O'), ('CA', 'CB'), ('CB', 'CG'), ('CG', 'CD1'), ('CG', 'CD2'), ('CD2', 'CE2'), ('CD2', 'CE3'), ('CE2', 'CZ2'), ('CE3', 'CZ3'), ('CZ2', 'CH2'),('CD1', 'NE1'),('CE2', 'NE1'),('CZ3', 'CH2')],\n",
    "    'MET': [('N', 'CA'), ('CA', 'C'), ('C', 'O'), ('CA', 'CB'), ('CB', 'CG'), ('CG', 'SD'), ('SD', 'CE')],\n",
    "    'PRO': [('N', 'CA'), ('CA', 'C'), ('C', 'O'), ('CA', 'CB'), ('CB', 'CG'), ('CG', 'CD'), ('CD', 'N')],  # Note: Proline has a bond back to its N\n",
    "}\n",
    "\n",
    "def get_bonds(residue):\n",
    "    return amino_acids.get(residue, \"Unknown residue.\")\n",
    "\n",
    "def bondres(R,crashl,resnum,item,res):\n",
    "    d={}\n",
    "    bond=[]\n",
    "    bond_dis=[]\n",
    "    for i in range(len(resnum)):\n",
    "        if resnum[i] in crashl:\n",
    "            d[item[i]]=i\n",
    "            if i+1==len(resnum):\n",
    "                b=get_bonds(res[i])\n",
    "                for j in b:\n",
    "                    xa=d[j[0]]\n",
    "                    xb=d[j[1]]\n",
    "                    bond.append([xa,xb])\n",
    "                    bond_dis.append(metric(R[xa],R[xb]))\n",
    "                break\n",
    "            if resnum[i]!=resnum[i+1]:\n",
    "                b=get_bonds(res[i])\n",
    "                for j in b:\n",
    "                    xa=d[j[0]]\n",
    "                    xb=d[j[1]]\n",
    "                    bond.append([xa,xb])\n",
    "                    bond_dis.append(metric(R[xa],R[xb]))\n",
    "                d={}\n",
    "    return bond,bond_dis"
   ]
  },
  {
   "cell_type": "code",
   "execution_count": 20,
   "id": "36d7d42b",
   "metadata": {},
   "outputs": [],
   "source": [
    "def setup_periodic_box():\n",
    "    def displacement_fn(Ra, Rb, **unused_kwargs):\n",
    "        dR = Ra - Rb\n",
    "        return dR\n",
    "    #return np.mod(dR + box_size * f32(0.5), box_size) - f32(0.5) * box_size\n",
    "\n",
    "    def shift_fn(R, dR, **unused_kwargs):\n",
    "        return R+dR\n",
    "    #return np.mod(R + dR, box_size)\n",
    "\n",
    "    return displacement_fn, shift_fn \n",
    "displacement, shift = setup_periodic_box()"
   ]
  },
  {
   "cell_type": "code",
   "execution_count": 21,
   "id": "8d756217",
   "metadata": {},
   "outputs": [],
   "source": [
    "def harmonic_morse(dr, sigma=3.8, espilon=0.09, gd=1.0,**kwargs):\n",
    "    U=gd*f32(4)*espilon*((sigma/dr)**12-(sigma/dr)**6 )\n",
    "    return np.array(U, dtype=dr.dtype)"
   ]
  },
  {
   "cell_type": "code",
   "execution_count": 22,
   "id": "e6dfaca0",
   "metadata": {},
   "outputs": [],
   "source": [
    "def harmonic_morse_cutoff_neighbor_list(\n",
    "    displacement_or_metric,\n",
    "    box_size,\n",
    "    species=None,\n",
    "    sigma=3.5,\n",
    "    epsilon=0.1,\n",
    "    gd=1.0,\n",
    "    r_onset=1.0,\n",
    "    r_cutoff=1.5, \n",
    "    dr_threshold=2.0,\n",
    "    format=partition.OrderedSparse,\n",
    "    **kwargs): \n",
    "\n",
    "  sigma = np.array(sigma, dtype=np.float32)\n",
    "  epsilon = np.array(epsilon, dtype=np.float32)\n",
    "  gd = np.array(gd, dtype=np.float32)\n",
    "  r_onset = np.array(r_onset, dtype=np.float32)\n",
    "  r_cutoff = np.array(r_cutoff, np.float32)\n",
    "  dr_threshold = np.float32(dr_threshold)\n",
    "\n",
    "  neighbor_fn = partition.neighbor_list(\n",
    "        displacement_or_metric, \n",
    "        box_size, \n",
    "        r_cutoff, \n",
    "        dr_threshold,\n",
    "        format=format)\n",
    "\n",
    "  energy_fn = smap.pair_neighbor_list(\n",
    "    energy.multiplicative_isotropic_cutoff(harmonic_morse, r_onset, r_cutoff),\n",
    "    space.canonicalize_displacement_or_metric(displacement_or_metric),\n",
    "    species=species,\n",
    "    sigma=sigma,\n",
    "    epsilon=epsilon,\n",
    "    gd=gd)\n",
    "    \n",
    "  return neighbor_fn, energy_fn"
   ]
  },
  {
   "cell_type": "code",
   "execution_count": 23,
   "id": "46b3d664",
   "metadata": {},
   "outputs": [],
   "source": [
    "def bistable_spring(dr, r0=1.0, k=15.0,gd=1.0, **kwargs):\n",
    "  return gd*0.5*k*(dr-r0)**2"
   ]
  },
  {
   "cell_type": "code",
   "execution_count": 24,
   "id": "0e5eda3b",
   "metadata": {},
   "outputs": [],
   "source": [
    "def bistable_spring_bond(\n",
    "    displacement_or_metric, bond, bond_type=None, r0=1, k=15,gd=1.0):\n",
    "  \"\"\"Convenience wrapper to compute energy of particles bonded by springs.\"\"\"\n",
    "  r0 = np.array(r0, f32)\n",
    "  k = np.array(k, f32)\n",
    "  gd = np.array(gd, f32)\n",
    "  return smap.bond(\n",
    "    bistable_spring,\n",
    "    space.canonicalize_displacement_or_metric(displacement_or_metric),\n",
    "    bond,\n",
    "    bond_type,\n",
    "    r0=r0,\n",
    "    k=15,\n",
    "    gd=gd)"
   ]
  },
  {
   "cell_type": "code",
   "execution_count": 25,
   "id": "792d23e7",
   "metadata": {},
   "outputs": [],
   "source": [
    "def potential_en(r,k=1.0,s=100000000.0):\n",
    "    return k*s*r**2"
   ]
  },
  {
   "cell_type": "code",
   "execution_count": 26,
   "id": "540704bc",
   "metadata": {},
   "outputs": [
    {
     "name": "stdout",
     "output_type": "stream",
     "text": [
      "start\n"
     ]
    }
   ],
   "source": [
    "import regularp\n",
    "def position_regular(\n",
    "    displacement_or_metric, R0, k=1.0, s=10000000.0):\n",
    "  \"\"\"Convenience wrapper to compute energy of particles bonded by springs.\"\"\"\n",
    "  k = np.array(k, f32)\n",
    "  s = np.array(s, f32)\n",
    "  return regularp.angx(\n",
    "    potential_en,\n",
    "    space.canonicalize_displacement_or_metric(displacement_or_metric),\n",
    "    R0,\n",
    "    k=k,\n",
    "    s=s)"
   ]
  },
  {
   "cell_type": "code",
   "execution_count": 27,
   "id": "fc041f86",
   "metadata": {},
   "outputs": [],
   "source": [
    "def run_minimization(energy_fn, neighbor_fn, R_init, shift,num_steps,dt=0.0000001):\n",
    "    dt_start = dt\n",
    "    dt_max = dt*4\n",
    "    init,apply = minimize.fire_descent(energy_fn,shift,dt_start=dt_start,dt_max=dt_max)\n",
    "    state = init(R_init)\n",
    "    nbrs = neighbor_fn.allocate(R_init)\n",
    "    #t0=time.time()\n",
    "    for i in range(num_steps):\n",
    "        state = apply(state, neighbor=nbrs)\n",
    "        e=energy_fn(state.position, neighbor=nbrs)\n",
    "        #rx=state.position\n",
    "        #t=time.time()-t0\n",
    "        #if i%100==0:\n",
    "        #print(i,e)\n",
    "    return state.position"
   ]
  },
  {
   "cell_type": "code",
   "execution_count": 28,
   "id": "374007ab",
   "metadata": {},
   "outputs": [],
   "source": [
    "def energyx(R,bond,bond_dis,crashl,resnum):\n",
    "    r_onset  = 0.0\n",
    "    r_cutoff = 10.0\n",
    "    dr_threshold = 0.5\n",
    "    neighbor_fn, vdv_fn = harmonic_morse_cutoff_neighbor_list(\n",
    "        displacement,50.0, sigma=3.39967,epsilon=0.359824,\n",
    "        r_onset=r_onset, r_cutoff=r_cutoff, dr_threshold=dr_threshold)\n",
    "    nbrs = neighbor_fn.allocate(R)\n",
    "    \n",
    "    bond_energy_fn = bistable_spring_bond(displacement, bond, r0=bond_dis,k=3924590.0)\n",
    "    \n",
    "    crashl.append(0)\n",
    "    kk=[]\n",
    "    for i in resnum:\n",
    "        if i in crashl:\n",
    "            kk.append(0)\n",
    "        else:\n",
    "            kk.append(1)\n",
    "    pr_energy=position_regular(displacement,R,k=kk)\n",
    "    \n",
    "    def sum_engn(R,neighbor=nbrs,**kwargs):\n",
    "        return bond_energy_fn(R)+vdv_fn(R, neighbor=nbrs)+pr_energy(R)\n",
    "    \n",
    "    return neighbor_fn,sum_engn"
   ]
  },
  {
   "cell_type": "code",
   "execution_count": 29,
   "id": "43a16ee2",
   "metadata": {},
   "outputs": [],
   "source": [
    "def savemd(prt,lig,nprt,nlig,r,resnum,d):\n",
    "    ppdb = PandasPdb().read_pdb(prt)\n",
    "    adf = ppdb.df['ATOM'].copy()\n",
    "    lpdb = PandasPdb().read_pdb(lig)\n",
    "    ldf = lpdb.df['HETATM'].copy()\n",
    "    num=0\n",
    "    for i in range(len(resnum)):\n",
    "        if resnum[i]==0:\n",
    "            idx=d[ldf['atom_name'][i]]\n",
    "            ldf['x_coord'][i]=r[idx][0]\n",
    "            ldf['y_coord'][i]=r[idx][1]\n",
    "            ldf['z_coord'][i]=r[idx][2]\n",
    "            num=num+1\n",
    "        else:\n",
    "            idx=i-num\n",
    "            adf['x_coord'][idx]=r[i][0]\n",
    "            adf['y_coord'][idx]=r[i][1]\n",
    "            adf['z_coord'][idx]=r[i][2]\n",
    "    \n",
    "    ppdb.df['ATOM']=adf\n",
    "    ppdb.to_pdb(path=nprt, records=None)\n",
    "    lpdb.df['HETATM']=ldf\n",
    "    lpdb.to_pdb(path=nlig, records=None)"
   ]
  },
  {
   "cell_type": "code",
   "execution_count": 42,
   "id": "82751e3b",
   "metadata": {},
   "outputs": [],
   "source": [
    "import warnings\n",
    "import pandas as pd\n",
    "from pandas.errors import SettingWithCopyWarning\n",
    "warnings.filterwarnings(\"ignore\", category=SettingWithCopyWarning)\n",
    "\n",
    "def md(tem,ifcra,iffes,idxr,numi):\n",
    "    \n",
    "    #print('read')\n",
    "    rec_path='./tmxra/TM_sup.pdb'\n",
    "    lig_path=tem+'/lig.pdb'\n",
    "    ltyp,lpos,lsym=readlig(lig_path)\n",
    "    rtyp,rpos,rres,rsym,rnum=readrecx(rec_path)\n",
    "    \n",
    "    #print('init')\n",
    "    R,res,typ,resnum,item,d=init(ltyp,lpos,lsym,rtyp,rpos,rres,rsym,rnum)\n",
    "    #print(d)\n",
    "    bondh,bondhdis=bondhem(lig_path,R,d)\n",
    "    bondf,bondfdis=bondfes(R,d['FE'],typ,res,d)\n",
    "    \n",
    "    crashl=[]\n",
    "    for i in range(1,max(resnum)):\n",
    "        crashl.append(i)\n",
    "    if ifcra==1:\n",
    "        crashl=ckcrashx(R,typ,res,resnum)\n",
    "    bondr,bondrdis=bondres(R,crashl,resnum,item,res)\n",
    "    \n",
    "    bond=bondh+bondr\n",
    "    bond_dis=bondhdis+bondrdis\n",
    "    if iffes==1:\n",
    "        bond=bond+bondf\n",
    "        bond_dis=bond_dis+bondfdis\n",
    "    bond=np.array(bond)\n",
    "    bond_dis=np.array(bond_dis)\n",
    "    \n",
    "    #print('x1',len(bond),len(bondh),len(bondf),len(bondr))\n",
    "    #print('x2',len(bond_dis),len(bondhdis),len(bondfdis),len(bondrdis))\n",
    "    \n",
    "    #print('energy')\n",
    "    neighbor_fn,sum_engn=energyx(R,bond,bond_dis,crashl,resnum)\n",
    "    \n",
    "    #print('md')\n",
    "    rt=run_minimization(sum_engn, neighbor_fn, R, shift,200,dt=0.000005)\n",
    "    \n",
    "    crashlx=ckcrashx(rt,typ,res,resnum)\n",
    "    bondf,bondfdis=bondfesx(rt,d['FE'],typ,res,d)\n",
    "    \n",
    "    succ=0\n",
    "    if len(crashlx)==0 and bondfdis[0]>1.93 and bondfdis[0]<2.77:\n",
    "        succ=1\n",
    "    #print('result',succ,len(crashlx),bondfdis)\n",
    "    \n",
    "    prt=rec_path\n",
    "    lig=lig_path\n",
    "    nprt='./alfpdb/alf'+str(numi)+'/xr'+str(idxr)+'mdtm.pdb'\n",
    "    nlig='./alfpdb/alf'+str(numi)+'/xr'+str(idxr)+'mdlig.pdb'\n",
    "    #print(nprt,nlig)\n",
    "    savemd(prt,lig,nprt,nlig,rt,resnum,d)\n",
    "    cpprt='./alfpdb/alf'+str(numi)+'/xr'+str(idxr)+'tm.pdb'\n",
    "    cplig='./alfpdb/alf'+str(numi)+'/xr'+str(idxr)+'lig.pdb'\n",
    "    shutil.copy(prt, cpprt)\n",
    "    shutil.copy(lig, cplig)\n",
    "    \n",
    "#     for i in range(len(rt)):\n",
    "#         print(typ[i],res[i],resnum[i],rt[i])\n",
    "    return succ,len(crashlx),bondfdis[0]"
   ]
  },
  {
   "cell_type": "code",
   "execution_count": 35,
   "id": "928476df",
   "metadata": {},
   "outputs": [],
   "source": [
    "resultax=[]"
   ]
  },
  {
   "cell_type": "code",
   "execution_count": 44,
   "id": "cbf11c99",
   "metadata": {},
   "outputs": [
    {
     "name": "stdout",
     "output_type": "stream",
     "text": [
      "./alfpdb/alf96/apdb.pdb ./templete/1WIY_A/rec.pdb\n",
      "./alfpdb/alf96/apdb.pdb ./templete/7LS3_A/rec.pdb\n",
      "./alfpdb/alf96/apdb.pdb ./templete/7KVJ_A/rec.pdb\n",
      "./alfpdb/alf96/apdb.pdb ./templete/3TJS_A/rec.pdb\n",
      "./alfpdb/alf96/apdb.pdb ./templete/2VE4_A/rec.pdb\n",
      "./alfpdb/alf96/apdb.pdb ./templete/6UNM_A/rec.pdb\n",
      "./alfpdb/alf96/apdb.pdb ./templete/7LS4_A/rec.pdb\n",
      "./alfpdb/alf96/apdb.pdb ./templete/6UNI_A/rec.pdb\n",
      "./alfpdb/alf96/apdb.pdb ./templete/8EXB_A/rec.pdb\n",
      "./alfpdb/alf96/apdb.pdb ./templete/3MDV_A/rec.pdb\n",
      "./alfpdb/alf96/apdb.pdb ./templete/2Q9G_A/rec.pdb\n",
      "./alfpdb/alf96/apdb.pdb ./templete/6BDH_A/rec.pdb\n",
      "./alfpdb/alf96/apdb.pdb ./templete/3DBG_A/rec.pdb\n",
      "./alfpdb/alf96/apdb.pdb ./templete/6DAB_A/rec.pdb\n",
      "./alfpdb/alf96/apdb.pdb ./templete/7LRL_A/rec.pdb\n",
      "./alfpdb/alf96/apdb.pdb ./templete/3MDT_A/rec.pdb\n",
      "./alfpdb/alf96/apdb.pdb ./templete/8EWD_A/rec.pdb\n",
      "./alfpdb/alf96/apdb.pdb ./templete/8EWS_A/rec.pdb\n",
      "./alfpdb/alf96/apdb.pdb ./templete/7N3L_A/rec.pdb\n",
      "./alfpdb/alf96/apdb.pdb ./templete/7UAY_A/rec.pdb\n",
      "3664 2.305213656041453\n"
     ]
    },
    {
     "name": "stderr",
     "output_type": "stream",
     "text": [
      "/home/Grx/.local/lib/python3.11/site-packages/jax/_src/ops/scatter.py:94: FutureWarning: scatter inputs have incompatible types: cannot safely cast value from dtype=int64 to dtype=int32 with jax_numpy_dtype_promotion='standard'. In future JAX releases this will result in an error.\n",
      "  warnings.warn(\n"
     ]
    },
    {
     "name": "stdout",
     "output_type": "stream",
     "text": [
      "3664 2.303677698814262\n",
      "96 40.41715931892395\n",
      "./alfpdb/alf97/apdb.pdb ./templete/4YZR_A/rec.pdb\n",
      "./alfpdb/alf97/apdb.pdb ./templete/7WEX_A/rec.pdb\n",
      "./alfpdb/alf97/apdb.pdb ./templete/5CJE_A/rec.pdb\n",
      "./alfpdb/alf97/apdb.pdb ./templete/4B7D_A/rec.pdb\n",
      "./alfpdb/alf97/apdb.pdb ./templete/7XBN_A/rec.pdb\n",
      "./alfpdb/alf97/apdb.pdb ./templete/2WHW_A/rec.pdb\n",
      "./alfpdb/alf97/apdb.pdb ./templete/2C6H_A/rec.pdb\n",
      "./alfpdb/alf97/apdb.pdb ./templete/7XBO_A/rec.pdb\n",
      "./alfpdb/alf97/apdb.pdb ./templete/7XBM_A/rec.pdb\n",
      "./alfpdb/alf97/apdb.pdb ./templete/4UMZ_A/rec.pdb\n",
      "./alfpdb/alf97/apdb.pdb ./templete/2VZM_A/rec.pdb\n",
      "./alfpdb/alf97/apdb.pdb ./templete/8GUE_A/rec.pdb\n",
      "./alfpdb/alf97/apdb.pdb ./templete/2WI9_A/rec.pdb\n",
      "./alfpdb/alf97/apdb.pdb ./templete/2CA0_A/rec.pdb\n",
      "./alfpdb/alf97/apdb.pdb ./templete/2VZ7_A/rec.pdb\n",
      "./alfpdb/alf97/apdb.pdb ./templete/1EUP_A/rec.pdb\n",
      "./alfpdb/alf97/apdb.pdb ./templete/1JIN_A/rec.pdb\n",
      "./alfpdb/alf97/apdb.pdb ./templete/1JIP_A/rec.pdb\n",
      "./alfpdb/alf97/apdb.pdb ./templete/1OXA_A/rec.pdb\n",
      "./alfpdb/alf97/apdb.pdb ./templete/1Z8O_A/rec.pdb\n",
      "2809 2.5323889906568415\n"
     ]
    },
    {
     "name": "stderr",
     "output_type": "stream",
     "text": [
      "/home/Grx/.local/lib/python3.11/site-packages/jax/_src/ops/scatter.py:94: FutureWarning: scatter inputs have incompatible types: cannot safely cast value from dtype=int64 to dtype=int32 with jax_numpy_dtype_promotion='standard'. In future JAX releases this will result in an error.\n",
      "  warnings.warn(\n"
     ]
    },
    {
     "name": "stdout",
     "output_type": "stream",
     "text": [
      "2809 2.532250683737621\n",
      "97 30.580925941467285\n",
      "./alfpdb/alf98/apdb.pdb ./templete/7LS3_A/rec.pdb\n",
      "./alfpdb/alf98/apdb.pdb ./templete/7LS4_A/rec.pdb\n",
      "./alfpdb/alf98/apdb.pdb ./templete/7LRL_A/rec.pdb\n",
      "./alfpdb/alf98/apdb.pdb ./templete/3PSX_A/rec.pdb\n",
      "./alfpdb/alf98/apdb.pdb ./templete/7N6F_A/rec.pdb\n",
      "./alfpdb/alf98/apdb.pdb ./templete/3HF2_A/rec.pdb\n",
      "./alfpdb/alf98/apdb.pdb ./templete/7N3L_A/rec.pdb\n",
      "./alfpdb/alf98/apdb.pdb ./templete/2X7Y_A/rec.pdb\n",
      "./alfpdb/alf98/apdb.pdb ./templete/4O4P_A/rec.pdb\n",
      "./alfpdb/alf98/apdb.pdb ./templete/3MDV_A/rec.pdb\n",
      "./alfpdb/alf98/apdb.pdb ./templete/6HN8_A/rec.pdb\n",
      "./alfpdb/alf98/apdb.pdb ./templete/5DYZ_A/rec.pdb\n",
      "./alfpdb/alf98/apdb.pdb ./templete/4KEY_A/rec.pdb\n",
      "./alfpdb/alf98/apdb.pdb ./templete/5B2W_A/rec.pdb\n",
      "./alfpdb/alf98/apdb.pdb ./templete/7WDI_A/rec.pdb\n",
      "./alfpdb/alf98/apdb.pdb ./templete/6LY4_A/rec.pdb\n",
      "./alfpdb/alf98/apdb.pdb ./templete/4KEW_A/rec.pdb\n",
      "./alfpdb/alf98/apdb.pdb ./templete/3MDT_A/rec.pdb\n",
      "./alfpdb/alf98/apdb.pdb ./templete/5DYP_A/rec.pdb\n",
      "./alfpdb/alf98/apdb.pdb ./templete/3MDR_A/rec.pdb\n"
     ]
    },
    {
     "name": "stderr",
     "output_type": "stream",
     "text": [
      "/home/Grx/.local/lib/python3.11/site-packages/jax/_src/ops/scatter.py:94: FutureWarning: scatter inputs have incompatible types: cannot safely cast value from dtype=int64 to dtype=int32 with jax_numpy_dtype_promotion='standard'. In future JAX releases this will result in an error.\n",
      "  warnings.warn(\n"
     ]
    },
    {
     "name": "stdout",
     "output_type": "stream",
     "text": [
      "98 48.989747762680054\n",
      "./alfpdb/alf99/apdb.pdb ./templete/4RM4_A/rec.pdb\n",
      "./alfpdb/alf99/apdb.pdb ./templete/1WIY_A/rec.pdb\n",
      "./alfpdb/alf99/apdb.pdb ./templete/5VWS_A/rec.pdb\n",
      "./alfpdb/alf99/apdb.pdb ./templete/2VE3_A/rec.pdb\n",
      "./alfpdb/alf99/apdb.pdb ./templete/7OW9_A/rec.pdb\n",
      "./alfpdb/alf99/apdb.pdb ./templete/7PQ1_A/rec.pdb\n",
      "./alfpdb/alf99/apdb.pdb ./templete/5L90_A/rec.pdb\n",
      "./alfpdb/alf99/apdb.pdb ./templete/2VE4_A/rec.pdb\n",
      "./alfpdb/alf99/apdb.pdb ./templete/2XKR_A/rec.pdb\n",
      "./alfpdb/alf99/apdb.pdb ./templete/3NC6_A/rec.pdb\n",
      "./alfpdb/alf99/apdb.pdb ./templete/5L91_A/rec.pdb\n",
      "./alfpdb/alf99/apdb.pdb ./templete/4YZR_A/rec.pdb\n",
      "./alfpdb/alf99/apdb.pdb ./templete/5Z9I_A/rec.pdb\n",
      "./alfpdb/alf99/apdb.pdb ./templete/6GMF_A/rec.pdb\n",
      "./alfpdb/alf99/apdb.pdb ./templete/7WEX_A/rec.pdb\n",
      "./alfpdb/alf99/apdb.pdb ./templete/7P5T_A/rec.pdb\n",
      "./alfpdb/alf99/apdb.pdb ./templete/7QQ7_A/rec.pdb\n",
      "./alfpdb/alf99/apdb.pdb ./templete/4TVF_A/rec.pdb\n",
      "./alfpdb/alf99/apdb.pdb ./templete/7QJL_A/rec.pdb\n",
      "./alfpdb/alf99/apdb.pdb ./templete/4R20_A/rec.pdb\n",
      "2825 2.5459530631965697\n"
     ]
    },
    {
     "name": "stderr",
     "output_type": "stream",
     "text": [
      "/home/Grx/.local/lib/python3.11/site-packages/jax/_src/ops/scatter.py:94: FutureWarning: scatter inputs have incompatible types: cannot safely cast value from dtype=int64 to dtype=int32 with jax_numpy_dtype_promotion='standard'. In future JAX releases this will result in an error.\n",
      "  warnings.warn(\n"
     ]
    },
    {
     "name": "stdout",
     "output_type": "stream",
     "text": [
      "2825 2.483368546462323\n",
      "99 34.26004981994629\n"
     ]
    }
   ],
   "source": [
    "#blv,top,ifcra,iffes\n",
    "#resultax=[]\n",
    "for i in range(96,100):\n",
    "    if i==4 or i==17 or i==23 or i==27 or i==50 or i==77 or i==79 or i==93 or i==95:\n",
    "        continue\n",
    "    t0=time.time()\n",
    "    prtpath='./alfpdb/alf'+str(i)+'/apdb.pdb'\n",
    "    teml=get_tem(0,10,i)\n",
    "    success,suct,fesx=get_mdp(teml,prtpath)\n",
    "    t1=time.time()\n",
    "    \n",
    "    succ,crashn,fes=md(suct,1,1,0,i)\n",
    "    t2=time.time()\n",
    "    resultax.append([prtpath,succ,fes,t2-t0+60])\n",
    "    print(i,time.time()-t0)"
   ]
  },
  {
   "cell_type": "code",
   "execution_count": 45,
   "id": "3b093dee",
   "metadata": {},
   "outputs": [],
   "source": [
    "def writeresult(file,l):\n",
    "    with open(file,'w')as f:\n",
    "        for i in l:\n",
    "            print(i,file=f)\n",
    "writeresult('resultalf.txt',resultax)"
   ]
  },
  {
   "cell_type": "code",
   "execution_count": 43,
   "id": "2e9c9baf",
   "metadata": {},
   "outputs": [],
   "source": [
    "resultax0=[]\n",
    "resultax1=[]\n",
    "resultax2=[]\n",
    "resultax3=[]\n",
    "resultax4=[]"
   ]
  },
  {
   "cell_type": "code",
   "execution_count": 44,
   "id": "11b4187d",
   "metadata": {},
   "outputs": [
    {
     "name": "stdout",
     "output_type": "stream",
     "text": [
      "./alfpdb/alf0/apdb.pdb ./templete/8EWQ_A/rec.pdb\n",
      "./alfpdb/alf0/apdb.pdb ./templete/5VCD_A/rec.pdb\n",
      "./alfpdb/alf0/apdb.pdb ./templete/6DAL_A/rec.pdb\n",
      "./alfpdb/alf0/apdb.pdb ./templete/6DAC_A/rec.pdb\n",
      "./alfpdb/alf0/apdb.pdb ./templete/6MJM_A/rec.pdb\n",
      "./alfpdb/alf0/apdb.pdb ./templete/8EWE_A/rec.pdb\n",
      "./alfpdb/alf0/apdb.pdb ./templete/7LAD_A/rec.pdb\n",
      "./alfpdb/alf0/apdb.pdb ./templete/6BCZ_A/rec.pdb\n",
      "./alfpdb/alf0/apdb.pdb ./templete/6MA6_A/rec.pdb\n",
      "./alfpdb/alf0/apdb.pdb ./templete/6DA2_A/rec.pdb\n",
      "./alfpdb/alf0/apdb.pdb ./templete/5VCC_A/rec.pdb\n",
      "./alfpdb/alf0/apdb.pdb ./templete/7UFB_A/rec.pdb\n",
      "./alfpdb/alf0/apdb.pdb ./templete/6OO9_A/rec.pdb\n",
      "./alfpdb/alf0/apdb.pdb ./templete/4D75_A/rec.pdb\n",
      "./alfpdb/alf0/apdb.pdb ./templete/6BD8_A/rec.pdb\n",
      "./alfpdb/alf0/apdb.pdb ./templete/6MA8_A/rec.pdb\n",
      "./alfpdb/alf0/apdb.pdb ./templete/6BD5_A/rec.pdb\n",
      "./alfpdb/alf0/apdb.pdb ./templete/7KVP_A/rec.pdb\n",
      "./alfpdb/alf0/apdb.pdb ./templete/8EWP_A/rec.pdb\n",
      "./alfpdb/alf0/apdb.pdb ./templete/6OOA_A/rec.pdb\n"
     ]
    },
    {
     "name": "stderr",
     "output_type": "stream",
     "text": [
      "/home/Grx/.local/lib/python3.11/site-packages/jax/_src/ops/scatter.py:94: FutureWarning: scatter inputs have incompatible types: cannot safely cast value from dtype=int64 to dtype=int32 with jax_numpy_dtype_promotion='standard'. In future JAX releases this will result in an error.\n",
      "  warnings.warn(\n",
      "/home/Grx/.local/lib/python3.11/site-packages/jax/_src/ops/scatter.py:94: FutureWarning: scatter inputs have incompatible types: cannot safely cast value from dtype=int64 to dtype=int32 with jax_numpy_dtype_promotion='standard'. In future JAX releases this will result in an error.\n",
      "  warnings.warn(\n",
      "/home/Grx/.local/lib/python3.11/site-packages/jax/_src/ops/scatter.py:94: FutureWarning: scatter inputs have incompatible types: cannot safely cast value from dtype=int64 to dtype=int32 with jax_numpy_dtype_promotion='standard'. In future JAX releases this will result in an error.\n",
      "  warnings.warn(\n",
      "/home/Grx/.local/lib/python3.11/site-packages/jax/_src/ops/scatter.py:94: FutureWarning: scatter inputs have incompatible types: cannot safely cast value from dtype=int64 to dtype=int32 with jax_numpy_dtype_promotion='standard'. In future JAX releases this will result in an error.\n",
      "  warnings.warn(\n"
     ]
    },
    {
     "name": "stdout",
     "output_type": "stream",
     "text": [
      "0 92.02794337272644\n",
      "./alfpdb/alf1/apdb.pdb ./templete/4LHT_A/rec.pdb\n",
      "./alfpdb/alf1/apdb.pdb ./templete/3BDZ_A/rec.pdb\n",
      "./alfpdb/alf1/apdb.pdb ./templete/4L77_A/rec.pdb\n",
      "./alfpdb/alf1/apdb.pdb ./templete/4L6G_A/rec.pdb\n",
      "./alfpdb/alf1/apdb.pdb ./templete/1T2B_A/rec.pdb\n",
      "./alfpdb/alf1/apdb.pdb ./templete/3BE0_A/rec.pdb\n",
      "./alfpdb/alf1/apdb.pdb ./templete/4FYZ_A/rec.pdb\n",
      "./alfpdb/alf1/apdb.pdb ./templete/5L92_A/rec.pdb\n",
      "./alfpdb/alf1/apdb.pdb ./templete/5L94_A/rec.pdb\n",
      "./alfpdb/alf1/apdb.pdb ./templete/4RM4_A/rec.pdb\n",
      "./alfpdb/alf1/apdb.pdb ./templete/4YZR_A/rec.pdb\n",
      "./alfpdb/alf1/apdb.pdb ./templete/5VWS_A/rec.pdb\n",
      "./alfpdb/alf1/apdb.pdb ./templete/2XKR_A/rec.pdb\n",
      "./alfpdb/alf1/apdb.pdb ./templete/7QQ7_A/rec.pdb\n",
      "./alfpdb/alf1/apdb.pdb ./templete/7P5T_A/rec.pdb\n",
      "./alfpdb/alf1/apdb.pdb ./templete/6GMF_A/rec.pdb\n",
      "./alfpdb/alf1/apdb.pdb ./templete/7QJL_A/rec.pdb\n",
      "./alfpdb/alf1/apdb.pdb ./templete/6B11_A/rec.pdb\n",
      "./alfpdb/alf1/apdb.pdb ./templete/5FOI_A/rec.pdb\n",
      "./alfpdb/alf1/apdb.pdb ./templete/7SMZ_A/rec.pdb\n",
      "2829 2.1728492814735225\n"
     ]
    },
    {
     "name": "stderr",
     "output_type": "stream",
     "text": [
      "/home/Grx/.local/lib/python3.11/site-packages/jax/_src/ops/scatter.py:94: FutureWarning: scatter inputs have incompatible types: cannot safely cast value from dtype=int64 to dtype=int32 with jax_numpy_dtype_promotion='standard'. In future JAX releases this will result in an error.\n",
      "  warnings.warn(\n"
     ]
    },
    {
     "name": "stdout",
     "output_type": "stream",
     "text": [
      "FE S -0.10027312306019476 1.6797268769398053\n",
      "2829 1.6797268769398053\n",
      "2829 2.1728492814735225\n"
     ]
    },
    {
     "name": "stderr",
     "output_type": "stream",
     "text": [
      "/home/Grx/.local/lib/python3.11/site-packages/jax/_src/ops/scatter.py:94: FutureWarning: scatter inputs have incompatible types: cannot safely cast value from dtype=int64 to dtype=int32 with jax_numpy_dtype_promotion='standard'. In future JAX releases this will result in an error.\n",
      "  warnings.warn(\n"
     ]
    },
    {
     "name": "stdout",
     "output_type": "stream",
     "text": [
      "FE S -0.10001759317969916 1.6799824068203009\n",
      "2829 1.6799824068203009\n",
      "2829 2.1728492814735225\n"
     ]
    },
    {
     "name": "stderr",
     "output_type": "stream",
     "text": [
      "/home/Grx/.local/lib/python3.11/site-packages/jax/_src/ops/scatter.py:94: FutureWarning: scatter inputs have incompatible types: cannot safely cast value from dtype=int64 to dtype=int32 with jax_numpy_dtype_promotion='standard'. In future JAX releases this will result in an error.\n",
      "  warnings.warn(\n"
     ]
    },
    {
     "name": "stdout",
     "output_type": "stream",
     "text": [
      "2829 2.1106940155004614\n",
      "2829 2.1728492814735225\n"
     ]
    },
    {
     "name": "stderr",
     "output_type": "stream",
     "text": [
      "/home/Grx/.local/lib/python3.11/site-packages/jax/_src/ops/scatter.py:94: FutureWarning: scatter inputs have incompatible types: cannot safely cast value from dtype=int64 to dtype=int32 with jax_numpy_dtype_promotion='standard'. In future JAX releases this will result in an error.\n",
      "  warnings.warn(\n"
     ]
    },
    {
     "name": "stdout",
     "output_type": "stream",
     "text": [
      "2829 2.1107323366602913\n",
      "1 78.77211809158325\n",
      "./alfpdb/alf2/apdb.pdb ./templete/2RFB_A/rec.pdb\n",
      "./alfpdb/alf2/apdb.pdb ./templete/1WIY_A/rec.pdb\n",
      "./alfpdb/alf2/apdb.pdb ./templete/4R1Z_A/rec.pdb\n",
      "./alfpdb/alf2/apdb.pdb ./templete/4RM4_A/rec.pdb\n",
      "./alfpdb/alf2/apdb.pdb ./templete/2Q9G_A/rec.pdb\n",
      "./alfpdb/alf2/apdb.pdb ./templete/4R20_A/rec.pdb\n",
      "./alfpdb/alf2/apdb.pdb ./templete/3MDV_A/rec.pdb\n",
      "./alfpdb/alf2/apdb.pdb ./templete/3MDT_A/rec.pdb\n",
      "./alfpdb/alf2/apdb.pdb ./templete/4ENH_A/rec.pdb\n",
      "./alfpdb/alf2/apdb.pdb ./templete/4FIA_A/rec.pdb\n",
      "./alfpdb/alf2/apdb.pdb ./templete/4TX3_A/rec.pdb\n",
      "./alfpdb/alf2/apdb.pdb ./templete/6M7L_A/rec.pdb\n",
      "./alfpdb/alf2/apdb.pdb ./templete/3MDR_A/rec.pdb\n",
      "./alfpdb/alf2/apdb.pdb ./templete/6F0B_A/rec.pdb\n",
      "./alfpdb/alf2/apdb.pdb ./templete/6F0C_A/rec.pdb\n",
      "./alfpdb/alf2/apdb.pdb ./templete/3B4X_A/rec.pdb\n",
      "./alfpdb/alf2/apdb.pdb ./templete/7LS3_A/rec.pdb\n",
      "./alfpdb/alf2/apdb.pdb ./templete/1LFK_A/rec.pdb\n",
      "./alfpdb/alf2/apdb.pdb ./templete/4Z5Q_A/rec.pdb\n",
      "./alfpdb/alf2/apdb.pdb ./templete/1UE8_A/rec.pdb\n",
      "2707 2.7608589243204715\n"
     ]
    },
    {
     "name": "stderr",
     "output_type": "stream",
     "text": [
      "/home/Grx/.local/lib/python3.11/site-packages/jax/_src/ops/scatter.py:94: FutureWarning: scatter inputs have incompatible types: cannot safely cast value from dtype=int64 to dtype=int32 with jax_numpy_dtype_promotion='standard'. In future JAX releases this will result in an error.\n",
      "  warnings.warn(\n"
     ]
    },
    {
     "name": "stdout",
     "output_type": "stream",
     "text": [
      "2707 2.759412418917979\n",
      "2707 2.7608589243204715\n"
     ]
    },
    {
     "name": "stderr",
     "output_type": "stream",
     "text": [
      "/home/Grx/.local/lib/python3.11/site-packages/jax/_src/ops/scatter.py:94: FutureWarning: scatter inputs have incompatible types: cannot safely cast value from dtype=int64 to dtype=int32 with jax_numpy_dtype_promotion='standard'. In future JAX releases this will result in an error.\n",
      "  warnings.warn(\n"
     ]
    },
    {
     "name": "stdout",
     "output_type": "stream",
     "text": [
      "2707 2.757002401492976\n",
      "2707 2.7608589243204715\n"
     ]
    },
    {
     "name": "stderr",
     "output_type": "stream",
     "text": [
      "/home/Grx/.local/lib/python3.11/site-packages/jax/_src/ops/scatter.py:94: FutureWarning: scatter inputs have incompatible types: cannot safely cast value from dtype=int64 to dtype=int32 with jax_numpy_dtype_promotion='standard'. In future JAX releases this will result in an error.\n",
      "  warnings.warn(\n"
     ]
    },
    {
     "name": "stdout",
     "output_type": "stream",
     "text": [
      "2707 2.7608194714978267\n",
      "2707 2.7608589243204715\n"
     ]
    },
    {
     "name": "stderr",
     "output_type": "stream",
     "text": [
      "/home/Grx/.local/lib/python3.11/site-packages/jax/_src/ops/scatter.py:94: FutureWarning: scatter inputs have incompatible types: cannot safely cast value from dtype=int64 to dtype=int32 with jax_numpy_dtype_promotion='standard'. In future JAX releases this will result in an error.\n",
      "  warnings.warn(\n"
     ]
    },
    {
     "name": "stdout",
     "output_type": "stream",
     "text": [
      "2707 2.7607176534100257\n",
      "2 97.11228156089783\n",
      "./alfpdb/alf3/apdb.pdb ./templete/4R1Z_A/rec.pdb\n",
      "./alfpdb/alf3/apdb.pdb ./templete/4R20_A/rec.pdb\n",
      "./alfpdb/alf3/apdb.pdb ./templete/2RFB_A/rec.pdb\n",
      "./alfpdb/alf3/apdb.pdb ./templete/1WIY_A/rec.pdb\n",
      "./alfpdb/alf3/apdb.pdb ./templete/6CSD_A/rec.pdb\n",
      "./alfpdb/alf3/apdb.pdb ./templete/4WNT_A/rec.pdb\n",
      "./alfpdb/alf3/apdb.pdb ./templete/5YSM_A/rec.pdb\n",
      "./alfpdb/alf3/apdb.pdb ./templete/6F0B_A/rec.pdb\n",
      "./alfpdb/alf3/apdb.pdb ./templete/6F0C_A/rec.pdb\n",
      "./alfpdb/alf3/apdb.pdb ./templete/6VBY_A/rec.pdb\n",
      "./alfpdb/alf3/apdb.pdb ./templete/5YSW_A/rec.pdb\n",
      "./alfpdb/alf3/apdb.pdb ./templete/3B4X_A/rec.pdb\n",
      "./alfpdb/alf3/apdb.pdb ./templete/4EP6_A/rec.pdb\n",
      "./alfpdb/alf3/apdb.pdb ./templete/2Q9G_A/rec.pdb\n",
      "./alfpdb/alf3/apdb.pdb ./templete/2WIV_A/rec.pdb\n",
      "./alfpdb/alf3/apdb.pdb ./templete/3P3X_A/rec.pdb\n",
      "./alfpdb/alf3/apdb.pdb ./templete/5L94_A/rec.pdb\n",
      "./alfpdb/alf3/apdb.pdb ./templete/5L92_A/rec.pdb\n",
      "./alfpdb/alf3/apdb.pdb ./templete/1UE8_A/rec.pdb\n",
      "./alfpdb/alf3/apdb.pdb ./templete/4WNW_A/rec.pdb\n",
      "6603 2.3841077995761895\n"
     ]
    },
    {
     "name": "stderr",
     "output_type": "stream",
     "text": [
      "/home/Grx/.local/lib/python3.11/site-packages/jax/_src/ops/scatter.py:94: FutureWarning: scatter inputs have incompatible types: cannot safely cast value from dtype=int64 to dtype=int32 with jax_numpy_dtype_promotion='standard'. In future JAX releases this will result in an error.\n",
      "  warnings.warn(\n"
     ]
    },
    {
     "name": "stdout",
     "output_type": "stream",
     "text": [
      "6603 2.6964288925445294\n",
      "6603 2.3841077995761895\n"
     ]
    },
    {
     "name": "stderr",
     "output_type": "stream",
     "text": [
      "/home/Grx/.local/lib/python3.11/site-packages/jax/_src/ops/scatter.py:94: FutureWarning: scatter inputs have incompatible types: cannot safely cast value from dtype=int64 to dtype=int32 with jax_numpy_dtype_promotion='standard'. In future JAX releases this will result in an error.\n",
      "  warnings.warn(\n"
     ]
    },
    {
     "name": "stdout",
     "output_type": "stream",
     "text": [
      "6603 2.696279799373668\n",
      "6603 2.3841077995761895\n"
     ]
    },
    {
     "name": "stderr",
     "output_type": "stream",
     "text": [
      "/home/Grx/.local/lib/python3.11/site-packages/jax/_src/ops/scatter.py:94: FutureWarning: scatter inputs have incompatible types: cannot safely cast value from dtype=int64 to dtype=int32 with jax_numpy_dtype_promotion='standard'. In future JAX releases this will result in an error.\n",
      "  warnings.warn(\n"
     ]
    },
    {
     "name": "stdout",
     "output_type": "stream",
     "text": [
      "6603 2.468052028197083\n",
      "6603 2.3841077995761895\n"
     ]
    },
    {
     "name": "stderr",
     "output_type": "stream",
     "text": [
      "/home/Grx/.local/lib/python3.11/site-packages/jax/_src/ops/scatter.py:94: FutureWarning: scatter inputs have incompatible types: cannot safely cast value from dtype=int64 to dtype=int32 with jax_numpy_dtype_promotion='standard'. In future JAX releases this will result in an error.\n",
      "  warnings.warn(\n"
     ]
    },
    {
     "name": "stdout",
     "output_type": "stream",
     "text": [
      "6603 2.4680484261946845\n",
      "3 154.26521849632263\n",
      "./alfpdb/alf5/apdb.pdb ./templete/1WIY_A/rec.pdb\n",
      "./alfpdb/alf5/apdb.pdb ./templete/1N97_A/rec.pdb\n",
      "./alfpdb/alf5/apdb.pdb ./templete/2Q9G_A/rec.pdb\n",
      "./alfpdb/alf5/apdb.pdb ./templete/3MDV_A/rec.pdb\n",
      "./alfpdb/alf5/apdb.pdb ./templete/7LS4_A/rec.pdb\n",
      "./alfpdb/alf5/apdb.pdb ./templete/3MDR_A/rec.pdb\n",
      "./alfpdb/alf5/apdb.pdb ./templete/7LRL_A/rec.pdb\n",
      "./alfpdb/alf5/apdb.pdb ./templete/7LS3_A/rec.pdb\n",
      "./alfpdb/alf5/apdb.pdb ./templete/4ENH_A/rec.pdb\n",
      "./alfpdb/alf5/apdb.pdb ./templete/2Q9F_A/rec.pdb\n",
      "./alfpdb/alf5/apdb.pdb ./templete/3MDT_A/rec.pdb\n",
      "./alfpdb/alf5/apdb.pdb ./templete/4FIA_A/rec.pdb\n",
      "./alfpdb/alf5/apdb.pdb ./templete/7N3L_A/rec.pdb\n",
      "./alfpdb/alf5/apdb.pdb ./templete/7N6F_A/rec.pdb\n",
      "./alfpdb/alf5/apdb.pdb ./templete/3MDM_A/rec.pdb\n",
      "./alfpdb/alf5/apdb.pdb ./templete/4J14_A/rec.pdb\n",
      "./alfpdb/alf5/apdb.pdb ./templete/3DBG_A/rec.pdb\n",
      "./alfpdb/alf5/apdb.pdb ./templete/6A15_A/rec.pdb\n",
      "./alfpdb/alf5/apdb.pdb ./templete/4KEW_A/rec.pdb\n",
      "./alfpdb/alf5/apdb.pdb ./templete/6A18_A/rec.pdb\n"
     ]
    },
    {
     "name": "stderr",
     "output_type": "stream",
     "text": [
      "/home/Grx/.local/lib/python3.11/site-packages/jax/_src/ops/scatter.py:94: FutureWarning: scatter inputs have incompatible types: cannot safely cast value from dtype=int64 to dtype=int32 with jax_numpy_dtype_promotion='standard'. In future JAX releases this will result in an error.\n",
      "  warnings.warn(\n",
      "/home/Grx/.local/lib/python3.11/site-packages/jax/_src/ops/scatter.py:94: FutureWarning: scatter inputs have incompatible types: cannot safely cast value from dtype=int64 to dtype=int32 with jax_numpy_dtype_promotion='standard'. In future JAX releases this will result in an error.\n",
      "  warnings.warn(\n",
      "/home/Grx/.local/lib/python3.11/site-packages/jax/_src/ops/scatter.py:94: FutureWarning: scatter inputs have incompatible types: cannot safely cast value from dtype=int64 to dtype=int32 with jax_numpy_dtype_promotion='standard'. In future JAX releases this will result in an error.\n",
      "  warnings.warn(\n",
      "/home/Grx/.local/lib/python3.11/site-packages/jax/_src/ops/scatter.py:94: FutureWarning: scatter inputs have incompatible types: cannot safely cast value from dtype=int64 to dtype=int32 with jax_numpy_dtype_promotion='standard'. In future JAX releases this will result in an error.\n",
      "  warnings.warn(\n"
     ]
    },
    {
     "name": "stdout",
     "output_type": "stream",
     "text": [
      "5 99.32202529907227\n",
      "./alfpdb/alf6/apdb.pdb ./templete/7LS4_A/rec.pdb\n",
      "./alfpdb/alf6/apdb.pdb ./templete/3PSX_A/rec.pdb\n",
      "./alfpdb/alf6/apdb.pdb ./templete/2X7Y_A/rec.pdb\n",
      "./alfpdb/alf6/apdb.pdb ./templete/2Q9G_A/rec.pdb\n",
      "./alfpdb/alf6/apdb.pdb ./templete/7LS3_A/rec.pdb\n",
      "./alfpdb/alf6/apdb.pdb ./templete/7KVJ_A/rec.pdb\n",
      "./alfpdb/alf6/apdb.pdb ./templete/5DYP_A/rec.pdb\n",
      "./alfpdb/alf6/apdb.pdb ./templete/7N6F_A/rec.pdb\n",
      "./alfpdb/alf6/apdb.pdb ./templete/7LRL_A/rec.pdb\n",
      "./alfpdb/alf6/apdb.pdb ./templete/7N3L_A/rec.pdb\n",
      "./alfpdb/alf6/apdb.pdb ./templete/7UFA_A/rec.pdb\n",
      "./alfpdb/alf6/apdb.pdb ./templete/6UNL_A/rec.pdb\n",
      "./alfpdb/alf6/apdb.pdb ./templete/6UNM_A/rec.pdb\n",
      "./alfpdb/alf6/apdb.pdb ./templete/7UAZ_A/rec.pdb\n",
      "./alfpdb/alf6/apdb.pdb ./templete/7UAY_A/rec.pdb\n",
      "./alfpdb/alf6/apdb.pdb ./templete/8EWD_A/rec.pdb\n",
      "./alfpdb/alf6/apdb.pdb ./templete/3HF2_A/rec.pdb\n",
      "./alfpdb/alf6/apdb.pdb ./templete/3EKF_A/rec.pdb\n",
      "./alfpdb/alf6/apdb.pdb ./templete/1YQO_A/rec.pdb\n",
      "./alfpdb/alf6/apdb.pdb ./templete/1P0X_A/rec.pdb\n",
      "3738 2.1581524505928655\n"
     ]
    },
    {
     "name": "stderr",
     "output_type": "stream",
     "text": [
      "/home/Grx/.local/lib/python3.11/site-packages/jax/_src/ops/scatter.py:94: FutureWarning: scatter inputs have incompatible types: cannot safely cast value from dtype=int64 to dtype=int32 with jax_numpy_dtype_promotion='standard'. In future JAX releases this will result in an error.\n",
      "  warnings.warn(\n"
     ]
    },
    {
     "name": "stdout",
     "output_type": "stream",
     "text": [
      "C C -0.2031767894878398 1.3368232105121602\n",
      "3738 2.205783254437782\n",
      "3738 2.1581524505928655\n"
     ]
    },
    {
     "name": "stderr",
     "output_type": "stream",
     "text": [
      "/home/Grx/.local/lib/python3.11/site-packages/jax/_src/ops/scatter.py:94: FutureWarning: scatter inputs have incompatible types: cannot safely cast value from dtype=int64 to dtype=int32 with jax_numpy_dtype_promotion='standard'. In future JAX releases this will result in an error.\n",
      "  warnings.warn(\n"
     ]
    },
    {
     "name": "stdout",
     "output_type": "stream",
     "text": [
      "3738 2.2218961088008697\n",
      "3738 2.1581524505928655\n"
     ]
    },
    {
     "name": "stderr",
     "output_type": "stream",
     "text": [
      "/home/Grx/.local/lib/python3.11/site-packages/jax/_src/ops/scatter.py:94: FutureWarning: scatter inputs have incompatible types: cannot safely cast value from dtype=int64 to dtype=int32 with jax_numpy_dtype_promotion='standard'. In future JAX releases this will result in an error.\n",
      "  warnings.warn(\n"
     ]
    },
    {
     "name": "stdout",
     "output_type": "stream",
     "text": [
      "3738 2.177827180207948\n",
      "3738 2.1581524505928655\n"
     ]
    },
    {
     "name": "stderr",
     "output_type": "stream",
     "text": [
      "/home/Grx/.local/lib/python3.11/site-packages/jax/_src/ops/scatter.py:94: FutureWarning: scatter inputs have incompatible types: cannot safely cast value from dtype=int64 to dtype=int32 with jax_numpy_dtype_promotion='standard'. In future JAX releases this will result in an error.\n",
      "  warnings.warn(\n"
     ]
    },
    {
     "name": "stdout",
     "output_type": "stream",
     "text": [
      "3738 2.177904165301168\n",
      "6 134.32717180252075\n",
      "./alfpdb/alf8/apdb.pdb ./templete/2RFB_A/rec.pdb\n",
      "./alfpdb/alf8/apdb.pdb ./templete/4RM4_A/rec.pdb\n",
      "./alfpdb/alf8/apdb.pdb ./templete/5VWS_A/rec.pdb\n",
      "./alfpdb/alf8/apdb.pdb ./templete/4TVF_A/rec.pdb\n",
      "./alfpdb/alf8/apdb.pdb ./templete/3BUJ_A/rec.pdb\n",
      "./alfpdb/alf8/apdb.pdb ./templete/4TX3_A/rec.pdb\n",
      "./alfpdb/alf8/apdb.pdb ./templete/4WPZ_A/rec.pdb\n",
      "./alfpdb/alf8/apdb.pdb ./templete/5L90_A/rec.pdb\n",
      "./alfpdb/alf8/apdb.pdb ./templete/5YSM_A/rec.pdb\n",
      "./alfpdb/alf8/apdb.pdb ./templete/3OO3_A/rec.pdb\n",
      "./alfpdb/alf8/apdb.pdb ./templete/4AW3_A/rec.pdb\n",
      "./alfpdb/alf8/apdb.pdb ./templete/4WQ0_A/rec.pdb\n",
      "./alfpdb/alf8/apdb.pdb ./templete/6M4S_A/rec.pdb\n",
      "./alfpdb/alf8/apdb.pdb ./templete/5YSW_A/rec.pdb\n",
      "./alfpdb/alf8/apdb.pdb ./templete/3ZSN_A/rec.pdb\n",
      "./alfpdb/alf8/apdb.pdb ./templete/2YCA_A/rec.pdb\n",
      "./alfpdb/alf8/apdb.pdb ./templete/2Y98_A/rec.pdb\n",
      "./alfpdb/alf8/apdb.pdb ./templete/5L91_A/rec.pdb\n",
      "./alfpdb/alf8/apdb.pdb ./templete/2Y5Z_A/rec.pdb\n",
      "./alfpdb/alf8/apdb.pdb ./templete/2Y46_A/rec.pdb\n",
      "2592 2.2667092888149547\n"
     ]
    },
    {
     "name": "stderr",
     "output_type": "stream",
     "text": [
      "/home/Grx/.local/lib/python3.11/site-packages/jax/_src/ops/scatter.py:94: FutureWarning: scatter inputs have incompatible types: cannot safely cast value from dtype=int64 to dtype=int32 with jax_numpy_dtype_promotion='standard'. In future JAX releases this will result in an error.\n",
      "  warnings.warn(\n"
     ]
    },
    {
     "name": "stdout",
     "output_type": "stream",
     "text": [
      "FE S -0.15647300627821426 1.6235269937217858\n",
      "2592 1.6235269937217858\n",
      "2592 2.2667092888149547\n"
     ]
    },
    {
     "name": "stderr",
     "output_type": "stream",
     "text": [
      "/home/Grx/.local/lib/python3.11/site-packages/jax/_src/ops/scatter.py:94: FutureWarning: scatter inputs have incompatible types: cannot safely cast value from dtype=int64 to dtype=int32 with jax_numpy_dtype_promotion='standard'. In future JAX releases this will result in an error.\n",
      "  warnings.warn(\n"
     ]
    },
    {
     "name": "stdout",
     "output_type": "stream",
     "text": [
      "FE S -0.15612384577942917 1.6238761542205709\n",
      "2592 1.6238761542205709\n",
      "2592 2.2667092888149547\n"
     ]
    },
    {
     "name": "stderr",
     "output_type": "stream",
     "text": [
      "/home/Grx/.local/lib/python3.11/site-packages/jax/_src/ops/scatter.py:94: FutureWarning: scatter inputs have incompatible types: cannot safely cast value from dtype=int64 to dtype=int32 with jax_numpy_dtype_promotion='standard'. In future JAX releases this will result in an error.\n",
      "  warnings.warn(\n"
     ]
    },
    {
     "name": "stdout",
     "output_type": "stream",
     "text": [
      "2592 2.1898367696263614\n",
      "2592 2.2667092888149547\n"
     ]
    },
    {
     "name": "stderr",
     "output_type": "stream",
     "text": [
      "/home/Grx/.local/lib/python3.11/site-packages/jax/_src/ops/scatter.py:94: FutureWarning: scatter inputs have incompatible types: cannot safely cast value from dtype=int64 to dtype=int32 with jax_numpy_dtype_promotion='standard'. In future JAX releases this will result in an error.\n",
      "  warnings.warn(\n"
     ]
    },
    {
     "name": "stdout",
     "output_type": "stream",
     "text": [
      "2592 2.189862754750653\n",
      "8 76.86889696121216\n",
      "./alfpdb/alf9/apdb.pdb ./templete/5L92_A/rec.pdb\n",
      "./alfpdb/alf9/apdb.pdb ./templete/5L94_A/rec.pdb\n",
      "./alfpdb/alf9/apdb.pdb ./templete/3R9B_A/rec.pdb\n",
      "./alfpdb/alf9/apdb.pdb ./templete/4YZR_A/rec.pdb\n",
      "./alfpdb/alf9/apdb.pdb ./templete/7WEX_A/rec.pdb\n",
      "./alfpdb/alf9/apdb.pdb ./templete/4RM4_A/rec.pdb\n",
      "./alfpdb/alf9/apdb.pdb ./templete/6B11_A/rec.pdb\n",
      "./alfpdb/alf9/apdb.pdb ./templete/5CJE_A/rec.pdb\n",
      "./alfpdb/alf9/apdb.pdb ./templete/1JIN_A/rec.pdb\n",
      "./alfpdb/alf9/apdb.pdb ./templete/1JIP_A/rec.pdb\n",
      "./alfpdb/alf9/apdb.pdb ./templete/6J84_A/rec.pdb\n",
      "./alfpdb/alf9/apdb.pdb ./templete/6J83_A/rec.pdb\n",
      "./alfpdb/alf9/apdb.pdb ./templete/1EUP_A/rec.pdb\n",
      "./alfpdb/alf9/apdb.pdb ./templete/4MM0_A/rec.pdb\n",
      "./alfpdb/alf9/apdb.pdb ./templete/6J82_A/rec.pdb\n",
      "./alfpdb/alf9/apdb.pdb ./templete/1OXA_A/rec.pdb\n",
      "./alfpdb/alf9/apdb.pdb ./templete/3R9C_A/rec.pdb\n",
      "./alfpdb/alf9/apdb.pdb ./templete/5FOI_A/rec.pdb\n",
      "./alfpdb/alf9/apdb.pdb ./templete/1JIO_A/rec.pdb\n",
      "./alfpdb/alf9/apdb.pdb ./templete/1EGY_A/rec.pdb\n",
      "2936 2.304330488449952\n"
     ]
    },
    {
     "name": "stderr",
     "output_type": "stream",
     "text": [
      "/home/Grx/.local/lib/python3.11/site-packages/jax/_src/ops/scatter.py:94: FutureWarning: scatter inputs have incompatible types: cannot safely cast value from dtype=int64 to dtype=int32 with jax_numpy_dtype_promotion='standard'. In future JAX releases this will result in an error.\n",
      "  warnings.warn(\n"
     ]
    },
    {
     "name": "stdout",
     "output_type": "stream",
     "text": [
      "FE S -0.04495072621153451 1.7350492737884655\n",
      "2936 1.7350492737884655\n",
      "2936 2.304330488449952\n"
     ]
    },
    {
     "name": "stderr",
     "output_type": "stream",
     "text": [
      "/home/Grx/.local/lib/python3.11/site-packages/jax/_src/ops/scatter.py:94: FutureWarning: scatter inputs have incompatible types: cannot safely cast value from dtype=int64 to dtype=int32 with jax_numpy_dtype_promotion='standard'. In future JAX releases this will result in an error.\n",
      "  warnings.warn(\n"
     ]
    },
    {
     "name": "stdout",
     "output_type": "stream",
     "text": [
      "FE S -0.044236413929573004 1.735763586070427\n",
      "2936 1.735763586070427\n",
      "2936 2.304330488449952\n"
     ]
    },
    {
     "name": "stderr",
     "output_type": "stream",
     "text": [
      "/home/Grx/.local/lib/python3.11/site-packages/jax/_src/ops/scatter.py:94: FutureWarning: scatter inputs have incompatible types: cannot safely cast value from dtype=int64 to dtype=int32 with jax_numpy_dtype_promotion='standard'. In future JAX releases this will result in an error.\n",
      "  warnings.warn(\n"
     ]
    },
    {
     "name": "stdout",
     "output_type": "stream",
     "text": [
      "2936 2.2539866658068193\n",
      "2936 2.304330488449952\n"
     ]
    },
    {
     "name": "stderr",
     "output_type": "stream",
     "text": [
      "/home/Grx/.local/lib/python3.11/site-packages/jax/_src/ops/scatter.py:94: FutureWarning: scatter inputs have incompatible types: cannot safely cast value from dtype=int64 to dtype=int32 with jax_numpy_dtype_promotion='standard'. In future JAX releases this will result in an error.\n",
      "  warnings.warn(\n"
     ]
    },
    {
     "name": "stdout",
     "output_type": "stream",
     "text": [
      "2936 2.2540058134941\n",
      "9 83.41565561294556\n",
      "./alfpdb/alf10/apdb.pdb ./templete/3DBG_A/rec.pdb\n",
      "./alfpdb/alf10/apdb.pdb ./templete/4R1Z_A/rec.pdb\n",
      "./alfpdb/alf10/apdb.pdb ./templete/2VE3_A/rec.pdb\n",
      "./alfpdb/alf10/apdb.pdb ./templete/2VE4_A/rec.pdb\n",
      "./alfpdb/alf10/apdb.pdb ./templete/1BVY_A/rec.pdb\n",
      "./alfpdb/alf10/apdb.pdb ./templete/3MDV_A/rec.pdb\n",
      "./alfpdb/alf10/apdb.pdb ./templete/2Q9G_A/rec.pdb\n",
      "./alfpdb/alf10/apdb.pdb ./templete/3NC6_A/rec.pdb\n",
      "./alfpdb/alf10/apdb.pdb ./templete/4ENH_A/rec.pdb\n",
      "./alfpdb/alf10/apdb.pdb ./templete/3MDT_A/rec.pdb\n",
      "./alfpdb/alf10/apdb.pdb ./templete/3MDR_A/rec.pdb\n",
      "./alfpdb/alf10/apdb.pdb ./templete/3JUS_A/rec.pdb\n",
      "./alfpdb/alf10/apdb.pdb ./templete/1WIY_A/rec.pdb\n",
      "./alfpdb/alf10/apdb.pdb ./templete/3LD6_A/rec.pdb\n",
      "./alfpdb/alf10/apdb.pdb ./templete/3NC7_A/rec.pdb\n",
      "./alfpdb/alf10/apdb.pdb ./templete/6Q2T_A/rec.pdb\n",
      "./alfpdb/alf10/apdb.pdb ./templete/4R20_A/rec.pdb\n",
      "./alfpdb/alf10/apdb.pdb ./templete/4RM4_A/rec.pdb\n",
      "./alfpdb/alf10/apdb.pdb ./templete/5VWS_A/rec.pdb\n",
      "./alfpdb/alf10/apdb.pdb ./templete/3NC5_A/rec.pdb\n",
      "2128 2.502604043791187\n"
     ]
    },
    {
     "name": "stderr",
     "output_type": "stream",
     "text": [
      "/home/Grx/.local/lib/python3.11/site-packages/jax/_src/ops/scatter.py:94: FutureWarning: scatter inputs have incompatible types: cannot safely cast value from dtype=int64 to dtype=int32 with jax_numpy_dtype_promotion='standard'. In future JAX releases this will result in an error.\n",
      "  warnings.warn(\n"
     ]
    },
    {
     "name": "stdout",
     "output_type": "stream",
     "text": [
      "2128 1.977760822010902\n",
      "2128 2.502604043791187\n"
     ]
    },
    {
     "name": "stderr",
     "output_type": "stream",
     "text": [
      "/home/Grx/.local/lib/python3.11/site-packages/jax/_src/ops/scatter.py:94: FutureWarning: scatter inputs have incompatible types: cannot safely cast value from dtype=int64 to dtype=int32 with jax_numpy_dtype_promotion='standard'. In future JAX releases this will result in an error.\n",
      "  warnings.warn(\n"
     ]
    },
    {
     "name": "stdout",
     "output_type": "stream",
     "text": [
      "2128 1.9777158415030618\n",
      "2128 2.502604043791187\n"
     ]
    },
    {
     "name": "stderr",
     "output_type": "stream",
     "text": [
      "/home/Grx/.local/lib/python3.11/site-packages/jax/_src/ops/scatter.py:94: FutureWarning: scatter inputs have incompatible types: cannot safely cast value from dtype=int64 to dtype=int32 with jax_numpy_dtype_promotion='standard'. In future JAX releases this will result in an error.\n",
      "  warnings.warn(\n"
     ]
    },
    {
     "name": "stdout",
     "output_type": "stream",
     "text": [
      "2128 2.479386705782627\n",
      "2128 2.502604043791187\n"
     ]
    },
    {
     "name": "stderr",
     "output_type": "stream",
     "text": [
      "/home/Grx/.local/lib/python3.11/site-packages/jax/_src/ops/scatter.py:94: FutureWarning: scatter inputs have incompatible types: cannot safely cast value from dtype=int64 to dtype=int32 with jax_numpy_dtype_promotion='standard'. In future JAX releases this will result in an error.\n",
      "  warnings.warn(\n"
     ]
    },
    {
     "name": "stdout",
     "output_type": "stream",
     "text": [
      "2128 2.4793667232896923\n",
      "10 67.6543300151825\n",
      "./alfpdb/alf11/apdb.pdb ./templete/1WIY_A/rec.pdb\n",
      "./alfpdb/alf11/apdb.pdb ./templete/7LS3_A/rec.pdb\n",
      "./alfpdb/alf11/apdb.pdb ./templete/7LS4_A/rec.pdb\n",
      "./alfpdb/alf11/apdb.pdb ./templete/7N3L_A/rec.pdb\n",
      "./alfpdb/alf11/apdb.pdb ./templete/7N6F_A/rec.pdb\n",
      "./alfpdb/alf11/apdb.pdb ./templete/3MDV_A/rec.pdb\n",
      "./alfpdb/alf11/apdb.pdb ./templete/2Q9G_A/rec.pdb\n",
      "./alfpdb/alf11/apdb.pdb ./templete/3MDT_A/rec.pdb\n",
      "./alfpdb/alf11/apdb.pdb ./templete/1N97_A/rec.pdb\n",
      "./alfpdb/alf11/apdb.pdb ./templete/4FIA_A/rec.pdb\n",
      "./alfpdb/alf11/apdb.pdb ./templete/4ENH_A/rec.pdb\n",
      "./alfpdb/alf11/apdb.pdb ./templete/7LRL_A/rec.pdb\n",
      "./alfpdb/alf11/apdb.pdb ./templete/1YQO_A/rec.pdb\n",
      "./alfpdb/alf11/apdb.pdb ./templete/3MDR_A/rec.pdb\n",
      "./alfpdb/alf11/apdb.pdb ./templete/8EWD_A/rec.pdb\n",
      "./alfpdb/alf11/apdb.pdb ./templete/1YQP_A/rec.pdb\n",
      "./alfpdb/alf11/apdb.pdb ./templete/1P0V_A/rec.pdb\n",
      "./alfpdb/alf11/apdb.pdb ./templete/1P0W_A/rec.pdb\n",
      "./alfpdb/alf11/apdb.pdb ./templete/2NNB_A/rec.pdb\n",
      "./alfpdb/alf11/apdb.pdb ./templete/1JME_A/rec.pdb\n",
      "3455 1.9901834086334858\n"
     ]
    },
    {
     "name": "stderr",
     "output_type": "stream",
     "text": [
      "/home/Grx/.local/lib/python3.11/site-packages/jax/_src/ops/scatter.py:94: FutureWarning: scatter inputs have incompatible types: cannot safely cast value from dtype=int64 to dtype=int32 with jax_numpy_dtype_promotion='standard'. In future JAX releases this will result in an error.\n",
      "  warnings.warn(\n"
     ]
    },
    {
     "name": "stdout",
     "output_type": "stream",
     "text": [
      "3455 1.89484670906557\n",
      "3455 1.9901834086334858\n"
     ]
    },
    {
     "name": "stderr",
     "output_type": "stream",
     "text": [
      "/home/Grx/.local/lib/python3.11/site-packages/jax/_src/ops/scatter.py:94: FutureWarning: scatter inputs have incompatible types: cannot safely cast value from dtype=int64 to dtype=int32 with jax_numpy_dtype_promotion='standard'. In future JAX releases this will result in an error.\n",
      "  warnings.warn(\n"
     ]
    },
    {
     "name": "stdout",
     "output_type": "stream",
     "text": [
      "3455 1.8955855457979596\n",
      "3455 1.9901834086334858\n"
     ]
    },
    {
     "name": "stderr",
     "output_type": "stream",
     "text": [
      "/home/Grx/.local/lib/python3.11/site-packages/jax/_src/ops/scatter.py:94: FutureWarning: scatter inputs have incompatible types: cannot safely cast value from dtype=int64 to dtype=int32 with jax_numpy_dtype_promotion='standard'. In future JAX releases this will result in an error.\n",
      "  warnings.warn(\n"
     ]
    },
    {
     "name": "stdout",
     "output_type": "stream",
     "text": [
      "3455 1.9862059292104286\n",
      "3455 1.9901834086334858\n"
     ]
    },
    {
     "name": "stderr",
     "output_type": "stream",
     "text": [
      "/home/Grx/.local/lib/python3.11/site-packages/jax/_src/ops/scatter.py:94: FutureWarning: scatter inputs have incompatible types: cannot safely cast value from dtype=int64 to dtype=int32 with jax_numpy_dtype_promotion='standard'. In future JAX releases this will result in an error.\n",
      "  warnings.warn(\n"
     ]
    },
    {
     "name": "stdout",
     "output_type": "stream",
     "text": [
      "3455 1.986298197449769\n",
      "11 91.38408350944519\n",
      "./alfpdb/alf12/apdb.pdb ./templete/5YM3_A/rec.pdb\n",
      "./alfpdb/alf12/apdb.pdb ./templete/7CB9_A/rec.pdb\n",
      "./alfpdb/alf12/apdb.pdb ./templete/4R20_A/rec.pdb\n",
      "./alfpdb/alf12/apdb.pdb ./templete/5YLW_A/rec.pdb\n",
      "./alfpdb/alf12/apdb.pdb ./templete/1WIY_A/rec.pdb\n",
      "./alfpdb/alf12/apdb.pdb ./templete/8EWD_A/rec.pdb\n",
      "./alfpdb/alf12/apdb.pdb ./templete/7KVJ_A/rec.pdb\n",
      "./alfpdb/alf12/apdb.pdb ./templete/6VBY_A/rec.pdb\n",
      "./alfpdb/alf12/apdb.pdb ./templete/8EWS_A/rec.pdb\n",
      "./alfpdb/alf12/apdb.pdb ./templete/3DBG_A/rec.pdb\n",
      "./alfpdb/alf12/apdb.pdb ./templete/7UF9_A/rec.pdb\n",
      "./alfpdb/alf12/apdb.pdb ./templete/8EXB_A/rec.pdb\n",
      "./alfpdb/alf12/apdb.pdb ./templete/8EWM_A/rec.pdb\n",
      "./alfpdb/alf12/apdb.pdb ./templete/7KSA_A/rec.pdb\n",
      "./alfpdb/alf12/apdb.pdb ./templete/8EWN_A/rec.pdb\n",
      "./alfpdb/alf12/apdb.pdb ./templete/3TJS_A/rec.pdb\n",
      "./alfpdb/alf12/apdb.pdb ./templete/1N97_A/rec.pdb\n",
      "./alfpdb/alf12/apdb.pdb ./templete/6UNM_A/rec.pdb\n",
      "./alfpdb/alf12/apdb.pdb ./templete/7UAZ_A/rec.pdb\n",
      "./alfpdb/alf12/apdb.pdb ./templete/6BDH_A/rec.pdb\n",
      "4126 2.573742994162393\n"
     ]
    },
    {
     "name": "stderr",
     "output_type": "stream",
     "text": [
      "/home/Grx/.local/lib/python3.11/site-packages/jax/_src/ops/scatter.py:94: FutureWarning: scatter inputs have incompatible types: cannot safely cast value from dtype=int64 to dtype=int32 with jax_numpy_dtype_promotion='standard'. In future JAX releases this will result in an error.\n",
      "  warnings.warn(\n"
     ]
    },
    {
     "name": "stdout",
     "output_type": "stream",
     "text": [
      "4126 2.541676305089627\n",
      "4126 2.573742994162393\n"
     ]
    },
    {
     "name": "stderr",
     "output_type": "stream",
     "text": [
      "/home/Grx/.local/lib/python3.11/site-packages/jax/_src/ops/scatter.py:94: FutureWarning: scatter inputs have incompatible types: cannot safely cast value from dtype=int64 to dtype=int32 with jax_numpy_dtype_promotion='standard'. In future JAX releases this will result in an error.\n",
      "  warnings.warn(\n"
     ]
    },
    {
     "name": "stdout",
     "output_type": "stream",
     "text": [
      "4126 2.541351196149885\n",
      "4126 2.573742994162393\n"
     ]
    },
    {
     "name": "stderr",
     "output_type": "stream",
     "text": [
      "/home/Grx/.local/lib/python3.11/site-packages/jax/_src/ops/scatter.py:94: FutureWarning: scatter inputs have incompatible types: cannot safely cast value from dtype=int64 to dtype=int32 with jax_numpy_dtype_promotion='standard'. In future JAX releases this will result in an error.\n",
      "  warnings.warn(\n"
     ]
    },
    {
     "name": "stdout",
     "output_type": "stream",
     "text": [
      "4126 2.575806288541192\n",
      "4126 2.573742994162393\n"
     ]
    },
    {
     "name": "stderr",
     "output_type": "stream",
     "text": [
      "/home/Grx/.local/lib/python3.11/site-packages/jax/_src/ops/scatter.py:94: FutureWarning: scatter inputs have incompatible types: cannot safely cast value from dtype=int64 to dtype=int32 with jax_numpy_dtype_promotion='standard'. In future JAX releases this will result in an error.\n",
      "  warnings.warn(\n"
     ]
    },
    {
     "name": "stdout",
     "output_type": "stream",
     "text": [
      "4126 2.5757657005665973\n",
      "12 126.35628056526184\n",
      "./alfpdb/alf13/apdb.pdb ./templete/2RFB_A/rec.pdb\n",
      "./alfpdb/alf13/apdb.pdb ./templete/4RM4_A/rec.pdb\n",
      "./alfpdb/alf13/apdb.pdb ./templete/5VWS_A/rec.pdb\n",
      "./alfpdb/alf13/apdb.pdb ./templete/5L90_A/rec.pdb\n",
      "./alfpdb/alf13/apdb.pdb ./templete/1UE8_A/rec.pdb\n",
      "./alfpdb/alf13/apdb.pdb ./templete/4Z5Q_A/rec.pdb\n",
      "./alfpdb/alf13/apdb.pdb ./templete/3B4X_A/rec.pdb\n",
      "./alfpdb/alf13/apdb.pdb ./templete/1IO7_A/rec.pdb\n",
      "./alfpdb/alf13/apdb.pdb ./templete/1IO9_A/rec.pdb\n",
      "./alfpdb/alf13/apdb.pdb ./templete/1IO8_A/rec.pdb\n",
      "./alfpdb/alf13/apdb.pdb ./templete/4TX3_A/rec.pdb\n",
      "./alfpdb/alf13/apdb.pdb ./templete/4TVF_A/rec.pdb\n",
      "./alfpdb/alf13/apdb.pdb ./templete/5YSM_A/rec.pdb\n",
      "./alfpdb/alf13/apdb.pdb ./templete/5L91_A/rec.pdb\n",
      "./alfpdb/alf13/apdb.pdb ./templete/3NC6_A/rec.pdb\n",
      "./alfpdb/alf13/apdb.pdb ./templete/4E2P_A/rec.pdb\n",
      "./alfpdb/alf13/apdb.pdb ./templete/3NC5_A/rec.pdb\n",
      "./alfpdb/alf13/apdb.pdb ./templete/4YZR_A/rec.pdb\n",
      "./alfpdb/alf13/apdb.pdb ./templete/3E5K_A/rec.pdb\n",
      "./alfpdb/alf13/apdb.pdb ./templete/3NC7_A/rec.pdb\n",
      "1454 2.6176029110619505\n"
     ]
    },
    {
     "name": "stderr",
     "output_type": "stream",
     "text": [
      "/home/Grx/.local/lib/python3.11/site-packages/jax/_src/ops/scatter.py:94: FutureWarning: scatter inputs have incompatible types: cannot safely cast value from dtype=int64 to dtype=int32 with jax_numpy_dtype_promotion='standard'. In future JAX releases this will result in an error.\n",
      "  warnings.warn(\n"
     ]
    },
    {
     "name": "stdout",
     "output_type": "stream",
     "text": [
      "1454 2.6164934831149447\n",
      "1454 2.6176029110619505\n"
     ]
    },
    {
     "name": "stderr",
     "output_type": "stream",
     "text": [
      "/home/Grx/.local/lib/python3.11/site-packages/jax/_src/ops/scatter.py:94: FutureWarning: scatter inputs have incompatible types: cannot safely cast value from dtype=int64 to dtype=int32 with jax_numpy_dtype_promotion='standard'. In future JAX releases this will result in an error.\n",
      "  warnings.warn(\n"
     ]
    },
    {
     "name": "stdout",
     "output_type": "stream",
     "text": [
      "1454 2.6148891333768534\n",
      "1454 2.6176029110619505\n"
     ]
    },
    {
     "name": "stderr",
     "output_type": "stream",
     "text": [
      "/home/Grx/.local/lib/python3.11/site-packages/jax/_src/ops/scatter.py:94: FutureWarning: scatter inputs have incompatible types: cannot safely cast value from dtype=int64 to dtype=int32 with jax_numpy_dtype_promotion='standard'. In future JAX releases this will result in an error.\n",
      "  warnings.warn(\n"
     ]
    },
    {
     "name": "stdout",
     "output_type": "stream",
     "text": [
      "1454 2.617733164123278\n",
      "1454 2.6176029110619505\n"
     ]
    },
    {
     "name": "stderr",
     "output_type": "stream",
     "text": [
      "/home/Grx/.local/lib/python3.11/site-packages/jax/_src/ops/scatter.py:94: FutureWarning: scatter inputs have incompatible types: cannot safely cast value from dtype=int64 to dtype=int32 with jax_numpy_dtype_promotion='standard'. In future JAX releases this will result in an error.\n",
      "  warnings.warn(\n"
     ]
    },
    {
     "name": "stdout",
     "output_type": "stream",
     "text": [
      "1454 2.617800189902158\n",
      "13 70.17816948890686\n",
      "./alfpdb/alf14/apdb.pdb ./templete/7LYX_A/rec.pdb\n",
      "./alfpdb/alf14/apdb.pdb ./templete/3B98_A/rec.pdb\n",
      "./alfpdb/alf14/apdb.pdb ./templete/3B99_A/rec.pdb\n",
      "./alfpdb/alf14/apdb.pdb ./templete/2IAG_A/rec.pdb\n",
      "./alfpdb/alf14/apdb.pdb ./templete/3B6H_A/rec.pdb\n",
      "./alfpdb/alf14/apdb.pdb ./templete/3SN5_A/rec.pdb\n",
      "./alfpdb/alf14/apdb.pdb ./templete/3DAX_A/rec.pdb\n",
      "./alfpdb/alf14/apdb.pdb ./templete/3V8D_A/rec.pdb\n",
      "./alfpdb/alf14/apdb.pdb ./templete/3DBG_A/rec.pdb\n",
      "./alfpdb/alf14/apdb.pdb ./templete/2VE4_A/rec.pdb\n",
      "./alfpdb/alf14/apdb.pdb ./templete/2VE3_A/rec.pdb\n",
      "./alfpdb/alf14/apdb.pdb ./templete/1WIY_A/rec.pdb\n",
      "./alfpdb/alf14/apdb.pdb ./templete/7RKW_A/rec.pdb\n",
      "./alfpdb/alf14/apdb.pdb ./templete/6AYC_A/rec.pdb\n",
      "./alfpdb/alf14/apdb.pdb ./templete/6AYB_A/rec.pdb\n",
      "./alfpdb/alf14/apdb.pdb ./templete/7RKR_A/rec.pdb\n",
      "./alfpdb/alf14/apdb.pdb ./templete/7RKT_A/rec.pdb\n",
      "./alfpdb/alf14/apdb.pdb ./templete/5TL8_A/rec.pdb\n",
      "./alfpdb/alf14/apdb.pdb ./templete/1X8V_A/rec.pdb\n",
      "./alfpdb/alf14/apdb.pdb ./templete/6AY4_A/rec.pdb\n",
      "3628 2.178854286087073\n"
     ]
    },
    {
     "name": "stderr",
     "output_type": "stream",
     "text": [
      "/home/Grx/.local/lib/python3.11/site-packages/jax/_src/ops/scatter.py:94: FutureWarning: scatter inputs have incompatible types: cannot safely cast value from dtype=int64 to dtype=int32 with jax_numpy_dtype_promotion='standard'. In future JAX releases this will result in an error.\n",
      "  warnings.warn(\n"
     ]
    },
    {
     "name": "stdout",
     "output_type": "stream",
     "text": [
      "FE S -0.19201161312266835 1.5879883868773317\n",
      "3628 1.5879883868773317\n",
      "3628 2.178854286087073\n"
     ]
    },
    {
     "name": "stderr",
     "output_type": "stream",
     "text": [
      "/home/Grx/.local/lib/python3.11/site-packages/jax/_src/ops/scatter.py:94: FutureWarning: scatter inputs have incompatible types: cannot safely cast value from dtype=int64 to dtype=int32 with jax_numpy_dtype_promotion='standard'. In future JAX releases this will result in an error.\n",
      "  warnings.warn(\n"
     ]
    },
    {
     "name": "stdout",
     "output_type": "stream",
     "text": [
      "FE S -0.19190225725936627 1.5880977427406338\n",
      "3628 1.5880977427406338\n",
      "3628 2.178854286087073\n"
     ]
    },
    {
     "name": "stderr",
     "output_type": "stream",
     "text": [
      "/home/Grx/.local/lib/python3.11/site-packages/jax/_src/ops/scatter.py:94: FutureWarning: scatter inputs have incompatible types: cannot safely cast value from dtype=int64 to dtype=int32 with jax_numpy_dtype_promotion='standard'. In future JAX releases this will result in an error.\n",
      "  warnings.warn(\n"
     ]
    },
    {
     "name": "stdout",
     "output_type": "stream",
     "text": [
      "3628 2.0799163220655403\n",
      "3628 2.178854286087073\n"
     ]
    },
    {
     "name": "stderr",
     "output_type": "stream",
     "text": [
      "/home/Grx/.local/lib/python3.11/site-packages/jax/_src/ops/scatter.py:94: FutureWarning: scatter inputs have incompatible types: cannot safely cast value from dtype=int64 to dtype=int32 with jax_numpy_dtype_promotion='standard'. In future JAX releases this will result in an error.\n",
      "  warnings.warn(\n"
     ]
    },
    {
     "name": "stdout",
     "output_type": "stream",
     "text": [
      "3628 2.0799613276619358\n",
      "14 97.37415289878845\n",
      "./alfpdb/alf15/apdb.pdb ./templete/3DBG_A/rec.pdb\n",
      "./alfpdb/alf15/apdb.pdb ./templete/7KVJ_A/rec.pdb\n",
      "./alfpdb/alf15/apdb.pdb ./templete/3PSX_A/rec.pdb\n",
      "./alfpdb/alf15/apdb.pdb ./templete/3EL3_A/rec.pdb\n",
      "./alfpdb/alf15/apdb.pdb ./templete/4R1Z_A/rec.pdb\n",
      "./alfpdb/alf15/apdb.pdb ./templete/4TVF_A/rec.pdb\n",
      "./alfpdb/alf15/apdb.pdb ./templete/2W09_A/rec.pdb\n",
      "./alfpdb/alf15/apdb.pdb ./templete/2CIB_A/rec.pdb\n",
      "./alfpdb/alf15/apdb.pdb ./templete/8EWM_A/rec.pdb\n",
      "./alfpdb/alf15/apdb.pdb ./templete/8EWD_A/rec.pdb\n",
      "./alfpdb/alf15/apdb.pdb ./templete/4R20_A/rec.pdb\n",
      "./alfpdb/alf15/apdb.pdb ./templete/2W0A_A/rec.pdb\n",
      "./alfpdb/alf15/apdb.pdb ./templete/2CI0_A/rec.pdb\n",
      "./alfpdb/alf15/apdb.pdb ./templete/2RFB_A/rec.pdb\n",
      "./alfpdb/alf15/apdb.pdb ./templete/2Q9G_A/rec.pdb\n",
      "./alfpdb/alf15/apdb.pdb ./templete/1X8V_A/rec.pdb\n",
      "./alfpdb/alf15/apdb.pdb ./templete/6UNI_A/rec.pdb\n",
      "./alfpdb/alf15/apdb.pdb ./templete/7UAY_A/rec.pdb\n",
      "./alfpdb/alf15/apdb.pdb ./templete/6UNL_A/rec.pdb\n",
      "./alfpdb/alf15/apdb.pdb ./templete/6DAB_A/rec.pdb\n",
      "859 2.519327092697572\n"
     ]
    },
    {
     "name": "stderr",
     "output_type": "stream",
     "text": [
      "/home/Grx/.local/lib/python3.11/site-packages/jax/_src/ops/scatter.py:94: FutureWarning: scatter inputs have incompatible types: cannot safely cast value from dtype=int64 to dtype=int32 with jax_numpy_dtype_promotion='standard'. In future JAX releases this will result in an error.\n",
      "  warnings.warn(\n"
     ]
    },
    {
     "name": "stdout",
     "output_type": "stream",
     "text": [
      "859 2.067229386578491\n",
      "859 2.519327092697572\n"
     ]
    },
    {
     "name": "stderr",
     "output_type": "stream",
     "text": [
      "/home/Grx/.local/lib/python3.11/site-packages/jax/_src/ops/scatter.py:94: FutureWarning: scatter inputs have incompatible types: cannot safely cast value from dtype=int64 to dtype=int32 with jax_numpy_dtype_promotion='standard'. In future JAX releases this will result in an error.\n",
      "  warnings.warn(\n"
     ]
    },
    {
     "name": "stdout",
     "output_type": "stream",
     "text": [
      "859 2.0671471956714185\n",
      "859 2.519327092697572\n"
     ]
    },
    {
     "name": "stderr",
     "output_type": "stream",
     "text": [
      "/home/Grx/.local/lib/python3.11/site-packages/jax/_src/ops/scatter.py:94: FutureWarning: scatter inputs have incompatible types: cannot safely cast value from dtype=int64 to dtype=int32 with jax_numpy_dtype_promotion='standard'. In future JAX releases this will result in an error.\n",
      "  warnings.warn(\n"
     ]
    },
    {
     "name": "stdout",
     "output_type": "stream",
     "text": [
      "859 2.4884336790307553\n",
      "859 2.519327092697572\n"
     ]
    },
    {
     "name": "stderr",
     "output_type": "stream",
     "text": [
      "/home/Grx/.local/lib/python3.11/site-packages/jax/_src/ops/scatter.py:94: FutureWarning: scatter inputs have incompatible types: cannot safely cast value from dtype=int64 to dtype=int32 with jax_numpy_dtype_promotion='standard'. In future JAX releases this will result in an error.\n",
      "  warnings.warn(\n"
     ]
    },
    {
     "name": "stdout",
     "output_type": "stream",
     "text": [
      "859 2.4884101937252354\n",
      "15 47.09399771690369\n",
      "./alfpdb/alf16/apdb.pdb ./templete/3DBG_A/rec.pdb\n",
      "./alfpdb/alf16/apdb.pdb ./templete/8EWD_A/rec.pdb\n",
      "./alfpdb/alf16/apdb.pdb ./templete/7KVJ_A/rec.pdb\n",
      "./alfpdb/alf16/apdb.pdb ./templete/6UNL_A/rec.pdb\n",
      "./alfpdb/alf16/apdb.pdb ./templete/7UF9_A/rec.pdb\n",
      "./alfpdb/alf16/apdb.pdb ./templete/6BDH_A/rec.pdb\n",
      "./alfpdb/alf16/apdb.pdb ./templete/8EWR_A/rec.pdb\n",
      "./alfpdb/alf16/apdb.pdb ./templete/7KSA_A/rec.pdb\n",
      "./alfpdb/alf16/apdb.pdb ./templete/8EXB_A/rec.pdb\n",
      "./alfpdb/alf16/apdb.pdb ./templete/8EWM_A/rec.pdb\n",
      "./alfpdb/alf16/apdb.pdb ./templete/8EWN_A/rec.pdb\n",
      "./alfpdb/alf16/apdb.pdb ./templete/6UNM_A/rec.pdb\n",
      "./alfpdb/alf16/apdb.pdb ./templete/6DA3_A/rec.pdb\n",
      "./alfpdb/alf16/apdb.pdb ./templete/8EWL_A/rec.pdb\n",
      "./alfpdb/alf16/apdb.pdb ./templete/7UAZ_A/rec.pdb\n",
      "./alfpdb/alf16/apdb.pdb ./templete/6DAJ_A/rec.pdb\n",
      "./alfpdb/alf16/apdb.pdb ./templete/6DAA_A/rec.pdb\n",
      "./alfpdb/alf16/apdb.pdb ./templete/6DA5_A/rec.pdb\n",
      "./alfpdb/alf16/apdb.pdb ./templete/6DAG_A/rec.pdb\n",
      "./alfpdb/alf16/apdb.pdb ./templete/7KVI_A/rec.pdb\n"
     ]
    },
    {
     "name": "stderr",
     "output_type": "stream",
     "text": [
      "/home/Grx/.local/lib/python3.11/site-packages/jax/_src/ops/scatter.py:94: FutureWarning: scatter inputs have incompatible types: cannot safely cast value from dtype=int64 to dtype=int32 with jax_numpy_dtype_promotion='standard'. In future JAX releases this will result in an error.\n",
      "  warnings.warn(\n"
     ]
    },
    {
     "name": "stdout",
     "output_type": "stream",
     "text": [
      "C C -0.22831539350027863 1.3116846064997214\n",
      "C N -0.7227521171814446 0.7972478828185554\n",
      "C C -0.2772401433701235 1.2627598566298766\n",
      "C O -1.2515948512862731 0.24840514871372696\n",
      "C N -0.2209105245183629 1.2990894754816371\n",
      "O C -0.5013741430451623 0.9986258569548377\n",
      "C O -0.41427813960645765 1.0857218603935423\n",
      "C C -0.5419119935192029 0.9980880064807971\n",
      "O C -0.6711581298210119 0.8288418701789881\n",
      "N C -0.5142271463456975 1.0057728536543025\n"
     ]
    },
    {
     "name": "stderr",
     "output_type": "stream",
     "text": [
      "/home/Grx/.local/lib/python3.11/site-packages/jax/_src/ops/scatter.py:94: FutureWarning: scatter inputs have incompatible types: cannot safely cast value from dtype=int64 to dtype=int32 with jax_numpy_dtype_promotion='standard'. In future JAX releases this will result in an error.\n",
      "  warnings.warn(\n"
     ]
    },
    {
     "name": "stdout",
     "output_type": "stream",
     "text": [
      "C C -0.7067295474866861 0.8332704525133139\n",
      "C C -0.14419227898833675 1.3958077210116633\n",
      "C N -0.3368379790925402 1.1831620209074598\n",
      "C C -0.2602405121217879 1.2797594878782121\n",
      "C O -0.421860897452365 1.078139102547635\n",
      "C N -0.3679039712358523 1.1520960287641477\n",
      "O C -0.5493301019193442 0.9506698980806558\n",
      "C C -0.5455665398868723 0.9944334601131277\n",
      "C C -0.07157848144494627 1.4684215185550538\n",
      "C C -0.4382276174188713 1.1017723825811288\n",
      "O C -0.6709586102923064 0.8290413897076936\n",
      "N N -0.03974699515771252 1.4602530048422875\n",
      "C C -0.22831520554669948 1.3116847944533006\n",
      "C N -0.7227516070884812 0.7972483929115188\n",
      "C C -0.3641207544989997 1.1758792455010003\n",
      "C C -0.27722963291024194 1.262770367089758\n",
      "C C -0.2167475675442736 1.3232524324557264\n",
      "C N -0.22091031872314448 1.2990896812768555\n",
      "O N -0.2952928631936087 1.1847071368063913\n",
      "O C -0.3901774916681482 1.1098225083318518\n",
      "C N -0.438321212189126 1.081678787810874\n",
      "C C -0.09850424905239508 1.441495750947605\n",
      "C C -1.1721780321949231 0.36782196780507687\n",
      "O C -0.6709179775197145 0.8290820224802855\n"
     ]
    },
    {
     "name": "stderr",
     "output_type": "stream",
     "text": [
      "/home/Grx/.local/lib/python3.11/site-packages/jax/_src/ops/scatter.py:94: FutureWarning: scatter inputs have incompatible types: cannot safely cast value from dtype=int64 to dtype=int32 with jax_numpy_dtype_promotion='standard'. In future JAX releases this will result in an error.\n",
      "  warnings.warn(\n"
     ]
    },
    {
     "name": "stdout",
     "output_type": "stream",
     "text": [
      "C C -0.6092435591472798 0.9307564408527202\n",
      "C C -0.15159403684754924 1.3884059631524508\n",
      "C N -0.5141375918947377 1.0058624081052623\n",
      "C C -0.27197896654629705 1.268021033453703\n",
      "C O -0.2880847379297051 1.2119152620702949\n",
      "C N -0.1892883100330689 1.3307116899669311\n",
      "O C -0.5257769325518493 0.9742230674481507\n",
      "C C -0.5494215273409061 0.9905784726590939\n",
      "C N -0.4589674677274509 1.0610325322725491\n",
      "C C -0.6662133239128208 0.8737866760871792\n",
      "O C -0.6709377248386592 0.8290622751613408\n",
      "C C -0.22831520554669948 1.3116847944533006\n",
      "C N -0.7227516070884812 0.7972483929115188\n",
      "C C -0.3641207544989997 1.1758792455010003\n",
      "C C -0.27722963291024194 1.262770367089758\n",
      "C C -0.2167475675442736 1.3232524324557264\n",
      "C N -0.22091031872314448 1.2990896812768555\n",
      "O N -0.2952928631936087 1.1847071368063913\n",
      "O C -0.3901774916681482 1.1098225083318518\n",
      "C N -0.438321212189126 1.081678787810874\n",
      "C C -0.09850424905239508 1.441495750947605\n",
      "C C -1.1721780321949231 0.36782196780507687\n",
      "O C -0.6709179775197145 0.8290820224802855\n"
     ]
    },
    {
     "name": "stderr",
     "output_type": "stream",
     "text": [
      "/home/Grx/.local/lib/python3.11/site-packages/jax/_src/ops/scatter.py:94: FutureWarning: scatter inputs have incompatible types: cannot safely cast value from dtype=int64 to dtype=int32 with jax_numpy_dtype_promotion='standard'. In future JAX releases this will result in an error.\n",
      "  warnings.warn(\n"
     ]
    },
    {
     "name": "stdout",
     "output_type": "stream",
     "text": [
      "C C -0.6002133444065866 0.9397866555934135\n",
      "C C -0.22831530325398308 1.311684696746017\n",
      "C N -0.7227518648224769 0.7972481351775231\n",
      "C C -0.2593207281654324 1.2806792718345676\n",
      "C O -0.25308299714242244 1.2469170028575776\n",
      "C N -0.2209097783006364 1.2990902216993636\n",
      "O C -0.5268554764092621 0.9731445235907379\n",
      "C C -0.5493447322699273 0.9906552677300727\n",
      "C N -0.45966159399994044 1.0603384060000596\n",
      "C C -0.66709376036865 0.8729062396313501\n",
      "O C -0.6709514859398975 0.8290485140601025\n",
      "16 114.88064670562744\n",
      "./alfpdb/alf18/apdb.pdb ./templete/7SMZ_A/rec.pdb\n",
      "./alfpdb/alf18/apdb.pdb ./templete/3MGX_A/rec.pdb\n",
      "./alfpdb/alf18/apdb.pdb ./templete/5LIE_A/rec.pdb\n",
      "./alfpdb/alf18/apdb.pdb ./templete/4PWV_A/rec.pdb\n",
      "./alfpdb/alf18/apdb.pdb ./templete/5LI6_A/rec.pdb\n",
      "./alfpdb/alf18/apdb.pdb ./templete/4TRI_A/rec.pdb\n",
      "./alfpdb/alf18/apdb.pdb ./templete/5LI7_A/rec.pdb\n",
      "./alfpdb/alf18/apdb.pdb ./templete/4RM4_A/rec.pdb\n",
      "./alfpdb/alf18/apdb.pdb ./templete/2RFB_A/rec.pdb\n",
      "./alfpdb/alf18/apdb.pdb ./templete/7QQ7_A/rec.pdb\n",
      "./alfpdb/alf18/apdb.pdb ./templete/2XKR_A/rec.pdb\n",
      "./alfpdb/alf18/apdb.pdb ./templete/6B11_A/rec.pdb\n",
      "./alfpdb/alf18/apdb.pdb ./templete/7P5T_A/rec.pdb\n",
      "./alfpdb/alf18/apdb.pdb ./templete/7QJL_A/rec.pdb\n",
      "./alfpdb/alf18/apdb.pdb ./templete/4LHT_A/rec.pdb\n",
      "./alfpdb/alf18/apdb.pdb ./templete/3WVS_A/rec.pdb\n",
      "./alfpdb/alf18/apdb.pdb ./templete/5L92_A/rec.pdb\n",
      "./alfpdb/alf18/apdb.pdb ./templete/5L94_A/rec.pdb\n",
      "./alfpdb/alf18/apdb.pdb ./templete/4L77_A/rec.pdb\n",
      "./alfpdb/alf18/apdb.pdb ./templete/7WEX_A/rec.pdb\n",
      "2791 2.0009772612401173\n"
     ]
    },
    {
     "name": "stderr",
     "output_type": "stream",
     "text": [
      "/home/Grx/.local/lib/python3.11/site-packages/jax/_src/ops/scatter.py:94: FutureWarning: scatter inputs have incompatible types: cannot safely cast value from dtype=int64 to dtype=int32 with jax_numpy_dtype_promotion='standard'. In future JAX releases this will result in an error.\n",
      "  warnings.warn(\n"
     ]
    },
    {
     "name": "stdout",
     "output_type": "stream",
     "text": [
      "FE S -0.14317642875963088 1.6368235712403691\n",
      "2791 1.6368235712403691\n",
      "2791 2.0009772612401173\n"
     ]
    },
    {
     "name": "stderr",
     "output_type": "stream",
     "text": [
      "/home/Grx/.local/lib/python3.11/site-packages/jax/_src/ops/scatter.py:94: FutureWarning: scatter inputs have incompatible types: cannot safely cast value from dtype=int64 to dtype=int32 with jax_numpy_dtype_promotion='standard'. In future JAX releases this will result in an error.\n",
      "  warnings.warn(\n"
     ]
    },
    {
     "name": "stdout",
     "output_type": "stream",
     "text": [
      "FE S -0.14304788964394044 1.6369521103560596\n",
      "2791 1.6369521103560596\n",
      "2791 2.0009772612401173\n"
     ]
    },
    {
     "name": "stderr",
     "output_type": "stream",
     "text": [
      "/home/Grx/.local/lib/python3.11/site-packages/jax/_src/ops/scatter.py:94: FutureWarning: scatter inputs have incompatible types: cannot safely cast value from dtype=int64 to dtype=int32 with jax_numpy_dtype_promotion='standard'. In future JAX releases this will result in an error.\n",
      "  warnings.warn(\n"
     ]
    },
    {
     "name": "stdout",
     "output_type": "stream",
     "text": [
      "2791 1.9220977791871425\n",
      "2791 2.0009772612401173\n"
     ]
    },
    {
     "name": "stderr",
     "output_type": "stream",
     "text": [
      "/home/Grx/.local/lib/python3.11/site-packages/jax/_src/ops/scatter.py:94: FutureWarning: scatter inputs have incompatible types: cannot safely cast value from dtype=int64 to dtype=int32 with jax_numpy_dtype_promotion='standard'. In future JAX releases this will result in an error.\n",
      "  warnings.warn(\n"
     ]
    },
    {
     "name": "stdout",
     "output_type": "stream",
     "text": [
      "2791 1.9221916309154419\n",
      "18 78.47542071342468\n",
      "./alfpdb/alf19/apdb.pdb ./templete/1WIY_A/rec.pdb\n",
      "./alfpdb/alf19/apdb.pdb ./templete/3DBG_A/rec.pdb\n",
      "./alfpdb/alf19/apdb.pdb ./templete/1N97_A/rec.pdb\n",
      "./alfpdb/alf19/apdb.pdb ./templete/7KVJ_A/rec.pdb\n",
      "./alfpdb/alf19/apdb.pdb ./templete/7TTP_A/rec.pdb\n",
      "./alfpdb/alf19/apdb.pdb ./templete/8EWD_A/rec.pdb\n",
      "./alfpdb/alf19/apdb.pdb ./templete/7TTO_A/rec.pdb\n",
      "./alfpdb/alf19/apdb.pdb ./templete/7TTB_A/rec.pdb\n",
      "./alfpdb/alf19/apdb.pdb ./templete/7TTA_A/rec.pdb\n",
      "./alfpdb/alf19/apdb.pdb ./templete/3TJS_A/rec.pdb\n",
      "./alfpdb/alf19/apdb.pdb ./templete/3PSX_A/rec.pdb\n",
      "./alfpdb/alf19/apdb.pdb ./templete/6UNM_A/rec.pdb\n",
      "./alfpdb/alf19/apdb.pdb ./templete/7UAY_A/rec.pdb\n",
      "./alfpdb/alf19/apdb.pdb ./templete/8EXB_A/rec.pdb\n",
      "./alfpdb/alf19/apdb.pdb ./templete/6DAB_A/rec.pdb\n",
      "./alfpdb/alf19/apdb.pdb ./templete/3EL3_A/rec.pdb\n",
      "./alfpdb/alf19/apdb.pdb ./templete/8EWM_A/rec.pdb\n",
      "./alfpdb/alf19/apdb.pdb ./templete/6BDH_A/rec.pdb\n",
      "./alfpdb/alf19/apdb.pdb ./templete/6UNJ_A/rec.pdb\n",
      "./alfpdb/alf19/apdb.pdb ./templete/7UAZ_A/rec.pdb\n",
      "3364 1.9462320005590281\n"
     ]
    },
    {
     "name": "stderr",
     "output_type": "stream",
     "text": [
      "/home/Grx/.local/lib/python3.11/site-packages/jax/_src/ops/scatter.py:94: FutureWarning: scatter inputs have incompatible types: cannot safely cast value from dtype=int64 to dtype=int32 with jax_numpy_dtype_promotion='standard'. In future JAX releases this will result in an error.\n",
      "  warnings.warn(\n"
     ]
    },
    {
     "name": "stdout",
     "output_type": "stream",
     "text": [
      "FE S -0.12791817364392033 1.6520818263560797\n",
      "3364 1.6520818263560797\n",
      "3364 1.9462320005590281\n"
     ]
    },
    {
     "name": "stderr",
     "output_type": "stream",
     "text": [
      "/home/Grx/.local/lib/python3.11/site-packages/jax/_src/ops/scatter.py:94: FutureWarning: scatter inputs have incompatible types: cannot safely cast value from dtype=int64 to dtype=int32 with jax_numpy_dtype_promotion='standard'. In future JAX releases this will result in an error.\n",
      "  warnings.warn(\n"
     ]
    },
    {
     "name": "stdout",
     "output_type": "stream",
     "text": [
      "FE S -0.1278059172032111 1.652194082796789\n",
      "3364 1.652194082796789\n",
      "3364 1.9462320005590281\n"
     ]
    },
    {
     "name": "stderr",
     "output_type": "stream",
     "text": [
      "/home/Grx/.local/lib/python3.11/site-packages/jax/_src/ops/scatter.py:94: FutureWarning: scatter inputs have incompatible types: cannot safely cast value from dtype=int64 to dtype=int32 with jax_numpy_dtype_promotion='standard'. In future JAX releases this will result in an error.\n",
      "  warnings.warn(\n"
     ]
    },
    {
     "name": "stdout",
     "output_type": "stream",
     "text": [
      "3364 1.910286377197691\n",
      "3364 1.9462320005590281\n"
     ]
    },
    {
     "name": "stderr",
     "output_type": "stream",
     "text": [
      "/home/Grx/.local/lib/python3.11/site-packages/jax/_src/ops/scatter.py:94: FutureWarning: scatter inputs have incompatible types: cannot safely cast value from dtype=int64 to dtype=int32 with jax_numpy_dtype_promotion='standard'. In future JAX releases this will result in an error.\n",
      "  warnings.warn(\n"
     ]
    },
    {
     "name": "stdout",
     "output_type": "stream",
     "text": [
      "3364 1.9104085190515352\n",
      "19 93.00865125656128\n"
     ]
    }
   ],
   "source": [
    "for i in range(0,20):\n",
    "    \n",
    "    if i==4 or i==7 or i==17:\n",
    "        continue\n",
    "    \n",
    "    t0=time.time()\n",
    "    prtpath='./alfpdb/alf'+str(i)+'/apdb.pdb'\n",
    "    teml=get_tem(0,10,i)\n",
    "    success,suct,fesx=get_mdp(teml,prtpath)\n",
    "    t1=time.time()\n",
    "    resultax0.append([prtpath,success,fesx,t1-t0+60])\n",
    "    \n",
    "    succ,crashn,fes=md(suct,0,0,0,i)\n",
    "    t2=time.time()\n",
    "    resultax1.append([prtpath,succ,fes,t2-t0+60])\n",
    "    \n",
    "    succ,crashn,fes=md(suct,0,1,1,i)\n",
    "    t3=time.time()\n",
    "    resultax2.append([prtpath,succ,fes,(t3-t2)+(t1-t0)+60])\n",
    "    \n",
    "    succ,crashn,fes=md(suct,1,0,2,i)\n",
    "    t4=time.time()\n",
    "    resultax3.append([prtpath,succ,fes,(t4-t3)+(t1-t0)+60])\n",
    "    \n",
    "    succ,crashn,fes=md(suct,1,1,3,i)\n",
    "    t5=time.time()\n",
    "    resultax4.append([prtpath,succ,fes,(t5-t4)+(t1-t0)+60])\n",
    "    \n",
    "    print(i,time.time()-t0)"
   ]
  },
  {
   "cell_type": "code",
   "execution_count": 48,
   "id": "c836f8d5",
   "metadata": {},
   "outputs": [
    {
     "name": "stderr",
     "output_type": "stream",
     "text": [
      "/home/Grx/.local/lib/python3.11/site-packages/jax/_src/ops/scatter.py:94: FutureWarning: scatter inputs have incompatible types: cannot safely cast value from dtype=int64 to dtype=int32 with jax_numpy_dtype_promotion='standard'. In future JAX releases this will result in an error.\n",
      "  warnings.warn(\n"
     ]
    },
    {
     "name": "stdout",
     "output_type": "stream",
     "text": [
      "./alfpdb/alf0/apdb.pdb ./templete/8EWQ_A/rec.pdb\n",
      "./alfpdb/alf0/apdb.pdb ./templete/5VCD_A/rec.pdb\n",
      "./alfpdb/alf0/apdb.pdb ./templete/6DAL_A/rec.pdb\n",
      "./alfpdb/alf0/apdb.pdb ./templete/6DAC_A/rec.pdb\n",
      "./alfpdb/alf0/apdb.pdb ./templete/6MJM_A/rec.pdb\n",
      "./alfpdb/alf0/apdb.pdb ./templete/8EWE_A/rec.pdb\n",
      "./alfpdb/alf0/apdb.pdb ./templete/7LAD_A/rec.pdb\n",
      "./alfpdb/alf0/apdb.pdb ./templete/6BCZ_A/rec.pdb\n",
      "./alfpdb/alf0/apdb.pdb ./templete/6MA6_A/rec.pdb\n",
      "./alfpdb/alf0/apdb.pdb ./templete/6DA2_A/rec.pdb\n",
      "./alfpdb/alf0/apdb.pdb ./templete/5VCC_A/rec.pdb\n",
      "./alfpdb/alf0/apdb.pdb ./templete/7UFB_A/rec.pdb\n",
      "./alfpdb/alf0/apdb.pdb ./templete/6OO9_A/rec.pdb\n",
      "./alfpdb/alf0/apdb.pdb ./templete/4D75_A/rec.pdb\n",
      "./alfpdb/alf0/apdb.pdb ./templete/6BD8_A/rec.pdb\n",
      "./alfpdb/alf0/apdb.pdb ./templete/6MA8_A/rec.pdb\n",
      "./alfpdb/alf0/apdb.pdb ./templete/6BD5_A/rec.pdb\n",
      "./alfpdb/alf0/apdb.pdb ./templete/7KVP_A/rec.pdb\n",
      "./alfpdb/alf0/apdb.pdb ./templete/8EWP_A/rec.pdb\n",
      "./alfpdb/alf0/apdb.pdb ./templete/6OOA_A/rec.pdb\n"
     ]
    },
    {
     "name": "stderr",
     "output_type": "stream",
     "text": [
      "/home/Grx/.local/lib/python3.11/site-packages/jax/_src/ops/scatter.py:94: FutureWarning: scatter inputs have incompatible types: cannot safely cast value from dtype=int64 to dtype=int32 with jax_numpy_dtype_promotion='standard'. In future JAX releases this will result in an error.\n",
      "  warnings.warn(\n"
     ]
    },
    {
     "name": "stdout",
     "output_type": "stream",
     "text": [
      "./alfpdb/alf0/apdb.pdb ./templete/8EWQ_A/rec.pdb\n",
      "./alfpdb/alf0/apdb.pdb ./templete/5VCD_A/rec.pdb\n",
      "./alfpdb/alf0/apdb.pdb ./templete/6DAL_A/rec.pdb\n",
      "./alfpdb/alf0/apdb.pdb ./templete/6DAC_A/rec.pdb\n",
      "./alfpdb/alf0/apdb.pdb ./templete/6MJM_A/rec.pdb\n",
      "./alfpdb/alf0/apdb.pdb ./templete/8EWE_A/rec.pdb\n",
      "./alfpdb/alf0/apdb.pdb ./templete/7LAD_A/rec.pdb\n",
      "./alfpdb/alf0/apdb.pdb ./templete/6BCZ_A/rec.pdb\n",
      "./alfpdb/alf0/apdb.pdb ./templete/6MA6_A/rec.pdb\n",
      "./alfpdb/alf0/apdb.pdb ./templete/6DA2_A/rec.pdb\n",
      "./alfpdb/alf0/apdb.pdb ./templete/5VCC_A/rec.pdb\n",
      "./alfpdb/alf0/apdb.pdb ./templete/7UFB_A/rec.pdb\n",
      "./alfpdb/alf0/apdb.pdb ./templete/6OO9_A/rec.pdb\n",
      "./alfpdb/alf0/apdb.pdb ./templete/4D75_A/rec.pdb\n",
      "./alfpdb/alf0/apdb.pdb ./templete/6BD8_A/rec.pdb\n",
      "./alfpdb/alf0/apdb.pdb ./templete/6MA8_A/rec.pdb\n",
      "./alfpdb/alf0/apdb.pdb ./templete/6BD5_A/rec.pdb\n",
      "./alfpdb/alf0/apdb.pdb ./templete/7KVP_A/rec.pdb\n",
      "./alfpdb/alf0/apdb.pdb ./templete/8EWP_A/rec.pdb\n",
      "./alfpdb/alf0/apdb.pdb ./templete/6OOA_A/rec.pdb\n"
     ]
    },
    {
     "name": "stderr",
     "output_type": "stream",
     "text": [
      "/home/Grx/.local/lib/python3.11/site-packages/jax/_src/ops/scatter.py:94: FutureWarning: scatter inputs have incompatible types: cannot safely cast value from dtype=int64 to dtype=int32 with jax_numpy_dtype_promotion='standard'. In future JAX releases this will result in an error.\n",
      "  warnings.warn(\n"
     ]
    },
    {
     "name": "stdout",
     "output_type": "stream",
     "text": [
      "./alfpdb/alf0/apdb.pdb ./templete/8EWQ_A/rec.pdb\n",
      "./alfpdb/alf0/apdb.pdb ./templete/5VCD_A/rec.pdb\n",
      "./alfpdb/alf0/apdb.pdb ./templete/6DAL_A/rec.pdb\n",
      "./alfpdb/alf0/apdb.pdb ./templete/6DAC_A/rec.pdb\n",
      "./alfpdb/alf0/apdb.pdb ./templete/6MJM_A/rec.pdb\n",
      "./alfpdb/alf0/apdb.pdb ./templete/8EWE_A/rec.pdb\n",
      "./alfpdb/alf0/apdb.pdb ./templete/7LAD_A/rec.pdb\n",
      "./alfpdb/alf0/apdb.pdb ./templete/6BCZ_A/rec.pdb\n",
      "./alfpdb/alf0/apdb.pdb ./templete/6MA6_A/rec.pdb\n",
      "./alfpdb/alf0/apdb.pdb ./templete/6DA2_A/rec.pdb\n",
      "./alfpdb/alf0/apdb.pdb ./templete/5VCC_A/rec.pdb\n",
      "./alfpdb/alf0/apdb.pdb ./templete/7UFB_A/rec.pdb\n",
      "./alfpdb/alf0/apdb.pdb ./templete/6OO9_A/rec.pdb\n",
      "./alfpdb/alf0/apdb.pdb ./templete/4D75_A/rec.pdb\n",
      "./alfpdb/alf0/apdb.pdb ./templete/6BD8_A/rec.pdb\n",
      "./alfpdb/alf0/apdb.pdb ./templete/6MA8_A/rec.pdb\n",
      "./alfpdb/alf0/apdb.pdb ./templete/6BD5_A/rec.pdb\n",
      "./alfpdb/alf0/apdb.pdb ./templete/7KVP_A/rec.pdb\n",
      "./alfpdb/alf0/apdb.pdb ./templete/8EWP_A/rec.pdb\n",
      "./alfpdb/alf0/apdb.pdb ./templete/6OOA_A/rec.pdb\n"
     ]
    },
    {
     "name": "stderr",
     "output_type": "stream",
     "text": [
      "/home/Grx/.local/lib/python3.11/site-packages/jax/_src/ops/scatter.py:94: FutureWarning: scatter inputs have incompatible types: cannot safely cast value from dtype=int64 to dtype=int32 with jax_numpy_dtype_promotion='standard'. In future JAX releases this will result in an error.\n",
      "  warnings.warn(\n"
     ]
    },
    {
     "name": "stdout",
     "output_type": "stream",
     "text": [
      "0 104.01187348365784\n",
      "2829 2.1728492814735225\n"
     ]
    },
    {
     "name": "stderr",
     "output_type": "stream",
     "text": [
      "/home/Grx/.local/lib/python3.11/site-packages/jax/_src/ops/scatter.py:94: FutureWarning: scatter inputs have incompatible types: cannot safely cast value from dtype=int64 to dtype=int32 with jax_numpy_dtype_promotion='standard'. In future JAX releases this will result in an error.\n",
      "  warnings.warn(\n"
     ]
    },
    {
     "name": "stdout",
     "output_type": "stream",
     "text": [
      "2829 2.110732336660286\n",
      "./alfpdb/alf1/apdb.pdb ./templete/4LHT_A/rec.pdb\n",
      "./alfpdb/alf1/apdb.pdb ./templete/3BDZ_A/rec.pdb\n",
      "./alfpdb/alf1/apdb.pdb ./templete/4L77_A/rec.pdb\n",
      "./alfpdb/alf1/apdb.pdb ./templete/4L6G_A/rec.pdb\n",
      "./alfpdb/alf1/apdb.pdb ./templete/1T2B_A/rec.pdb\n",
      "./alfpdb/alf1/apdb.pdb ./templete/3BE0_A/rec.pdb\n",
      "./alfpdb/alf1/apdb.pdb ./templete/4FYZ_A/rec.pdb\n",
      "./alfpdb/alf1/apdb.pdb ./templete/5L92_A/rec.pdb\n",
      "./alfpdb/alf1/apdb.pdb ./templete/5L94_A/rec.pdb\n",
      "./alfpdb/alf1/apdb.pdb ./templete/4RM4_A/rec.pdb\n",
      "./alfpdb/alf1/apdb.pdb ./templete/4YZR_A/rec.pdb\n",
      "./alfpdb/alf1/apdb.pdb ./templete/5VWS_A/rec.pdb\n",
      "./alfpdb/alf1/apdb.pdb ./templete/2XKR_A/rec.pdb\n",
      "./alfpdb/alf1/apdb.pdb ./templete/7QQ7_A/rec.pdb\n",
      "./alfpdb/alf1/apdb.pdb ./templete/7P5T_A/rec.pdb\n",
      "./alfpdb/alf1/apdb.pdb ./templete/6GMF_A/rec.pdb\n",
      "./alfpdb/alf1/apdb.pdb ./templete/7QJL_A/rec.pdb\n",
      "./alfpdb/alf1/apdb.pdb ./templete/6B11_A/rec.pdb\n",
      "./alfpdb/alf1/apdb.pdb ./templete/5FOI_A/rec.pdb\n",
      "./alfpdb/alf1/apdb.pdb ./templete/7SMZ_A/rec.pdb\n",
      "2829 2.1728492814735225\n"
     ]
    },
    {
     "name": "stderr",
     "output_type": "stream",
     "text": [
      "/home/Grx/.local/lib/python3.11/site-packages/jax/_src/ops/scatter.py:94: FutureWarning: scatter inputs have incompatible types: cannot safely cast value from dtype=int64 to dtype=int32 with jax_numpy_dtype_promotion='standard'. In future JAX releases this will result in an error.\n",
      "  warnings.warn(\n"
     ]
    },
    {
     "name": "stdout",
     "output_type": "stream",
     "text": [
      "2829 2.1107323366602913\n",
      "./alfpdb/alf1/apdb.pdb ./templete/4LHT_A/rec.pdb\n",
      "./alfpdb/alf1/apdb.pdb ./templete/3BDZ_A/rec.pdb\n",
      "./alfpdb/alf1/apdb.pdb ./templete/4L77_A/rec.pdb\n",
      "./alfpdb/alf1/apdb.pdb ./templete/4L6G_A/rec.pdb\n",
      "./alfpdb/alf1/apdb.pdb ./templete/1T2B_A/rec.pdb\n",
      "./alfpdb/alf1/apdb.pdb ./templete/3BE0_A/rec.pdb\n",
      "./alfpdb/alf1/apdb.pdb ./templete/4FYZ_A/rec.pdb\n",
      "./alfpdb/alf1/apdb.pdb ./templete/5L92_A/rec.pdb\n",
      "./alfpdb/alf1/apdb.pdb ./templete/5L94_A/rec.pdb\n",
      "./alfpdb/alf1/apdb.pdb ./templete/4RM4_A/rec.pdb\n",
      "./alfpdb/alf1/apdb.pdb ./templete/4YZR_A/rec.pdb\n",
      "./alfpdb/alf1/apdb.pdb ./templete/5VWS_A/rec.pdb\n",
      "./alfpdb/alf1/apdb.pdb ./templete/2XKR_A/rec.pdb\n",
      "./alfpdb/alf1/apdb.pdb ./templete/7QQ7_A/rec.pdb\n",
      "./alfpdb/alf1/apdb.pdb ./templete/7P5T_A/rec.pdb\n",
      "./alfpdb/alf1/apdb.pdb ./templete/6GMF_A/rec.pdb\n",
      "./alfpdb/alf1/apdb.pdb ./templete/7QJL_A/rec.pdb\n",
      "./alfpdb/alf1/apdb.pdb ./templete/6B11_A/rec.pdb\n",
      "./alfpdb/alf1/apdb.pdb ./templete/5FOI_A/rec.pdb\n",
      "./alfpdb/alf1/apdb.pdb ./templete/7SMZ_A/rec.pdb\n",
      "2829 2.1728492814735225\n"
     ]
    },
    {
     "name": "stderr",
     "output_type": "stream",
     "text": [
      "/home/Grx/.local/lib/python3.11/site-packages/jax/_src/ops/scatter.py:94: FutureWarning: scatter inputs have incompatible types: cannot safely cast value from dtype=int64 to dtype=int32 with jax_numpy_dtype_promotion='standard'. In future JAX releases this will result in an error.\n",
      "  warnings.warn(\n"
     ]
    },
    {
     "name": "stdout",
     "output_type": "stream",
     "text": [
      "2829 2.1107323366602895\n",
      "./alfpdb/alf1/apdb.pdb ./templete/4LHT_A/rec.pdb\n",
      "./alfpdb/alf1/apdb.pdb ./templete/3BDZ_A/rec.pdb\n",
      "./alfpdb/alf1/apdb.pdb ./templete/4L77_A/rec.pdb\n",
      "./alfpdb/alf1/apdb.pdb ./templete/4L6G_A/rec.pdb\n",
      "./alfpdb/alf1/apdb.pdb ./templete/1T2B_A/rec.pdb\n",
      "./alfpdb/alf1/apdb.pdb ./templete/3BE0_A/rec.pdb\n",
      "./alfpdb/alf1/apdb.pdb ./templete/4FYZ_A/rec.pdb\n",
      "./alfpdb/alf1/apdb.pdb ./templete/5L92_A/rec.pdb\n",
      "./alfpdb/alf1/apdb.pdb ./templete/5L94_A/rec.pdb\n",
      "./alfpdb/alf1/apdb.pdb ./templete/4RM4_A/rec.pdb\n",
      "./alfpdb/alf1/apdb.pdb ./templete/4YZR_A/rec.pdb\n",
      "./alfpdb/alf1/apdb.pdb ./templete/5VWS_A/rec.pdb\n",
      "./alfpdb/alf1/apdb.pdb ./templete/2XKR_A/rec.pdb\n",
      "./alfpdb/alf1/apdb.pdb ./templete/7QQ7_A/rec.pdb\n",
      "./alfpdb/alf1/apdb.pdb ./templete/7P5T_A/rec.pdb\n",
      "./alfpdb/alf1/apdb.pdb ./templete/6GMF_A/rec.pdb\n",
      "./alfpdb/alf1/apdb.pdb ./templete/7QJL_A/rec.pdb\n",
      "./alfpdb/alf1/apdb.pdb ./templete/6B11_A/rec.pdb\n",
      "./alfpdb/alf1/apdb.pdb ./templete/5FOI_A/rec.pdb\n",
      "./alfpdb/alf1/apdb.pdb ./templete/7SMZ_A/rec.pdb\n",
      "2829 2.1728492814735225\n"
     ]
    },
    {
     "name": "stderr",
     "output_type": "stream",
     "text": [
      "/home/Grx/.local/lib/python3.11/site-packages/jax/_src/ops/scatter.py:94: FutureWarning: scatter inputs have incompatible types: cannot safely cast value from dtype=int64 to dtype=int32 with jax_numpy_dtype_promotion='standard'. In future JAX releases this will result in an error.\n",
      "  warnings.warn(\n"
     ]
    },
    {
     "name": "stdout",
     "output_type": "stream",
     "text": [
      "2829 2.110732336660292\n",
      "1 81.58657217025757\n",
      "2707 2.7608589243204715\n"
     ]
    },
    {
     "name": "stderr",
     "output_type": "stream",
     "text": [
      "/home/Grx/.local/lib/python3.11/site-packages/jax/_src/ops/scatter.py:94: FutureWarning: scatter inputs have incompatible types: cannot safely cast value from dtype=int64 to dtype=int32 with jax_numpy_dtype_promotion='standard'. In future JAX releases this will result in an error.\n",
      "  warnings.warn(\n"
     ]
    },
    {
     "name": "stdout",
     "output_type": "stream",
     "text": [
      "2707 2.7607170853464518\n",
      "./alfpdb/alf2/apdb.pdb ./templete/2RFB_A/rec.pdb\n",
      "./alfpdb/alf2/apdb.pdb ./templete/1WIY_A/rec.pdb\n",
      "./alfpdb/alf2/apdb.pdb ./templete/4R1Z_A/rec.pdb\n",
      "./alfpdb/alf2/apdb.pdb ./templete/4RM4_A/rec.pdb\n",
      "./alfpdb/alf2/apdb.pdb ./templete/2Q9G_A/rec.pdb\n",
      "./alfpdb/alf2/apdb.pdb ./templete/4R20_A/rec.pdb\n",
      "./alfpdb/alf2/apdb.pdb ./templete/3MDV_A/rec.pdb\n",
      "./alfpdb/alf2/apdb.pdb ./templete/3MDT_A/rec.pdb\n",
      "./alfpdb/alf2/apdb.pdb ./templete/4ENH_A/rec.pdb\n",
      "./alfpdb/alf2/apdb.pdb ./templete/4FIA_A/rec.pdb\n",
      "./alfpdb/alf2/apdb.pdb ./templete/4TX3_A/rec.pdb\n",
      "./alfpdb/alf2/apdb.pdb ./templete/6M7L_A/rec.pdb\n",
      "./alfpdb/alf2/apdb.pdb ./templete/3MDR_A/rec.pdb\n",
      "./alfpdb/alf2/apdb.pdb ./templete/6F0B_A/rec.pdb\n",
      "./alfpdb/alf2/apdb.pdb ./templete/6F0C_A/rec.pdb\n",
      "./alfpdb/alf2/apdb.pdb ./templete/3B4X_A/rec.pdb\n",
      "./alfpdb/alf2/apdb.pdb ./templete/7LS3_A/rec.pdb\n",
      "./alfpdb/alf2/apdb.pdb ./templete/1LFK_A/rec.pdb\n",
      "./alfpdb/alf2/apdb.pdb ./templete/4Z5Q_A/rec.pdb\n",
      "./alfpdb/alf2/apdb.pdb ./templete/1UE8_A/rec.pdb\n",
      "2707 2.7608589243204715\n"
     ]
    },
    {
     "name": "stderr",
     "output_type": "stream",
     "text": [
      "/home/Grx/.local/lib/python3.11/site-packages/jax/_src/ops/scatter.py:94: FutureWarning: scatter inputs have incompatible types: cannot safely cast value from dtype=int64 to dtype=int32 with jax_numpy_dtype_promotion='standard'. In future JAX releases this will result in an error.\n",
      "  warnings.warn(\n"
     ]
    },
    {
     "name": "stdout",
     "output_type": "stream",
     "text": [
      "2707 2.7607187783597804\n",
      "./alfpdb/alf2/apdb.pdb ./templete/2RFB_A/rec.pdb\n",
      "./alfpdb/alf2/apdb.pdb ./templete/1WIY_A/rec.pdb\n",
      "./alfpdb/alf2/apdb.pdb ./templete/4R1Z_A/rec.pdb\n",
      "./alfpdb/alf2/apdb.pdb ./templete/4RM4_A/rec.pdb\n",
      "./alfpdb/alf2/apdb.pdb ./templete/2Q9G_A/rec.pdb\n",
      "./alfpdb/alf2/apdb.pdb ./templete/4R20_A/rec.pdb\n",
      "./alfpdb/alf2/apdb.pdb ./templete/3MDV_A/rec.pdb\n",
      "./alfpdb/alf2/apdb.pdb ./templete/3MDT_A/rec.pdb\n",
      "./alfpdb/alf2/apdb.pdb ./templete/4ENH_A/rec.pdb\n",
      "./alfpdb/alf2/apdb.pdb ./templete/4FIA_A/rec.pdb\n",
      "./alfpdb/alf2/apdb.pdb ./templete/4TX3_A/rec.pdb\n",
      "./alfpdb/alf2/apdb.pdb ./templete/6M7L_A/rec.pdb\n",
      "./alfpdb/alf2/apdb.pdb ./templete/3MDR_A/rec.pdb\n",
      "./alfpdb/alf2/apdb.pdb ./templete/6F0B_A/rec.pdb\n",
      "./alfpdb/alf2/apdb.pdb ./templete/6F0C_A/rec.pdb\n",
      "./alfpdb/alf2/apdb.pdb ./templete/3B4X_A/rec.pdb\n",
      "./alfpdb/alf2/apdb.pdb ./templete/7LS3_A/rec.pdb\n",
      "./alfpdb/alf2/apdb.pdb ./templete/1LFK_A/rec.pdb\n",
      "./alfpdb/alf2/apdb.pdb ./templete/4Z5Q_A/rec.pdb\n",
      "./alfpdb/alf2/apdb.pdb ./templete/1UE8_A/rec.pdb\n",
      "2707 2.7608589243204715\n"
     ]
    },
    {
     "name": "stderr",
     "output_type": "stream",
     "text": [
      "/home/Grx/.local/lib/python3.11/site-packages/jax/_src/ops/scatter.py:94: FutureWarning: scatter inputs have incompatible types: cannot safely cast value from dtype=int64 to dtype=int32 with jax_numpy_dtype_promotion='standard'. In future JAX releases this will result in an error.\n",
      "  warnings.warn(\n"
     ]
    },
    {
     "name": "stdout",
     "output_type": "stream",
     "text": [
      "2707 2.760717960027391\n",
      "./alfpdb/alf2/apdb.pdb ./templete/2RFB_A/rec.pdb\n",
      "./alfpdb/alf2/apdb.pdb ./templete/1WIY_A/rec.pdb\n",
      "./alfpdb/alf2/apdb.pdb ./templete/4R1Z_A/rec.pdb\n",
      "./alfpdb/alf2/apdb.pdb ./templete/4RM4_A/rec.pdb\n",
      "./alfpdb/alf2/apdb.pdb ./templete/2Q9G_A/rec.pdb\n",
      "./alfpdb/alf2/apdb.pdb ./templete/4R20_A/rec.pdb\n",
      "./alfpdb/alf2/apdb.pdb ./templete/3MDV_A/rec.pdb\n",
      "./alfpdb/alf2/apdb.pdb ./templete/3MDT_A/rec.pdb\n",
      "./alfpdb/alf2/apdb.pdb ./templete/4ENH_A/rec.pdb\n",
      "./alfpdb/alf2/apdb.pdb ./templete/4FIA_A/rec.pdb\n",
      "./alfpdb/alf2/apdb.pdb ./templete/4TX3_A/rec.pdb\n",
      "./alfpdb/alf2/apdb.pdb ./templete/6M7L_A/rec.pdb\n",
      "./alfpdb/alf2/apdb.pdb ./templete/3MDR_A/rec.pdb\n",
      "./alfpdb/alf2/apdb.pdb ./templete/6F0B_A/rec.pdb\n",
      "./alfpdb/alf2/apdb.pdb ./templete/6F0C_A/rec.pdb\n",
      "./alfpdb/alf2/apdb.pdb ./templete/3B4X_A/rec.pdb\n",
      "./alfpdb/alf2/apdb.pdb ./templete/7LS3_A/rec.pdb\n",
      "./alfpdb/alf2/apdb.pdb ./templete/1LFK_A/rec.pdb\n",
      "./alfpdb/alf2/apdb.pdb ./templete/4Z5Q_A/rec.pdb\n",
      "./alfpdb/alf2/apdb.pdb ./templete/1UE8_A/rec.pdb\n",
      "2707 2.7608589243204715\n"
     ]
    },
    {
     "name": "stderr",
     "output_type": "stream",
     "text": [
      "/home/Grx/.local/lib/python3.11/site-packages/jax/_src/ops/scatter.py:94: FutureWarning: scatter inputs have incompatible types: cannot safely cast value from dtype=int64 to dtype=int32 with jax_numpy_dtype_promotion='standard'. In future JAX releases this will result in an error.\n",
      "  warnings.warn(\n"
     ]
    },
    {
     "name": "stdout",
     "output_type": "stream",
     "text": [
      "2707 2.760718850307008\n",
      "2 98.31008124351501\n",
      "C C -0.516528456673075 1.023471543326925\n",
      "C O -0.282873465904222 1.217126534095778\n",
      "C N -0.28276396754701594 1.237236032452984\n",
      "C O -0.2061309958113997 1.2938690041886003\n",
      "C N -0.04878791467715349 1.4712120853228465\n",
      "C C -0.6009094825311043 0.9390905174688957\n",
      "C C -0.14115726402143425 1.3988427359785658\n",
      "C N -0.020808884764853763 1.4991911152351463\n",
      "C C -0.12455766631063492 1.4154423336893651\n",
      "C C -0.4078599909905134 1.1321400090094866\n"
     ]
    },
    {
     "name": "stderr",
     "output_type": "stream",
     "text": [
      "/home/Grx/.local/lib/python3.11/site-packages/jax/_src/ops/scatter.py:94: FutureWarning: scatter inputs have incompatible types: cannot safely cast value from dtype=int64 to dtype=int32 with jax_numpy_dtype_promotion='standard'. In future JAX releases this will result in an error.\n",
      "  warnings.warn(\n"
     ]
    },
    {
     "name": "stdout",
     "output_type": "stream",
     "text": [
      "./alfpdb/alf5/apdb.pdb ./templete/1WIY_A/rec.pdb\n",
      "./alfpdb/alf5/apdb.pdb ./templete/1N97_A/rec.pdb\n",
      "./alfpdb/alf5/apdb.pdb ./templete/2Q9G_A/rec.pdb\n",
      "./alfpdb/alf5/apdb.pdb ./templete/3MDV_A/rec.pdb\n",
      "./alfpdb/alf5/apdb.pdb ./templete/7LS4_A/rec.pdb\n",
      "./alfpdb/alf5/apdb.pdb ./templete/3MDR_A/rec.pdb\n",
      "./alfpdb/alf5/apdb.pdb ./templete/7LRL_A/rec.pdb\n",
      "./alfpdb/alf5/apdb.pdb ./templete/7LS3_A/rec.pdb\n",
      "./alfpdb/alf5/apdb.pdb ./templete/4ENH_A/rec.pdb\n",
      "./alfpdb/alf5/apdb.pdb ./templete/2Q9F_A/rec.pdb\n",
      "./alfpdb/alf5/apdb.pdb ./templete/3MDT_A/rec.pdb\n",
      "./alfpdb/alf5/apdb.pdb ./templete/4FIA_A/rec.pdb\n",
      "./alfpdb/alf5/apdb.pdb ./templete/7N3L_A/rec.pdb\n",
      "./alfpdb/alf5/apdb.pdb ./templete/7N6F_A/rec.pdb\n",
      "./alfpdb/alf5/apdb.pdb ./templete/3MDM_A/rec.pdb\n",
      "./alfpdb/alf5/apdb.pdb ./templete/4J14_A/rec.pdb\n",
      "./alfpdb/alf5/apdb.pdb ./templete/3DBG_A/rec.pdb\n",
      "./alfpdb/alf5/apdb.pdb ./templete/6A15_A/rec.pdb\n",
      "./alfpdb/alf5/apdb.pdb ./templete/4KEW_A/rec.pdb\n",
      "./alfpdb/alf5/apdb.pdb ./templete/6A18_A/rec.pdb\n"
     ]
    },
    {
     "name": "stderr",
     "output_type": "stream",
     "text": [
      "/home/Grx/.local/lib/python3.11/site-packages/jax/_src/ops/scatter.py:94: FutureWarning: scatter inputs have incompatible types: cannot safely cast value from dtype=int64 to dtype=int32 with jax_numpy_dtype_promotion='standard'. In future JAX releases this will result in an error.\n",
      "  warnings.warn(\n"
     ]
    },
    {
     "name": "stdout",
     "output_type": "stream",
     "text": [
      "./alfpdb/alf5/apdb.pdb ./templete/1WIY_A/rec.pdb\n",
      "./alfpdb/alf5/apdb.pdb ./templete/1N97_A/rec.pdb\n",
      "./alfpdb/alf5/apdb.pdb ./templete/2Q9G_A/rec.pdb\n",
      "./alfpdb/alf5/apdb.pdb ./templete/3MDV_A/rec.pdb\n",
      "./alfpdb/alf5/apdb.pdb ./templete/7LS4_A/rec.pdb\n",
      "./alfpdb/alf5/apdb.pdb ./templete/3MDR_A/rec.pdb\n",
      "./alfpdb/alf5/apdb.pdb ./templete/7LRL_A/rec.pdb\n",
      "./alfpdb/alf5/apdb.pdb ./templete/7LS3_A/rec.pdb\n",
      "./alfpdb/alf5/apdb.pdb ./templete/4ENH_A/rec.pdb\n",
      "./alfpdb/alf5/apdb.pdb ./templete/2Q9F_A/rec.pdb\n",
      "./alfpdb/alf5/apdb.pdb ./templete/3MDT_A/rec.pdb\n",
      "./alfpdb/alf5/apdb.pdb ./templete/4FIA_A/rec.pdb\n",
      "./alfpdb/alf5/apdb.pdb ./templete/7N3L_A/rec.pdb\n",
      "./alfpdb/alf5/apdb.pdb ./templete/7N6F_A/rec.pdb\n",
      "./alfpdb/alf5/apdb.pdb ./templete/3MDM_A/rec.pdb\n",
      "./alfpdb/alf5/apdb.pdb ./templete/4J14_A/rec.pdb\n",
      "./alfpdb/alf5/apdb.pdb ./templete/3DBG_A/rec.pdb\n",
      "./alfpdb/alf5/apdb.pdb ./templete/6A15_A/rec.pdb\n",
      "./alfpdb/alf5/apdb.pdb ./templete/4KEW_A/rec.pdb\n",
      "./alfpdb/alf5/apdb.pdb ./templete/6A18_A/rec.pdb\n"
     ]
    },
    {
     "name": "stderr",
     "output_type": "stream",
     "text": [
      "/home/Grx/.local/lib/python3.11/site-packages/jax/_src/ops/scatter.py:94: FutureWarning: scatter inputs have incompatible types: cannot safely cast value from dtype=int64 to dtype=int32 with jax_numpy_dtype_promotion='standard'. In future JAX releases this will result in an error.\n",
      "  warnings.warn(\n"
     ]
    },
    {
     "name": "stdout",
     "output_type": "stream",
     "text": [
      "./alfpdb/alf5/apdb.pdb ./templete/1WIY_A/rec.pdb\n",
      "./alfpdb/alf5/apdb.pdb ./templete/1N97_A/rec.pdb\n",
      "./alfpdb/alf5/apdb.pdb ./templete/2Q9G_A/rec.pdb\n",
      "./alfpdb/alf5/apdb.pdb ./templete/3MDV_A/rec.pdb\n",
      "./alfpdb/alf5/apdb.pdb ./templete/7LS4_A/rec.pdb\n",
      "./alfpdb/alf5/apdb.pdb ./templete/3MDR_A/rec.pdb\n",
      "./alfpdb/alf5/apdb.pdb ./templete/7LRL_A/rec.pdb\n",
      "./alfpdb/alf5/apdb.pdb ./templete/7LS3_A/rec.pdb\n",
      "./alfpdb/alf5/apdb.pdb ./templete/4ENH_A/rec.pdb\n",
      "./alfpdb/alf5/apdb.pdb ./templete/2Q9F_A/rec.pdb\n",
      "./alfpdb/alf5/apdb.pdb ./templete/3MDT_A/rec.pdb\n",
      "./alfpdb/alf5/apdb.pdb ./templete/4FIA_A/rec.pdb\n",
      "./alfpdb/alf5/apdb.pdb ./templete/7N3L_A/rec.pdb\n",
      "./alfpdb/alf5/apdb.pdb ./templete/7N6F_A/rec.pdb\n",
      "./alfpdb/alf5/apdb.pdb ./templete/3MDM_A/rec.pdb\n",
      "./alfpdb/alf5/apdb.pdb ./templete/4J14_A/rec.pdb\n",
      "./alfpdb/alf5/apdb.pdb ./templete/3DBG_A/rec.pdb\n",
      "./alfpdb/alf5/apdb.pdb ./templete/6A15_A/rec.pdb\n",
      "./alfpdb/alf5/apdb.pdb ./templete/4KEW_A/rec.pdb\n",
      "./alfpdb/alf5/apdb.pdb ./templete/6A18_A/rec.pdb\n",
      "3692 3.431788017928848\n"
     ]
    },
    {
     "name": "stderr",
     "output_type": "stream",
     "text": [
      "/home/Grx/.local/lib/python3.11/site-packages/jax/_src/ops/scatter.py:94: FutureWarning: scatter inputs have incompatible types: cannot safely cast value from dtype=int64 to dtype=int32 with jax_numpy_dtype_promotion='standard'. In future JAX releases this will result in an error.\n",
      "  warnings.warn(\n"
     ]
    },
    {
     "name": "stdout",
     "output_type": "stream",
     "text": [
      "3692 3.426917813025373\n",
      "5 117.252277135849\n",
      "3738 2.1581524505928655\n"
     ]
    },
    {
     "name": "stderr",
     "output_type": "stream",
     "text": [
      "/home/Grx/.local/lib/python3.11/site-packages/jax/_src/ops/scatter.py:94: FutureWarning: scatter inputs have incompatible types: cannot safely cast value from dtype=int64 to dtype=int32 with jax_numpy_dtype_promotion='standard'. In future JAX releases this will result in an error.\n",
      "  warnings.warn(\n"
     ]
    },
    {
     "name": "stdout",
     "output_type": "stream",
     "text": [
      "3738 2.1580458079416602\n",
      "./alfpdb/alf6/apdb.pdb ./templete/7LS4_A/rec.pdb\n",
      "./alfpdb/alf6/apdb.pdb ./templete/3PSX_A/rec.pdb\n",
      "./alfpdb/alf6/apdb.pdb ./templete/2X7Y_A/rec.pdb\n",
      "./alfpdb/alf6/apdb.pdb ./templete/2Q9G_A/rec.pdb\n",
      "./alfpdb/alf6/apdb.pdb ./templete/7LS3_A/rec.pdb\n",
      "./alfpdb/alf6/apdb.pdb ./templete/7KVJ_A/rec.pdb\n",
      "./alfpdb/alf6/apdb.pdb ./templete/5DYP_A/rec.pdb\n",
      "./alfpdb/alf6/apdb.pdb ./templete/7N6F_A/rec.pdb\n",
      "./alfpdb/alf6/apdb.pdb ./templete/7LRL_A/rec.pdb\n",
      "./alfpdb/alf6/apdb.pdb ./templete/7N3L_A/rec.pdb\n",
      "./alfpdb/alf6/apdb.pdb ./templete/7UFA_A/rec.pdb\n",
      "./alfpdb/alf6/apdb.pdb ./templete/6UNL_A/rec.pdb\n",
      "./alfpdb/alf6/apdb.pdb ./templete/6UNM_A/rec.pdb\n",
      "./alfpdb/alf6/apdb.pdb ./templete/7UAZ_A/rec.pdb\n",
      "./alfpdb/alf6/apdb.pdb ./templete/7UAY_A/rec.pdb\n",
      "./alfpdb/alf6/apdb.pdb ./templete/8EWD_A/rec.pdb\n",
      "./alfpdb/alf6/apdb.pdb ./templete/3HF2_A/rec.pdb\n",
      "./alfpdb/alf6/apdb.pdb ./templete/3EKF_A/rec.pdb\n",
      "./alfpdb/alf6/apdb.pdb ./templete/1YQO_A/rec.pdb\n",
      "./alfpdb/alf6/apdb.pdb ./templete/1P0X_A/rec.pdb\n",
      "3738 2.1581524505928655\n"
     ]
    },
    {
     "name": "stderr",
     "output_type": "stream",
     "text": [
      "/home/Grx/.local/lib/python3.11/site-packages/jax/_src/ops/scatter.py:94: FutureWarning: scatter inputs have incompatible types: cannot safely cast value from dtype=int64 to dtype=int32 with jax_numpy_dtype_promotion='standard'. In future JAX releases this will result in an error.\n",
      "  warnings.warn(\n"
     ]
    },
    {
     "name": "stdout",
     "output_type": "stream",
     "text": [
      "3738 2.168130438052483\n",
      "./alfpdb/alf6/apdb.pdb ./templete/7LS4_A/rec.pdb\n",
      "./alfpdb/alf6/apdb.pdb ./templete/3PSX_A/rec.pdb\n",
      "./alfpdb/alf6/apdb.pdb ./templete/2X7Y_A/rec.pdb\n",
      "./alfpdb/alf6/apdb.pdb ./templete/2Q9G_A/rec.pdb\n",
      "./alfpdb/alf6/apdb.pdb ./templete/7LS3_A/rec.pdb\n",
      "./alfpdb/alf6/apdb.pdb ./templete/7KVJ_A/rec.pdb\n",
      "./alfpdb/alf6/apdb.pdb ./templete/5DYP_A/rec.pdb\n",
      "./alfpdb/alf6/apdb.pdb ./templete/7N6F_A/rec.pdb\n",
      "./alfpdb/alf6/apdb.pdb ./templete/7LRL_A/rec.pdb\n",
      "./alfpdb/alf6/apdb.pdb ./templete/7N3L_A/rec.pdb\n",
      "./alfpdb/alf6/apdb.pdb ./templete/7UFA_A/rec.pdb\n",
      "./alfpdb/alf6/apdb.pdb ./templete/6UNL_A/rec.pdb\n",
      "./alfpdb/alf6/apdb.pdb ./templete/6UNM_A/rec.pdb\n",
      "./alfpdb/alf6/apdb.pdb ./templete/7UAZ_A/rec.pdb\n",
      "./alfpdb/alf6/apdb.pdb ./templete/7UAY_A/rec.pdb\n",
      "./alfpdb/alf6/apdb.pdb ./templete/8EWD_A/rec.pdb\n",
      "./alfpdb/alf6/apdb.pdb ./templete/3HF2_A/rec.pdb\n",
      "./alfpdb/alf6/apdb.pdb ./templete/3EKF_A/rec.pdb\n",
      "./alfpdb/alf6/apdb.pdb ./templete/1YQO_A/rec.pdb\n",
      "./alfpdb/alf6/apdb.pdb ./templete/1P0X_A/rec.pdb\n",
      "3738 1.3699383197793986\n",
      "FE S -0.4100616802206014 1.3699383197793986\n"
     ]
    },
    {
     "name": "stderr",
     "output_type": "stream",
     "text": [
      "/home/Grx/.local/lib/python3.11/site-packages/jax/_src/ops/scatter.py:94: FutureWarning: scatter inputs have incompatible types: cannot safely cast value from dtype=int64 to dtype=int32 with jax_numpy_dtype_promotion='standard'. In future JAX releases this will result in an error.\n",
      "  warnings.warn(\n"
     ]
    },
    {
     "name": "stdout",
     "output_type": "stream",
     "text": [
      "3738 1.9139860851828245\n",
      "./alfpdb/alf6/apdb.pdb ./templete/7LS4_A/rec.pdb\n",
      "./alfpdb/alf6/apdb.pdb ./templete/3PSX_A/rec.pdb\n",
      "./alfpdb/alf6/apdb.pdb ./templete/2X7Y_A/rec.pdb\n",
      "./alfpdb/alf6/apdb.pdb ./templete/2Q9G_A/rec.pdb\n",
      "./alfpdb/alf6/apdb.pdb ./templete/7LS3_A/rec.pdb\n",
      "./alfpdb/alf6/apdb.pdb ./templete/7KVJ_A/rec.pdb\n",
      "./alfpdb/alf6/apdb.pdb ./templete/5DYP_A/rec.pdb\n",
      "./alfpdb/alf6/apdb.pdb ./templete/7N6F_A/rec.pdb\n",
      "./alfpdb/alf6/apdb.pdb ./templete/7LRL_A/rec.pdb\n",
      "./alfpdb/alf6/apdb.pdb ./templete/7N3L_A/rec.pdb\n",
      "./alfpdb/alf6/apdb.pdb ./templete/7UFA_A/rec.pdb\n",
      "./alfpdb/alf6/apdb.pdb ./templete/6UNL_A/rec.pdb\n",
      "./alfpdb/alf6/apdb.pdb ./templete/6UNM_A/rec.pdb\n",
      "./alfpdb/alf6/apdb.pdb ./templete/7UAZ_A/rec.pdb\n",
      "./alfpdb/alf6/apdb.pdb ./templete/7UAY_A/rec.pdb\n",
      "./alfpdb/alf6/apdb.pdb ./templete/8EWD_A/rec.pdb\n",
      "./alfpdb/alf6/apdb.pdb ./templete/3HF2_A/rec.pdb\n",
      "./alfpdb/alf6/apdb.pdb ./templete/3EKF_A/rec.pdb\n",
      "./alfpdb/alf6/apdb.pdb ./templete/1YQO_A/rec.pdb\n",
      "./alfpdb/alf6/apdb.pdb ./templete/1P0X_A/rec.pdb\n",
      "3738 1.2064240547999694\n",
      "FE S -0.5735759452000306 1.2064240547999694\n"
     ]
    },
    {
     "name": "stderr",
     "output_type": "stream",
     "text": [
      "/home/Grx/.local/lib/python3.11/site-packages/jax/_src/ops/scatter.py:94: FutureWarning: scatter inputs have incompatible types: cannot safely cast value from dtype=int64 to dtype=int32 with jax_numpy_dtype_promotion='standard'. In future JAX releases this will result in an error.\n",
      "  warnings.warn(\n"
     ]
    },
    {
     "name": "stdout",
     "output_type": "stream",
     "text": [
      "3738 1.9503798968817296\n",
      "6 136.0502917766571\n",
      "2592 2.2667092888149547\n"
     ]
    },
    {
     "name": "stderr",
     "output_type": "stream",
     "text": [
      "/home/Grx/.local/lib/python3.11/site-packages/jax/_src/ops/scatter.py:94: FutureWarning: scatter inputs have incompatible types: cannot safely cast value from dtype=int64 to dtype=int32 with jax_numpy_dtype_promotion='standard'. In future JAX releases this will result in an error.\n",
      "  warnings.warn(\n"
     ]
    },
    {
     "name": "stdout",
     "output_type": "stream",
     "text": [
      "2592 2.1898627547506466\n",
      "./alfpdb/alf8/apdb.pdb ./templete/2RFB_A/rec.pdb\n",
      "./alfpdb/alf8/apdb.pdb ./templete/4RM4_A/rec.pdb\n",
      "./alfpdb/alf8/apdb.pdb ./templete/5VWS_A/rec.pdb\n",
      "./alfpdb/alf8/apdb.pdb ./templete/4TVF_A/rec.pdb\n",
      "./alfpdb/alf8/apdb.pdb ./templete/3BUJ_A/rec.pdb\n",
      "./alfpdb/alf8/apdb.pdb ./templete/4TX3_A/rec.pdb\n",
      "./alfpdb/alf8/apdb.pdb ./templete/4WPZ_A/rec.pdb\n",
      "./alfpdb/alf8/apdb.pdb ./templete/5L90_A/rec.pdb\n",
      "./alfpdb/alf8/apdb.pdb ./templete/5YSM_A/rec.pdb\n",
      "./alfpdb/alf8/apdb.pdb ./templete/3OO3_A/rec.pdb\n",
      "./alfpdb/alf8/apdb.pdb ./templete/4AW3_A/rec.pdb\n",
      "./alfpdb/alf8/apdb.pdb ./templete/4WQ0_A/rec.pdb\n",
      "./alfpdb/alf8/apdb.pdb ./templete/6M4S_A/rec.pdb\n",
      "./alfpdb/alf8/apdb.pdb ./templete/5YSW_A/rec.pdb\n",
      "./alfpdb/alf8/apdb.pdb ./templete/3ZSN_A/rec.pdb\n",
      "./alfpdb/alf8/apdb.pdb ./templete/2YCA_A/rec.pdb\n",
      "./alfpdb/alf8/apdb.pdb ./templete/2Y98_A/rec.pdb\n",
      "./alfpdb/alf8/apdb.pdb ./templete/5L91_A/rec.pdb\n",
      "./alfpdb/alf8/apdb.pdb ./templete/2Y5Z_A/rec.pdb\n",
      "./alfpdb/alf8/apdb.pdb ./templete/2Y46_A/rec.pdb\n",
      "2592 2.2667092888149547\n"
     ]
    },
    {
     "name": "stderr",
     "output_type": "stream",
     "text": [
      "/home/Grx/.local/lib/python3.11/site-packages/jax/_src/ops/scatter.py:94: FutureWarning: scatter inputs have incompatible types: cannot safely cast value from dtype=int64 to dtype=int32 with jax_numpy_dtype_promotion='standard'. In future JAX releases this will result in an error.\n",
      "  warnings.warn(\n"
     ]
    },
    {
     "name": "stdout",
     "output_type": "stream",
     "text": [
      "2592 2.189862754750659\n",
      "./alfpdb/alf8/apdb.pdb ./templete/2RFB_A/rec.pdb\n",
      "./alfpdb/alf8/apdb.pdb ./templete/4RM4_A/rec.pdb\n",
      "./alfpdb/alf8/apdb.pdb ./templete/5VWS_A/rec.pdb\n",
      "./alfpdb/alf8/apdb.pdb ./templete/4TVF_A/rec.pdb\n",
      "./alfpdb/alf8/apdb.pdb ./templete/3BUJ_A/rec.pdb\n",
      "./alfpdb/alf8/apdb.pdb ./templete/4TX3_A/rec.pdb\n",
      "./alfpdb/alf8/apdb.pdb ./templete/4WPZ_A/rec.pdb\n",
      "./alfpdb/alf8/apdb.pdb ./templete/5L90_A/rec.pdb\n",
      "./alfpdb/alf8/apdb.pdb ./templete/5YSM_A/rec.pdb\n",
      "./alfpdb/alf8/apdb.pdb ./templete/3OO3_A/rec.pdb\n",
      "./alfpdb/alf8/apdb.pdb ./templete/4AW3_A/rec.pdb\n",
      "./alfpdb/alf8/apdb.pdb ./templete/4WQ0_A/rec.pdb\n",
      "./alfpdb/alf8/apdb.pdb ./templete/6M4S_A/rec.pdb\n",
      "./alfpdb/alf8/apdb.pdb ./templete/5YSW_A/rec.pdb\n",
      "./alfpdb/alf8/apdb.pdb ./templete/3ZSN_A/rec.pdb\n",
      "./alfpdb/alf8/apdb.pdb ./templete/2YCA_A/rec.pdb\n",
      "./alfpdb/alf8/apdb.pdb ./templete/2Y98_A/rec.pdb\n",
      "./alfpdb/alf8/apdb.pdb ./templete/5L91_A/rec.pdb\n",
      "./alfpdb/alf8/apdb.pdb ./templete/2Y5Z_A/rec.pdb\n",
      "./alfpdb/alf8/apdb.pdb ./templete/2Y46_A/rec.pdb\n",
      "2592 2.2667092888149547\n"
     ]
    },
    {
     "name": "stderr",
     "output_type": "stream",
     "text": [
      "/home/Grx/.local/lib/python3.11/site-packages/jax/_src/ops/scatter.py:94: FutureWarning: scatter inputs have incompatible types: cannot safely cast value from dtype=int64 to dtype=int32 with jax_numpy_dtype_promotion='standard'. In future JAX releases this will result in an error.\n",
      "  warnings.warn(\n"
     ]
    },
    {
     "name": "stdout",
     "output_type": "stream",
     "text": [
      "2592 2.189862754750659\n",
      "./alfpdb/alf8/apdb.pdb ./templete/2RFB_A/rec.pdb\n",
      "./alfpdb/alf8/apdb.pdb ./templete/4RM4_A/rec.pdb\n",
      "./alfpdb/alf8/apdb.pdb ./templete/5VWS_A/rec.pdb\n",
      "./alfpdb/alf8/apdb.pdb ./templete/4TVF_A/rec.pdb\n",
      "./alfpdb/alf8/apdb.pdb ./templete/3BUJ_A/rec.pdb\n",
      "./alfpdb/alf8/apdb.pdb ./templete/4TX3_A/rec.pdb\n",
      "./alfpdb/alf8/apdb.pdb ./templete/4WPZ_A/rec.pdb\n",
      "./alfpdb/alf8/apdb.pdb ./templete/5L90_A/rec.pdb\n",
      "./alfpdb/alf8/apdb.pdb ./templete/5YSM_A/rec.pdb\n",
      "./alfpdb/alf8/apdb.pdb ./templete/3OO3_A/rec.pdb\n",
      "./alfpdb/alf8/apdb.pdb ./templete/4AW3_A/rec.pdb\n",
      "./alfpdb/alf8/apdb.pdb ./templete/4WQ0_A/rec.pdb\n",
      "./alfpdb/alf8/apdb.pdb ./templete/6M4S_A/rec.pdb\n",
      "./alfpdb/alf8/apdb.pdb ./templete/5YSW_A/rec.pdb\n",
      "./alfpdb/alf8/apdb.pdb ./templete/3ZSN_A/rec.pdb\n",
      "./alfpdb/alf8/apdb.pdb ./templete/2YCA_A/rec.pdb\n",
      "./alfpdb/alf8/apdb.pdb ./templete/2Y98_A/rec.pdb\n",
      "./alfpdb/alf8/apdb.pdb ./templete/5L91_A/rec.pdb\n",
      "./alfpdb/alf8/apdb.pdb ./templete/2Y5Z_A/rec.pdb\n",
      "./alfpdb/alf8/apdb.pdb ./templete/2Y46_A/rec.pdb\n",
      "2592 2.3104467100541406\n",
      "O C -0.07622684391087264 1.4237731560891274\n"
     ]
    },
    {
     "name": "stderr",
     "output_type": "stream",
     "text": [
      "/home/Grx/.local/lib/python3.11/site-packages/jax/_src/ops/scatter.py:94: FutureWarning: scatter inputs have incompatible types: cannot safely cast value from dtype=int64 to dtype=int32 with jax_numpy_dtype_promotion='standard'. In future JAX releases this will result in an error.\n",
      "  warnings.warn(\n"
     ]
    },
    {
     "name": "stdout",
     "output_type": "stream",
     "text": [
      "2592 2.2441830651946524\n",
      "8 82.58836126327515\n",
      "2936 2.304330488449952\n"
     ]
    },
    {
     "name": "stderr",
     "output_type": "stream",
     "text": [
      "/home/Grx/.local/lib/python3.11/site-packages/jax/_src/ops/scatter.py:94: FutureWarning: scatter inputs have incompatible types: cannot safely cast value from dtype=int64 to dtype=int32 with jax_numpy_dtype_promotion='standard'. In future JAX releases this will result in an error.\n",
      "  warnings.warn(\n"
     ]
    },
    {
     "name": "stdout",
     "output_type": "stream",
     "text": [
      "2936 2.2539714848296186\n",
      "./alfpdb/alf9/apdb.pdb ./templete/5L92_A/rec.pdb\n",
      "./alfpdb/alf9/apdb.pdb ./templete/5L94_A/rec.pdb\n",
      "./alfpdb/alf9/apdb.pdb ./templete/3R9B_A/rec.pdb\n",
      "./alfpdb/alf9/apdb.pdb ./templete/4YZR_A/rec.pdb\n",
      "./alfpdb/alf9/apdb.pdb ./templete/7WEX_A/rec.pdb\n",
      "./alfpdb/alf9/apdb.pdb ./templete/4RM4_A/rec.pdb\n",
      "./alfpdb/alf9/apdb.pdb ./templete/6B11_A/rec.pdb\n",
      "./alfpdb/alf9/apdb.pdb ./templete/5CJE_A/rec.pdb\n",
      "./alfpdb/alf9/apdb.pdb ./templete/1JIN_A/rec.pdb\n",
      "./alfpdb/alf9/apdb.pdb ./templete/1JIP_A/rec.pdb\n",
      "./alfpdb/alf9/apdb.pdb ./templete/6J84_A/rec.pdb\n",
      "./alfpdb/alf9/apdb.pdb ./templete/6J83_A/rec.pdb\n",
      "./alfpdb/alf9/apdb.pdb ./templete/1EUP_A/rec.pdb\n",
      "./alfpdb/alf9/apdb.pdb ./templete/4MM0_A/rec.pdb\n",
      "./alfpdb/alf9/apdb.pdb ./templete/6J82_A/rec.pdb\n",
      "./alfpdb/alf9/apdb.pdb ./templete/1OXA_A/rec.pdb\n",
      "./alfpdb/alf9/apdb.pdb ./templete/3R9C_A/rec.pdb\n",
      "./alfpdb/alf9/apdb.pdb ./templete/5FOI_A/rec.pdb\n",
      "./alfpdb/alf9/apdb.pdb ./templete/1JIO_A/rec.pdb\n",
      "./alfpdb/alf9/apdb.pdb ./templete/1EGY_A/rec.pdb\n",
      "2936 2.304330488449952\n"
     ]
    },
    {
     "name": "stderr",
     "output_type": "stream",
     "text": [
      "/home/Grx/.local/lib/python3.11/site-packages/jax/_src/ops/scatter.py:94: FutureWarning: scatter inputs have incompatible types: cannot safely cast value from dtype=int64 to dtype=int32 with jax_numpy_dtype_promotion='standard'. In future JAX releases this will result in an error.\n",
      "  warnings.warn(\n"
     ]
    },
    {
     "name": "stdout",
     "output_type": "stream",
     "text": [
      "2936 2.253978545338484\n",
      "./alfpdb/alf9/apdb.pdb ./templete/5L92_A/rec.pdb\n",
      "./alfpdb/alf9/apdb.pdb ./templete/5L94_A/rec.pdb\n",
      "./alfpdb/alf9/apdb.pdb ./templete/3R9B_A/rec.pdb\n",
      "./alfpdb/alf9/apdb.pdb ./templete/4YZR_A/rec.pdb\n",
      "./alfpdb/alf9/apdb.pdb ./templete/7WEX_A/rec.pdb\n",
      "./alfpdb/alf9/apdb.pdb ./templete/4RM4_A/rec.pdb\n",
      "./alfpdb/alf9/apdb.pdb ./templete/6B11_A/rec.pdb\n",
      "./alfpdb/alf9/apdb.pdb ./templete/5CJE_A/rec.pdb\n",
      "./alfpdb/alf9/apdb.pdb ./templete/1JIN_A/rec.pdb\n",
      "./alfpdb/alf9/apdb.pdb ./templete/1JIP_A/rec.pdb\n",
      "./alfpdb/alf9/apdb.pdb ./templete/6J84_A/rec.pdb\n",
      "./alfpdb/alf9/apdb.pdb ./templete/6J83_A/rec.pdb\n",
      "./alfpdb/alf9/apdb.pdb ./templete/1EUP_A/rec.pdb\n",
      "./alfpdb/alf9/apdb.pdb ./templete/4MM0_A/rec.pdb\n",
      "./alfpdb/alf9/apdb.pdb ./templete/6J82_A/rec.pdb\n",
      "./alfpdb/alf9/apdb.pdb ./templete/1OXA_A/rec.pdb\n",
      "./alfpdb/alf9/apdb.pdb ./templete/3R9C_A/rec.pdb\n",
      "./alfpdb/alf9/apdb.pdb ./templete/5FOI_A/rec.pdb\n",
      "./alfpdb/alf9/apdb.pdb ./templete/1JIO_A/rec.pdb\n",
      "./alfpdb/alf9/apdb.pdb ./templete/1EGY_A/rec.pdb\n",
      "2936 2.304330488449952\n"
     ]
    },
    {
     "name": "stderr",
     "output_type": "stream",
     "text": [
      "/home/Grx/.local/lib/python3.11/site-packages/jax/_src/ops/scatter.py:94: FutureWarning: scatter inputs have incompatible types: cannot safely cast value from dtype=int64 to dtype=int32 with jax_numpy_dtype_promotion='standard'. In future JAX releases this will result in an error.\n",
      "  warnings.warn(\n"
     ]
    },
    {
     "name": "stdout",
     "output_type": "stream",
     "text": [
      "2936 2.2539751858460235\n",
      "./alfpdb/alf9/apdb.pdb ./templete/5L92_A/rec.pdb\n",
      "./alfpdb/alf9/apdb.pdb ./templete/5L94_A/rec.pdb\n",
      "./alfpdb/alf9/apdb.pdb ./templete/3R9B_A/rec.pdb\n",
      "./alfpdb/alf9/apdb.pdb ./templete/4YZR_A/rec.pdb\n",
      "./alfpdb/alf9/apdb.pdb ./templete/7WEX_A/rec.pdb\n",
      "./alfpdb/alf9/apdb.pdb ./templete/4RM4_A/rec.pdb\n",
      "./alfpdb/alf9/apdb.pdb ./templete/6B11_A/rec.pdb\n",
      "./alfpdb/alf9/apdb.pdb ./templete/5CJE_A/rec.pdb\n",
      "./alfpdb/alf9/apdb.pdb ./templete/1JIN_A/rec.pdb\n",
      "./alfpdb/alf9/apdb.pdb ./templete/1JIP_A/rec.pdb\n",
      "./alfpdb/alf9/apdb.pdb ./templete/6J84_A/rec.pdb\n",
      "./alfpdb/alf9/apdb.pdb ./templete/6J83_A/rec.pdb\n",
      "./alfpdb/alf9/apdb.pdb ./templete/1EUP_A/rec.pdb\n",
      "./alfpdb/alf9/apdb.pdb ./templete/4MM0_A/rec.pdb\n",
      "./alfpdb/alf9/apdb.pdb ./templete/6J82_A/rec.pdb\n",
      "./alfpdb/alf9/apdb.pdb ./templete/1OXA_A/rec.pdb\n",
      "./alfpdb/alf9/apdb.pdb ./templete/3R9C_A/rec.pdb\n",
      "./alfpdb/alf9/apdb.pdb ./templete/5FOI_A/rec.pdb\n",
      "./alfpdb/alf9/apdb.pdb ./templete/1JIO_A/rec.pdb\n",
      "./alfpdb/alf9/apdb.pdb ./templete/1EGY_A/rec.pdb\n",
      "2936 2.304330488449952\n"
     ]
    },
    {
     "name": "stderr",
     "output_type": "stream",
     "text": [
      "/home/Grx/.local/lib/python3.11/site-packages/jax/_src/ops/scatter.py:94: FutureWarning: scatter inputs have incompatible types: cannot safely cast value from dtype=int64 to dtype=int32 with jax_numpy_dtype_promotion='standard'. In future JAX releases this will result in an error.\n",
      "  warnings.warn(\n"
     ]
    },
    {
     "name": "stdout",
     "output_type": "stream",
     "text": [
      "2936 2.2539714848296186\n",
      "9 95.61458420753479\n",
      "2128 2.502604043791187\n"
     ]
    },
    {
     "name": "stderr",
     "output_type": "stream",
     "text": [
      "/home/Grx/.local/lib/python3.11/site-packages/jax/_src/ops/scatter.py:94: FutureWarning: scatter inputs have incompatible types: cannot safely cast value from dtype=int64 to dtype=int32 with jax_numpy_dtype_promotion='standard'. In future JAX releases this will result in an error.\n",
      "  warnings.warn(\n"
     ]
    },
    {
     "name": "stdout",
     "output_type": "stream",
     "text": [
      "2128 2.479366723289696\n",
      "./alfpdb/alf10/apdb.pdb ./templete/3DBG_A/rec.pdb\n",
      "./alfpdb/alf10/apdb.pdb ./templete/4R1Z_A/rec.pdb\n",
      "./alfpdb/alf10/apdb.pdb ./templete/2VE3_A/rec.pdb\n",
      "./alfpdb/alf10/apdb.pdb ./templete/2VE4_A/rec.pdb\n",
      "./alfpdb/alf10/apdb.pdb ./templete/1BVY_A/rec.pdb\n",
      "./alfpdb/alf10/apdb.pdb ./templete/3MDV_A/rec.pdb\n",
      "./alfpdb/alf10/apdb.pdb ./templete/2Q9G_A/rec.pdb\n",
      "./alfpdb/alf10/apdb.pdb ./templete/3NC6_A/rec.pdb\n",
      "./alfpdb/alf10/apdb.pdb ./templete/4ENH_A/rec.pdb\n",
      "./alfpdb/alf10/apdb.pdb ./templete/3MDT_A/rec.pdb\n",
      "./alfpdb/alf10/apdb.pdb ./templete/3MDR_A/rec.pdb\n",
      "./alfpdb/alf10/apdb.pdb ./templete/3JUS_A/rec.pdb\n",
      "./alfpdb/alf10/apdb.pdb ./templete/1WIY_A/rec.pdb\n",
      "./alfpdb/alf10/apdb.pdb ./templete/3LD6_A/rec.pdb\n",
      "./alfpdb/alf10/apdb.pdb ./templete/3NC7_A/rec.pdb\n",
      "./alfpdb/alf10/apdb.pdb ./templete/6Q2T_A/rec.pdb\n",
      "./alfpdb/alf10/apdb.pdb ./templete/4R20_A/rec.pdb\n",
      "./alfpdb/alf10/apdb.pdb ./templete/4RM4_A/rec.pdb\n",
      "./alfpdb/alf10/apdb.pdb ./templete/5VWS_A/rec.pdb\n",
      "./alfpdb/alf10/apdb.pdb ./templete/3NC5_A/rec.pdb\n",
      "2128 2.502604043791187\n"
     ]
    },
    {
     "name": "stderr",
     "output_type": "stream",
     "text": [
      "/home/Grx/.local/lib/python3.11/site-packages/jax/_src/ops/scatter.py:94: FutureWarning: scatter inputs have incompatible types: cannot safely cast value from dtype=int64 to dtype=int32 with jax_numpy_dtype_promotion='standard'. In future JAX releases this will result in an error.\n",
      "  warnings.warn(\n"
     ]
    },
    {
     "name": "stdout",
     "output_type": "stream",
     "text": [
      "2128 2.4793667232896968\n",
      "./alfpdb/alf10/apdb.pdb ./templete/3DBG_A/rec.pdb\n",
      "./alfpdb/alf10/apdb.pdb ./templete/4R1Z_A/rec.pdb\n",
      "./alfpdb/alf10/apdb.pdb ./templete/2VE3_A/rec.pdb\n",
      "./alfpdb/alf10/apdb.pdb ./templete/2VE4_A/rec.pdb\n",
      "./alfpdb/alf10/apdb.pdb ./templete/1BVY_A/rec.pdb\n",
      "./alfpdb/alf10/apdb.pdb ./templete/3MDV_A/rec.pdb\n",
      "./alfpdb/alf10/apdb.pdb ./templete/2Q9G_A/rec.pdb\n",
      "./alfpdb/alf10/apdb.pdb ./templete/3NC6_A/rec.pdb\n",
      "./alfpdb/alf10/apdb.pdb ./templete/4ENH_A/rec.pdb\n",
      "./alfpdb/alf10/apdb.pdb ./templete/3MDT_A/rec.pdb\n",
      "./alfpdb/alf10/apdb.pdb ./templete/3MDR_A/rec.pdb\n",
      "./alfpdb/alf10/apdb.pdb ./templete/3JUS_A/rec.pdb\n",
      "./alfpdb/alf10/apdb.pdb ./templete/1WIY_A/rec.pdb\n",
      "./alfpdb/alf10/apdb.pdb ./templete/3LD6_A/rec.pdb\n",
      "./alfpdb/alf10/apdb.pdb ./templete/3NC7_A/rec.pdb\n",
      "./alfpdb/alf10/apdb.pdb ./templete/6Q2T_A/rec.pdb\n",
      "./alfpdb/alf10/apdb.pdb ./templete/4R20_A/rec.pdb\n",
      "./alfpdb/alf10/apdb.pdb ./templete/4RM4_A/rec.pdb\n",
      "./alfpdb/alf10/apdb.pdb ./templete/5VWS_A/rec.pdb\n",
      "./alfpdb/alf10/apdb.pdb ./templete/3NC5_A/rec.pdb\n",
      "2128 2.502604043791187\n"
     ]
    },
    {
     "name": "stderr",
     "output_type": "stream",
     "text": [
      "/home/Grx/.local/lib/python3.11/site-packages/jax/_src/ops/scatter.py:94: FutureWarning: scatter inputs have incompatible types: cannot safely cast value from dtype=int64 to dtype=int32 with jax_numpy_dtype_promotion='standard'. In future JAX releases this will result in an error.\n",
      "  warnings.warn(\n"
     ]
    },
    {
     "name": "stdout",
     "output_type": "stream",
     "text": [
      "2128 2.479366723289695\n",
      "./alfpdb/alf10/apdb.pdb ./templete/3DBG_A/rec.pdb\n",
      "./alfpdb/alf10/apdb.pdb ./templete/4R1Z_A/rec.pdb\n",
      "./alfpdb/alf10/apdb.pdb ./templete/2VE3_A/rec.pdb\n",
      "./alfpdb/alf10/apdb.pdb ./templete/2VE4_A/rec.pdb\n",
      "./alfpdb/alf10/apdb.pdb ./templete/1BVY_A/rec.pdb\n",
      "./alfpdb/alf10/apdb.pdb ./templete/3MDV_A/rec.pdb\n",
      "./alfpdb/alf10/apdb.pdb ./templete/2Q9G_A/rec.pdb\n",
      "./alfpdb/alf10/apdb.pdb ./templete/3NC6_A/rec.pdb\n",
      "./alfpdb/alf10/apdb.pdb ./templete/4ENH_A/rec.pdb\n",
      "./alfpdb/alf10/apdb.pdb ./templete/3MDT_A/rec.pdb\n",
      "./alfpdb/alf10/apdb.pdb ./templete/3MDR_A/rec.pdb\n",
      "./alfpdb/alf10/apdb.pdb ./templete/3JUS_A/rec.pdb\n",
      "./alfpdb/alf10/apdb.pdb ./templete/1WIY_A/rec.pdb\n",
      "./alfpdb/alf10/apdb.pdb ./templete/3LD6_A/rec.pdb\n",
      "./alfpdb/alf10/apdb.pdb ./templete/3NC7_A/rec.pdb\n",
      "./alfpdb/alf10/apdb.pdb ./templete/6Q2T_A/rec.pdb\n",
      "./alfpdb/alf10/apdb.pdb ./templete/4R20_A/rec.pdb\n",
      "./alfpdb/alf10/apdb.pdb ./templete/4RM4_A/rec.pdb\n",
      "./alfpdb/alf10/apdb.pdb ./templete/5VWS_A/rec.pdb\n",
      "./alfpdb/alf10/apdb.pdb ./templete/3NC5_A/rec.pdb\n",
      "2128 2.502604043791187\n"
     ]
    },
    {
     "name": "stderr",
     "output_type": "stream",
     "text": [
      "/home/Grx/.local/lib/python3.11/site-packages/jax/_src/ops/scatter.py:94: FutureWarning: scatter inputs have incompatible types: cannot safely cast value from dtype=int64 to dtype=int32 with jax_numpy_dtype_promotion='standard'. In future JAX releases this will result in an error.\n",
      "  warnings.warn(\n"
     ]
    },
    {
     "name": "stdout",
     "output_type": "stream",
     "text": [
      "2128 2.479366723289696\n",
      "10 66.91730165481567\n",
      "3455 2.1520095260012218\n"
     ]
    },
    {
     "name": "stderr",
     "output_type": "stream",
     "text": [
      "/home/Grx/.local/lib/python3.11/site-packages/jax/_src/ops/scatter.py:94: FutureWarning: scatter inputs have incompatible types: cannot safely cast value from dtype=int64 to dtype=int32 with jax_numpy_dtype_promotion='standard'. In future JAX releases this will result in an error.\n",
      "  warnings.warn(\n"
     ]
    },
    {
     "name": "stdout",
     "output_type": "stream",
     "text": [
      "3455 2.1541784753835835\n",
      "./alfpdb/alf11/apdb.pdb ./templete/1WIY_A/rec.pdb\n",
      "./alfpdb/alf11/apdb.pdb ./templete/7LS3_A/rec.pdb\n",
      "./alfpdb/alf11/apdb.pdb ./templete/7LS4_A/rec.pdb\n",
      "./alfpdb/alf11/apdb.pdb ./templete/7N3L_A/rec.pdb\n",
      "./alfpdb/alf11/apdb.pdb ./templete/7N6F_A/rec.pdb\n",
      "./alfpdb/alf11/apdb.pdb ./templete/3MDV_A/rec.pdb\n",
      "./alfpdb/alf11/apdb.pdb ./templete/2Q9G_A/rec.pdb\n",
      "./alfpdb/alf11/apdb.pdb ./templete/3MDT_A/rec.pdb\n",
      "./alfpdb/alf11/apdb.pdb ./templete/1N97_A/rec.pdb\n",
      "./alfpdb/alf11/apdb.pdb ./templete/4FIA_A/rec.pdb\n",
      "./alfpdb/alf11/apdb.pdb ./templete/4ENH_A/rec.pdb\n",
      "./alfpdb/alf11/apdb.pdb ./templete/7LRL_A/rec.pdb\n",
      "./alfpdb/alf11/apdb.pdb ./templete/1YQO_A/rec.pdb\n",
      "./alfpdb/alf11/apdb.pdb ./templete/3MDR_A/rec.pdb\n",
      "./alfpdb/alf11/apdb.pdb ./templete/8EWD_A/rec.pdb\n",
      "./alfpdb/alf11/apdb.pdb ./templete/1YQP_A/rec.pdb\n",
      "./alfpdb/alf11/apdb.pdb ./templete/1P0V_A/rec.pdb\n",
      "./alfpdb/alf11/apdb.pdb ./templete/1P0W_A/rec.pdb\n",
      "./alfpdb/alf11/apdb.pdb ./templete/2NNB_A/rec.pdb\n",
      "./alfpdb/alf11/apdb.pdb ./templete/1JME_A/rec.pdb\n",
      "3455 1.9901834086334858\n"
     ]
    },
    {
     "name": "stderr",
     "output_type": "stream",
     "text": [
      "/home/Grx/.local/lib/python3.11/site-packages/jax/_src/ops/scatter.py:94: FutureWarning: scatter inputs have incompatible types: cannot safely cast value from dtype=int64 to dtype=int32 with jax_numpy_dtype_promotion='standard'. In future JAX releases this will result in an error.\n",
      "  warnings.warn(\n"
     ]
    },
    {
     "name": "stdout",
     "output_type": "stream",
     "text": [
      "3455 1.9862981974497687\n",
      "./alfpdb/alf11/apdb.pdb ./templete/1WIY_A/rec.pdb\n",
      "./alfpdb/alf11/apdb.pdb ./templete/7LS3_A/rec.pdb\n",
      "./alfpdb/alf11/apdb.pdb ./templete/7LS4_A/rec.pdb\n",
      "./alfpdb/alf11/apdb.pdb ./templete/7N3L_A/rec.pdb\n",
      "./alfpdb/alf11/apdb.pdb ./templete/7N6F_A/rec.pdb\n",
      "./alfpdb/alf11/apdb.pdb ./templete/3MDV_A/rec.pdb\n",
      "./alfpdb/alf11/apdb.pdb ./templete/2Q9G_A/rec.pdb\n",
      "./alfpdb/alf11/apdb.pdb ./templete/3MDT_A/rec.pdb\n",
      "./alfpdb/alf11/apdb.pdb ./templete/1N97_A/rec.pdb\n",
      "./alfpdb/alf11/apdb.pdb ./templete/4FIA_A/rec.pdb\n",
      "./alfpdb/alf11/apdb.pdb ./templete/4ENH_A/rec.pdb\n",
      "./alfpdb/alf11/apdb.pdb ./templete/7LRL_A/rec.pdb\n",
      "./alfpdb/alf11/apdb.pdb ./templete/1YQO_A/rec.pdb\n",
      "./alfpdb/alf11/apdb.pdb ./templete/3MDR_A/rec.pdb\n",
      "./alfpdb/alf11/apdb.pdb ./templete/8EWD_A/rec.pdb\n",
      "./alfpdb/alf11/apdb.pdb ./templete/1YQP_A/rec.pdb\n",
      "./alfpdb/alf11/apdb.pdb ./templete/1P0V_A/rec.pdb\n",
      "./alfpdb/alf11/apdb.pdb ./templete/1P0W_A/rec.pdb\n",
      "./alfpdb/alf11/apdb.pdb ./templete/2NNB_A/rec.pdb\n",
      "./alfpdb/alf11/apdb.pdb ./templete/1JME_A/rec.pdb\n",
      "3455 1.9901834086334858\n"
     ]
    },
    {
     "name": "stderr",
     "output_type": "stream",
     "text": [
      "/home/Grx/.local/lib/python3.11/site-packages/jax/_src/ops/scatter.py:94: FutureWarning: scatter inputs have incompatible types: cannot safely cast value from dtype=int64 to dtype=int32 with jax_numpy_dtype_promotion='standard'. In future JAX releases this will result in an error.\n",
      "  warnings.warn(\n"
     ]
    },
    {
     "name": "stdout",
     "output_type": "stream",
     "text": [
      "3455 1.986298197449769\n",
      "./alfpdb/alf11/apdb.pdb ./templete/1WIY_A/rec.pdb\n",
      "./alfpdb/alf11/apdb.pdb ./templete/7LS3_A/rec.pdb\n",
      "./alfpdb/alf11/apdb.pdb ./templete/7LS4_A/rec.pdb\n",
      "./alfpdb/alf11/apdb.pdb ./templete/7N3L_A/rec.pdb\n",
      "./alfpdb/alf11/apdb.pdb ./templete/7N6F_A/rec.pdb\n",
      "./alfpdb/alf11/apdb.pdb ./templete/3MDV_A/rec.pdb\n",
      "./alfpdb/alf11/apdb.pdb ./templete/2Q9G_A/rec.pdb\n",
      "./alfpdb/alf11/apdb.pdb ./templete/3MDT_A/rec.pdb\n",
      "./alfpdb/alf11/apdb.pdb ./templete/1N97_A/rec.pdb\n",
      "./alfpdb/alf11/apdb.pdb ./templete/4FIA_A/rec.pdb\n",
      "./alfpdb/alf11/apdb.pdb ./templete/4ENH_A/rec.pdb\n",
      "./alfpdb/alf11/apdb.pdb ./templete/7LRL_A/rec.pdb\n",
      "./alfpdb/alf11/apdb.pdb ./templete/1YQO_A/rec.pdb\n",
      "./alfpdb/alf11/apdb.pdb ./templete/3MDR_A/rec.pdb\n",
      "./alfpdb/alf11/apdb.pdb ./templete/8EWD_A/rec.pdb\n",
      "./alfpdb/alf11/apdb.pdb ./templete/1YQP_A/rec.pdb\n",
      "./alfpdb/alf11/apdb.pdb ./templete/1P0V_A/rec.pdb\n",
      "./alfpdb/alf11/apdb.pdb ./templete/1P0W_A/rec.pdb\n",
      "./alfpdb/alf11/apdb.pdb ./templete/2NNB_A/rec.pdb\n",
      "./alfpdb/alf11/apdb.pdb ./templete/1JME_A/rec.pdb\n",
      "3455 1.7210944192577007\n",
      "FE S -0.058905580742299346 1.7210944192577007\n"
     ]
    },
    {
     "name": "stderr",
     "output_type": "stream",
     "text": [
      "/home/Grx/.local/lib/python3.11/site-packages/jax/_src/ops/scatter.py:94: FutureWarning: scatter inputs have incompatible types: cannot safely cast value from dtype=int64 to dtype=int32 with jax_numpy_dtype_promotion='standard'. In future JAX releases this will result in an error.\n",
      "  warnings.warn(\n"
     ]
    },
    {
     "name": "stdout",
     "output_type": "stream",
     "text": [
      "3455 1.8573540977201972\n",
      "11 102.10730504989624\n",
      "4126 2.573742994162393\n"
     ]
    },
    {
     "name": "stderr",
     "output_type": "stream",
     "text": [
      "/home/Grx/.local/lib/python3.11/site-packages/jax/_src/ops/scatter.py:94: FutureWarning: scatter inputs have incompatible types: cannot safely cast value from dtype=int64 to dtype=int32 with jax_numpy_dtype_promotion='standard'. In future JAX releases this will result in an error.\n",
      "  warnings.warn(\n"
     ]
    },
    {
     "name": "stdout",
     "output_type": "stream",
     "text": [
      "4126 2.575766874426096\n",
      "./alfpdb/alf12/apdb.pdb ./templete/5YM3_A/rec.pdb\n",
      "./alfpdb/alf12/apdb.pdb ./templete/7CB9_A/rec.pdb\n",
      "./alfpdb/alf12/apdb.pdb ./templete/4R20_A/rec.pdb\n",
      "./alfpdb/alf12/apdb.pdb ./templete/5YLW_A/rec.pdb\n",
      "./alfpdb/alf12/apdb.pdb ./templete/1WIY_A/rec.pdb\n",
      "./alfpdb/alf12/apdb.pdb ./templete/8EWD_A/rec.pdb\n",
      "./alfpdb/alf12/apdb.pdb ./templete/7KVJ_A/rec.pdb\n",
      "./alfpdb/alf12/apdb.pdb ./templete/6VBY_A/rec.pdb\n",
      "./alfpdb/alf12/apdb.pdb ./templete/8EWS_A/rec.pdb\n",
      "./alfpdb/alf12/apdb.pdb ./templete/3DBG_A/rec.pdb\n",
      "./alfpdb/alf12/apdb.pdb ./templete/7UF9_A/rec.pdb\n",
      "./alfpdb/alf12/apdb.pdb ./templete/8EXB_A/rec.pdb\n",
      "./alfpdb/alf12/apdb.pdb ./templete/8EWM_A/rec.pdb\n",
      "./alfpdb/alf12/apdb.pdb ./templete/7KSA_A/rec.pdb\n",
      "./alfpdb/alf12/apdb.pdb ./templete/8EWN_A/rec.pdb\n",
      "./alfpdb/alf12/apdb.pdb ./templete/3TJS_A/rec.pdb\n",
      "./alfpdb/alf12/apdb.pdb ./templete/1N97_A/rec.pdb\n",
      "./alfpdb/alf12/apdb.pdb ./templete/6UNM_A/rec.pdb\n",
      "./alfpdb/alf12/apdb.pdb ./templete/7UAZ_A/rec.pdb\n",
      "./alfpdb/alf12/apdb.pdb ./templete/6BDH_A/rec.pdb\n",
      "4126 2.573742994162393\n"
     ]
    },
    {
     "name": "stderr",
     "output_type": "stream",
     "text": [
      "/home/Grx/.local/lib/python3.11/site-packages/jax/_src/ops/scatter.py:94: FutureWarning: scatter inputs have incompatible types: cannot safely cast value from dtype=int64 to dtype=int32 with jax_numpy_dtype_promotion='standard'. In future JAX releases this will result in an error.\n",
      "  warnings.warn(\n"
     ]
    },
    {
     "name": "stdout",
     "output_type": "stream",
     "text": [
      "4126 2.5757656832709612\n",
      "./alfpdb/alf12/apdb.pdb ./templete/5YM3_A/rec.pdb\n",
      "./alfpdb/alf12/apdb.pdb ./templete/7CB9_A/rec.pdb\n",
      "./alfpdb/alf12/apdb.pdb ./templete/4R20_A/rec.pdb\n",
      "./alfpdb/alf12/apdb.pdb ./templete/5YLW_A/rec.pdb\n",
      "./alfpdb/alf12/apdb.pdb ./templete/1WIY_A/rec.pdb\n",
      "./alfpdb/alf12/apdb.pdb ./templete/8EWD_A/rec.pdb\n",
      "./alfpdb/alf12/apdb.pdb ./templete/7KVJ_A/rec.pdb\n",
      "./alfpdb/alf12/apdb.pdb ./templete/6VBY_A/rec.pdb\n",
      "./alfpdb/alf12/apdb.pdb ./templete/8EWS_A/rec.pdb\n",
      "./alfpdb/alf12/apdb.pdb ./templete/3DBG_A/rec.pdb\n",
      "./alfpdb/alf12/apdb.pdb ./templete/7UF9_A/rec.pdb\n",
      "./alfpdb/alf12/apdb.pdb ./templete/8EXB_A/rec.pdb\n",
      "./alfpdb/alf12/apdb.pdb ./templete/8EWM_A/rec.pdb\n",
      "./alfpdb/alf12/apdb.pdb ./templete/7KSA_A/rec.pdb\n",
      "./alfpdb/alf12/apdb.pdb ./templete/8EWN_A/rec.pdb\n",
      "./alfpdb/alf12/apdb.pdb ./templete/3TJS_A/rec.pdb\n",
      "./alfpdb/alf12/apdb.pdb ./templete/1N97_A/rec.pdb\n",
      "./alfpdb/alf12/apdb.pdb ./templete/6UNM_A/rec.pdb\n",
      "./alfpdb/alf12/apdb.pdb ./templete/7UAZ_A/rec.pdb\n",
      "./alfpdb/alf12/apdb.pdb ./templete/6BDH_A/rec.pdb\n",
      "4126 2.573742994162393\n"
     ]
    },
    {
     "name": "stderr",
     "output_type": "stream",
     "text": [
      "/home/Grx/.local/lib/python3.11/site-packages/jax/_src/ops/scatter.py:94: FutureWarning: scatter inputs have incompatible types: cannot safely cast value from dtype=int64 to dtype=int32 with jax_numpy_dtype_promotion='standard'. In future JAX releases this will result in an error.\n",
      "  warnings.warn(\n"
     ]
    },
    {
     "name": "stdout",
     "output_type": "stream",
     "text": [
      "4126 2.575770932556514\n",
      "./alfpdb/alf12/apdb.pdb ./templete/5YM3_A/rec.pdb\n",
      "./alfpdb/alf12/apdb.pdb ./templete/7CB9_A/rec.pdb\n",
      "./alfpdb/alf12/apdb.pdb ./templete/4R20_A/rec.pdb\n",
      "./alfpdb/alf12/apdb.pdb ./templete/5YLW_A/rec.pdb\n",
      "./alfpdb/alf12/apdb.pdb ./templete/1WIY_A/rec.pdb\n",
      "./alfpdb/alf12/apdb.pdb ./templete/8EWD_A/rec.pdb\n",
      "./alfpdb/alf12/apdb.pdb ./templete/7KVJ_A/rec.pdb\n",
      "./alfpdb/alf12/apdb.pdb ./templete/6VBY_A/rec.pdb\n",
      "./alfpdb/alf12/apdb.pdb ./templete/8EWS_A/rec.pdb\n",
      "./alfpdb/alf12/apdb.pdb ./templete/3DBG_A/rec.pdb\n",
      "./alfpdb/alf12/apdb.pdb ./templete/7UF9_A/rec.pdb\n",
      "./alfpdb/alf12/apdb.pdb ./templete/8EXB_A/rec.pdb\n",
      "./alfpdb/alf12/apdb.pdb ./templete/8EWM_A/rec.pdb\n",
      "./alfpdb/alf12/apdb.pdb ./templete/7KSA_A/rec.pdb\n",
      "./alfpdb/alf12/apdb.pdb ./templete/8EWN_A/rec.pdb\n",
      "./alfpdb/alf12/apdb.pdb ./templete/3TJS_A/rec.pdb\n",
      "./alfpdb/alf12/apdb.pdb ./templete/1N97_A/rec.pdb\n",
      "./alfpdb/alf12/apdb.pdb ./templete/6UNM_A/rec.pdb\n",
      "./alfpdb/alf12/apdb.pdb ./templete/7UAZ_A/rec.pdb\n",
      "./alfpdb/alf12/apdb.pdb ./templete/6BDH_A/rec.pdb\n",
      "4126 2.573742994162393\n"
     ]
    },
    {
     "name": "stderr",
     "output_type": "stream",
     "text": [
      "/home/Grx/.local/lib/python3.11/site-packages/jax/_src/ops/scatter.py:94: FutureWarning: scatter inputs have incompatible types: cannot safely cast value from dtype=int64 to dtype=int32 with jax_numpy_dtype_promotion='standard'. In future JAX releases this will result in an error.\n",
      "  warnings.warn(\n"
     ]
    },
    {
     "name": "stdout",
     "output_type": "stream",
     "text": [
      "4126 2.5757656832709594\n",
      "12 127.01270270347595\n",
      "1454 2.6176029110619505\n"
     ]
    },
    {
     "name": "stderr",
     "output_type": "stream",
     "text": [
      "/home/Grx/.local/lib/python3.11/site-packages/jax/_src/ops/scatter.py:94: FutureWarning: scatter inputs have incompatible types: cannot safely cast value from dtype=int64 to dtype=int32 with jax_numpy_dtype_promotion='standard'. In future JAX releases this will result in an error.\n",
      "  warnings.warn(\n"
     ]
    },
    {
     "name": "stdout",
     "output_type": "stream",
     "text": [
      "1454 2.6177999592562604\n",
      "./alfpdb/alf13/apdb.pdb ./templete/2RFB_A/rec.pdb\n",
      "./alfpdb/alf13/apdb.pdb ./templete/4RM4_A/rec.pdb\n",
      "./alfpdb/alf13/apdb.pdb ./templete/5VWS_A/rec.pdb\n",
      "./alfpdb/alf13/apdb.pdb ./templete/5L90_A/rec.pdb\n",
      "./alfpdb/alf13/apdb.pdb ./templete/1UE8_A/rec.pdb\n",
      "./alfpdb/alf13/apdb.pdb ./templete/4Z5Q_A/rec.pdb\n",
      "./alfpdb/alf13/apdb.pdb ./templete/3B4X_A/rec.pdb\n",
      "./alfpdb/alf13/apdb.pdb ./templete/1IO7_A/rec.pdb\n",
      "./alfpdb/alf13/apdb.pdb ./templete/1IO9_A/rec.pdb\n",
      "./alfpdb/alf13/apdb.pdb ./templete/1IO8_A/rec.pdb\n",
      "./alfpdb/alf13/apdb.pdb ./templete/4TX3_A/rec.pdb\n",
      "./alfpdb/alf13/apdb.pdb ./templete/4TVF_A/rec.pdb\n",
      "./alfpdb/alf13/apdb.pdb ./templete/5YSM_A/rec.pdb\n",
      "./alfpdb/alf13/apdb.pdb ./templete/5L91_A/rec.pdb\n",
      "./alfpdb/alf13/apdb.pdb ./templete/3NC6_A/rec.pdb\n",
      "./alfpdb/alf13/apdb.pdb ./templete/4E2P_A/rec.pdb\n",
      "./alfpdb/alf13/apdb.pdb ./templete/3NC5_A/rec.pdb\n",
      "./alfpdb/alf13/apdb.pdb ./templete/4YZR_A/rec.pdb\n",
      "./alfpdb/alf13/apdb.pdb ./templete/3E5K_A/rec.pdb\n",
      "./alfpdb/alf13/apdb.pdb ./templete/3NC7_A/rec.pdb\n",
      "1454 2.6176029110619505\n"
     ]
    },
    {
     "name": "stderr",
     "output_type": "stream",
     "text": [
      "/home/Grx/.local/lib/python3.11/site-packages/jax/_src/ops/scatter.py:94: FutureWarning: scatter inputs have incompatible types: cannot safely cast value from dtype=int64 to dtype=int32 with jax_numpy_dtype_promotion='standard'. In future JAX releases this will result in an error.\n",
      "  warnings.warn(\n"
     ]
    },
    {
     "name": "stdout",
     "output_type": "stream",
     "text": [
      "1454 2.617800189902158\n",
      "./alfpdb/alf13/apdb.pdb ./templete/2RFB_A/rec.pdb\n",
      "./alfpdb/alf13/apdb.pdb ./templete/4RM4_A/rec.pdb\n",
      "./alfpdb/alf13/apdb.pdb ./templete/5VWS_A/rec.pdb\n",
      "./alfpdb/alf13/apdb.pdb ./templete/5L90_A/rec.pdb\n",
      "./alfpdb/alf13/apdb.pdb ./templete/1UE8_A/rec.pdb\n",
      "./alfpdb/alf13/apdb.pdb ./templete/4Z5Q_A/rec.pdb\n",
      "./alfpdb/alf13/apdb.pdb ./templete/3B4X_A/rec.pdb\n",
      "./alfpdb/alf13/apdb.pdb ./templete/1IO7_A/rec.pdb\n",
      "./alfpdb/alf13/apdb.pdb ./templete/1IO9_A/rec.pdb\n",
      "./alfpdb/alf13/apdb.pdb ./templete/1IO8_A/rec.pdb\n",
      "./alfpdb/alf13/apdb.pdb ./templete/4TX3_A/rec.pdb\n",
      "./alfpdb/alf13/apdb.pdb ./templete/4TVF_A/rec.pdb\n",
      "./alfpdb/alf13/apdb.pdb ./templete/5YSM_A/rec.pdb\n",
      "./alfpdb/alf13/apdb.pdb ./templete/5L91_A/rec.pdb\n",
      "./alfpdb/alf13/apdb.pdb ./templete/3NC6_A/rec.pdb\n",
      "./alfpdb/alf13/apdb.pdb ./templete/4E2P_A/rec.pdb\n",
      "./alfpdb/alf13/apdb.pdb ./templete/3NC5_A/rec.pdb\n",
      "./alfpdb/alf13/apdb.pdb ./templete/4YZR_A/rec.pdb\n",
      "./alfpdb/alf13/apdb.pdb ./templete/3E5K_A/rec.pdb\n",
      "./alfpdb/alf13/apdb.pdb ./templete/3NC7_A/rec.pdb\n",
      "1454 2.6176029110619505\n"
     ]
    },
    {
     "name": "stderr",
     "output_type": "stream",
     "text": [
      "/home/Grx/.local/lib/python3.11/site-packages/jax/_src/ops/scatter.py:94: FutureWarning: scatter inputs have incompatible types: cannot safely cast value from dtype=int64 to dtype=int32 with jax_numpy_dtype_promotion='standard'. In future JAX releases this will result in an error.\n",
      "  warnings.warn(\n"
     ]
    },
    {
     "name": "stdout",
     "output_type": "stream",
     "text": [
      "1454 2.617800070188393\n",
      "./alfpdb/alf13/apdb.pdb ./templete/2RFB_A/rec.pdb\n",
      "./alfpdb/alf13/apdb.pdb ./templete/4RM4_A/rec.pdb\n",
      "./alfpdb/alf13/apdb.pdb ./templete/5VWS_A/rec.pdb\n",
      "./alfpdb/alf13/apdb.pdb ./templete/5L90_A/rec.pdb\n",
      "./alfpdb/alf13/apdb.pdb ./templete/1UE8_A/rec.pdb\n",
      "./alfpdb/alf13/apdb.pdb ./templete/4Z5Q_A/rec.pdb\n",
      "./alfpdb/alf13/apdb.pdb ./templete/3B4X_A/rec.pdb\n",
      "./alfpdb/alf13/apdb.pdb ./templete/1IO7_A/rec.pdb\n",
      "./alfpdb/alf13/apdb.pdb ./templete/1IO9_A/rec.pdb\n",
      "./alfpdb/alf13/apdb.pdb ./templete/1IO8_A/rec.pdb\n",
      "./alfpdb/alf13/apdb.pdb ./templete/4TX3_A/rec.pdb\n",
      "./alfpdb/alf13/apdb.pdb ./templete/4TVF_A/rec.pdb\n",
      "./alfpdb/alf13/apdb.pdb ./templete/5YSM_A/rec.pdb\n",
      "./alfpdb/alf13/apdb.pdb ./templete/5L91_A/rec.pdb\n",
      "./alfpdb/alf13/apdb.pdb ./templete/3NC6_A/rec.pdb\n",
      "./alfpdb/alf13/apdb.pdb ./templete/4E2P_A/rec.pdb\n",
      "./alfpdb/alf13/apdb.pdb ./templete/3NC5_A/rec.pdb\n",
      "./alfpdb/alf13/apdb.pdb ./templete/4YZR_A/rec.pdb\n",
      "./alfpdb/alf13/apdb.pdb ./templete/3E5K_A/rec.pdb\n",
      "./alfpdb/alf13/apdb.pdb ./templete/3NC7_A/rec.pdb\n",
      "1454 1.8556769654225886\n"
     ]
    },
    {
     "name": "stderr",
     "output_type": "stream",
     "text": [
      "/home/Grx/.local/lib/python3.11/site-packages/jax/_src/ops/scatter.py:94: FutureWarning: scatter inputs have incompatible types: cannot safely cast value from dtype=int64 to dtype=int32 with jax_numpy_dtype_promotion='standard'. In future JAX releases this will result in an error.\n",
      "  warnings.warn(\n"
     ]
    },
    {
     "name": "stdout",
     "output_type": "stream",
     "text": [
      "1454 1.8559209925810565\n",
      "13 76.00270771980286\n",
      "3628 2.178854286087073\n"
     ]
    },
    {
     "name": "stderr",
     "output_type": "stream",
     "text": [
      "/home/Grx/.local/lib/python3.11/site-packages/jax/_src/ops/scatter.py:94: FutureWarning: scatter inputs have incompatible types: cannot safely cast value from dtype=int64 to dtype=int32 with jax_numpy_dtype_promotion='standard'. In future JAX releases this will result in an error.\n",
      "  warnings.warn(\n"
     ]
    },
    {
     "name": "stdout",
     "output_type": "stream",
     "text": [
      "3628 2.0799613276619353\n",
      "./alfpdb/alf14/apdb.pdb ./templete/7LYX_A/rec.pdb\n",
      "./alfpdb/alf14/apdb.pdb ./templete/3B98_A/rec.pdb\n",
      "./alfpdb/alf14/apdb.pdb ./templete/3B99_A/rec.pdb\n",
      "./alfpdb/alf14/apdb.pdb ./templete/2IAG_A/rec.pdb\n",
      "./alfpdb/alf14/apdb.pdb ./templete/3B6H_A/rec.pdb\n",
      "./alfpdb/alf14/apdb.pdb ./templete/3SN5_A/rec.pdb\n",
      "./alfpdb/alf14/apdb.pdb ./templete/3DAX_A/rec.pdb\n",
      "./alfpdb/alf14/apdb.pdb ./templete/3V8D_A/rec.pdb\n",
      "./alfpdb/alf14/apdb.pdb ./templete/3DBG_A/rec.pdb\n",
      "./alfpdb/alf14/apdb.pdb ./templete/2VE4_A/rec.pdb\n",
      "./alfpdb/alf14/apdb.pdb ./templete/2VE3_A/rec.pdb\n",
      "./alfpdb/alf14/apdb.pdb ./templete/1WIY_A/rec.pdb\n",
      "./alfpdb/alf14/apdb.pdb ./templete/7RKW_A/rec.pdb\n",
      "./alfpdb/alf14/apdb.pdb ./templete/6AYC_A/rec.pdb\n",
      "./alfpdb/alf14/apdb.pdb ./templete/6AYB_A/rec.pdb\n",
      "./alfpdb/alf14/apdb.pdb ./templete/7RKR_A/rec.pdb\n",
      "./alfpdb/alf14/apdb.pdb ./templete/7RKT_A/rec.pdb\n",
      "./alfpdb/alf14/apdb.pdb ./templete/5TL8_A/rec.pdb\n",
      "./alfpdb/alf14/apdb.pdb ./templete/1X8V_A/rec.pdb\n",
      "./alfpdb/alf14/apdb.pdb ./templete/6AY4_A/rec.pdb\n",
      "3628 2.178854286087073\n"
     ]
    },
    {
     "name": "stderr",
     "output_type": "stream",
     "text": [
      "/home/Grx/.local/lib/python3.11/site-packages/jax/_src/ops/scatter.py:94: FutureWarning: scatter inputs have incompatible types: cannot safely cast value from dtype=int64 to dtype=int32 with jax_numpy_dtype_promotion='standard'. In future JAX releases this will result in an error.\n",
      "  warnings.warn(\n"
     ]
    },
    {
     "name": "stdout",
     "output_type": "stream",
     "text": [
      "3628 2.0799613276619335\n",
      "./alfpdb/alf14/apdb.pdb ./templete/7LYX_A/rec.pdb\n",
      "./alfpdb/alf14/apdb.pdb ./templete/3B98_A/rec.pdb\n",
      "./alfpdb/alf14/apdb.pdb ./templete/3B99_A/rec.pdb\n",
      "./alfpdb/alf14/apdb.pdb ./templete/2IAG_A/rec.pdb\n",
      "./alfpdb/alf14/apdb.pdb ./templete/3B6H_A/rec.pdb\n",
      "./alfpdb/alf14/apdb.pdb ./templete/3SN5_A/rec.pdb\n",
      "./alfpdb/alf14/apdb.pdb ./templete/3DAX_A/rec.pdb\n",
      "./alfpdb/alf14/apdb.pdb ./templete/3V8D_A/rec.pdb\n",
      "./alfpdb/alf14/apdb.pdb ./templete/3DBG_A/rec.pdb\n",
      "./alfpdb/alf14/apdb.pdb ./templete/2VE4_A/rec.pdb\n",
      "./alfpdb/alf14/apdb.pdb ./templete/2VE3_A/rec.pdb\n",
      "./alfpdb/alf14/apdb.pdb ./templete/1WIY_A/rec.pdb\n",
      "./alfpdb/alf14/apdb.pdb ./templete/7RKW_A/rec.pdb\n",
      "./alfpdb/alf14/apdb.pdb ./templete/6AYC_A/rec.pdb\n",
      "./alfpdb/alf14/apdb.pdb ./templete/6AYB_A/rec.pdb\n",
      "./alfpdb/alf14/apdb.pdb ./templete/7RKR_A/rec.pdb\n",
      "./alfpdb/alf14/apdb.pdb ./templete/7RKT_A/rec.pdb\n",
      "./alfpdb/alf14/apdb.pdb ./templete/5TL8_A/rec.pdb\n",
      "./alfpdb/alf14/apdb.pdb ./templete/1X8V_A/rec.pdb\n",
      "./alfpdb/alf14/apdb.pdb ./templete/6AY4_A/rec.pdb\n",
      "3628 2.178854286087073\n"
     ]
    },
    {
     "name": "stderr",
     "output_type": "stream",
     "text": [
      "/home/Grx/.local/lib/python3.11/site-packages/jax/_src/ops/scatter.py:94: FutureWarning: scatter inputs have incompatible types: cannot safely cast value from dtype=int64 to dtype=int32 with jax_numpy_dtype_promotion='standard'. In future JAX releases this will result in an error.\n",
      "  warnings.warn(\n"
     ]
    },
    {
     "name": "stdout",
     "output_type": "stream",
     "text": [
      "3628 2.0799613276619344\n",
      "./alfpdb/alf14/apdb.pdb ./templete/7LYX_A/rec.pdb\n",
      "./alfpdb/alf14/apdb.pdb ./templete/3B98_A/rec.pdb\n",
      "./alfpdb/alf14/apdb.pdb ./templete/3B99_A/rec.pdb\n",
      "./alfpdb/alf14/apdb.pdb ./templete/2IAG_A/rec.pdb\n",
      "./alfpdb/alf14/apdb.pdb ./templete/3B6H_A/rec.pdb\n",
      "./alfpdb/alf14/apdb.pdb ./templete/3SN5_A/rec.pdb\n",
      "./alfpdb/alf14/apdb.pdb ./templete/3DAX_A/rec.pdb\n",
      "./alfpdb/alf14/apdb.pdb ./templete/3V8D_A/rec.pdb\n",
      "./alfpdb/alf14/apdb.pdb ./templete/3DBG_A/rec.pdb\n",
      "./alfpdb/alf14/apdb.pdb ./templete/2VE4_A/rec.pdb\n",
      "./alfpdb/alf14/apdb.pdb ./templete/2VE3_A/rec.pdb\n",
      "./alfpdb/alf14/apdb.pdb ./templete/1WIY_A/rec.pdb\n",
      "./alfpdb/alf14/apdb.pdb ./templete/7RKW_A/rec.pdb\n",
      "./alfpdb/alf14/apdb.pdb ./templete/6AYC_A/rec.pdb\n",
      "./alfpdb/alf14/apdb.pdb ./templete/6AYB_A/rec.pdb\n",
      "./alfpdb/alf14/apdb.pdb ./templete/7RKR_A/rec.pdb\n",
      "./alfpdb/alf14/apdb.pdb ./templete/7RKT_A/rec.pdb\n",
      "./alfpdb/alf14/apdb.pdb ./templete/5TL8_A/rec.pdb\n",
      "./alfpdb/alf14/apdb.pdb ./templete/1X8V_A/rec.pdb\n",
      "./alfpdb/alf14/apdb.pdb ./templete/6AY4_A/rec.pdb\n",
      "3628 2.326685410621727\n",
      "C O -0.28457209181292864 1.2154279081870714\n"
     ]
    },
    {
     "name": "stderr",
     "output_type": "stream",
     "text": [
      "/home/Grx/.local/lib/python3.11/site-packages/jax/_src/ops/scatter.py:94: FutureWarning: scatter inputs have incompatible types: cannot safely cast value from dtype=int64 to dtype=int32 with jax_numpy_dtype_promotion='standard'. In future JAX releases this will result in an error.\n",
      "  warnings.warn(\n"
     ]
    },
    {
     "name": "stdout",
     "output_type": "stream",
     "text": [
      "3628 2.3112852673781172\n",
      "14 110.44371056556702\n",
      "859 2.519327092697572\n"
     ]
    },
    {
     "name": "stderr",
     "output_type": "stream",
     "text": [
      "/home/Grx/.local/lib/python3.11/site-packages/jax/_src/ops/scatter.py:94: FutureWarning: scatter inputs have incompatible types: cannot safely cast value from dtype=int64 to dtype=int32 with jax_numpy_dtype_promotion='standard'. In future JAX releases this will result in an error.\n",
      "  warnings.warn(\n"
     ]
    },
    {
     "name": "stdout",
     "output_type": "stream",
     "text": [
      "859 2.4884101937252385\n",
      "./alfpdb/alf15/apdb.pdb ./templete/3DBG_A/rec.pdb\n",
      "./alfpdb/alf15/apdb.pdb ./templete/7KVJ_A/rec.pdb\n",
      "./alfpdb/alf15/apdb.pdb ./templete/3PSX_A/rec.pdb\n",
      "./alfpdb/alf15/apdb.pdb ./templete/3EL3_A/rec.pdb\n",
      "./alfpdb/alf15/apdb.pdb ./templete/4R1Z_A/rec.pdb\n",
      "./alfpdb/alf15/apdb.pdb ./templete/4TVF_A/rec.pdb\n",
      "./alfpdb/alf15/apdb.pdb ./templete/2W09_A/rec.pdb\n",
      "./alfpdb/alf15/apdb.pdb ./templete/2CIB_A/rec.pdb\n",
      "./alfpdb/alf15/apdb.pdb ./templete/8EWM_A/rec.pdb\n",
      "./alfpdb/alf15/apdb.pdb ./templete/8EWD_A/rec.pdb\n",
      "./alfpdb/alf15/apdb.pdb ./templete/4R20_A/rec.pdb\n",
      "./alfpdb/alf15/apdb.pdb ./templete/2W0A_A/rec.pdb\n",
      "./alfpdb/alf15/apdb.pdb ./templete/2CI0_A/rec.pdb\n",
      "./alfpdb/alf15/apdb.pdb ./templete/2RFB_A/rec.pdb\n",
      "./alfpdb/alf15/apdb.pdb ./templete/2Q9G_A/rec.pdb\n",
      "./alfpdb/alf15/apdb.pdb ./templete/1X8V_A/rec.pdb\n",
      "./alfpdb/alf15/apdb.pdb ./templete/6UNI_A/rec.pdb\n",
      "./alfpdb/alf15/apdb.pdb ./templete/7UAY_A/rec.pdb\n",
      "./alfpdb/alf15/apdb.pdb ./templete/6UNL_A/rec.pdb\n",
      "./alfpdb/alf15/apdb.pdb ./templete/6DAB_A/rec.pdb\n",
      "859 2.519327092697572\n"
     ]
    },
    {
     "name": "stderr",
     "output_type": "stream",
     "text": [
      "/home/Grx/.local/lib/python3.11/site-packages/jax/_src/ops/scatter.py:94: FutureWarning: scatter inputs have incompatible types: cannot safely cast value from dtype=int64 to dtype=int32 with jax_numpy_dtype_promotion='standard'. In future JAX releases this will result in an error.\n",
      "  warnings.warn(\n"
     ]
    },
    {
     "name": "stdout",
     "output_type": "stream",
     "text": [
      "859 2.4884101937252385\n",
      "./alfpdb/alf15/apdb.pdb ./templete/3DBG_A/rec.pdb\n",
      "./alfpdb/alf15/apdb.pdb ./templete/7KVJ_A/rec.pdb\n",
      "./alfpdb/alf15/apdb.pdb ./templete/3PSX_A/rec.pdb\n",
      "./alfpdb/alf15/apdb.pdb ./templete/3EL3_A/rec.pdb\n",
      "./alfpdb/alf15/apdb.pdb ./templete/4R1Z_A/rec.pdb\n",
      "./alfpdb/alf15/apdb.pdb ./templete/4TVF_A/rec.pdb\n",
      "./alfpdb/alf15/apdb.pdb ./templete/2W09_A/rec.pdb\n",
      "./alfpdb/alf15/apdb.pdb ./templete/2CIB_A/rec.pdb\n",
      "./alfpdb/alf15/apdb.pdb ./templete/8EWM_A/rec.pdb\n",
      "./alfpdb/alf15/apdb.pdb ./templete/8EWD_A/rec.pdb\n",
      "./alfpdb/alf15/apdb.pdb ./templete/4R20_A/rec.pdb\n",
      "./alfpdb/alf15/apdb.pdb ./templete/2W0A_A/rec.pdb\n",
      "./alfpdb/alf15/apdb.pdb ./templete/2CI0_A/rec.pdb\n",
      "./alfpdb/alf15/apdb.pdb ./templete/2RFB_A/rec.pdb\n",
      "./alfpdb/alf15/apdb.pdb ./templete/2Q9G_A/rec.pdb\n",
      "./alfpdb/alf15/apdb.pdb ./templete/1X8V_A/rec.pdb\n",
      "./alfpdb/alf15/apdb.pdb ./templete/6UNI_A/rec.pdb\n",
      "./alfpdb/alf15/apdb.pdb ./templete/7UAY_A/rec.pdb\n",
      "./alfpdb/alf15/apdb.pdb ./templete/6UNL_A/rec.pdb\n",
      "./alfpdb/alf15/apdb.pdb ./templete/6DAB_A/rec.pdb\n",
      "859 2.519327092697572\n"
     ]
    },
    {
     "name": "stderr",
     "output_type": "stream",
     "text": [
      "/home/Grx/.local/lib/python3.11/site-packages/jax/_src/ops/scatter.py:94: FutureWarning: scatter inputs have incompatible types: cannot safely cast value from dtype=int64 to dtype=int32 with jax_numpy_dtype_promotion='standard'. In future JAX releases this will result in an error.\n",
      "  warnings.warn(\n"
     ]
    },
    {
     "name": "stdout",
     "output_type": "stream",
     "text": [
      "859 2.488410193725238\n",
      "./alfpdb/alf15/apdb.pdb ./templete/3DBG_A/rec.pdb\n",
      "./alfpdb/alf15/apdb.pdb ./templete/7KVJ_A/rec.pdb\n",
      "./alfpdb/alf15/apdb.pdb ./templete/3PSX_A/rec.pdb\n",
      "./alfpdb/alf15/apdb.pdb ./templete/3EL3_A/rec.pdb\n",
      "./alfpdb/alf15/apdb.pdb ./templete/4R1Z_A/rec.pdb\n",
      "./alfpdb/alf15/apdb.pdb ./templete/4TVF_A/rec.pdb\n",
      "./alfpdb/alf15/apdb.pdb ./templete/2W09_A/rec.pdb\n",
      "./alfpdb/alf15/apdb.pdb ./templete/2CIB_A/rec.pdb\n",
      "./alfpdb/alf15/apdb.pdb ./templete/8EWM_A/rec.pdb\n",
      "./alfpdb/alf15/apdb.pdb ./templete/8EWD_A/rec.pdb\n",
      "./alfpdb/alf15/apdb.pdb ./templete/4R20_A/rec.pdb\n",
      "./alfpdb/alf15/apdb.pdb ./templete/2W0A_A/rec.pdb\n",
      "./alfpdb/alf15/apdb.pdb ./templete/2CI0_A/rec.pdb\n",
      "./alfpdb/alf15/apdb.pdb ./templete/2RFB_A/rec.pdb\n",
      "./alfpdb/alf15/apdb.pdb ./templete/2Q9G_A/rec.pdb\n",
      "./alfpdb/alf15/apdb.pdb ./templete/1X8V_A/rec.pdb\n",
      "./alfpdb/alf15/apdb.pdb ./templete/6UNI_A/rec.pdb\n",
      "./alfpdb/alf15/apdb.pdb ./templete/7UAY_A/rec.pdb\n",
      "./alfpdb/alf15/apdb.pdb ./templete/6UNL_A/rec.pdb\n",
      "./alfpdb/alf15/apdb.pdb ./templete/6DAB_A/rec.pdb\n",
      "859 2.519327092697572\n"
     ]
    },
    {
     "name": "stderr",
     "output_type": "stream",
     "text": [
      "/home/Grx/.local/lib/python3.11/site-packages/jax/_src/ops/scatter.py:94: FutureWarning: scatter inputs have incompatible types: cannot safely cast value from dtype=int64 to dtype=int32 with jax_numpy_dtype_promotion='standard'. In future JAX releases this will result in an error.\n",
      "  warnings.warn(\n"
     ]
    },
    {
     "name": "stdout",
     "output_type": "stream",
     "text": [
      "859 2.488410193725236\n",
      "15 46.92602777481079\n"
     ]
    },
    {
     "name": "stderr",
     "output_type": "stream",
     "text": [
      "/home/Grx/.local/lib/python3.11/site-packages/jax/_src/ops/scatter.py:94: FutureWarning: scatter inputs have incompatible types: cannot safely cast value from dtype=int64 to dtype=int32 with jax_numpy_dtype_promotion='standard'. In future JAX releases this will result in an error.\n",
      "  warnings.warn(\n"
     ]
    },
    {
     "name": "stdout",
     "output_type": "stream",
     "text": [
      "./alfpdb/alf16/apdb.pdb ./templete/3DBG_A/rec.pdb\n",
      "./alfpdb/alf16/apdb.pdb ./templete/8EWD_A/rec.pdb\n",
      "./alfpdb/alf16/apdb.pdb ./templete/7KVJ_A/rec.pdb\n",
      "./alfpdb/alf16/apdb.pdb ./templete/6UNL_A/rec.pdb\n",
      "./alfpdb/alf16/apdb.pdb ./templete/7UF9_A/rec.pdb\n",
      "./alfpdb/alf16/apdb.pdb ./templete/6BDH_A/rec.pdb\n",
      "./alfpdb/alf16/apdb.pdb ./templete/8EWR_A/rec.pdb\n",
      "./alfpdb/alf16/apdb.pdb ./templete/7KSA_A/rec.pdb\n",
      "./alfpdb/alf16/apdb.pdb ./templete/8EXB_A/rec.pdb\n",
      "./alfpdb/alf16/apdb.pdb ./templete/8EWM_A/rec.pdb\n",
      "./alfpdb/alf16/apdb.pdb ./templete/8EWN_A/rec.pdb\n",
      "./alfpdb/alf16/apdb.pdb ./templete/6UNM_A/rec.pdb\n",
      "./alfpdb/alf16/apdb.pdb ./templete/6DA3_A/rec.pdb\n",
      "./alfpdb/alf16/apdb.pdb ./templete/8EWL_A/rec.pdb\n",
      "./alfpdb/alf16/apdb.pdb ./templete/7UAZ_A/rec.pdb\n",
      "./alfpdb/alf16/apdb.pdb ./templete/6DAJ_A/rec.pdb\n",
      "./alfpdb/alf16/apdb.pdb ./templete/6DAA_A/rec.pdb\n",
      "./alfpdb/alf16/apdb.pdb ./templete/6DA5_A/rec.pdb\n",
      "./alfpdb/alf16/apdb.pdb ./templete/6DAG_A/rec.pdb\n",
      "./alfpdb/alf16/apdb.pdb ./templete/7KVI_A/rec.pdb\n",
      "C C -0.22831520554669948 1.3116847944533006\n",
      "C N -0.7227516070884812 0.7972483929115188\n",
      "C C -0.3641207544989997 1.1758792455010003\n",
      "C C -0.27722963291024194 1.262770367089758\n",
      "C C -0.2167475675442736 1.3232524324557264\n",
      "C N -0.22091031872314448 1.2990896812768555\n",
      "O N -0.2952928631936087 1.1847071368063913\n",
      "O C -0.3901774916681482 1.1098225083318518\n",
      "C N -0.438321212189126 1.081678787810874\n",
      "C C -0.09850424905239508 1.441495750947605\n",
      "C C -1.1721780321949231 0.36782196780507687\n",
      "O C -0.6709179775197145 0.8290820224802855\n"
     ]
    },
    {
     "name": "stderr",
     "output_type": "stream",
     "text": [
      "/home/Grx/.local/lib/python3.11/site-packages/jax/_src/ops/scatter.py:94: FutureWarning: scatter inputs have incompatible types: cannot safely cast value from dtype=int64 to dtype=int32 with jax_numpy_dtype_promotion='standard'. In future JAX releases this will result in an error.\n",
      "  warnings.warn(\n"
     ]
    },
    {
     "name": "stdout",
     "output_type": "stream",
     "text": [
      "C C -0.22831529995463828 1.3116847000453618\n",
      "C N -0.7227518625259652 0.7972481374740348\n",
      "C C -0.2772310091049568 1.2627689908950432\n",
      "C O -0.044006790808694074 1.455993209191306\n",
      "C N -0.22090975051805883 1.2990902494819412\n",
      "O C -0.5499472081409926 0.9500527918590074\n",
      "C C -0.20657170580725026 1.3334282941927498\n",
      "C C -0.5354405867724263 1.0045594132275737\n",
      "C C -0.6448735323942654 0.8951264676057347\n",
      "O C -0.6709605366983098 0.8290394633016902\n",
      "./alfpdb/alf16/apdb.pdb ./templete/3DBG_A/rec.pdb\n",
      "./alfpdb/alf16/apdb.pdb ./templete/8EWD_A/rec.pdb\n",
      "./alfpdb/alf16/apdb.pdb ./templete/7KVJ_A/rec.pdb\n",
      "./alfpdb/alf16/apdb.pdb ./templete/6UNL_A/rec.pdb\n",
      "./alfpdb/alf16/apdb.pdb ./templete/7UF9_A/rec.pdb\n",
      "./alfpdb/alf16/apdb.pdb ./templete/6BDH_A/rec.pdb\n",
      "./alfpdb/alf16/apdb.pdb ./templete/8EWR_A/rec.pdb\n",
      "./alfpdb/alf16/apdb.pdb ./templete/7KSA_A/rec.pdb\n",
      "./alfpdb/alf16/apdb.pdb ./templete/8EXB_A/rec.pdb\n",
      "./alfpdb/alf16/apdb.pdb ./templete/8EWM_A/rec.pdb\n",
      "./alfpdb/alf16/apdb.pdb ./templete/8EWN_A/rec.pdb\n",
      "./alfpdb/alf16/apdb.pdb ./templete/6UNM_A/rec.pdb\n",
      "./alfpdb/alf16/apdb.pdb ./templete/6DA3_A/rec.pdb\n",
      "./alfpdb/alf16/apdb.pdb ./templete/8EWL_A/rec.pdb\n",
      "./alfpdb/alf16/apdb.pdb ./templete/7UAZ_A/rec.pdb\n",
      "./alfpdb/alf16/apdb.pdb ./templete/6DAJ_A/rec.pdb\n",
      "./alfpdb/alf16/apdb.pdb ./templete/6DAA_A/rec.pdb\n",
      "./alfpdb/alf16/apdb.pdb ./templete/6DA5_A/rec.pdb\n",
      "./alfpdb/alf16/apdb.pdb ./templete/6DAG_A/rec.pdb\n",
      "./alfpdb/alf16/apdb.pdb ./templete/7KVI_A/rec.pdb\n",
      "C C -0.4786075183985894 1.0613924816014106\n",
      "C N -0.18721757214464763 1.3327824278553524\n",
      "C C -1.0713679481725564 0.4686320518274437\n",
      "C N -0.32604145800618367 1.1939585419938163\n",
      "C C -0.262641005824908 1.277358994175092\n",
      "C O -0.20349354031690292 1.296506459683097\n",
      "C N -0.5132651789075737 1.0067348210924263\n",
      "C C -0.1920011127601038 1.3479988872398962\n",
      "C N -0.34766088523840644 1.1723391147615936\n",
      "C C -0.39776315941044915 1.1422368405895509\n",
      "C C -0.09367154491104501 1.446328455088955\n"
     ]
    },
    {
     "name": "stderr",
     "output_type": "stream",
     "text": [
      "/home/Grx/.local/lib/python3.11/site-packages/jax/_src/ops/scatter.py:94: FutureWarning: scatter inputs have incompatible types: cannot safely cast value from dtype=int64 to dtype=int32 with jax_numpy_dtype_promotion='standard'. In future JAX releases this will result in an error.\n",
      "  warnings.warn(\n"
     ]
    },
    {
     "name": "stdout",
     "output_type": "stream",
     "text": [
      "C C -0.16006164397996536 1.3799383560200347\n",
      "C C -0.4251386610456678 1.1148613389543323\n",
      "C C -1.0224710862067963 0.5175289137932039\n",
      "C C -0.26119603214255793 1.278803967857442\n",
      "C O -0.7725528377471865 0.7274471622528135\n",
      "C N -0.16946092566355775 1.3505390743364423\n",
      "C C -0.1910897395842881 1.348910260415712\n",
      "C N -0.3461160030723829 1.1738839969276171\n",
      "C N -0.963505481837664 0.556494518162336\n",
      "C N -0.14390883064809423 1.3760911693519058\n",
      "C C -0.49665900915903993 1.04334099084096\n",
      "C C -0.202764093763397 1.337235906236603\n",
      "./alfpdb/alf16/apdb.pdb ./templete/3DBG_A/rec.pdb\n",
      "./alfpdb/alf16/apdb.pdb ./templete/8EWD_A/rec.pdb\n",
      "./alfpdb/alf16/apdb.pdb ./templete/7KVJ_A/rec.pdb\n",
      "./alfpdb/alf16/apdb.pdb ./templete/6UNL_A/rec.pdb\n",
      "./alfpdb/alf16/apdb.pdb ./templete/7UF9_A/rec.pdb\n",
      "./alfpdb/alf16/apdb.pdb ./templete/6BDH_A/rec.pdb\n",
      "./alfpdb/alf16/apdb.pdb ./templete/8EWR_A/rec.pdb\n",
      "./alfpdb/alf16/apdb.pdb ./templete/7KSA_A/rec.pdb\n",
      "./alfpdb/alf16/apdb.pdb ./templete/8EXB_A/rec.pdb\n",
      "./alfpdb/alf16/apdb.pdb ./templete/8EWM_A/rec.pdb\n",
      "./alfpdb/alf16/apdb.pdb ./templete/8EWN_A/rec.pdb\n",
      "./alfpdb/alf16/apdb.pdb ./templete/6UNM_A/rec.pdb\n",
      "./alfpdb/alf16/apdb.pdb ./templete/6DA3_A/rec.pdb\n",
      "./alfpdb/alf16/apdb.pdb ./templete/8EWL_A/rec.pdb\n",
      "./alfpdb/alf16/apdb.pdb ./templete/7UAZ_A/rec.pdb\n",
      "./alfpdb/alf16/apdb.pdb ./templete/6DAJ_A/rec.pdb\n",
      "./alfpdb/alf16/apdb.pdb ./templete/6DAA_A/rec.pdb\n",
      "./alfpdb/alf16/apdb.pdb ./templete/6DA5_A/rec.pdb\n",
      "./alfpdb/alf16/apdb.pdb ./templete/6DAG_A/rec.pdb\n",
      "./alfpdb/alf16/apdb.pdb ./templete/7KVI_A/rec.pdb\n",
      "3546 1.8276796765297803\n",
      "C C -0.4568615047003466 1.0831384952996534\n",
      "C O -0.8808126293277602 0.6191873706722398\n"
     ]
    },
    {
     "name": "stderr",
     "output_type": "stream",
     "text": [
      "/home/Grx/.local/lib/python3.11/site-packages/jax/_src/ops/scatter.py:94: FutureWarning: scatter inputs have incompatible types: cannot safely cast value from dtype=int64 to dtype=int32 with jax_numpy_dtype_promotion='standard'. In future JAX releases this will result in an error.\n",
      "  warnings.warn(\n"
     ]
    },
    {
     "name": "stdout",
     "output_type": "stream",
     "text": [
      "3546 1.9410946856046578\n",
      "16 131.38299584388733\n",
      "2791 2.0009772612401173\n"
     ]
    },
    {
     "name": "stderr",
     "output_type": "stream",
     "text": [
      "/home/Grx/.local/lib/python3.11/site-packages/jax/_src/ops/scatter.py:94: FutureWarning: scatter inputs have incompatible types: cannot safely cast value from dtype=int64 to dtype=int32 with jax_numpy_dtype_promotion='standard'. In future JAX releases this will result in an error.\n",
      "  warnings.warn(\n"
     ]
    },
    {
     "name": "stdout",
     "output_type": "stream",
     "text": [
      "2791 1.9221916309154359\n",
      "./alfpdb/alf18/apdb.pdb ./templete/7SMZ_A/rec.pdb\n",
      "./alfpdb/alf18/apdb.pdb ./templete/3MGX_A/rec.pdb\n",
      "./alfpdb/alf18/apdb.pdb ./templete/5LIE_A/rec.pdb\n",
      "./alfpdb/alf18/apdb.pdb ./templete/4PWV_A/rec.pdb\n",
      "./alfpdb/alf18/apdb.pdb ./templete/5LI6_A/rec.pdb\n",
      "./alfpdb/alf18/apdb.pdb ./templete/4TRI_A/rec.pdb\n",
      "./alfpdb/alf18/apdb.pdb ./templete/5LI7_A/rec.pdb\n",
      "./alfpdb/alf18/apdb.pdb ./templete/4RM4_A/rec.pdb\n",
      "./alfpdb/alf18/apdb.pdb ./templete/2RFB_A/rec.pdb\n",
      "./alfpdb/alf18/apdb.pdb ./templete/7QQ7_A/rec.pdb\n",
      "./alfpdb/alf18/apdb.pdb ./templete/2XKR_A/rec.pdb\n",
      "./alfpdb/alf18/apdb.pdb ./templete/6B11_A/rec.pdb\n",
      "./alfpdb/alf18/apdb.pdb ./templete/7P5T_A/rec.pdb\n",
      "./alfpdb/alf18/apdb.pdb ./templete/7QJL_A/rec.pdb\n",
      "./alfpdb/alf18/apdb.pdb ./templete/4LHT_A/rec.pdb\n",
      "./alfpdb/alf18/apdb.pdb ./templete/3WVS_A/rec.pdb\n",
      "./alfpdb/alf18/apdb.pdb ./templete/5L92_A/rec.pdb\n",
      "./alfpdb/alf18/apdb.pdb ./templete/5L94_A/rec.pdb\n",
      "./alfpdb/alf18/apdb.pdb ./templete/4L77_A/rec.pdb\n",
      "./alfpdb/alf18/apdb.pdb ./templete/7WEX_A/rec.pdb\n",
      "2791 2.0009772612401173\n"
     ]
    },
    {
     "name": "stderr",
     "output_type": "stream",
     "text": [
      "/home/Grx/.local/lib/python3.11/site-packages/jax/_src/ops/scatter.py:94: FutureWarning: scatter inputs have incompatible types: cannot safely cast value from dtype=int64 to dtype=int32 with jax_numpy_dtype_promotion='standard'. In future JAX releases this will result in an error.\n",
      "  warnings.warn(\n"
     ]
    },
    {
     "name": "stdout",
     "output_type": "stream",
     "text": [
      "2791 1.9221916309154463\n",
      "./alfpdb/alf18/apdb.pdb ./templete/7SMZ_A/rec.pdb\n",
      "./alfpdb/alf18/apdb.pdb ./templete/3MGX_A/rec.pdb\n",
      "./alfpdb/alf18/apdb.pdb ./templete/5LIE_A/rec.pdb\n",
      "./alfpdb/alf18/apdb.pdb ./templete/4PWV_A/rec.pdb\n",
      "./alfpdb/alf18/apdb.pdb ./templete/5LI6_A/rec.pdb\n",
      "./alfpdb/alf18/apdb.pdb ./templete/4TRI_A/rec.pdb\n",
      "./alfpdb/alf18/apdb.pdb ./templete/5LI7_A/rec.pdb\n",
      "./alfpdb/alf18/apdb.pdb ./templete/4RM4_A/rec.pdb\n",
      "./alfpdb/alf18/apdb.pdb ./templete/2RFB_A/rec.pdb\n",
      "./alfpdb/alf18/apdb.pdb ./templete/7QQ7_A/rec.pdb\n",
      "./alfpdb/alf18/apdb.pdb ./templete/2XKR_A/rec.pdb\n",
      "./alfpdb/alf18/apdb.pdb ./templete/6B11_A/rec.pdb\n",
      "./alfpdb/alf18/apdb.pdb ./templete/7P5T_A/rec.pdb\n",
      "./alfpdb/alf18/apdb.pdb ./templete/7QJL_A/rec.pdb\n",
      "./alfpdb/alf18/apdb.pdb ./templete/4LHT_A/rec.pdb\n",
      "./alfpdb/alf18/apdb.pdb ./templete/3WVS_A/rec.pdb\n",
      "./alfpdb/alf18/apdb.pdb ./templete/5L92_A/rec.pdb\n",
      "./alfpdb/alf18/apdb.pdb ./templete/5L94_A/rec.pdb\n",
      "./alfpdb/alf18/apdb.pdb ./templete/4L77_A/rec.pdb\n",
      "./alfpdb/alf18/apdb.pdb ./templete/7WEX_A/rec.pdb\n",
      "2791 2.0009772612401173\n"
     ]
    },
    {
     "name": "stderr",
     "output_type": "stream",
     "text": [
      "/home/Grx/.local/lib/python3.11/site-packages/jax/_src/ops/scatter.py:94: FutureWarning: scatter inputs have incompatible types: cannot safely cast value from dtype=int64 to dtype=int32 with jax_numpy_dtype_promotion='standard'. In future JAX releases this will result in an error.\n",
      "  warnings.warn(\n"
     ]
    },
    {
     "name": "stdout",
     "output_type": "stream",
     "text": [
      "2791 1.9221916309154476\n",
      "./alfpdb/alf18/apdb.pdb ./templete/7SMZ_A/rec.pdb\n",
      "./alfpdb/alf18/apdb.pdb ./templete/3MGX_A/rec.pdb\n",
      "./alfpdb/alf18/apdb.pdb ./templete/5LIE_A/rec.pdb\n",
      "./alfpdb/alf18/apdb.pdb ./templete/4PWV_A/rec.pdb\n",
      "./alfpdb/alf18/apdb.pdb ./templete/5LI6_A/rec.pdb\n",
      "./alfpdb/alf18/apdb.pdb ./templete/4TRI_A/rec.pdb\n",
      "./alfpdb/alf18/apdb.pdb ./templete/5LI7_A/rec.pdb\n",
      "./alfpdb/alf18/apdb.pdb ./templete/4RM4_A/rec.pdb\n",
      "./alfpdb/alf18/apdb.pdb ./templete/2RFB_A/rec.pdb\n",
      "./alfpdb/alf18/apdb.pdb ./templete/7QQ7_A/rec.pdb\n",
      "./alfpdb/alf18/apdb.pdb ./templete/2XKR_A/rec.pdb\n",
      "./alfpdb/alf18/apdb.pdb ./templete/6B11_A/rec.pdb\n",
      "./alfpdb/alf18/apdb.pdb ./templete/7P5T_A/rec.pdb\n",
      "./alfpdb/alf18/apdb.pdb ./templete/7QJL_A/rec.pdb\n",
      "./alfpdb/alf18/apdb.pdb ./templete/4LHT_A/rec.pdb\n",
      "./alfpdb/alf18/apdb.pdb ./templete/3WVS_A/rec.pdb\n",
      "./alfpdb/alf18/apdb.pdb ./templete/5L92_A/rec.pdb\n",
      "./alfpdb/alf18/apdb.pdb ./templete/5L94_A/rec.pdb\n",
      "./alfpdb/alf18/apdb.pdb ./templete/4L77_A/rec.pdb\n",
      "./alfpdb/alf18/apdb.pdb ./templete/7WEX_A/rec.pdb\n",
      "2791 2.0009772612401173\n"
     ]
    },
    {
     "name": "stderr",
     "output_type": "stream",
     "text": [
      "/home/Grx/.local/lib/python3.11/site-packages/jax/_src/ops/scatter.py:94: FutureWarning: scatter inputs have incompatible types: cannot safely cast value from dtype=int64 to dtype=int32 with jax_numpy_dtype_promotion='standard'. In future JAX releases this will result in an error.\n",
      "  warnings.warn(\n"
     ]
    },
    {
     "name": "stdout",
     "output_type": "stream",
     "text": [
      "2791 1.9221916309154488\n",
      "18 79.47681188583374\n",
      "3364 1.9462320005590281\n"
     ]
    },
    {
     "name": "stderr",
     "output_type": "stream",
     "text": [
      "/home/Grx/.local/lib/python3.11/site-packages/jax/_src/ops/scatter.py:94: FutureWarning: scatter inputs have incompatible types: cannot safely cast value from dtype=int64 to dtype=int32 with jax_numpy_dtype_promotion='standard'. In future JAX releases this will result in an error.\n",
      "  warnings.warn(\n"
     ]
    },
    {
     "name": "stdout",
     "output_type": "stream",
     "text": [
      "3364 1.910373477836299\n",
      "./alfpdb/alf19/apdb.pdb ./templete/1WIY_A/rec.pdb\n",
      "./alfpdb/alf19/apdb.pdb ./templete/3DBG_A/rec.pdb\n",
      "./alfpdb/alf19/apdb.pdb ./templete/1N97_A/rec.pdb\n",
      "./alfpdb/alf19/apdb.pdb ./templete/7KVJ_A/rec.pdb\n",
      "./alfpdb/alf19/apdb.pdb ./templete/7TTP_A/rec.pdb\n",
      "./alfpdb/alf19/apdb.pdb ./templete/8EWD_A/rec.pdb\n",
      "./alfpdb/alf19/apdb.pdb ./templete/7TTO_A/rec.pdb\n",
      "./alfpdb/alf19/apdb.pdb ./templete/7TTB_A/rec.pdb\n",
      "./alfpdb/alf19/apdb.pdb ./templete/7TTA_A/rec.pdb\n",
      "./alfpdb/alf19/apdb.pdb ./templete/3TJS_A/rec.pdb\n",
      "./alfpdb/alf19/apdb.pdb ./templete/3PSX_A/rec.pdb\n",
      "./alfpdb/alf19/apdb.pdb ./templete/6UNM_A/rec.pdb\n",
      "./alfpdb/alf19/apdb.pdb ./templete/7UAY_A/rec.pdb\n",
      "./alfpdb/alf19/apdb.pdb ./templete/8EXB_A/rec.pdb\n",
      "./alfpdb/alf19/apdb.pdb ./templete/6DAB_A/rec.pdb\n",
      "./alfpdb/alf19/apdb.pdb ./templete/3EL3_A/rec.pdb\n",
      "./alfpdb/alf19/apdb.pdb ./templete/8EWM_A/rec.pdb\n",
      "./alfpdb/alf19/apdb.pdb ./templete/6BDH_A/rec.pdb\n",
      "./alfpdb/alf19/apdb.pdb ./templete/6UNJ_A/rec.pdb\n",
      "./alfpdb/alf19/apdb.pdb ./templete/7UAZ_A/rec.pdb\n",
      "3364 1.9462320005590281\n"
     ]
    },
    {
     "name": "stderr",
     "output_type": "stream",
     "text": [
      "/home/Grx/.local/lib/python3.11/site-packages/jax/_src/ops/scatter.py:94: FutureWarning: scatter inputs have incompatible types: cannot safely cast value from dtype=int64 to dtype=int32 with jax_numpy_dtype_promotion='standard'. In future JAX releases this will result in an error.\n",
      "  warnings.warn(\n"
     ]
    },
    {
     "name": "stdout",
     "output_type": "stream",
     "text": [
      "3364 1.9103734778362984\n",
      "./alfpdb/alf19/apdb.pdb ./templete/1WIY_A/rec.pdb\n",
      "./alfpdb/alf19/apdb.pdb ./templete/3DBG_A/rec.pdb\n",
      "./alfpdb/alf19/apdb.pdb ./templete/1N97_A/rec.pdb\n",
      "./alfpdb/alf19/apdb.pdb ./templete/7KVJ_A/rec.pdb\n",
      "./alfpdb/alf19/apdb.pdb ./templete/7TTP_A/rec.pdb\n",
      "./alfpdb/alf19/apdb.pdb ./templete/8EWD_A/rec.pdb\n",
      "./alfpdb/alf19/apdb.pdb ./templete/7TTO_A/rec.pdb\n",
      "./alfpdb/alf19/apdb.pdb ./templete/7TTB_A/rec.pdb\n",
      "./alfpdb/alf19/apdb.pdb ./templete/7TTA_A/rec.pdb\n",
      "./alfpdb/alf19/apdb.pdb ./templete/3TJS_A/rec.pdb\n",
      "./alfpdb/alf19/apdb.pdb ./templete/3PSX_A/rec.pdb\n",
      "./alfpdb/alf19/apdb.pdb ./templete/6UNM_A/rec.pdb\n",
      "./alfpdb/alf19/apdb.pdb ./templete/7UAY_A/rec.pdb\n",
      "./alfpdb/alf19/apdb.pdb ./templete/8EXB_A/rec.pdb\n",
      "./alfpdb/alf19/apdb.pdb ./templete/6DAB_A/rec.pdb\n",
      "./alfpdb/alf19/apdb.pdb ./templete/3EL3_A/rec.pdb\n",
      "./alfpdb/alf19/apdb.pdb ./templete/8EWM_A/rec.pdb\n",
      "./alfpdb/alf19/apdb.pdb ./templete/6BDH_A/rec.pdb\n",
      "./alfpdb/alf19/apdb.pdb ./templete/6UNJ_A/rec.pdb\n",
      "./alfpdb/alf19/apdb.pdb ./templete/7UAZ_A/rec.pdb\n"
     ]
    },
    {
     "name": "stderr",
     "output_type": "stream",
     "text": [
      "/home/Grx/.local/lib/python3.11/site-packages/jax/_src/ops/scatter.py:94: FutureWarning: scatter inputs have incompatible types: cannot safely cast value from dtype=int64 to dtype=int32 with jax_numpy_dtype_promotion='standard'. In future JAX releases this will result in an error.\n",
      "  warnings.warn(\n"
     ]
    },
    {
     "name": "stdout",
     "output_type": "stream",
     "text": [
      "./alfpdb/alf19/apdb.pdb ./templete/1WIY_A/rec.pdb\n",
      "./alfpdb/alf19/apdb.pdb ./templete/3DBG_A/rec.pdb\n",
      "./alfpdb/alf19/apdb.pdb ./templete/1N97_A/rec.pdb\n",
      "./alfpdb/alf19/apdb.pdb ./templete/7KVJ_A/rec.pdb\n",
      "./alfpdb/alf19/apdb.pdb ./templete/7TTP_A/rec.pdb\n",
      "./alfpdb/alf19/apdb.pdb ./templete/8EWD_A/rec.pdb\n",
      "./alfpdb/alf19/apdb.pdb ./templete/7TTO_A/rec.pdb\n",
      "./alfpdb/alf19/apdb.pdb ./templete/7TTB_A/rec.pdb\n",
      "./alfpdb/alf19/apdb.pdb ./templete/7TTA_A/rec.pdb\n",
      "./alfpdb/alf19/apdb.pdb ./templete/3TJS_A/rec.pdb\n",
      "./alfpdb/alf19/apdb.pdb ./templete/3PSX_A/rec.pdb\n",
      "./alfpdb/alf19/apdb.pdb ./templete/6UNM_A/rec.pdb\n",
      "./alfpdb/alf19/apdb.pdb ./templete/7UAY_A/rec.pdb\n",
      "./alfpdb/alf19/apdb.pdb ./templete/8EXB_A/rec.pdb\n",
      "./alfpdb/alf19/apdb.pdb ./templete/6DAB_A/rec.pdb\n",
      "./alfpdb/alf19/apdb.pdb ./templete/3EL3_A/rec.pdb\n",
      "./alfpdb/alf19/apdb.pdb ./templete/8EWM_A/rec.pdb\n",
      "./alfpdb/alf19/apdb.pdb ./templete/6BDH_A/rec.pdb\n",
      "./alfpdb/alf19/apdb.pdb ./templete/6UNJ_A/rec.pdb\n",
      "./alfpdb/alf19/apdb.pdb ./templete/7UAZ_A/rec.pdb\n",
      "3364 1.4743289999182678\n",
      "FE S -0.3056710000817322 1.4743289999182678\n"
     ]
    },
    {
     "name": "stderr",
     "output_type": "stream",
     "text": [
      "/home/Grx/.local/lib/python3.11/site-packages/jax/_src/ops/scatter.py:94: FutureWarning: scatter inputs have incompatible types: cannot safely cast value from dtype=int64 to dtype=int32 with jax_numpy_dtype_promotion='standard'. In future JAX releases this will result in an error.\n",
      "  warnings.warn(\n"
     ]
    },
    {
     "name": "stdout",
     "output_type": "stream",
     "text": [
      "3364 1.887120198028084\n",
      "19 105.44710350036621\n"
     ]
    }
   ],
   "source": [
    "resultax5=[]\n",
    "resultax6=[]\n",
    "resultax7=[]\n",
    "resultax8=[]\n",
    "for i in range(0,20):\n",
    "    if i==3  or i==4 or i==7 or i==17:\n",
    "        continue\n",
    "    \n",
    "    t0=time.time()\n",
    "    prtpath='./alfpdb/alf'+str(i)+'/apdb.pdb'\n",
    "    teml=get_tem(1,10,i)\n",
    "    success,suct,fesx=get_mdp(teml,prtpath)\n",
    "    succ,crashn,fes=md(suct,1,1,4,i)\n",
    "    t1=time.time()\n",
    "    resultax5.append([prtpath,succ,fes,t1-t0+60])\n",
    "    \n",
    "    t0x=time.time()\n",
    "    prtpath='./alfpdb/alf'+str(i)+'/apdb.pdb'\n",
    "    teml=get_tem(0,10,i)\n",
    "    success,suct,fesx=get_mdp(teml,prtpath)\n",
    "    succ,crashn,fes=md(suct,1,1,5,i)\n",
    "    t1x=time.time()\n",
    "    resultax6.append([prtpath,succ,fes,t1x-t0x+60])\n",
    "    \n",
    "    t0x=time.time()\n",
    "    prtpath='./alfpdb/alf'+str(i)+'/apdb.pdb'\n",
    "    teml=get_tem(0,5,i)\n",
    "    success,suct,fesx=get_mdp(teml,prtpath)\n",
    "    succ,crashn,fes=md(suct,1,1,6,i)\n",
    "    t1x=time.time()\n",
    "    resultax7.append([prtpath,succ,fes,t1x-t0x+60])\n",
    "    \n",
    "    t0x=time.time()\n",
    "    prtpath='./alfpdb/alf'+str(i)+'/apdb.pdb'\n",
    "    teml=get_tem(0,1,i)\n",
    "    success,suct,fesx=get_mdp(teml,prtpath)\n",
    "    succ,crashn,fes=md(suct,1,1,7,i)\n",
    "    t1x=time.time()\n",
    "    resultax8.append([prtpath,succ,fes,t1x-t0x+60])\n",
    "    \n",
    "    print(i,time.time()-t0)"
   ]
  },
  {
   "cell_type": "code",
   "execution_count": 51,
   "id": "c0021a6c",
   "metadata": {},
   "outputs": [
    {
     "name": "stdout",
     "output_type": "stream",
     "text": [
      "1 0.3 0.7261158317716147 92.7252473971423\n",
      "2 0.35 0.725422447355828 90.8672117766212\n",
      "3 0.6 0.7522607572408305 86.44364742671742\n",
      "4 0.6 0.7521044408710871 86.82392852446613\n",
      "5 0.55 0.820601280195029 82.21635013818741\n",
      "6 0.55 0.771602164980499 86.62609243392944\n",
      "7 0.5 0.9656115235813376 85.06105908751488\n",
      "8 0.5 0.7175816939732346 83.66715496778488\n"
     ]
    }
   ],
   "source": [
    "sl=[]\n",
    "fl=[]\n",
    "tl=[]\n",
    "for i in resultax1:\n",
    "    sl.append(i[1])\n",
    "    fl.append(i[2])\n",
    "    tl.append(i[3])\n",
    "sumr=[]\n",
    "lenr=0\n",
    "for j in fl:\n",
    "    if j<5:\n",
    "        sumr.append((j-2.38)**2)\n",
    "        lenr+=1\n",
    "sumx=np.array(sumr)\n",
    "tl=np.array(tl)\n",
    "print(1,sl.count(1)/20,np.mean(sumx)**0.5,np.mean(tl))\n",
    "\n",
    "sl=[]\n",
    "fl=[]\n",
    "tl=[]\n",
    "for i in resultax2:\n",
    "    sl.append(i[1])\n",
    "    fl.append(i[2])\n",
    "    tl.append(i[3])\n",
    "sumr=[]\n",
    "lenr=0\n",
    "for j in fl:\n",
    "    if j<5:\n",
    "        sumr.append((j-2.38)**2)\n",
    "        lenr+=1\n",
    "sumx=np.array(sumr)\n",
    "tl=np.array(tl)\n",
    "print(2,sl.count(1)/20,np.mean(sumx)**0.5,np.mean(tl))\n",
    "\n",
    "sl=[]\n",
    "fl=[]\n",
    "tl=[]\n",
    "for i in resultax3:\n",
    "    sl.append(i[1])\n",
    "    fl.append(i[2])\n",
    "    tl.append(i[3])\n",
    "sumr=[]\n",
    "lenr=0\n",
    "for j in fl:\n",
    "    if j<5:\n",
    "        sumr.append((j-2.38)**2)\n",
    "        lenr+=1\n",
    "sumx=np.array(sumr)\n",
    "tl=np.array(tl)\n",
    "print(3,sl.count(1)/20,np.mean(sumx)**0.5,np.mean(tl))\n",
    "\n",
    "sl=[]\n",
    "fl=[]\n",
    "tl=[]\n",
    "for i in resultax4:\n",
    "    sl.append(i[1])\n",
    "    fl.append(i[2])\n",
    "    tl.append(i[3])\n",
    "sumr=[]\n",
    "lenr=0\n",
    "for j in fl:\n",
    "    if j<5:\n",
    "        sumr.append((j-2.38)**2)\n",
    "        lenr+=1\n",
    "sumr=np.array(sumr)\n",
    "tl=np.array(tl)\n",
    "print(4,sl.count(1)/20,np.mean(sumr)**0.5,np.mean(tl))\n",
    "\n",
    "sl=[]\n",
    "fl=[]\n",
    "tl=[]\n",
    "for i in resultax5:\n",
    "    sl.append(i[1])\n",
    "    fl.append(i[2])\n",
    "    tl.append(i[3])\n",
    "sumr=[]\n",
    "lenr=0\n",
    "for j in fl:\n",
    "    if j<5:\n",
    "        sumr.append((j-2.38)**2)\n",
    "        lenr+=1\n",
    "sumr=np.array(sumr)\n",
    "tl=np.array(tl)\n",
    "print(5,sl.count(1)/20,np.mean(sumr)**0.5,np.mean(tl))\n",
    "\n",
    "sl=[]\n",
    "fl=[]\n",
    "tl=[]\n",
    "for i in resultax6:\n",
    "    sl.append(i[1])\n",
    "    fl.append(i[2])\n",
    "    tl.append(i[3])\n",
    "sumr=[]\n",
    "lenr=0\n",
    "for j in fl:\n",
    "    if j<5:\n",
    "        sumr.append((j-2.38)**2)\n",
    "        lenr+=1\n",
    "sumr=np.array(sumr)\n",
    "tl=np.array(tl)\n",
    "print(6,sl.count(1)/20,np.mean(sumr)**0.5,np.mean(tl))\n",
    "\n",
    "sl=[]\n",
    "fl=[]\n",
    "tl=[]\n",
    "for i in resultax7:\n",
    "    sl.append(i[1])\n",
    "    fl.append(i[2])\n",
    "    tl.append(i[3])\n",
    "sumr=[]\n",
    "lenr=0\n",
    "for j in fl:\n",
    "    if j<5:\n",
    "        sumr.append((j-2.38)**2)\n",
    "        lenr+=1\n",
    "sumr=np.array(sumr)\n",
    "tl=np.array(tl)\n",
    "print(7,sl.count(1)/20,np.mean(sumr)**0.5,np.mean(tl))\n",
    "\n",
    "sl=[]\n",
    "fl=[]\n",
    "tl=[]\n",
    "for i in resultax8:\n",
    "    sl.append(i[1])\n",
    "    fl.append(i[2])\n",
    "    tl.append(i[3])\n",
    "sumr=[]\n",
    "lenr=0\n",
    "for j in fl:\n",
    "    if j<5:\n",
    "        sumr.append((j-2.38)**2)\n",
    "        lenr+=1\n",
    "sumr=np.array(sumr)\n",
    "tl=np.array(tl)\n",
    "print(8,sl.count(1)/20,np.mean(sumr)**0.5,np.mean(tl))"
   ]
  },
  {
   "cell_type": "code",
   "execution_count": null,
   "id": "c51ceb08",
   "metadata": {},
   "outputs": [],
   "source": [
    "def writeresult(file,l):\n",
    "    with open(file,'w')as f:\n",
    "        for i in l:\n",
    "            print(i,file=f)\n",
    "writeresult('./resultaxr/result0.txt',resultax0)\n",
    "writeresult('./resultaxr/result1.txt',resultax1)\n",
    "writeresult('./resultaxr/result2.txt',resultax2)\n",
    "writeresult('./resultaxr/result3.txt',resultax3)\n",
    "writeresult('./resultaxr/result4.txt',resultax4)\n",
    "writeresult('./resultaxr/result5.txt',resultax5)\n",
    "writeresult('./resultaxr/result6.txt',resultax6)\n",
    "writeresult('./resultaxr/result7.txt',resultax7)\n",
    "writeresult('./resultaxr/result8.txt',resultax8)\n",
    "writeresult('./resultaxr/result9.txt',resultax9)"
   ]
  },
  {
   "cell_type": "code",
   "execution_count": 46,
   "id": "bc724b3a",
   "metadata": {},
   "outputs": [],
   "source": [
    "xxxlll=1"
   ]
  },
  {
   "cell_type": "code",
   "execution_count": null,
   "id": "1a3f7d0e",
   "metadata": {},
   "outputs": [],
   "source": []
  }
 ],
 "metadata": {
  "kernelspec": {
   "display_name": "Python 3 (ipykernel)",
   "language": "python",
   "name": "python3"
  },
  "language_info": {
   "codemirror_mode": {
    "name": "ipython",
    "version": 3
   },
   "file_extension": ".py",
   "mimetype": "text/x-python",
   "name": "python",
   "nbconvert_exporter": "python",
   "pygments_lexer": "ipython3",
   "version": "3.11.4"
  }
 },
 "nbformat": 4,
 "nbformat_minor": 5
}
