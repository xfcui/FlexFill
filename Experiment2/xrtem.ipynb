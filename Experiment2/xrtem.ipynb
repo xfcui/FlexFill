{
 "cells": [
  {
   "cell_type": "code",
   "execution_count": 1,
   "id": "a9aa145d",
   "metadata": {},
   "outputs": [],
   "source": [
    "import os\n",
    "import time\n",
    "import shutil"
   ]
  },
  {
   "cell_type": "code",
   "execution_count": 2,
   "id": "5a7f7913",
   "metadata": {},
   "outputs": [],
   "source": [
    "os.environ['CUDA_VISIBLE_DEVICES']='6'\n",
    "os.environ['TF_CPP_MIN_LOG_LEVEL'] = '0'"
   ]
  },
  {
   "cell_type": "code",
   "execution_count": 3,
   "id": "c266772c",
   "metadata": {},
   "outputs": [
    {
     "name": "stderr",
     "output_type": "stream",
     "text": [
      "2024-07-28 04:50:29.110498: I external/xla/xla/service/service.cc:168] XLA service 0x3d71780 initialized for platform CUDA (this does not guarantee that XLA will be used). Devices:\n",
      "2024-07-28 04:50:29.110604: I external/xla/xla/service/service.cc:176]   StreamExecutor device (0): NVIDIA GeForce RTX 2080 Ti, Compute Capability 7.5\n",
      "2024-07-28 04:50:29.186707: I external/xla/xla/pjrt/gpu/se_gpu_pjrt_client.cc:738] Using BFC allocator.\n",
      "2024-07-28 04:50:29.186845: I external/xla/xla/pjrt/gpu/gpu_helpers.cc:105] XLA backend allocating 8654290944 bytes on device 0 for BFCAllocator.\n",
      "2024-07-28 04:50:29.395963: I external/xla/xla/stream_executor/cuda/cuda_dnn.cc:455] Loaded cuDNN version 8906\n",
      "2024-07-28 04:50:29.545618: I external/tsl/tsl/platform/default/subprocess.cc:304] Start cannot spawn child process: No such file or directory\n",
      "2024-07-28 04:50:29.626108: I external/tsl/tsl/platform/default/subprocess.cc:304] Start cannot spawn child process: No such file or directory\n",
      "2024-07-28 04:50:29.765423: I external/xla/xla/stream_executor/cuda/cuda_asm_compiler.cc:52] Using nvlink for parallel linking\n",
      "2024-07-28 04:50:29.849810: I external/xla/xla/stream_executor/cuda/cuda_driver.cc:1112] failed to allocate 8.06GiB (8654290944 bytes) from device: CUDA_ERROR_OUT_OF_MEMORY: out of memory\n",
      "2024-07-28 04:50:29.850625: I external/xla/xla/stream_executor/cuda/cuda_driver.cc:1112] failed to allocate 7.25GiB (7788861440 bytes) from device: CUDA_ERROR_OUT_OF_MEMORY: out of memory\n"
     ]
    }
   ],
   "source": [
    "import numpy as onp\n",
    "\n",
    "import jax.numpy as np\n",
    "from jax import random\n",
    "from jax import jit, grad, vmap, value_and_grad\n",
    "from jax import lax\n",
    "from jax import ops\n",
    "\n",
    "from jax import config\n",
    "config.update(\"jax_enable_x64\", True)\n",
    "\n",
    "from jax_md import space, smap, energy, minimize, quantity, simulate, partition\n",
    "\n",
    "from functools import partial\n",
    "import time\n",
    "\n",
    "f32 = np.float32\n",
    "f64 = np.float64\n",
    "  \n",
    "key = random.PRNGKey(0)"
   ]
  },
  {
   "cell_type": "code",
   "execution_count": 4,
   "id": "04eb3e82",
   "metadata": {},
   "outputs": [],
   "source": [
    "#从TMalign输出中获取得分\n",
    "def getscore(file):\n",
    "    cnt=0\n",
    "    score=0.0\n",
    "    with open(file) as f:\n",
    "        for i in f:\n",
    "            #print(cnt,i)\n",
    "            if cnt==14:\n",
    "                xi=i.split()\n",
    "                score=float(xi[1])\n",
    "                break\n",
    "            cnt=cnt+1\n",
    "    return score"
   ]
  },
  {
   "cell_type": "code",
   "execution_count": 5,
   "id": "f9ac2343",
   "metadata": {},
   "outputs": [],
   "source": [
    "#成对距离的计算\n",
    "from jax_md import space\n",
    "import jax.numpy as np\n",
    "def displacement(Ra, Rb, **unused_kwargs):\n",
    "    dR = Ra - Rb\n",
    "    return dR\n",
    "metric = space.metric(displacement)\n",
    "metrix = space.map_product(metric)"
   ]
  },
  {
   "cell_type": "code",
   "execution_count": 6,
   "id": "a8625fd3",
   "metadata": {},
   "outputs": [],
   "source": [
    "#酶和小分子的读入\n",
    "from biopandas.pdb import PandasPdb\n",
    "def readlig(file):\n",
    "    data = PandasPdb().read_pdb(file)\n",
    "    df = data.df['HETATM']\n",
    "    typ=df['atom_name']\n",
    "    lx=df['x_coord']\n",
    "    ly=df['y_coord']\n",
    "    lz=df['z_coord']\n",
    "    osym=df['element_symbol']\n",
    "    otyp=[]\n",
    "    opos=[]\n",
    "    for i in range(len(typ)):\n",
    "        otyp.append(typ[i])\n",
    "        opos.append([lx[i],ly[i],lz[i]])\n",
    "    \n",
    "    nom=['CHA', 'CHB', 'CHC', 'CHD', 'C1A', 'C2A', 'C3A', 'C4A', 'CMA', 'CAA', 'CBA', 'CGA', 'O1A', 'O2A', 'C1B', 'C2B', 'C3B', 'C4B', 'CMB', 'CAB', 'CBB', 'C1C', 'C2C', 'C3C', 'C4C', 'CMC', 'CAC', 'CBC', 'C1D', 'C2D', 'C3D', 'C4D', 'CMD', 'CAD', 'CBD', 'CGD', 'O1D', 'O2D', 'NA', 'NB', 'NC', 'ND', 'FE']\n",
    "    if len(otyp)!=43:\n",
    "        return otyp,opos\n",
    "#    if otyp[0]!=nom[0]:\n",
    "    dic={}\n",
    "    new_pos=[]\n",
    "    new_typ=[]\n",
    "    new_sym=[]\n",
    "    for i in range(len(otyp)):\n",
    "        dic[otyp[i]]=i\n",
    "    for i in nom:\n",
    "        j=dic[i]\n",
    "        new_pos.append(opos[j])\n",
    "        new_typ.append(otyp[j])\n",
    "        new_sym.append(osym[j])\n",
    "    return new_typ,new_pos,new_sym\n",
    "    \n",
    "    return otyp,opos,osym\n",
    "\n",
    "def readrec(file):\n",
    "    data = PandasPdb().read_pdb(file)\n",
    "    df = data.df['ATOM']\n",
    "    res=df['residue_name']\n",
    "    typ=df['atom_name']\n",
    "    lx=df['x_coord']\n",
    "    ly=df['y_coord']\n",
    "    lz=df['z_coord']\n",
    "    sym=df['element_symbol']\n",
    "    otyp=[]\n",
    "    opos=[]\n",
    "    ores=[]\n",
    "    osym=[]\n",
    "    for i in range(len(typ)):\n",
    "        otyp.append(typ[i])\n",
    "        opos.append([lx[i],ly[i],lz[i]])\n",
    "        ores.append(res[i])\n",
    "        osym.append(sym[i])\n",
    "    return otyp,opos,ores,osym"
   ]
  },
  {
   "cell_type": "code",
   "execution_count": 7,
   "id": "261fdee4",
   "metadata": {},
   "outputs": [],
   "source": [
    "def readrecx(file):\n",
    "    data = PandasPdb().read_pdb(file)\n",
    "    df = data.df['ATOM']\n",
    "    #print(df)\n",
    "    res=df['residue_name']\n",
    "    resnum=df['residue_number']\n",
    "    typ=df['atom_name']\n",
    "    lx=df['x_coord']\n",
    "    ly=df['y_coord']\n",
    "    lz=df['z_coord']\n",
    "    sym=df['element_symbol']\n",
    "    otyp=[]\n",
    "    opos=[]\n",
    "    ores=[]\n",
    "    osym=[]\n",
    "    onum=[]\n",
    "    for i in range(len(typ)):\n",
    "        otyp.append(typ[i])\n",
    "        opos.append([lx[i],ly[i],lz[i]])\n",
    "        ores.append(res[i])\n",
    "        osym.append(sym[i])\n",
    "        onum.append(resnum[i])\n",
    "    return otyp,opos,ores,osym,onum"
   ]
  },
  {
   "cell_type": "code",
   "execution_count": 8,
   "id": "7782cb17",
   "metadata": {},
   "outputs": [],
   "source": [
    "dicr={'H':0.32,'C':0.77,'N':0.75,'O':0.73,'S':1.02,'FE':0.76}\n",
    "def ckcrash(pres,ps,ppos,hs,hpos):\n",
    "    #检查蛋白质和小分子关系，p代表蛋白质数据，h代表小分子数据\n",
    "    #print('***')\n",
    "    \n",
    "    #生成原子半径\n",
    "    pr=[]\n",
    "    hr=[]\n",
    "    for i in ps:\n",
    "        if i not in dicr:\n",
    "            print(i,dicr)\n",
    "            return\n",
    "        pr.append(dicr[i])\n",
    "    for i in hs:\n",
    "        if i not in dicr:\n",
    "            print(i,dicr)\n",
    "            return\n",
    "        hr.append(dicr[i])\n",
    "    \n",
    "    \n",
    "    pr=np.array(pr)\n",
    "    hr=np.array(hr)\n",
    "    ppos=np.array(ppos)\n",
    "    hpos=np.array(hpos)\n",
    "    disph=[]\n",
    "    result='success'\n",
    "    minfes=100.0\n",
    "    spos=0\n",
    "    \n",
    "    #计算heme小分子的原子与蛋白质原子的距离\n",
    "    for i in range(len(hs)):\n",
    "        dis=metric(hpos[i],ppos)-(pr+hr[i])\n",
    "        disph.append(np.min(dis))\n",
    "        if hs[i]=='FE':\n",
    "            for j in range(len(pr)):\n",
    "                if ps[j]=='S': #and pres[j]=='CYS':\n",
    "                    fes=dis[j]+pr[j]+hr[i]\n",
    "                    #print(fes)\n",
    "                    if fes<minfes:\n",
    "                        minfes=fes\n",
    "                        spos=j\n",
    "            if minfes<1.93 or minfes>2.77:\n",
    "                result='Fe_remote'\n",
    "\n",
    "    for i in disph:\n",
    "#         if result!='success':\n",
    "#             break\n",
    "        if i<0:\n",
    "            result='crash'\n",
    "            break\n",
    "        if i>11:\n",
    "            result='notin'\n",
    "            break\n",
    "\n",
    "    return disph,result,minfes,spos"
   ]
  },
  {
   "cell_type": "code",
   "execution_count": 9,
   "id": "dd0285b4",
   "metadata": {},
   "outputs": [],
   "source": [
    "def process(rfile,lfile):\n",
    "    #检查蛋白质和小分子的具体关系，rfile代表蛋白质数据路径，lfile代表小分子数据路径\n",
    "#     if scorel[tag]!=omscore[tag]:\n",
    "#         print('err')\n",
    "#         return\n",
    "#     com='./TMalign '+oplist[tag]+' '+orlist[tag]+' -o TM_sup > outtm.txt'\n",
    "#     #print(com)\n",
    "#     os.system(com)\n",
    "    ptyp,ppos,pres,psym=readrec(rfile)\n",
    "    ltyp,lpos,lsym=readlig(lfile)\n",
    "    mindis,result,minfes,spos=ckcrash(pres,psym,ppos,lsym,lpos)\n",
    "    return result,minfes,spos\n",
    "    #print(minfes,min(mindis))\n",
    "    if result!='crash':\n",
    "        return result,minfes,spos\n",
    "    #检查具体的crash情况\n",
    "    nl=[ 'CBA', 'CGA', 'O1A', 'O2A',  'CBB', 'CBC', 'CBD', 'CGD', 'O1D', 'O2D'] \n",
    "    mintag=0\n",
    "    crashl=[]\n",
    "    for i in range(len(mindis)):\n",
    "        if mindis[i]<0:\n",
    "            if ltyp[i] not in nl:\n",
    "                mintag=1\n",
    "            crashl.append(ltyp[i])\n",
    "    if mintag==0:\n",
    "        return 'rotate',minfes,spos\n",
    "    if len(crashl)==1 and crashl[0]=='FE':\n",
    "        return 'Fe_crash',minfes,spos\n",
    "    return 'other',minfes,spos"
   ]
  },
  {
   "cell_type": "code",
   "execution_count": 44,
   "id": "f0cabaa1",
   "metadata": {},
   "outputs": [],
   "source": [
    "def get_tem(blv,top,i):\n",
    "    pat='./tempdb/tem'+str(i)\n",
    "    fdsk=pat+'/foldseekout.txt'\n",
    "    teml=[]\n",
    "    with open(fdsk)as f:\n",
    "        for j in f:\n",
    "            xi=j.split()\n",
    "            out=xi[1].replace(\"'\", \"\").replace(\",\", \"\")\n",
    "            tpp='./templete/'+out\n",
    "            ligp=tpp+'/lig.pdb'\n",
    "            if checkbondhem(ligp)==0:\n",
    "                continue\n",
    "            teml.append(tpp)\n",
    "            if len(teml)>20:\n",
    "                break\n",
    "    \n",
    "    if blv==1:\n",
    "        outl=[]\n",
    "        for j in range(1,top+1):\n",
    "            outl.append(teml[j])\n",
    "        return outl\n",
    "    \n",
    "    if blv==0:\n",
    "        prt='./tempdb/tem'+str(i)+'/apdb.pdb'\n",
    "        outf='outtmxrt.txt'\n",
    "        rel=[]\n",
    "        for j in range(1,20):\n",
    "            tem=teml[j]+'/rec.pdb'\n",
    "            print(prt,tem)\n",
    "            com='./TMalign '+prt+' '+tem+' > '+outf\n",
    "            os.system(com)\n",
    "            sc=getscore(outf)\n",
    "            rel.append((teml[j],sc))\n",
    "        sortedl=sorted(rel,key=lambda x:x[1],reverse=True)\n",
    "        outl=[]\n",
    "        for j in range(top):\n",
    "            outl.append(sortedl[j][0])\n",
    "        return outl\n",
    "        #print(sortedl)\n",
    "    \n",
    "#print(get_tem(0,10,0))"
   ]
  },
  {
   "cell_type": "code",
   "execution_count": 11,
   "id": "18ca4105",
   "metadata": {},
   "outputs": [],
   "source": [
    "def get_mdp(teml,prt):\n",
    "    suc=0\n",
    "    sucr=teml[0]\n",
    "    for i in teml:\n",
    "        trec=i+'/rec.pdb'\n",
    "        tlig=i+'/lig.pdb'\n",
    "        tmprt='./tmxrt/TM_sup.pdb'\n",
    "        com='./TMalign '+prt+' '+trec+' -o ./tmxrt/TM_sup > outtmxrt.txt'\n",
    "        os.system(com)\n",
    "        result,minfes,spos=process(tmprt,tlig)\n",
    "        if result=='success':\n",
    "            suc=1\n",
    "            sucr=i\n",
    "            break\n",
    "    return suc,sucr,minfes\n",
    "        #print(result,minfes,spos)"
   ]
  },
  {
   "cell_type": "code",
   "execution_count": 13,
   "id": "fa94a2c6",
   "metadata": {},
   "outputs": [
    {
     "data": {
      "text/plain": [
       "(1, './templete/4XRY_A', Array(2.55783072, dtype=float64))"
      ]
     },
     "execution_count": 13,
     "metadata": {},
     "output_type": "execute_result"
    }
   ],
   "source": [
    "xl=get_tem(1,10,0)\n",
    "xpath='./tempdb/tem'+str(1)+'/apdb.pdb'\n",
    "get_mdp(xl,xpath)"
   ]
  },
  {
   "cell_type": "code",
   "execution_count": 15,
   "id": "e7955b5c",
   "metadata": {},
   "outputs": [
    {
     "name": "stdout",
     "output_type": "stream",
     "text": [
      "(0, './templete/8EWQ_A')\n"
     ]
    }
   ],
   "source": [
    "print(get_mdp(xl,xpath))"
   ]
  },
  {
   "cell_type": "code",
   "execution_count": 14,
   "id": "79c6b896",
   "metadata": {},
   "outputs": [],
   "source": [
    "def init(ltyp,lpos,lsym,rtyp,rpos,rres,rsym,rnum):\n",
    "    R=[]\n",
    "    res=[]\n",
    "    typ=[]\n",
    "    resnum=[]\n",
    "    item=[]\n",
    "    dl={}\n",
    "    for i in range(len(lpos)):\n",
    "        R.append(lpos[i])\n",
    "        res.append('HEM')\n",
    "        typ.append(lsym[i])\n",
    "        item.append(ltyp[i])\n",
    "        resnum.append(0)\n",
    "        dl[ltyp[i]]=i\n",
    "    for i in range(len(rpos)):\n",
    "        R.append(rpos[i])\n",
    "        res.append(rres[i])\n",
    "        typ.append(rsym[i])\n",
    "        item.append(rtyp[i])\n",
    "        resnum.append(rnum[i])\n",
    "    R=np.array(R)\n",
    "    return R,res,typ,resnum,item,dl"
   ]
  },
  {
   "cell_type": "code",
   "execution_count": 40,
   "id": "9bd0b2a6",
   "metadata": {},
   "outputs": [],
   "source": [
    "def checkbondhem(ligfile):\n",
    "    conext=0\n",
    "    with open(ligfile) as f:\n",
    "        for i in f:\n",
    "            xi=i.split()\n",
    "            if xi[0]=='CONECT':\n",
    "                conext=1\n",
    "                break\n",
    "    return conext\n",
    "    "
   ]
  },
  {
   "cell_type": "code",
   "execution_count": 15,
   "id": "7d9688bc",
   "metadata": {},
   "outputs": [],
   "source": [
    "def bondhem(ligfile,R,d):\n",
    "    dx={}\n",
    "    bond=[]\n",
    "    bond_dis=[]\n",
    "    with open(ligfile) as f:\n",
    "        for i in f:\n",
    "            xi=i.split()\n",
    "            if xi[0]=='HETATM':\n",
    "                dx[xi[1]]=xi[2]\n",
    "            if xi[0]=='CONECT':\n",
    "                st='st'\n",
    "                for j in xi:\n",
    "                    if j=='CONECT':\n",
    "                        continue\n",
    "                    if st=='st':\n",
    "                        st=j\n",
    "                        continue\n",
    "                    a=dx[st]\n",
    "                    b=dx[j]\n",
    "                    bond.append([d[a],d[b]])\n",
    "                    bond_dis.append(metric(R[d[a]],R[d[b]]))\n",
    "    return bond,bond_dis"
   ]
  },
  {
   "cell_type": "code",
   "execution_count": 16,
   "id": "f4971a45",
   "metadata": {},
   "outputs": [],
   "source": [
    "def bondfes(R,fe,typ,res,d):\n",
    "    fe=d['FE']\n",
    "    s=0\n",
    "    for i in range(len(R)):\n",
    "        if typ[i]=='S' and res[i]=='CYS':\n",
    "            if metric(R[fe],R[i])<5.0:\n",
    "                print(i,metric(R[fe],R[i]))\n",
    "                s=i\n",
    "    return [[fe,s]],[2.38]"
   ]
  },
  {
   "cell_type": "code",
   "execution_count": 17,
   "id": "9f4c0713",
   "metadata": {},
   "outputs": [],
   "source": [
    "def ckcrashx(rtpos,typ,res,resnum):\n",
    "    ar=[]\n",
    "    crashl=[]\n",
    "    for i in typ:\n",
    "        if i not in dicr:\n",
    "            print(i)\n",
    "            return\n",
    "        ar.append(dicr[i])\n",
    "    ar=np.array(ar)\n",
    "    for i in range(len(rtpos)):\n",
    "        if res[i]!='HEM':\n",
    "            break\n",
    "        #print(i)\n",
    "        dis=metric(rtpos[i],rtpos)-(ar[i]+ar)\n",
    "        if np.min(dis[43:])<0:\n",
    "            mdis=np.argwhere(dis<0)\n",
    "            #print(mdis)\n",
    "            for jx in mdis:\n",
    "                j=jx[0]\n",
    "                #print(dis[j])\n",
    "                if resnum[j] not in crashl and j>=43:\n",
    "                    crashl.append(resnum[j])\n",
    "                    print(typ[i],typ[j],dis[j],metric(rtpos[i],rtpos[j]))\n",
    "    return crashl"
   ]
  },
  {
   "cell_type": "code",
   "execution_count": 50,
   "id": "606d925c",
   "metadata": {},
   "outputs": [],
   "source": [
    "amino_acids = {\n",
    "    'GLY': [('N', 'CA'), ('CA', 'C'), ('C', 'O')],\n",
    "    'ALA': [('N', 'CA'), ('CA', 'C'), ('C', 'O'), ('CA', 'CB')],\n",
    "    'SER': [('N', 'CA'), ('CA', 'C'), ('C', 'O'), ('CA', 'CB'), ('CB', 'OG')],\n",
    "    'CYS': [('N', 'CA'), ('CA', 'C'), ('C', 'O'), ('CA', 'CB'), ('CB', 'SG')],\n",
    "    'VAL': [('N', 'CA'), ('CA', 'C'), ('C', 'O'), ('CA', 'CB'), ('CB', 'CG1'), ('CB', 'CG2')],\n",
    "    'ILE': [('N', 'CA'), ('CA', 'C'), ('C', 'O'), ('CA', 'CB'), ('CB', 'CG1'), ('CG1', 'CD1'), ('CB', 'CG2')],\n",
    "    'LEU': [('N', 'CA'), ('CA', 'C'), ('C', 'O'), ('CA', 'CB'), ('CB', 'CG'), ('CG', 'CD1'), ('CG', 'CD2')],\n",
    "    'THR': [('N', 'CA'), ('CA', 'C'), ('C', 'O'), ('CA', 'CB'), ('CB', 'OG1'), ('CB', 'CG2')],\n",
    "    'ARG': [('N', 'CA'), ('CA', 'C'), ('C', 'O'), ('CA', 'CB'), ('CB', 'CG'), ('CG', 'CD'), ('CD', 'NE'), ('NE', 'CZ'), ('CZ', 'NH1'), ('CZ', 'NH2')],\n",
    "    'LYS': [('N', 'CA'), ('CA', 'C'), ('C', 'O'), ('CA', 'CB'), ('CB', 'CG'), ('CG', 'CD'), ('CD', 'CE'), ('CE', 'NZ')],\n",
    "    'ASP': [('N', 'CA'), ('CA', 'C'), ('C', 'O'), ('CA', 'CB'), ('CB', 'CG'), ('CG', 'OD1'), ('CG', 'OD2')],\n",
    "    'GLU': [('N', 'CA'), ('CA', 'C'), ('C', 'O'), ('CA', 'CB'), ('CB', 'CG'), ('CG', 'CD'), ('CD', 'OE1'), ('CD', 'OE2')],\n",
    "    'ASN': [('N', 'CA'), ('CA', 'C'), ('C', 'O'), ('CA', 'CB'), ('CB', 'CG'), ('CG', 'OD1'), ('CG', 'ND2')],\n",
    "    'GLN': [('N', 'CA'), ('CA', 'C'), ('C', 'O'), ('CA', 'CB'), ('CB', 'CG'), ('CG', 'CD'), ('CD', 'OE1'), ('CD', 'NE2')],\n",
    "    'HIS': [('N', 'CA'), ('CA', 'C'), ('C', 'O'), ('CA', 'CB'), ('CB', 'CG'), ('CG', 'ND1'), ('CG', 'CD2'), ('CD2', 'NE2'),('CE1', 'ND1'),('CE1', 'NE2')],\n",
    "    'PHE': [('N', 'CA'), ('CA', 'C'), ('C', 'O'), ('CA', 'CB'), ('CB', 'CG'), ('CG', 'CD1'), ('CG', 'CD2'), ('CD1', 'CE1'), ('CD2', 'CE2'), ('CE1', 'CZ'), ('CE2', 'CZ')],\n",
    "    'TYR': [('N', 'CA'), ('CA', 'C'), ('C', 'O'), ('CA', 'CB'), ('CB', 'CG'), ('CG', 'CD1'), ('CG', 'CD2'), ('CD1', 'CE1'), ('CD2', 'CE2'), ('CE1', 'CZ'), ('CZ', 'OH'), ('CE2', 'CZ')],\n",
    "    'TRP': [('N', 'CA'), ('CA', 'C'), ('C', 'O'), ('CA', 'CB'), ('CB', 'CG'), ('CG', 'CD1'), ('CG', 'CD2'), ('CD2', 'CE2'), ('CD2', 'CE3'), ('CE2', 'CZ2'), ('CE3', 'CZ3'), ('CZ2', 'CH2'),('CD1', 'NE1'),('CE2', 'NE1'),('CZ3', 'CH2')],\n",
    "    'MET': [('N', 'CA'), ('CA', 'C'), ('C', 'O'), ('CA', 'CB'), ('CB', 'CG'), ('CG', 'SD'), ('SD', 'CE')],\n",
    "    'PRO': [('N', 'CA'), ('CA', 'C'), ('C', 'O'), ('CA', 'CB'), ('CB', 'CG'), ('CG', 'CD'), ('CD', 'N')],  # Note: Proline has a bond back to its N\n",
    "}\n",
    "\n",
    "def get_bonds(residue):\n",
    "    return amino_acids.get(residue, \"Unknown residue.\")\n",
    "\n",
    "def bondres(R,crashl,resnum,item,res):\n",
    "    d={}\n",
    "    bond=[]\n",
    "    bond_dis=[]\n",
    "    for i in range(len(resnum)):\n",
    "        if resnum[i] in crashl:\n",
    "            d[item[i]]=i\n",
    "            if i+1==len(resnum):\n",
    "                b=get_bonds(res[i])\n",
    "                for j in b:\n",
    "                    xa=d[j[0]]\n",
    "                    xb=d[j[1]]\n",
    "                    bond.append([xa,xb])\n",
    "                    bond_dis.append(metric(R[xa],R[xb]))\n",
    "                break\n",
    "            if resnum[i]!=resnum[i+1]:\n",
    "                b=get_bonds(res[i])\n",
    "                for j in b:\n",
    "                    if j[0] not in d or j[1] not in d:\n",
    "                        continue\n",
    "                    xa=d[j[0]]\n",
    "                    xb=d[j[1]]\n",
    "                    bond.append([xa,xb])\n",
    "                    bond_dis.append(metric(R[xa],R[xb]))\n",
    "                d={}\n",
    "    return bond,bond_dis"
   ]
  },
  {
   "cell_type": "code",
   "execution_count": 19,
   "id": "eb6c3fab",
   "metadata": {},
   "outputs": [],
   "source": [
    "def setup_periodic_box():\n",
    "    def displacement_fn(Ra, Rb, **unused_kwargs):\n",
    "        dR = Ra - Rb\n",
    "        return dR\n",
    "    #return np.mod(dR + box_size * f32(0.5), box_size) - f32(0.5) * box_size\n",
    "\n",
    "    def shift_fn(R, dR, **unused_kwargs):\n",
    "        return R+dR\n",
    "    #return np.mod(R + dR, box_size)\n",
    "\n",
    "    return displacement_fn, shift_fn \n",
    "displacement, shift = setup_periodic_box()"
   ]
  },
  {
   "cell_type": "code",
   "execution_count": 20,
   "id": "51777548",
   "metadata": {},
   "outputs": [],
   "source": [
    "def harmonic_morse(dr, sigma=3.8, espilon=0.09, gd=1.0,**kwargs):\n",
    "    U=gd*f32(4)*espilon*((sigma/dr)**12-(sigma/dr)**6 )\n",
    "    return np.array(U, dtype=dr.dtype)"
   ]
  },
  {
   "cell_type": "code",
   "execution_count": 21,
   "id": "056189da",
   "metadata": {},
   "outputs": [],
   "source": [
    "def harmonic_morse_cutoff_neighbor_list(\n",
    "    displacement_or_metric,\n",
    "    box_size,\n",
    "    species=None,\n",
    "    sigma=3.5,\n",
    "    epsilon=0.1,\n",
    "    gd=1.0,\n",
    "    r_onset=1.0,\n",
    "    r_cutoff=1.5, \n",
    "    dr_threshold=2.0,\n",
    "    format=partition.OrderedSparse,\n",
    "    **kwargs): \n",
    "\n",
    "  sigma = np.array(sigma, dtype=np.float32)\n",
    "  epsilon = np.array(epsilon, dtype=np.float32)\n",
    "  gd = np.array(gd, dtype=np.float32)\n",
    "  r_onset = np.array(r_onset, dtype=np.float32)\n",
    "  r_cutoff = np.array(r_cutoff, np.float32)\n",
    "  dr_threshold = np.float32(dr_threshold)\n",
    "\n",
    "  neighbor_fn = partition.neighbor_list(\n",
    "        displacement_or_metric, \n",
    "        box_size, \n",
    "        r_cutoff, \n",
    "        dr_threshold,\n",
    "        format=format)\n",
    "\n",
    "  energy_fn = smap.pair_neighbor_list(\n",
    "    energy.multiplicative_isotropic_cutoff(harmonic_morse, r_onset, r_cutoff),\n",
    "    space.canonicalize_displacement_or_metric(displacement_or_metric),\n",
    "    species=species,\n",
    "    sigma=sigma,\n",
    "    epsilon=epsilon,\n",
    "    gd=gd)\n",
    "    \n",
    "  return neighbor_fn, energy_fn"
   ]
  },
  {
   "cell_type": "code",
   "execution_count": 22,
   "id": "164a884c",
   "metadata": {},
   "outputs": [],
   "source": [
    "def bistable_spring(dr, r0=1.0, k=15.0,gd=1.0, **kwargs):\n",
    "  return gd*0.5*k*(dr-r0)**2"
   ]
  },
  {
   "cell_type": "code",
   "execution_count": 23,
   "id": "d2a65023",
   "metadata": {},
   "outputs": [],
   "source": [
    "def bistable_spring_bond(\n",
    "    displacement_or_metric, bond, bond_type=None, r0=1, k=15,gd=1.0):\n",
    "  \"\"\"Convenience wrapper to compute energy of particles bonded by springs.\"\"\"\n",
    "  r0 = np.array(r0, f32)\n",
    "  k = np.array(k, f32)\n",
    "  gd = np.array(gd, f32)\n",
    "  return smap.bond(\n",
    "    bistable_spring,\n",
    "    space.canonicalize_displacement_or_metric(displacement_or_metric),\n",
    "    bond,\n",
    "    bond_type,\n",
    "    r0=r0,\n",
    "    k=15,\n",
    "    gd=gd)"
   ]
  },
  {
   "cell_type": "code",
   "execution_count": 24,
   "id": "f661620a",
   "metadata": {},
   "outputs": [],
   "source": [
    "def potential_en(r,k=1.0,s=100000000.0):\n",
    "    return k*s*r**2"
   ]
  },
  {
   "cell_type": "code",
   "execution_count": 25,
   "id": "ab229a43",
   "metadata": {},
   "outputs": [
    {
     "name": "stdout",
     "output_type": "stream",
     "text": [
      "start\n"
     ]
    }
   ],
   "source": [
    "import regularp\n",
    "def position_regular(\n",
    "    displacement_or_metric, R0, k=1.0, s=10000000.0):\n",
    "  \"\"\"Convenience wrapper to compute energy of particles bonded by springs.\"\"\"\n",
    "  k = np.array(k, f32)\n",
    "  s = np.array(s, f32)\n",
    "  return regularp.angx(\n",
    "    potential_en,\n",
    "    space.canonicalize_displacement_or_metric(displacement_or_metric),\n",
    "    R0,\n",
    "    k=k,\n",
    "    s=s)"
   ]
  },
  {
   "cell_type": "code",
   "execution_count": 26,
   "id": "89b77a44",
   "metadata": {},
   "outputs": [],
   "source": [
    "def run_minimization(energy_fn, neighbor_fn, R_init, shift,num_steps,dt=0.0000001):\n",
    "    dt_start = dt\n",
    "    dt_max = dt*4\n",
    "    init,apply = minimize.fire_descent(energy_fn,shift,dt_start=dt_start,dt_max=dt_max)\n",
    "    state = init(R_init)\n",
    "    nbrs = neighbor_fn.allocate(R_init)\n",
    "    #t0=time.time()\n",
    "    for i in range(num_steps):\n",
    "        state = apply(state, neighbor=nbrs)\n",
    "        e=energy_fn(state.position, neighbor=nbrs)\n",
    "        #rx=state.position\n",
    "        #t=time.time()-t0\n",
    "        #if i%100==0:\n",
    "        #print(i,e)\n",
    "    return state.position"
   ]
  },
  {
   "cell_type": "code",
   "execution_count": 27,
   "id": "7ccf87f1",
   "metadata": {},
   "outputs": [],
   "source": [
    "def energyx(R,bond,bond_dis,crashl,resnum):\n",
    "    r_onset  = 0.0\n",
    "    r_cutoff = 10.0\n",
    "    dr_threshold = 0.5\n",
    "    neighbor_fn, vdv_fn = harmonic_morse_cutoff_neighbor_list(\n",
    "        displacement,50.0, sigma=3.39967,epsilon=0.359824,\n",
    "        r_onset=r_onset, r_cutoff=r_cutoff, dr_threshold=dr_threshold)\n",
    "    nbrs = neighbor_fn.allocate(R)\n",
    "    \n",
    "    bond_energy_fn = bistable_spring_bond(displacement, bond, r0=bond_dis,k=3924590.0)\n",
    "    \n",
    "    crashl.append(0)\n",
    "    kk=[]\n",
    "    for i in resnum:\n",
    "        if i in crashl:\n",
    "            kk.append(0)\n",
    "        else:\n",
    "            kk.append(1)\n",
    "    pr_energy=position_regular(displacement,R,k=kk)\n",
    "    \n",
    "    def sum_engn(R,neighbor=nbrs,**kwargs):\n",
    "        return bond_energy_fn(R)+vdv_fn(R, neighbor=nbrs)+pr_energy(R)\n",
    "    \n",
    "    return neighbor_fn,sum_engn"
   ]
  },
  {
   "cell_type": "code",
   "execution_count": 28,
   "id": "b6521396",
   "metadata": {},
   "outputs": [],
   "source": [
    "def savemd(prt,lig,nprt,nlig,r,resnum,d):\n",
    "    ppdb = PandasPdb().read_pdb(prt)\n",
    "    adf = ppdb.df['ATOM'].copy()\n",
    "    lpdb = PandasPdb().read_pdb(lig)\n",
    "    ldf = lpdb.df['HETATM'].copy()\n",
    "    num=0\n",
    "    for i in range(len(resnum)):\n",
    "        if resnum[i]==0:\n",
    "            idx=d[ldf['atom_name'][i]]\n",
    "            ldf['x_coord'][i]=r[idx][0]\n",
    "            ldf['y_coord'][i]=r[idx][1]\n",
    "            ldf['z_coord'][i]=r[idx][2]\n",
    "            num=num+1\n",
    "        else:\n",
    "            idx=i-num\n",
    "            adf['x_coord'][idx]=r[i][0]\n",
    "            adf['y_coord'][idx]=r[i][1]\n",
    "            adf['z_coord'][idx]=r[i][2]\n",
    "    \n",
    "    ppdb.df['ATOM']=adf\n",
    "    ppdb.to_pdb(path=nprt, records=None)\n",
    "    lpdb.df['HETATM']=ldf\n",
    "    lpdb.to_pdb(path=nlig, records=None)"
   ]
  },
  {
   "cell_type": "code",
   "execution_count": 41,
   "id": "bb86ed7b",
   "metadata": {},
   "outputs": [],
   "source": [
    "import warnings\n",
    "import pandas as pd\n",
    "from pandas.errors import SettingWithCopyWarning\n",
    "warnings.filterwarnings(\"ignore\", category=SettingWithCopyWarning)\n",
    "\n",
    "def md(tem,ifcra,iffes,idxr,numi):\n",
    "    \n",
    "    #print('read')\n",
    "    rec_path='./tmxrt/TM_sup.pdb'\n",
    "    lig_path=tem+'/lig.pdb'\n",
    "    ltyp,lpos,lsym=readlig(lig_path)\n",
    "    rtyp,rpos,rres,rsym,rnum=readrecx(rec_path)\n",
    "    \n",
    "    #print('init')\n",
    "    R,res,typ,resnum,item,d=init(ltyp,lpos,lsym,rtyp,rpos,rres,rsym,rnum)\n",
    "    #print(d)\n",
    "    bondh,bondhdis=bondhem(lig_path,R,d)\n",
    "    bondf,bondfdis=bondfes(R,d['FE'],typ,res,d)\n",
    "    \n",
    "    crashl=[]\n",
    "    for i in range(1,max(resnum)):\n",
    "        crashl.append(i)\n",
    "    if ifcra==1:\n",
    "        crashl=ckcrashx(R,typ,res,resnum)\n",
    "    bondr,bondrdis=bondres(R,crashl,resnum,item,res)\n",
    "    \n",
    "    bond=bondh+bondr\n",
    "    bond_dis=bondhdis+bondrdis\n",
    "    if iffes==1:\n",
    "        bond=bond+bondf\n",
    "        bond_dis=bond_dis+bondfdis\n",
    "    bond=np.array(bond)\n",
    "    bond_dis=np.array(bond_dis)\n",
    "    \n",
    "    print(len(ltyp),len(lpos),len(lsym),lig_path,checkbondhem(lig_path))\n",
    "    print('x1',len(bond),len(bondh),len(bondf),len(bondr))\n",
    "    print('x2',len(bond_dis),len(bondhdis),len(bondfdis),len(bondrdis))\n",
    "    \n",
    "    #print('energy')\n",
    "    neighbor_fn,sum_engn=energyx(R,bond,bond_dis,crashl,resnum)\n",
    "    \n",
    "    #print('md')\n",
    "    rt=run_minimization(sum_engn, neighbor_fn, R, shift,200,dt=0.000005)\n",
    "    \n",
    "    crashlx=ckcrashx(rt,typ,res,resnum)\n",
    "    bondf,bondfdis=bondfes(rt,d['FE'],typ,res,d)\n",
    "    \n",
    "    succ=0\n",
    "    if len(crashlx)==0 and bondfdis[0]>1.93 and bondfdis[0]<2.77:\n",
    "        succ=1\n",
    "    #print('result',succ,len(crashlx),bondfdis)\n",
    "    \n",
    "    prt=rec_path\n",
    "    lig=lig_path\n",
    "    nprt='./tempdb/tem'+str(numi)+'/xr'+str(idxr)+'mdtm.pdb'\n",
    "    nlig='./tempdb/tem'+str(numi)+'/xr'+str(idxr)+'mdlig.pdb'\n",
    "    #print(nprt,nlig)\n",
    "    savemd(prt,lig,nprt,nlig,rt,resnum,d)\n",
    "    cpprt='./tempdb/tem'+str(numi)+'/xr'+str(idxr)+'tm.pdb'\n",
    "    cplig='./tempdb/tem'+str(numi)+'/xr'+str(idxr)+'lig.pdb'\n",
    "    shutil.copy(prt, cpprt)\n",
    "    shutil.copy(lig, cplig)\n",
    "    \n",
    "#     for i in range(len(rt)):\n",
    "#         print(typ[i],res[i],resnum[i],rt[i])\n",
    "    return succ,len(crashlx),bondfdis[0]"
   ]
  },
  {
   "cell_type": "code",
   "execution_count": 42,
   "id": "f07e18a6",
   "metadata": {},
   "outputs": [],
   "source": [
    "def getnel():\n",
    "    nel=[]\n",
    "    with open(\"noerr.txt\") as f:\n",
    "        for i in f:\n",
    "            nel.append(i.rstrip())\n",
    "    return nel\n",
    "noerrlist=getnel()"
   ]
  },
  {
   "cell_type": "code",
   "execution_count": 55,
   "id": "419c6ed7",
   "metadata": {},
   "outputs": [],
   "source": [
    "resultax0=[]\n",
    "resultax1=[]\n",
    "resultax2=[]\n",
    "resultax3=[]\n",
    "resultax4=[]"
   ]
  },
  {
   "cell_type": "code",
   "execution_count": 57,
   "id": "d58c0721",
   "metadata": {},
   "outputs": [
    {
     "name": "stdout",
     "output_type": "stream",
     "text": [
      "./tempdb/tem16/apdb.pdb ./templete/1T88_A/rec.pdb\n",
      "./tempdb/tem16/apdb.pdb ./templete/2A1N_A/rec.pdb\n",
      "./tempdb/tem16/apdb.pdb ./templete/2A1O_A/rec.pdb\n",
      "./tempdb/tem16/apdb.pdb ./templete/2A1M_A/rec.pdb\n",
      "./tempdb/tem16/apdb.pdb ./templete/1MPW_A/rec.pdb\n",
      "./tempdb/tem16/apdb.pdb ./templete/3WRH_A/rec.pdb\n",
      "./tempdb/tem16/apdb.pdb ./templete/4G3R_A/rec.pdb\n",
      "./tempdb/tem16/apdb.pdb ./templete/2GR6_A/rec.pdb\n",
      "./tempdb/tem16/apdb.pdb ./templete/3WRJ_A/rec.pdb\n",
      "./tempdb/tem16/apdb.pdb ./templete/3WRM_A/rec.pdb\n",
      "./tempdb/tem16/apdb.pdb ./templete/3WRL_A/rec.pdb\n",
      "./tempdb/tem16/apdb.pdb ./templete/4L4C_A/rec.pdb\n",
      "./tempdb/tem16/apdb.pdb ./templete/2QBN_A/rec.pdb\n",
      "./tempdb/tem16/apdb.pdb ./templete/2GQX_A/rec.pdb\n",
      "./tempdb/tem16/apdb.pdb ./templete/1DZ8_A/rec.pdb\n",
      "./tempdb/tem16/apdb.pdb ./templete/2QBO_A/rec.pdb\n",
      "./tempdb/tem16/apdb.pdb ./templete/1O76_A/rec.pdb\n",
      "./tempdb/tem16/apdb.pdb ./templete/1DZ9_A/rec.pdb\n",
      "./tempdb/tem16/apdb.pdb ./templete/1C8J_A/rec.pdb\n",
      "2836 2.1928935222668695\n",
      "43 43 43 ./templete/1T88_A/lig.pdb 1\n",
      "x1 2986 100 1 2886\n",
      "x2 2986 100 1 2886\n"
     ]
    },
    {
     "name": "stderr",
     "output_type": "stream",
     "text": [
      "/home/Grx/.local/lib/python3.11/site-packages/jax/_src/ops/scatter.py:94: FutureWarning: scatter inputs have incompatible types: cannot safely cast value from dtype=int64 to dtype=int32 with jax_numpy_dtype_promotion='standard'. In future JAX releases this will result in an error.\n",
      "  warnings.warn(\n"
     ]
    },
    {
     "name": "stdout",
     "output_type": "stream",
     "text": [
      "2836 2.171465179488403\n",
      "2836 2.1928935222668695\n",
      "43 43 43 ./templete/1T88_A/lig.pdb 1\n",
      "x1 2987 100 1 2886\n",
      "x2 2987 100 1 2886\n"
     ]
    },
    {
     "name": "stderr",
     "output_type": "stream",
     "text": [
      "/home/Grx/.local/lib/python3.11/site-packages/jax/_src/ops/scatter.py:94: FutureWarning: scatter inputs have incompatible types: cannot safely cast value from dtype=int64 to dtype=int32 with jax_numpy_dtype_promotion='standard'. In future JAX releases this will result in an error.\n",
      "  warnings.warn(\n"
     ]
    },
    {
     "name": "stdout",
     "output_type": "stream",
     "text": [
      "2836 2.1715035095880273\n",
      "2836 2.1928935222668695\n",
      "43 43 43 ./templete/1T88_A/lig.pdb 1\n",
      "x1 100 100 1 0\n",
      "x2 100 100 1 0\n"
     ]
    },
    {
     "name": "stderr",
     "output_type": "stream",
     "text": [
      "/home/Grx/.local/lib/python3.11/site-packages/jax/_src/ops/scatter.py:94: FutureWarning: scatter inputs have incompatible types: cannot safely cast value from dtype=int64 to dtype=int32 with jax_numpy_dtype_promotion='standard'. In future JAX releases this will result in an error.\n",
      "  warnings.warn(\n"
     ]
    },
    {
     "name": "stdout",
     "output_type": "stream",
     "text": [
      "2836 2.1923728779409726\n",
      "2836 2.1928935222668695\n",
      "43 43 43 ./templete/1T88_A/lig.pdb 1\n",
      "x1 101 100 1 0\n",
      "x2 101 100 1 0\n"
     ]
    },
    {
     "name": "stderr",
     "output_type": "stream",
     "text": [
      "/home/Grx/.local/lib/python3.11/site-packages/jax/_src/ops/scatter.py:94: FutureWarning: scatter inputs have incompatible types: cannot safely cast value from dtype=int64 to dtype=int32 with jax_numpy_dtype_promotion='standard'. In future JAX releases this will result in an error.\n",
      "  warnings.warn(\n"
     ]
    },
    {
     "name": "stdout",
     "output_type": "stream",
     "text": [
      "2836 2.192376382004262\n",
      "16 277.40509033203125\n",
      "./tempdb/tem17/apdb.pdb ./templete/2A1M_A/rec.pdb\n",
      "./tempdb/tem17/apdb.pdb ./templete/2A1O_A/rec.pdb\n",
      "./tempdb/tem17/apdb.pdb ./templete/2GR6_A/rec.pdb\n",
      "./tempdb/tem17/apdb.pdb ./templete/3WRH_A/rec.pdb\n",
      "./tempdb/tem17/apdb.pdb ./templete/3WRJ_A/rec.pdb\n",
      "./tempdb/tem17/apdb.pdb ./templete/3WRM_A/rec.pdb\n",
      "./tempdb/tem17/apdb.pdb ./templete/3WRL_A/rec.pdb\n",
      "./tempdb/tem17/apdb.pdb ./templete/2GQX_A/rec.pdb\n",
      "./tempdb/tem17/apdb.pdb ./templete/4L4C_A/rec.pdb\n",
      "./tempdb/tem17/apdb.pdb ./templete/2QBN_A/rec.pdb\n",
      "./tempdb/tem17/apdb.pdb ./templete/1C8J_A/rec.pdb\n",
      "./tempdb/tem17/apdb.pdb ./templete/1DZ8_A/rec.pdb\n",
      "./tempdb/tem17/apdb.pdb ./templete/1O76_A/rec.pdb\n",
      "./tempdb/tem17/apdb.pdb ./templete/2QBO_A/rec.pdb\n",
      "./tempdb/tem17/apdb.pdb ./templete/1DZ9_A/rec.pdb\n",
      "./tempdb/tem17/apdb.pdb ./templete/2QBM_A/rec.pdb\n",
      "./tempdb/tem17/apdb.pdb ./templete/6WFL_A/rec.pdb\n",
      "./tempdb/tem17/apdb.pdb ./templete/1UYU_A/rec.pdb\n",
      "./tempdb/tem17/apdb.pdb ./templete/2FRZ_A/rec.pdb\n",
      "2811 2.3795310462357917\n",
      "43 43 43 ./templete/2A1M_A/lig.pdb 1\n",
      "x1 2979 100 1 2879\n",
      "x2 2979 100 1 2879\n"
     ]
    },
    {
     "name": "stderr",
     "output_type": "stream",
     "text": [
      "/home/Grx/.local/lib/python3.11/site-packages/jax/_src/ops/scatter.py:94: FutureWarning: scatter inputs have incompatible types: cannot safely cast value from dtype=int64 to dtype=int32 with jax_numpy_dtype_promotion='standard'. In future JAX releases this will result in an error.\n",
      "  warnings.warn(\n"
     ]
    },
    {
     "name": "stdout",
     "output_type": "stream",
     "text": [
      "2811 2.445018373807176\n",
      "2811 2.3795310462357917\n",
      "43 43 43 ./templete/2A1M_A/lig.pdb 1\n",
      "x1 2980 100 1 2879\n",
      "x2 2980 100 1 2879\n"
     ]
    },
    {
     "name": "stderr",
     "output_type": "stream",
     "text": [
      "/home/Grx/.local/lib/python3.11/site-packages/jax/_src/ops/scatter.py:94: FutureWarning: scatter inputs have incompatible types: cannot safely cast value from dtype=int64 to dtype=int32 with jax_numpy_dtype_promotion='standard'. In future JAX releases this will result in an error.\n",
      "  warnings.warn(\n"
     ]
    },
    {
     "name": "stdout",
     "output_type": "stream",
     "text": [
      "2811 2.4450211526934917\n",
      "2811 2.3795310462357917\n",
      "43 43 43 ./templete/2A1M_A/lig.pdb 1\n",
      "x1 100 100 1 0\n",
      "x2 100 100 1 0\n"
     ]
    },
    {
     "name": "stderr",
     "output_type": "stream",
     "text": [
      "/home/Grx/.local/lib/python3.11/site-packages/jax/_src/ops/scatter.py:94: FutureWarning: scatter inputs have incompatible types: cannot safely cast value from dtype=int64 to dtype=int32 with jax_numpy_dtype_promotion='standard'. In future JAX releases this will result in an error.\n",
      "  warnings.warn(\n"
     ]
    },
    {
     "name": "stdout",
     "output_type": "stream",
     "text": [
      "2811 2.3909255347294964\n",
      "2811 2.3795310462357917\n",
      "43 43 43 ./templete/2A1M_A/lig.pdb 1\n",
      "x1 101 100 1 0\n",
      "x2 101 100 1 0\n"
     ]
    },
    {
     "name": "stderr",
     "output_type": "stream",
     "text": [
      "/home/Grx/.local/lib/python3.11/site-packages/jax/_src/ops/scatter.py:94: FutureWarning: scatter inputs have incompatible types: cannot safely cast value from dtype=int64 to dtype=int32 with jax_numpy_dtype_promotion='standard'. In future JAX releases this will result in an error.\n",
      "  warnings.warn(\n"
     ]
    },
    {
     "name": "stdout",
     "output_type": "stream",
     "text": [
      "2811 2.3909253438308697\n",
      "17 265.14581823349\n",
      "./tempdb/tem18/apdb.pdb ./templete/5D3U_A/rec.pdb\n",
      "./tempdb/tem18/apdb.pdb ./templete/4TPO_A/rec.pdb\n",
      "./tempdb/tem18/apdb.pdb ./templete/4TPN_A/rec.pdb\n",
      "./tempdb/tem18/apdb.pdb ./templete/4RM4_A/rec.pdb\n",
      "./tempdb/tem18/apdb.pdb ./templete/7TP5_A/rec.pdb\n",
      "./tempdb/tem18/apdb.pdb ./templete/8DYB_A/rec.pdb\n",
      "./tempdb/tem18/apdb.pdb ./templete/6OOX_A/rec.pdb\n",
      "./tempdb/tem18/apdb.pdb ./templete/7TP6_A/rec.pdb\n",
      "./tempdb/tem18/apdb.pdb ./templete/6UNN_A/rec.pdb\n",
      "./tempdb/tem18/apdb.pdb ./templete/8D39_A/rec.pdb\n",
      "./tempdb/tem18/apdb.pdb ./templete/7JXB_A/rec.pdb\n",
      "./tempdb/tem18/apdb.pdb ./templete/6OOW_A/rec.pdb\n",
      "./tempdb/tem18/apdb.pdb ./templete/5UVB_A/rec.pdb\n",
      "./tempdb/tem18/apdb.pdb ./templete/6VJX_A/rec.pdb\n",
      "./tempdb/tem18/apdb.pdb ./templete/7N60_A/rec.pdb\n",
      "./tempdb/tem18/apdb.pdb ./templete/5KDZ_A/rec.pdb\n",
      "./tempdb/tem18/apdb.pdb ./templete/7REH_A/rec.pdb\n",
      "./tempdb/tem18/apdb.pdb ./templete/7TNF_A/rec.pdb\n",
      "./tempdb/tem18/apdb.pdb ./templete/5YQA_A/rec.pdb\n",
      "2813 2.4468477680476974\n",
      "43 43 43 ./templete/5D3U_A/lig.pdb 1\n",
      "x1 2910 100 1 2810\n",
      "x2 2910 100 1 2810\n"
     ]
    },
    {
     "name": "stderr",
     "output_type": "stream",
     "text": [
      "/home/Grx/.local/lib/python3.11/site-packages/jax/_src/ops/scatter.py:94: FutureWarning: scatter inputs have incompatible types: cannot safely cast value from dtype=int64 to dtype=int32 with jax_numpy_dtype_promotion='standard'. In future JAX releases this will result in an error.\n",
      "  warnings.warn(\n"
     ]
    },
    {
     "name": "stdout",
     "output_type": "stream",
     "text": [
      "2813 2.4388161915615787\n",
      "2813 2.4468477680476974\n",
      "43 43 43 ./templete/5D3U_A/lig.pdb 1\n",
      "x1 2911 100 1 2810\n",
      "x2 2911 100 1 2810\n"
     ]
    },
    {
     "name": "stderr",
     "output_type": "stream",
     "text": [
      "/home/Grx/.local/lib/python3.11/site-packages/jax/_src/ops/scatter.py:94: FutureWarning: scatter inputs have incompatible types: cannot safely cast value from dtype=int64 to dtype=int32 with jax_numpy_dtype_promotion='standard'. In future JAX releases this will result in an error.\n",
      "  warnings.warn(\n"
     ]
    },
    {
     "name": "stdout",
     "output_type": "stream",
     "text": [
      "2813 2.438803455514131\n",
      "2813 2.4468477680476974\n",
      "43 43 43 ./templete/5D3U_A/lig.pdb 1\n",
      "x1 100 100 1 0\n",
      "x2 100 100 1 0\n"
     ]
    },
    {
     "name": "stderr",
     "output_type": "stream",
     "text": [
      "/home/Grx/.local/lib/python3.11/site-packages/jax/_src/ops/scatter.py:94: FutureWarning: scatter inputs have incompatible types: cannot safely cast value from dtype=int64 to dtype=int32 with jax_numpy_dtype_promotion='standard'. In future JAX releases this will result in an error.\n",
      "  warnings.warn(\n"
     ]
    },
    {
     "name": "stdout",
     "output_type": "stream",
     "text": [
      "2813 2.4466941391929815\n",
      "2813 2.4468477680476974\n",
      "43 43 43 ./templete/5D3U_A/lig.pdb 1\n",
      "x1 101 100 1 0\n",
      "x2 101 100 1 0\n"
     ]
    },
    {
     "name": "stderr",
     "output_type": "stream",
     "text": [
      "/home/Grx/.local/lib/python3.11/site-packages/jax/_src/ops/scatter.py:94: FutureWarning: scatter inputs have incompatible types: cannot safely cast value from dtype=int64 to dtype=int32 with jax_numpy_dtype_promotion='standard'. In future JAX releases this will result in an error.\n",
      "  warnings.warn(\n"
     ]
    },
    {
     "name": "stdout",
     "output_type": "stream",
     "text": [
      "2813 2.4466928946170254\n",
      "18 255.1796932220459\n",
      "./tempdb/tem19/apdb.pdb ./templete/6UPI_A/rec.pdb\n",
      "./tempdb/tem19/apdb.pdb ./templete/3G5H_A/rec.pdb\n",
      "./tempdb/tem19/apdb.pdb ./templete/3G5F_A/rec.pdb\n",
      "./tempdb/tem19/apdb.pdb ./templete/5WP2_A/rec.pdb\n",
      "./tempdb/tem19/apdb.pdb ./templete/4IPS_A/rec.pdb\n",
      "./tempdb/tem19/apdb.pdb ./templete/6RQ3_A/rec.pdb\n",
      "./tempdb/tem19/apdb.pdb ./templete/4IPW_A/rec.pdb\n",
      "./tempdb/tem19/apdb.pdb ./templete/5O4K_A/rec.pdb\n",
      "./tempdb/tem19/apdb.pdb ./templete/5IBE_A/rec.pdb\n",
      "./tempdb/tem19/apdb.pdb ./templete/3CXV_A/rec.pdb\n",
      "./tempdb/tem19/apdb.pdb ./templete/6RQE_A/rec.pdb\n",
      "./tempdb/tem19/apdb.pdb ./templete/5OPA_A/rec.pdb\n",
      "./tempdb/tem19/apdb.pdb ./templete/6RQ1_A/rec.pdb\n",
      "./tempdb/tem19/apdb.pdb ./templete/4IQ9_A/rec.pdb\n",
      "./tempdb/tem19/apdb.pdb ./templete/1N40_A/rec.pdb\n",
      "./tempdb/tem19/apdb.pdb ./templete/4G47_A/rec.pdb\n",
      "./tempdb/tem19/apdb.pdb ./templete/4G46_A/rec.pdb\n",
      "./tempdb/tem19/apdb.pdb ./templete/4G45_A/rec.pdb\n",
      "./tempdb/tem19/apdb.pdb ./templete/4G48_A/rec.pdb\n",
      "2644 2.4863247977687872\n",
      "43 43 43 ./templete/6UPI_A/lig.pdb 1\n",
      "x1 2763 100 1 2663\n",
      "x2 2763 100 1 2663\n"
     ]
    },
    {
     "name": "stderr",
     "output_type": "stream",
     "text": [
      "/home/Grx/.local/lib/python3.11/site-packages/jax/_src/ops/scatter.py:94: FutureWarning: scatter inputs have incompatible types: cannot safely cast value from dtype=int64 to dtype=int32 with jax_numpy_dtype_promotion='standard'. In future JAX releases this will result in an error.\n",
      "  warnings.warn(\n"
     ]
    },
    {
     "name": "stdout",
     "output_type": "stream",
     "text": [
      "FE S -0.013894085935679756 1.7661059140643203\n",
      "2644 1.7661059140643203\n",
      "2644 2.4863247977687872\n",
      "43 43 43 ./templete/6UPI_A/lig.pdb 1\n",
      "x1 2764 100 1 2663\n",
      "x2 2764 100 1 2663\n"
     ]
    },
    {
     "name": "stderr",
     "output_type": "stream",
     "text": [
      "/home/Grx/.local/lib/python3.11/site-packages/jax/_src/ops/scatter.py:94: FutureWarning: scatter inputs have incompatible types: cannot safely cast value from dtype=int64 to dtype=int32 with jax_numpy_dtype_promotion='standard'. In future JAX releases this will result in an error.\n",
      "  warnings.warn(\n"
     ]
    },
    {
     "name": "stdout",
     "output_type": "stream",
     "text": [
      "FE S -0.013836152928156542 1.7661638470718435\n",
      "2644 1.7661638470718435\n",
      "2644 2.4863247977687872\n",
      "43 43 43 ./templete/6UPI_A/lig.pdb 1\n",
      "x1 100 100 1 0\n",
      "x2 100 100 1 0\n"
     ]
    },
    {
     "name": "stderr",
     "output_type": "stream",
     "text": [
      "/home/Grx/.local/lib/python3.11/site-packages/jax/_src/ops/scatter.py:94: FutureWarning: scatter inputs have incompatible types: cannot safely cast value from dtype=int64 to dtype=int32 with jax_numpy_dtype_promotion='standard'. In future JAX releases this will result in an error.\n",
      "  warnings.warn(\n"
     ]
    },
    {
     "name": "stdout",
     "output_type": "stream",
     "text": [
      "2644 2.4054666545779915\n",
      "2644 2.4863247977687872\n",
      "43 43 43 ./templete/6UPI_A/lig.pdb 1\n",
      "x1 101 100 1 0\n",
      "x2 101 100 1 0\n"
     ]
    },
    {
     "name": "stderr",
     "output_type": "stream",
     "text": [
      "/home/Grx/.local/lib/python3.11/site-packages/jax/_src/ops/scatter.py:94: FutureWarning: scatter inputs have incompatible types: cannot safely cast value from dtype=int64 to dtype=int32 with jax_numpy_dtype_promotion='standard'. In future JAX releases this will result in an error.\n",
      "  warnings.warn(\n"
     ]
    },
    {
     "name": "stdout",
     "output_type": "stream",
     "text": [
      "2644 2.405446686999117\n",
      "19 244.68289995193481\n"
     ]
    }
   ],
   "source": [
    "#blv,top,ifcra,iffes\n",
    "# resultax0=[]\n",
    "# resultax1=[]\n",
    "# resultax2=[]\n",
    "# resultax3=[]\n",
    "# resultax4=[]\n",
    "for i in range(16,20):\n",
    "    if i==7 or i==14 or i==15:\n",
    "        continue\n",
    "    \n",
    "    t0=time.time()\n",
    "    prtpath='./tempdb/tem'+str(i)+'/apdb.pdb'\n",
    "    teml=get_tem(0,10,i)\n",
    "    success,suct,fesx=get_mdp(teml,prtpath)\n",
    "    t1=time.time()\n",
    "    resultax0.append([prtpath,success,fesx,t1-t0+60])\n",
    "    \n",
    "    succ,crashn,fes=md(suct,0,0,0,i)\n",
    "    t2=time.time()\n",
    "    resultax1.append([prtpath,succ,fes,t2-t0+60])\n",
    "    \n",
    "    succ,crashn,fes=md(suct,0,1,1,i)\n",
    "    t3=time.time()\n",
    "    resultax2.append([prtpath,succ,fes,(t3-t2)+(t1-t0)+60])\n",
    "    \n",
    "    succ,crashn,fes=md(suct,1,0,2,i)\n",
    "    t4=time.time()\n",
    "    resultax3.append([prtpath,succ,fes,(t4-t3)+(t1-t0)+60])\n",
    "    \n",
    "    succ,crashn,fes=md(suct,1,1,3,i)\n",
    "    t5=time.time()\n",
    "    resultax4.append([prtpath,succ,fes,(t5-t4)+(t1-t0)+60])\n",
    "    \n",
    "    print(i,time.time()-t0)"
   ]
  },
  {
   "cell_type": "code",
   "execution_count": 58,
   "id": "93f14788",
   "metadata": {},
   "outputs": [],
   "source": [
    "resultax5=[]\n",
    "resultax6=[]\n",
    "resultax7=[]\n",
    "resultax8=[]"
   ]
  },
  {
   "cell_type": "code",
   "execution_count": 59,
   "id": "5cf5691c",
   "metadata": {},
   "outputs": [
    {
     "name": "stdout",
     "output_type": "stream",
     "text": [
      "43 43 43 ./templete/7LS3_A/lig.pdb 1\n",
      "x1 101 100 1 0\n",
      "x2 101 100 1 0\n"
     ]
    },
    {
     "name": "stderr",
     "output_type": "stream",
     "text": [
      "/home/Grx/.local/lib/python3.11/site-packages/jax/_src/ops/scatter.py:94: FutureWarning: scatter inputs have incompatible types: cannot safely cast value from dtype=int64 to dtype=int32 with jax_numpy_dtype_promotion='standard'. In future JAX releases this will result in an error.\n",
      "  warnings.warn(\n"
     ]
    },
    {
     "name": "stdout",
     "output_type": "stream",
     "text": [
      "./tempdb/tem3/apdb.pdb ./templete/7LS3_A/rec.pdb\n",
      "./tempdb/tem3/apdb.pdb ./templete/7N3L_A/rec.pdb\n",
      "./tempdb/tem3/apdb.pdb ./templete/3MDV_A/rec.pdb\n",
      "./tempdb/tem3/apdb.pdb ./templete/3MDT_A/rec.pdb\n",
      "./tempdb/tem3/apdb.pdb ./templete/7N6F_A/rec.pdb\n",
      "./tempdb/tem3/apdb.pdb ./templete/7LRL_A/rec.pdb\n",
      "./tempdb/tem3/apdb.pdb ./templete/2Q9G_A/rec.pdb\n",
      "./tempdb/tem3/apdb.pdb ./templete/4FIA_A/rec.pdb\n",
      "./tempdb/tem3/apdb.pdb ./templete/4ENH_A/rec.pdb\n",
      "./tempdb/tem3/apdb.pdb ./templete/3MDR_A/rec.pdb\n",
      "./tempdb/tem3/apdb.pdb ./templete/2Q9F_A/rec.pdb\n",
      "./tempdb/tem3/apdb.pdb ./templete/3MDM_A/rec.pdb\n",
      "./tempdb/tem3/apdb.pdb ./templete/4J14_A/rec.pdb\n",
      "./tempdb/tem3/apdb.pdb ./templete/1WIY_A/rec.pdb\n",
      "./tempdb/tem3/apdb.pdb ./templete/4R20_A/rec.pdb\n",
      "./tempdb/tem3/apdb.pdb ./templete/3DBG_A/rec.pdb\n",
      "./tempdb/tem3/apdb.pdb ./templete/3EL3_A/rec.pdb\n",
      "./tempdb/tem3/apdb.pdb ./templete/1N97_A/rec.pdb\n",
      "./tempdb/tem3/apdb.pdb ./templete/2VE3_A/rec.pdb\n",
      "43 43 43 ./templete/7LS3_A/lig.pdb 1\n",
      "x1 101 100 1 0\n",
      "x2 101 100 1 0\n"
     ]
    },
    {
     "name": "stderr",
     "output_type": "stream",
     "text": [
      "/home/Grx/.local/lib/python3.11/site-packages/jax/_src/ops/scatter.py:94: FutureWarning: scatter inputs have incompatible types: cannot safely cast value from dtype=int64 to dtype=int32 with jax_numpy_dtype_promotion='standard'. In future JAX releases this will result in an error.\n",
      "  warnings.warn(\n"
     ]
    },
    {
     "name": "stdout",
     "output_type": "stream",
     "text": [
      "./tempdb/tem3/apdb.pdb ./templete/7LS3_A/rec.pdb\n",
      "./tempdb/tem3/apdb.pdb ./templete/7N3L_A/rec.pdb\n",
      "./tempdb/tem3/apdb.pdb ./templete/3MDV_A/rec.pdb\n",
      "./tempdb/tem3/apdb.pdb ./templete/3MDT_A/rec.pdb\n",
      "./tempdb/tem3/apdb.pdb ./templete/7N6F_A/rec.pdb\n",
      "./tempdb/tem3/apdb.pdb ./templete/7LRL_A/rec.pdb\n",
      "./tempdb/tem3/apdb.pdb ./templete/2Q9G_A/rec.pdb\n",
      "./tempdb/tem3/apdb.pdb ./templete/4FIA_A/rec.pdb\n",
      "./tempdb/tem3/apdb.pdb ./templete/4ENH_A/rec.pdb\n",
      "./tempdb/tem3/apdb.pdb ./templete/3MDR_A/rec.pdb\n",
      "./tempdb/tem3/apdb.pdb ./templete/2Q9F_A/rec.pdb\n",
      "./tempdb/tem3/apdb.pdb ./templete/3MDM_A/rec.pdb\n",
      "./tempdb/tem3/apdb.pdb ./templete/4J14_A/rec.pdb\n",
      "./tempdb/tem3/apdb.pdb ./templete/1WIY_A/rec.pdb\n",
      "./tempdb/tem3/apdb.pdb ./templete/4R20_A/rec.pdb\n",
      "./tempdb/tem3/apdb.pdb ./templete/3DBG_A/rec.pdb\n",
      "./tempdb/tem3/apdb.pdb ./templete/3EL3_A/rec.pdb\n",
      "./tempdb/tem3/apdb.pdb ./templete/1N97_A/rec.pdb\n",
      "./tempdb/tem3/apdb.pdb ./templete/2VE3_A/rec.pdb\n",
      "43 43 43 ./templete/7LS3_A/lig.pdb 1\n",
      "x1 101 100 1 0\n",
      "x2 101 100 1 0\n"
     ]
    },
    {
     "name": "stderr",
     "output_type": "stream",
     "text": [
      "/home/Grx/.local/lib/python3.11/site-packages/jax/_src/ops/scatter.py:94: FutureWarning: scatter inputs have incompatible types: cannot safely cast value from dtype=int64 to dtype=int32 with jax_numpy_dtype_promotion='standard'. In future JAX releases this will result in an error.\n",
      "  warnings.warn(\n"
     ]
    },
    {
     "name": "stdout",
     "output_type": "stream",
     "text": [
      "./tempdb/tem3/apdb.pdb ./templete/7LS3_A/rec.pdb\n",
      "./tempdb/tem3/apdb.pdb ./templete/7N3L_A/rec.pdb\n",
      "./tempdb/tem3/apdb.pdb ./templete/3MDV_A/rec.pdb\n",
      "./tempdb/tem3/apdb.pdb ./templete/3MDT_A/rec.pdb\n",
      "./tempdb/tem3/apdb.pdb ./templete/7N6F_A/rec.pdb\n",
      "./tempdb/tem3/apdb.pdb ./templete/7LRL_A/rec.pdb\n",
      "./tempdb/tem3/apdb.pdb ./templete/2Q9G_A/rec.pdb\n",
      "./tempdb/tem3/apdb.pdb ./templete/4FIA_A/rec.pdb\n",
      "./tempdb/tem3/apdb.pdb ./templete/4ENH_A/rec.pdb\n",
      "./tempdb/tem3/apdb.pdb ./templete/3MDR_A/rec.pdb\n",
      "./tempdb/tem3/apdb.pdb ./templete/2Q9F_A/rec.pdb\n",
      "./tempdb/tem3/apdb.pdb ./templete/3MDM_A/rec.pdb\n",
      "./tempdb/tem3/apdb.pdb ./templete/4J14_A/rec.pdb\n",
      "./tempdb/tem3/apdb.pdb ./templete/1WIY_A/rec.pdb\n",
      "./tempdb/tem3/apdb.pdb ./templete/4R20_A/rec.pdb\n",
      "./tempdb/tem3/apdb.pdb ./templete/3DBG_A/rec.pdb\n",
      "./tempdb/tem3/apdb.pdb ./templete/3EL3_A/rec.pdb\n",
      "./tempdb/tem3/apdb.pdb ./templete/1N97_A/rec.pdb\n",
      "./tempdb/tem3/apdb.pdb ./templete/2VE3_A/rec.pdb\n",
      "6603 1.5298290754198653\n",
      "O C -0.6905798371673696 0.8094201628326304\n",
      "FE S -0.2501709245801347 1.5298290754198653\n",
      "43 43 43 ./templete/7LS3_A/lig.pdb 1\n",
      "x1 116 100 1 15\n",
      "x2 116 100 1 15\n"
     ]
    },
    {
     "name": "stderr",
     "output_type": "stream",
     "text": [
      "/home/Grx/.local/lib/python3.11/site-packages/jax/_src/ops/scatter.py:94: FutureWarning: scatter inputs have incompatible types: cannot safely cast value from dtype=int64 to dtype=int32 with jax_numpy_dtype_promotion='standard'. In future JAX releases this will result in an error.\n",
      "  warnings.warn(\n"
     ]
    },
    {
     "name": "stdout",
     "output_type": "stream",
     "text": [
      "6603 1.879524814207509\n",
      "3 458.33256912231445\n",
      "43 43 43 ./templete/1DT6_A/lig.pdb 1\n",
      "x1 101 100 1 0\n",
      "x2 101 100 1 0\n"
     ]
    },
    {
     "name": "stderr",
     "output_type": "stream",
     "text": [
      "/home/Grx/.local/lib/python3.11/site-packages/jax/_src/ops/scatter.py:94: FutureWarning: scatter inputs have incompatible types: cannot safely cast value from dtype=int64 to dtype=int32 with jax_numpy_dtype_promotion='standard'. In future JAX releases this will result in an error.\n",
      "  warnings.warn(\n"
     ]
    },
    {
     "name": "stdout",
     "output_type": "stream",
     "text": [
      "./tempdb/tem4/apdb.pdb ./templete/1DT6_A/rec.pdb\n",
      "./tempdb/tem4/apdb.pdb ./templete/5X23_A/rec.pdb\n",
      "./tempdb/tem4/apdb.pdb ./templete/5XXI_A/rec.pdb\n",
      "./tempdb/tem4/apdb.pdb ./templete/7RL2_A/rec.pdb\n",
      "./tempdb/tem4/apdb.pdb ./templete/1N6B_A/rec.pdb\n",
      "./tempdb/tem4/apdb.pdb ./templete/5X24_A/rec.pdb\n",
      "./tempdb/tem4/apdb.pdb ./templete/1NR6_A/rec.pdb\n",
      "./tempdb/tem4/apdb.pdb ./templete/1PO5_A/rec.pdb\n",
      "./tempdb/tem4/apdb.pdb ./templete/4NZ2_A/rec.pdb\n",
      "./tempdb/tem4/apdb.pdb ./templete/6BWW_A/rec.pdb\n",
      "./tempdb/tem4/apdb.pdb ./templete/2NNI_A/rec.pdb\n",
      "./tempdb/tem4/apdb.pdb ./templete/2NNJ_A/rec.pdb\n",
      "./tempdb/tem4/apdb.pdb ./templete/3UA5_A/rec.pdb\n",
      "./tempdb/tem4/apdb.pdb ./templete/5IUT_A/rec.pdb\n",
      "./tempdb/tem4/apdb.pdb ./templete/2VN0_A/rec.pdb\n",
      "./tempdb/tem4/apdb.pdb ./templete/1PQ2_A/rec.pdb\n",
      "./tempdb/tem4/apdb.pdb ./templete/2NNH_A/rec.pdb\n",
      "./tempdb/tem4/apdb.pdb ./templete/4H1N_A/rec.pdb\n",
      "./tempdb/tem4/apdb.pdb ./templete/4JLT_A/rec.pdb\n",
      "43 43 43 ./templete/1DT6_A/lig.pdb 1\n",
      "x1 101 100 1 0\n",
      "x2 101 100 1 0\n"
     ]
    },
    {
     "name": "stderr",
     "output_type": "stream",
     "text": [
      "/home/Grx/.local/lib/python3.11/site-packages/jax/_src/ops/scatter.py:94: FutureWarning: scatter inputs have incompatible types: cannot safely cast value from dtype=int64 to dtype=int32 with jax_numpy_dtype_promotion='standard'. In future JAX releases this will result in an error.\n",
      "  warnings.warn(\n"
     ]
    },
    {
     "name": "stdout",
     "output_type": "stream",
     "text": [
      "./tempdb/tem4/apdb.pdb ./templete/1DT6_A/rec.pdb\n",
      "./tempdb/tem4/apdb.pdb ./templete/5X23_A/rec.pdb\n",
      "./tempdb/tem4/apdb.pdb ./templete/5XXI_A/rec.pdb\n",
      "./tempdb/tem4/apdb.pdb ./templete/7RL2_A/rec.pdb\n",
      "./tempdb/tem4/apdb.pdb ./templete/1N6B_A/rec.pdb\n",
      "./tempdb/tem4/apdb.pdb ./templete/5X24_A/rec.pdb\n",
      "./tempdb/tem4/apdb.pdb ./templete/1NR6_A/rec.pdb\n",
      "./tempdb/tem4/apdb.pdb ./templete/1PO5_A/rec.pdb\n",
      "./tempdb/tem4/apdb.pdb ./templete/4NZ2_A/rec.pdb\n",
      "./tempdb/tem4/apdb.pdb ./templete/6BWW_A/rec.pdb\n",
      "./tempdb/tem4/apdb.pdb ./templete/2NNI_A/rec.pdb\n",
      "./tempdb/tem4/apdb.pdb ./templete/2NNJ_A/rec.pdb\n",
      "./tempdb/tem4/apdb.pdb ./templete/3UA5_A/rec.pdb\n",
      "./tempdb/tem4/apdb.pdb ./templete/5IUT_A/rec.pdb\n",
      "./tempdb/tem4/apdb.pdb ./templete/2VN0_A/rec.pdb\n",
      "./tempdb/tem4/apdb.pdb ./templete/1PQ2_A/rec.pdb\n",
      "./tempdb/tem4/apdb.pdb ./templete/2NNH_A/rec.pdb\n",
      "./tempdb/tem4/apdb.pdb ./templete/4H1N_A/rec.pdb\n",
      "./tempdb/tem4/apdb.pdb ./templete/4JLT_A/rec.pdb\n",
      "43 43 43 ./templete/1DT6_A/lig.pdb 1\n",
      "x1 101 100 1 0\n",
      "x2 101 100 1 0\n"
     ]
    },
    {
     "name": "stderr",
     "output_type": "stream",
     "text": [
      "/home/Grx/.local/lib/python3.11/site-packages/jax/_src/ops/scatter.py:94: FutureWarning: scatter inputs have incompatible types: cannot safely cast value from dtype=int64 to dtype=int32 with jax_numpy_dtype_promotion='standard'. In future JAX releases this will result in an error.\n",
      "  warnings.warn(\n"
     ]
    },
    {
     "name": "stdout",
     "output_type": "stream",
     "text": [
      "./tempdb/tem4/apdb.pdb ./templete/1DT6_A/rec.pdb\n",
      "./tempdb/tem4/apdb.pdb ./templete/5X23_A/rec.pdb\n",
      "./tempdb/tem4/apdb.pdb ./templete/5XXI_A/rec.pdb\n",
      "./tempdb/tem4/apdb.pdb ./templete/7RL2_A/rec.pdb\n",
      "./tempdb/tem4/apdb.pdb ./templete/1N6B_A/rec.pdb\n",
      "./tempdb/tem4/apdb.pdb ./templete/5X24_A/rec.pdb\n",
      "./tempdb/tem4/apdb.pdb ./templete/1NR6_A/rec.pdb\n",
      "./tempdb/tem4/apdb.pdb ./templete/1PO5_A/rec.pdb\n",
      "./tempdb/tem4/apdb.pdb ./templete/4NZ2_A/rec.pdb\n",
      "./tempdb/tem4/apdb.pdb ./templete/6BWW_A/rec.pdb\n",
      "./tempdb/tem4/apdb.pdb ./templete/2NNI_A/rec.pdb\n",
      "./tempdb/tem4/apdb.pdb ./templete/2NNJ_A/rec.pdb\n",
      "./tempdb/tem4/apdb.pdb ./templete/3UA5_A/rec.pdb\n",
      "./tempdb/tem4/apdb.pdb ./templete/5IUT_A/rec.pdb\n",
      "./tempdb/tem4/apdb.pdb ./templete/2VN0_A/rec.pdb\n",
      "./tempdb/tem4/apdb.pdb ./templete/1PQ2_A/rec.pdb\n",
      "./tempdb/tem4/apdb.pdb ./templete/2NNH_A/rec.pdb\n",
      "./tempdb/tem4/apdb.pdb ./templete/4H1N_A/rec.pdb\n",
      "./tempdb/tem4/apdb.pdb ./templete/4JLT_A/rec.pdb\n",
      "3780 4.397754313283089\n",
      "C C -0.11427527201075427 1.4257247279892458\n",
      "C C -0.14399391118806348 1.3960060888119366\n",
      "43 43 43 ./templete/1DT6_A/lig.pdb 1\n",
      "x1 116 100 1 15\n",
      "x2 116 100 1 15\n"
     ]
    },
    {
     "name": "stderr",
     "output_type": "stream",
     "text": [
      "/home/Grx/.local/lib/python3.11/site-packages/jax/_src/ops/scatter.py:94: FutureWarning: scatter inputs have incompatible types: cannot safely cast value from dtype=int64 to dtype=int32 with jax_numpy_dtype_promotion='standard'. In future JAX releases this will result in an error.\n",
      "  warnings.warn(\n"
     ]
    },
    {
     "name": "stdout",
     "output_type": "stream",
     "text": [
      "3780 4.445016689530473\n",
      "4 324.8842406272888\n",
      "43 43 43 ./templete/7DI3_A/lig.pdb 1\n",
      "x1 101 100 1 0\n",
      "x2 101 100 1 0\n"
     ]
    },
    {
     "name": "stderr",
     "output_type": "stream",
     "text": [
      "/home/Grx/.local/lib/python3.11/site-packages/jax/_src/ops/scatter.py:94: FutureWarning: scatter inputs have incompatible types: cannot safely cast value from dtype=int64 to dtype=int32 with jax_numpy_dtype_promotion='standard'. In future JAX releases this will result in an error.\n",
      "  warnings.warn(\n"
     ]
    },
    {
     "name": "stdout",
     "output_type": "stream",
     "text": [
      "./tempdb/tem5/apdb.pdb ./templete/7DI3_A/rec.pdb\n",
      "./tempdb/tem5/apdb.pdb ./templete/5YSM_A/rec.pdb\n",
      "./tempdb/tem5/apdb.pdb ./templete/4TVF_A/rec.pdb\n",
      "./tempdb/tem5/apdb.pdb ./templete/7DLS_A/rec.pdb\n",
      "./tempdb/tem5/apdb.pdb ./templete/5YSW_A/rec.pdb\n",
      "./tempdb/tem5/apdb.pdb ./templete/7TTP_A/rec.pdb\n",
      "./tempdb/tem5/apdb.pdb ./templete/7TTO_A/rec.pdb\n",
      "./tempdb/tem5/apdb.pdb ./templete/5Y1I_A/rec.pdb\n",
      "./tempdb/tem5/apdb.pdb ./templete/7TTQ_A/rec.pdb\n",
      "./tempdb/tem5/apdb.pdb ./templete/7TTA_A/rec.pdb\n",
      "./tempdb/tem5/apdb.pdb ./templete/3OO3_A/rec.pdb\n",
      "./tempdb/tem5/apdb.pdb ./templete/6M7L_A/rec.pdb\n",
      "./tempdb/tem5/apdb.pdb ./templete/7TTB_A/rec.pdb\n",
      "./tempdb/tem5/apdb.pdb ./templete/4OQS_A/rec.pdb\n",
      "./tempdb/tem5/apdb.pdb ./templete/2RFB_A/rec.pdb\n",
      "./tempdb/tem5/apdb.pdb ./templete/6M4P_A/rec.pdb\n",
      "./tempdb/tem5/apdb.pdb ./templete/6M4Q_A/rec.pdb\n",
      "./tempdb/tem5/apdb.pdb ./templete/3E5K_A/rec.pdb\n",
      "./tempdb/tem5/apdb.pdb ./templete/4TX3_A/rec.pdb\n",
      "43 43 43 ./templete/7DI3_A/lig.pdb 1\n",
      "x1 101 100 1 0\n",
      "x2 101 100 1 0\n"
     ]
    },
    {
     "name": "stderr",
     "output_type": "stream",
     "text": [
      "/home/Grx/.local/lib/python3.11/site-packages/jax/_src/ops/scatter.py:94: FutureWarning: scatter inputs have incompatible types: cannot safely cast value from dtype=int64 to dtype=int32 with jax_numpy_dtype_promotion='standard'. In future JAX releases this will result in an error.\n",
      "  warnings.warn(\n"
     ]
    },
    {
     "name": "stdout",
     "output_type": "stream",
     "text": [
      "./tempdb/tem5/apdb.pdb ./templete/7DI3_A/rec.pdb\n",
      "./tempdb/tem5/apdb.pdb ./templete/5YSM_A/rec.pdb\n",
      "./tempdb/tem5/apdb.pdb ./templete/4TVF_A/rec.pdb\n",
      "./tempdb/tem5/apdb.pdb ./templete/7DLS_A/rec.pdb\n",
      "./tempdb/tem5/apdb.pdb ./templete/5YSW_A/rec.pdb\n",
      "./tempdb/tem5/apdb.pdb ./templete/7TTP_A/rec.pdb\n",
      "./tempdb/tem5/apdb.pdb ./templete/7TTO_A/rec.pdb\n",
      "./tempdb/tem5/apdb.pdb ./templete/5Y1I_A/rec.pdb\n",
      "./tempdb/tem5/apdb.pdb ./templete/7TTQ_A/rec.pdb\n",
      "./tempdb/tem5/apdb.pdb ./templete/7TTA_A/rec.pdb\n",
      "./tempdb/tem5/apdb.pdb ./templete/3OO3_A/rec.pdb\n",
      "./tempdb/tem5/apdb.pdb ./templete/6M7L_A/rec.pdb\n",
      "./tempdb/tem5/apdb.pdb ./templete/7TTB_A/rec.pdb\n",
      "./tempdb/tem5/apdb.pdb ./templete/4OQS_A/rec.pdb\n",
      "./tempdb/tem5/apdb.pdb ./templete/2RFB_A/rec.pdb\n",
      "./tempdb/tem5/apdb.pdb ./templete/6M4P_A/rec.pdb\n",
      "./tempdb/tem5/apdb.pdb ./templete/6M4Q_A/rec.pdb\n",
      "./tempdb/tem5/apdb.pdb ./templete/3E5K_A/rec.pdb\n",
      "./tempdb/tem5/apdb.pdb ./templete/4TX3_A/rec.pdb\n",
      "43 43 43 ./templete/7DI3_A/lig.pdb 1\n",
      "x1 101 100 1 0\n",
      "x2 101 100 1 0\n"
     ]
    },
    {
     "name": "stderr",
     "output_type": "stream",
     "text": [
      "/home/Grx/.local/lib/python3.11/site-packages/jax/_src/ops/scatter.py:94: FutureWarning: scatter inputs have incompatible types: cannot safely cast value from dtype=int64 to dtype=int32 with jax_numpy_dtype_promotion='standard'. In future JAX releases this will result in an error.\n",
      "  warnings.warn(\n"
     ]
    },
    {
     "name": "stdout",
     "output_type": "stream",
     "text": [
      "./tempdb/tem5/apdb.pdb ./templete/7DI3_A/rec.pdb\n",
      "./tempdb/tem5/apdb.pdb ./templete/5YSM_A/rec.pdb\n",
      "./tempdb/tem5/apdb.pdb ./templete/4TVF_A/rec.pdb\n",
      "./tempdb/tem5/apdb.pdb ./templete/7DLS_A/rec.pdb\n",
      "./tempdb/tem5/apdb.pdb ./templete/5YSW_A/rec.pdb\n",
      "./tempdb/tem5/apdb.pdb ./templete/7TTP_A/rec.pdb\n",
      "./tempdb/tem5/apdb.pdb ./templete/7TTO_A/rec.pdb\n",
      "./tempdb/tem5/apdb.pdb ./templete/5Y1I_A/rec.pdb\n",
      "./tempdb/tem5/apdb.pdb ./templete/7TTQ_A/rec.pdb\n",
      "./tempdb/tem5/apdb.pdb ./templete/7TTA_A/rec.pdb\n",
      "./tempdb/tem5/apdb.pdb ./templete/3OO3_A/rec.pdb\n",
      "./tempdb/tem5/apdb.pdb ./templete/6M7L_A/rec.pdb\n",
      "./tempdb/tem5/apdb.pdb ./templete/7TTB_A/rec.pdb\n",
      "./tempdb/tem5/apdb.pdb ./templete/4OQS_A/rec.pdb\n",
      "./tempdb/tem5/apdb.pdb ./templete/2RFB_A/rec.pdb\n",
      "./tempdb/tem5/apdb.pdb ./templete/6M4P_A/rec.pdb\n",
      "./tempdb/tem5/apdb.pdb ./templete/6M4Q_A/rec.pdb\n",
      "./tempdb/tem5/apdb.pdb ./templete/3E5K_A/rec.pdb\n",
      "./tempdb/tem5/apdb.pdb ./templete/4TX3_A/rec.pdb\n",
      "3692 3.6874906101575378\n",
      "C C -0.001987971438454972 1.538012028561545\n",
      "C C -0.3006497670149899 1.2393502329850101\n",
      "43 43 43 ./templete/7DI3_A/lig.pdb 1\n",
      "x1 116 100 1 15\n",
      "x2 116 100 1 15\n"
     ]
    },
    {
     "name": "stderr",
     "output_type": "stream",
     "text": [
      "/home/Grx/.local/lib/python3.11/site-packages/jax/_src/ops/scatter.py:94: FutureWarning: scatter inputs have incompatible types: cannot safely cast value from dtype=int64 to dtype=int32 with jax_numpy_dtype_promotion='standard'. In future JAX releases this will result in an error.\n",
      "  warnings.warn(\n"
     ]
    },
    {
     "name": "stdout",
     "output_type": "stream",
     "text": [
      "3692 3.571545713566504\n",
      "5 307.04956340789795\n",
      "3738 1.9885079833885504\n",
      "43 43 43 ./templete/6L3A_A/lig.pdb 1\n",
      "x1 101 100 1 0\n",
      "x2 101 100 1 0\n"
     ]
    },
    {
     "name": "stderr",
     "output_type": "stream",
     "text": [
      "/home/Grx/.local/lib/python3.11/site-packages/jax/_src/ops/scatter.py:94: FutureWarning: scatter inputs have incompatible types: cannot safely cast value from dtype=int64 to dtype=int32 with jax_numpy_dtype_promotion='standard'. In future JAX releases this will result in an error.\n",
      "  warnings.warn(\n"
     ]
    },
    {
     "name": "stdout",
     "output_type": "stream",
     "text": [
      "N S -0.022212662223297652 1.7477873377767024\n",
      "3738 2.084829126534391\n",
      "./tempdb/tem6/apdb.pdb ./templete/2Y46_A/rec.pdb\n",
      "./tempdb/tem6/apdb.pdb ./templete/2Y5Z_A/rec.pdb\n",
      "./tempdb/tem6/apdb.pdb ./templete/3ZSN_A/rec.pdb\n",
      "./tempdb/tem6/apdb.pdb ./templete/2Y98_A/rec.pdb\n",
      "./tempdb/tem6/apdb.pdb ./templete/2YCA_A/rec.pdb\n",
      "./tempdb/tem6/apdb.pdb ./templete/4AW3_A/rec.pdb\n",
      "./tempdb/tem6/apdb.pdb ./templete/6L3A_A/rec.pdb\n",
      "./tempdb/tem6/apdb.pdb ./templete/6L39_A/rec.pdb\n",
      "./tempdb/tem6/apdb.pdb ./templete/4XE3_A/rec.pdb\n",
      "./tempdb/tem6/apdb.pdb ./templete/5UHU_A/rec.pdb\n",
      "./tempdb/tem6/apdb.pdb ./templete/4Z5Q_A/rec.pdb\n",
      "./tempdb/tem6/apdb.pdb ./templete/4Z5P_A/rec.pdb\n",
      "./tempdb/tem6/apdb.pdb ./templete/7DI3_A/rec.pdb\n",
      "./tempdb/tem6/apdb.pdb ./templete/3E5L_A/rec.pdb\n",
      "./tempdb/tem6/apdb.pdb ./templete/4WPZ_A/rec.pdb\n",
      "./tempdb/tem6/apdb.pdb ./templete/4FXB_A/rec.pdb\n",
      "./tempdb/tem6/apdb.pdb ./templete/3E5K_A/rec.pdb\n",
      "./tempdb/tem6/apdb.pdb ./templete/5Y1I_A/rec.pdb\n",
      "./tempdb/tem6/apdb.pdb ./templete/7DLS_A/rec.pdb\n",
      "3738 1.9885079833885504\n",
      "43 43 43 ./templete/6L3A_A/lig.pdb 1\n",
      "x1 101 100 1 0\n",
      "x2 101 100 1 0\n"
     ]
    },
    {
     "name": "stderr",
     "output_type": "stream",
     "text": [
      "/home/Grx/.local/lib/python3.11/site-packages/jax/_src/ops/scatter.py:94: FutureWarning: scatter inputs have incompatible types: cannot safely cast value from dtype=int64 to dtype=int32 with jax_numpy_dtype_promotion='standard'. In future JAX releases this will result in an error.\n",
      "  warnings.warn(\n"
     ]
    },
    {
     "name": "stdout",
     "output_type": "stream",
     "text": [
      "N S -0.02221266222329743 1.7477873377767026\n",
      "3738 2.0848291265343923\n",
      "./tempdb/tem6/apdb.pdb ./templete/2Y46_A/rec.pdb\n",
      "./tempdb/tem6/apdb.pdb ./templete/2Y5Z_A/rec.pdb\n",
      "./tempdb/tem6/apdb.pdb ./templete/3ZSN_A/rec.pdb\n",
      "./tempdb/tem6/apdb.pdb ./templete/2Y98_A/rec.pdb\n",
      "./tempdb/tem6/apdb.pdb ./templete/2YCA_A/rec.pdb\n",
      "./tempdb/tem6/apdb.pdb ./templete/4AW3_A/rec.pdb\n",
      "./tempdb/tem6/apdb.pdb ./templete/6L3A_A/rec.pdb\n",
      "./tempdb/tem6/apdb.pdb ./templete/6L39_A/rec.pdb\n",
      "./tempdb/tem6/apdb.pdb ./templete/4XE3_A/rec.pdb\n",
      "./tempdb/tem6/apdb.pdb ./templete/5UHU_A/rec.pdb\n",
      "./tempdb/tem6/apdb.pdb ./templete/4Z5Q_A/rec.pdb\n",
      "./tempdb/tem6/apdb.pdb ./templete/4Z5P_A/rec.pdb\n",
      "./tempdb/tem6/apdb.pdb ./templete/7DI3_A/rec.pdb\n",
      "./tempdb/tem6/apdb.pdb ./templete/3E5L_A/rec.pdb\n",
      "./tempdb/tem6/apdb.pdb ./templete/4WPZ_A/rec.pdb\n",
      "./tempdb/tem6/apdb.pdb ./templete/4FXB_A/rec.pdb\n",
      "./tempdb/tem6/apdb.pdb ./templete/3E5K_A/rec.pdb\n",
      "./tempdb/tem6/apdb.pdb ./templete/5Y1I_A/rec.pdb\n",
      "./tempdb/tem6/apdb.pdb ./templete/7DLS_A/rec.pdb\n",
      "43 43 43 ./templete/2Y46_A/lig.pdb 1\n",
      "x1 101 100 1 0\n",
      "x2 101 100 1 0\n"
     ]
    },
    {
     "name": "stderr",
     "output_type": "stream",
     "text": [
      "/home/Grx/.local/lib/python3.11/site-packages/jax/_src/ops/scatter.py:94: FutureWarning: scatter inputs have incompatible types: cannot safely cast value from dtype=int64 to dtype=int32 with jax_numpy_dtype_promotion='standard'. In future JAX releases this will result in an error.\n",
      "  warnings.warn(\n"
     ]
    },
    {
     "name": "stdout",
     "output_type": "stream",
     "text": [
      "./tempdb/tem6/apdb.pdb ./templete/2Y46_A/rec.pdb\n",
      "./tempdb/tem6/apdb.pdb ./templete/2Y5Z_A/rec.pdb\n",
      "./tempdb/tem6/apdb.pdb ./templete/3ZSN_A/rec.pdb\n",
      "./tempdb/tem6/apdb.pdb ./templete/2Y98_A/rec.pdb\n",
      "./tempdb/tem6/apdb.pdb ./templete/2YCA_A/rec.pdb\n",
      "./tempdb/tem6/apdb.pdb ./templete/4AW3_A/rec.pdb\n",
      "./tempdb/tem6/apdb.pdb ./templete/6L3A_A/rec.pdb\n",
      "./tempdb/tem6/apdb.pdb ./templete/6L39_A/rec.pdb\n",
      "./tempdb/tem6/apdb.pdb ./templete/4XE3_A/rec.pdb\n",
      "./tempdb/tem6/apdb.pdb ./templete/5UHU_A/rec.pdb\n",
      "./tempdb/tem6/apdb.pdb ./templete/4Z5Q_A/rec.pdb\n",
      "./tempdb/tem6/apdb.pdb ./templete/4Z5P_A/rec.pdb\n",
      "./tempdb/tem6/apdb.pdb ./templete/7DI3_A/rec.pdb\n",
      "./tempdb/tem6/apdb.pdb ./templete/3E5L_A/rec.pdb\n",
      "./tempdb/tem6/apdb.pdb ./templete/4WPZ_A/rec.pdb\n",
      "./tempdb/tem6/apdb.pdb ./templete/4FXB_A/rec.pdb\n",
      "./tempdb/tem6/apdb.pdb ./templete/3E5K_A/rec.pdb\n",
      "./tempdb/tem6/apdb.pdb ./templete/5Y1I_A/rec.pdb\n",
      "./tempdb/tem6/apdb.pdb ./templete/7DLS_A/rec.pdb\n",
      "3738 1.6503896509612506\n",
      "FE S -0.12961034903874946 1.6503896509612506\n",
      "43 43 43 ./templete/2Y46_A/lig.pdb 1\n",
      "x1 106 100 1 5\n",
      "x2 106 100 1 5\n"
     ]
    },
    {
     "name": "stderr",
     "output_type": "stream",
     "text": [
      "/home/Grx/.local/lib/python3.11/site-packages/jax/_src/ops/scatter.py:94: FutureWarning: scatter inputs have incompatible types: cannot safely cast value from dtype=int64 to dtype=int32 with jax_numpy_dtype_promotion='standard'. In future JAX releases this will result in an error.\n",
      "  warnings.warn(\n"
     ]
    },
    {
     "name": "stdout",
     "output_type": "stream",
     "text": [
      "FE S -0.1310568600869968 1.6489431399130032\n",
      "3738 1.6489431399130032\n",
      "6 330.0952594280243\n",
      "43 43 43 ./templete/6J88_A/lig.pdb 1\n",
      "x1 101 100 1 0\n",
      "x2 101 100 1 0\n"
     ]
    },
    {
     "name": "stderr",
     "output_type": "stream",
     "text": [
      "/home/Grx/.local/lib/python3.11/site-packages/jax/_src/ops/scatter.py:94: FutureWarning: scatter inputs have incompatible types: cannot safely cast value from dtype=int64 to dtype=int32 with jax_numpy_dtype_promotion='standard'. In future JAX releases this will result in an error.\n",
      "  warnings.warn(\n"
     ]
    },
    {
     "name": "stdout",
     "output_type": "stream",
     "text": [
      "./tempdb/tem8/apdb.pdb ./templete/6J88_A/rec.pdb\n",
      "./tempdb/tem8/apdb.pdb ./templete/6J87_A/rec.pdb\n",
      "./tempdb/tem8/apdb.pdb ./templete/6J82_A/rec.pdb\n",
      "./tempdb/tem8/apdb.pdb ./templete/6J86_A/rec.pdb\n",
      "./tempdb/tem8/apdb.pdb ./templete/6J83_A/rec.pdb\n",
      "./tempdb/tem8/apdb.pdb ./templete/6J84_A/rec.pdb\n",
      "./tempdb/tem8/apdb.pdb ./templete/3WVS_A/rec.pdb\n",
      "./tempdb/tem8/apdb.pdb ./templete/6KZS_A/rec.pdb\n",
      "./tempdb/tem8/apdb.pdb ./templete/6KZT_A/rec.pdb\n",
      "./tempdb/tem8/apdb.pdb ./templete/6B11_A/rec.pdb\n",
      "./tempdb/tem8/apdb.pdb ./templete/4MM0_A/rec.pdb\n",
      "./tempdb/tem8/apdb.pdb ./templete/5FOI_A/rec.pdb\n",
      "./tempdb/tem8/apdb.pdb ./templete/4UBS_A/rec.pdb\n",
      "./tempdb/tem8/apdb.pdb ./templete/6F0B_A/rec.pdb\n",
      "./tempdb/tem8/apdb.pdb ./templete/6F0C_A/rec.pdb\n",
      "./tempdb/tem8/apdb.pdb ./templete/1T93_A/rec.pdb\n",
      "./tempdb/tem8/apdb.pdb ./templete/1XQD_A/rec.pdb\n",
      "./tempdb/tem8/apdb.pdb ./templete/4OQR_A/rec.pdb\n",
      "./tempdb/tem8/apdb.pdb ./templete/2D09_A/rec.pdb\n",
      "43 43 43 ./templete/6J88_A/lig.pdb 1\n",
      "x1 101 100 1 0\n",
      "x2 101 100 1 0\n"
     ]
    },
    {
     "name": "stderr",
     "output_type": "stream",
     "text": [
      "/home/Grx/.local/lib/python3.11/site-packages/jax/_src/ops/scatter.py:94: FutureWarning: scatter inputs have incompatible types: cannot safely cast value from dtype=int64 to dtype=int32 with jax_numpy_dtype_promotion='standard'. In future JAX releases this will result in an error.\n",
      "  warnings.warn(\n"
     ]
    },
    {
     "name": "stdout",
     "output_type": "stream",
     "text": [
      "./tempdb/tem8/apdb.pdb ./templete/6J88_A/rec.pdb\n",
      "./tempdb/tem8/apdb.pdb ./templete/6J87_A/rec.pdb\n",
      "./tempdb/tem8/apdb.pdb ./templete/6J82_A/rec.pdb\n",
      "./tempdb/tem8/apdb.pdb ./templete/6J86_A/rec.pdb\n",
      "./tempdb/tem8/apdb.pdb ./templete/6J83_A/rec.pdb\n",
      "./tempdb/tem8/apdb.pdb ./templete/6J84_A/rec.pdb\n",
      "./tempdb/tem8/apdb.pdb ./templete/3WVS_A/rec.pdb\n",
      "./tempdb/tem8/apdb.pdb ./templete/6KZS_A/rec.pdb\n",
      "./tempdb/tem8/apdb.pdb ./templete/6KZT_A/rec.pdb\n",
      "./tempdb/tem8/apdb.pdb ./templete/6B11_A/rec.pdb\n",
      "./tempdb/tem8/apdb.pdb ./templete/4MM0_A/rec.pdb\n",
      "./tempdb/tem8/apdb.pdb ./templete/5FOI_A/rec.pdb\n",
      "./tempdb/tem8/apdb.pdb ./templete/4UBS_A/rec.pdb\n",
      "./tempdb/tem8/apdb.pdb ./templete/6F0B_A/rec.pdb\n",
      "./tempdb/tem8/apdb.pdb ./templete/6F0C_A/rec.pdb\n",
      "./tempdb/tem8/apdb.pdb ./templete/1T93_A/rec.pdb\n",
      "./tempdb/tem8/apdb.pdb ./templete/1XQD_A/rec.pdb\n",
      "./tempdb/tem8/apdb.pdb ./templete/4OQR_A/rec.pdb\n",
      "./tempdb/tem8/apdb.pdb ./templete/2D09_A/rec.pdb\n",
      "43 43 43 ./templete/6J88_A/lig.pdb 1\n",
      "x1 101 100 1 0\n",
      "x2 101 100 1 0\n"
     ]
    },
    {
     "name": "stderr",
     "output_type": "stream",
     "text": [
      "/home/Grx/.local/lib/python3.11/site-packages/jax/_src/ops/scatter.py:94: FutureWarning: scatter inputs have incompatible types: cannot safely cast value from dtype=int64 to dtype=int32 with jax_numpy_dtype_promotion='standard'. In future JAX releases this will result in an error.\n",
      "  warnings.warn(\n"
     ]
    },
    {
     "name": "stdout",
     "output_type": "stream",
     "text": [
      "./tempdb/tem8/apdb.pdb ./templete/6J88_A/rec.pdb\n",
      "./tempdb/tem8/apdb.pdb ./templete/6J87_A/rec.pdb\n",
      "./tempdb/tem8/apdb.pdb ./templete/6J82_A/rec.pdb\n",
      "./tempdb/tem8/apdb.pdb ./templete/6J86_A/rec.pdb\n",
      "./tempdb/tem8/apdb.pdb ./templete/6J83_A/rec.pdb\n",
      "./tempdb/tem8/apdb.pdb ./templete/6J84_A/rec.pdb\n",
      "./tempdb/tem8/apdb.pdb ./templete/3WVS_A/rec.pdb\n",
      "./tempdb/tem8/apdb.pdb ./templete/6KZS_A/rec.pdb\n",
      "./tempdb/tem8/apdb.pdb ./templete/6KZT_A/rec.pdb\n",
      "./tempdb/tem8/apdb.pdb ./templete/6B11_A/rec.pdb\n",
      "./tempdb/tem8/apdb.pdb ./templete/4MM0_A/rec.pdb\n",
      "./tempdb/tem8/apdb.pdb ./templete/5FOI_A/rec.pdb\n",
      "./tempdb/tem8/apdb.pdb ./templete/4UBS_A/rec.pdb\n",
      "./tempdb/tem8/apdb.pdb ./templete/6F0B_A/rec.pdb\n",
      "./tempdb/tem8/apdb.pdb ./templete/6F0C_A/rec.pdb\n",
      "./tempdb/tem8/apdb.pdb ./templete/1T93_A/rec.pdb\n",
      "./tempdb/tem8/apdb.pdb ./templete/1XQD_A/rec.pdb\n",
      "./tempdb/tem8/apdb.pdb ./templete/4OQR_A/rec.pdb\n",
      "./tempdb/tem8/apdb.pdb ./templete/2D09_A/rec.pdb\n",
      "2592 2.588973734899603\n",
      "C N -0.2432815502233887 1.2767184497766113\n",
      "43 43 43 ./templete/6J88_A/lig.pdb 1\n",
      "x1 109 100 1 8\n",
      "x2 109 100 1 8\n"
     ]
    },
    {
     "name": "stderr",
     "output_type": "stream",
     "text": [
      "/home/Grx/.local/lib/python3.11/site-packages/jax/_src/ops/scatter.py:94: FutureWarning: scatter inputs have incompatible types: cannot safely cast value from dtype=int64 to dtype=int32 with jax_numpy_dtype_promotion='standard'. In future JAX releases this will result in an error.\n",
      "  warnings.warn(\n"
     ]
    },
    {
     "name": "stdout",
     "output_type": "stream",
     "text": [
      "2592 2.584286506627502\n",
      "8 239.18401765823364\n",
      "2936 2.624524528366995\n",
      "43 43 43 ./templete/6J88_A/lig.pdb 1\n",
      "x1 101 100 1 0\n",
      "x2 101 100 1 0\n"
     ]
    },
    {
     "name": "stderr",
     "output_type": "stream",
     "text": [
      "/home/Grx/.local/lib/python3.11/site-packages/jax/_src/ops/scatter.py:94: FutureWarning: scatter inputs have incompatible types: cannot safely cast value from dtype=int64 to dtype=int32 with jax_numpy_dtype_promotion='standard'. In future JAX releases this will result in an error.\n",
      "  warnings.warn(\n"
     ]
    },
    {
     "name": "stdout",
     "output_type": "stream",
     "text": [
      "2936 2.6155383789997653\n",
      "./tempdb/tem9/apdb.pdb ./templete/6J88_A/rec.pdb\n",
      "./tempdb/tem9/apdb.pdb ./templete/6J87_A/rec.pdb\n",
      "./tempdb/tem9/apdb.pdb ./templete/6J86_A/rec.pdb\n",
      "./tempdb/tem9/apdb.pdb ./templete/6J82_A/rec.pdb\n",
      "./tempdb/tem9/apdb.pdb ./templete/6J83_A/rec.pdb\n",
      "./tempdb/tem9/apdb.pdb ./templete/6J84_A/rec.pdb\n",
      "./tempdb/tem9/apdb.pdb ./templete/3WVS_A/rec.pdb\n",
      "./tempdb/tem9/apdb.pdb ./templete/6KZS_A/rec.pdb\n",
      "./tempdb/tem9/apdb.pdb ./templete/6KZT_A/rec.pdb\n",
      "./tempdb/tem9/apdb.pdb ./templete/6B11_A/rec.pdb\n",
      "./tempdb/tem9/apdb.pdb ./templete/4MM0_A/rec.pdb\n",
      "./tempdb/tem9/apdb.pdb ./templete/5FOI_A/rec.pdb\n",
      "./tempdb/tem9/apdb.pdb ./templete/4UBS_A/rec.pdb\n",
      "./tempdb/tem9/apdb.pdb ./templete/6F0B_A/rec.pdb\n",
      "./tempdb/tem9/apdb.pdb ./templete/6F0C_A/rec.pdb\n",
      "./tempdb/tem9/apdb.pdb ./templete/1T93_A/rec.pdb\n",
      "./tempdb/tem9/apdb.pdb ./templete/2D09_A/rec.pdb\n",
      "./tempdb/tem9/apdb.pdb ./templete/2D0E_A/rec.pdb\n",
      "./tempdb/tem9/apdb.pdb ./templete/4Z5P_A/rec.pdb\n",
      "2936 2.624524528366995\n",
      "43 43 43 ./templete/6J88_A/lig.pdb 1\n",
      "x1 101 100 1 0\n",
      "x2 101 100 1 0\n"
     ]
    },
    {
     "name": "stderr",
     "output_type": "stream",
     "text": [
      "/home/Grx/.local/lib/python3.11/site-packages/jax/_src/ops/scatter.py:94: FutureWarning: scatter inputs have incompatible types: cannot safely cast value from dtype=int64 to dtype=int32 with jax_numpy_dtype_promotion='standard'. In future JAX releases this will result in an error.\n",
      "  warnings.warn(\n"
     ]
    },
    {
     "name": "stdout",
     "output_type": "stream",
     "text": [
      "2936 2.6155383789997653\n",
      "./tempdb/tem9/apdb.pdb ./templete/6J88_A/rec.pdb\n",
      "./tempdb/tem9/apdb.pdb ./templete/6J87_A/rec.pdb\n",
      "./tempdb/tem9/apdb.pdb ./templete/6J86_A/rec.pdb\n",
      "./tempdb/tem9/apdb.pdb ./templete/6J82_A/rec.pdb\n",
      "./tempdb/tem9/apdb.pdb ./templete/6J83_A/rec.pdb\n",
      "./tempdb/tem9/apdb.pdb ./templete/6J84_A/rec.pdb\n",
      "./tempdb/tem9/apdb.pdb ./templete/3WVS_A/rec.pdb\n",
      "./tempdb/tem9/apdb.pdb ./templete/6KZS_A/rec.pdb\n",
      "./tempdb/tem9/apdb.pdb ./templete/6KZT_A/rec.pdb\n",
      "./tempdb/tem9/apdb.pdb ./templete/6B11_A/rec.pdb\n",
      "./tempdb/tem9/apdb.pdb ./templete/4MM0_A/rec.pdb\n",
      "./tempdb/tem9/apdb.pdb ./templete/5FOI_A/rec.pdb\n",
      "./tempdb/tem9/apdb.pdb ./templete/4UBS_A/rec.pdb\n",
      "./tempdb/tem9/apdb.pdb ./templete/6F0B_A/rec.pdb\n",
      "./tempdb/tem9/apdb.pdb ./templete/6F0C_A/rec.pdb\n",
      "./tempdb/tem9/apdb.pdb ./templete/1T93_A/rec.pdb\n",
      "./tempdb/tem9/apdb.pdb ./templete/2D09_A/rec.pdb\n",
      "./tempdb/tem9/apdb.pdb ./templete/2D0E_A/rec.pdb\n",
      "./tempdb/tem9/apdb.pdb ./templete/4Z5P_A/rec.pdb\n",
      "2936 2.624524528366995\n",
      "43 43 43 ./templete/6J88_A/lig.pdb 1\n",
      "x1 101 100 1 0\n",
      "x2 101 100 1 0\n"
     ]
    },
    {
     "name": "stderr",
     "output_type": "stream",
     "text": [
      "/home/Grx/.local/lib/python3.11/site-packages/jax/_src/ops/scatter.py:94: FutureWarning: scatter inputs have incompatible types: cannot safely cast value from dtype=int64 to dtype=int32 with jax_numpy_dtype_promotion='standard'. In future JAX releases this will result in an error.\n",
      "  warnings.warn(\n"
     ]
    },
    {
     "name": "stdout",
     "output_type": "stream",
     "text": [
      "2936 2.615538378999764\n",
      "./tempdb/tem9/apdb.pdb ./templete/6J88_A/rec.pdb\n",
      "./tempdb/tem9/apdb.pdb ./templete/6J87_A/rec.pdb\n",
      "./tempdb/tem9/apdb.pdb ./templete/6J86_A/rec.pdb\n",
      "./tempdb/tem9/apdb.pdb ./templete/6J82_A/rec.pdb\n",
      "./tempdb/tem9/apdb.pdb ./templete/6J83_A/rec.pdb\n",
      "./tempdb/tem9/apdb.pdb ./templete/6J84_A/rec.pdb\n",
      "./tempdb/tem9/apdb.pdb ./templete/3WVS_A/rec.pdb\n",
      "./tempdb/tem9/apdb.pdb ./templete/6KZS_A/rec.pdb\n",
      "./tempdb/tem9/apdb.pdb ./templete/6KZT_A/rec.pdb\n",
      "./tempdb/tem9/apdb.pdb ./templete/6B11_A/rec.pdb\n",
      "./tempdb/tem9/apdb.pdb ./templete/4MM0_A/rec.pdb\n",
      "./tempdb/tem9/apdb.pdb ./templete/5FOI_A/rec.pdb\n",
      "./tempdb/tem9/apdb.pdb ./templete/4UBS_A/rec.pdb\n",
      "./tempdb/tem9/apdb.pdb ./templete/6F0B_A/rec.pdb\n",
      "./tempdb/tem9/apdb.pdb ./templete/6F0C_A/rec.pdb\n",
      "./tempdb/tem9/apdb.pdb ./templete/1T93_A/rec.pdb\n",
      "./tempdb/tem9/apdb.pdb ./templete/2D09_A/rec.pdb\n",
      "./tempdb/tem9/apdb.pdb ./templete/2D0E_A/rec.pdb\n",
      "./tempdb/tem9/apdb.pdb ./templete/4Z5P_A/rec.pdb\n",
      "2936 2.624524528366995\n",
      "43 43 43 ./templete/6J88_A/lig.pdb 1\n",
      "x1 101 100 1 0\n",
      "x2 101 100 1 0\n"
     ]
    },
    {
     "name": "stderr",
     "output_type": "stream",
     "text": [
      "/home/Grx/.local/lib/python3.11/site-packages/jax/_src/ops/scatter.py:94: FutureWarning: scatter inputs have incompatible types: cannot safely cast value from dtype=int64 to dtype=int32 with jax_numpy_dtype_promotion='standard'. In future JAX releases this will result in an error.\n",
      "  warnings.warn(\n"
     ]
    },
    {
     "name": "stdout",
     "output_type": "stream",
     "text": [
      "2936 2.615538378999766\n",
      "9 246.21512985229492\n",
      "43 43 43 ./templete/1N6B_A/lig.pdb 1\n",
      "x1 101 100 1 0\n",
      "x2 101 100 1 0\n"
     ]
    },
    {
     "name": "stderr",
     "output_type": "stream",
     "text": [
      "/home/Grx/.local/lib/python3.11/site-packages/jax/_src/ops/scatter.py:94: FutureWarning: scatter inputs have incompatible types: cannot safely cast value from dtype=int64 to dtype=int32 with jax_numpy_dtype_promotion='standard'. In future JAX releases this will result in an error.\n",
      "  warnings.warn(\n"
     ]
    },
    {
     "name": "stdout",
     "output_type": "stream",
     "text": [
      "./tempdb/tem10/apdb.pdb ./templete/1N6B_A/rec.pdb\n",
      "./tempdb/tem10/apdb.pdb ./templete/1DT6_A/rec.pdb\n",
      "./tempdb/tem10/apdb.pdb ./templete/2VN0_A/rec.pdb\n",
      "./tempdb/tem10/apdb.pdb ./templete/2NNJ_A/rec.pdb\n",
      "./tempdb/tem10/apdb.pdb ./templete/1PQ2_A/rec.pdb\n",
      "./tempdb/tem10/apdb.pdb ./templete/2NNI_A/rec.pdb\n",
      "./tempdb/tem10/apdb.pdb ./templete/2NNH_A/rec.pdb\n",
      "./tempdb/tem10/apdb.pdb ./templete/4NZ2_A/rec.pdb\n",
      "./tempdb/tem10/apdb.pdb ./templete/5XXI_A/rec.pdb\n",
      "./tempdb/tem10/apdb.pdb ./templete/5X24_A/rec.pdb\n",
      "./tempdb/tem10/apdb.pdb ./templete/7RL2_A/rec.pdb\n",
      "./tempdb/tem10/apdb.pdb ./templete/5X23_A/rec.pdb\n",
      "./tempdb/tem10/apdb.pdb ./templete/6BWW_A/rec.pdb\n",
      "./tempdb/tem10/apdb.pdb ./templete/3TMZ_A/rec.pdb\n",
      "./tempdb/tem10/apdb.pdb ./templete/5IUT_A/rec.pdb\n",
      "./tempdb/tem10/apdb.pdb ./templete/3UA5_A/rec.pdb\n",
      "./tempdb/tem10/apdb.pdb ./templete/4MGJ_A/rec.pdb\n",
      "./tempdb/tem10/apdb.pdb ./templete/4JLT_A/rec.pdb\n",
      "./tempdb/tem10/apdb.pdb ./templete/5EM4_A/rec.pdb\n",
      "43 43 43 ./templete/1N6B_A/lig.pdb 1\n",
      "x1 101 100 1 0\n",
      "x2 101 100 1 0\n"
     ]
    },
    {
     "name": "stderr",
     "output_type": "stream",
     "text": [
      "/home/Grx/.local/lib/python3.11/site-packages/jax/_src/ops/scatter.py:94: FutureWarning: scatter inputs have incompatible types: cannot safely cast value from dtype=int64 to dtype=int32 with jax_numpy_dtype_promotion='standard'. In future JAX releases this will result in an error.\n",
      "  warnings.warn(\n"
     ]
    },
    {
     "name": "stdout",
     "output_type": "stream",
     "text": [
      "./tempdb/tem10/apdb.pdb ./templete/1N6B_A/rec.pdb\n",
      "./tempdb/tem10/apdb.pdb ./templete/1DT6_A/rec.pdb\n",
      "./tempdb/tem10/apdb.pdb ./templete/2VN0_A/rec.pdb\n",
      "./tempdb/tem10/apdb.pdb ./templete/2NNJ_A/rec.pdb\n",
      "./tempdb/tem10/apdb.pdb ./templete/1PQ2_A/rec.pdb\n",
      "./tempdb/tem10/apdb.pdb ./templete/2NNI_A/rec.pdb\n",
      "./tempdb/tem10/apdb.pdb ./templete/2NNH_A/rec.pdb\n",
      "./tempdb/tem10/apdb.pdb ./templete/4NZ2_A/rec.pdb\n",
      "./tempdb/tem10/apdb.pdb ./templete/5XXI_A/rec.pdb\n",
      "./tempdb/tem10/apdb.pdb ./templete/5X24_A/rec.pdb\n",
      "./tempdb/tem10/apdb.pdb ./templete/7RL2_A/rec.pdb\n",
      "./tempdb/tem10/apdb.pdb ./templete/5X23_A/rec.pdb\n",
      "./tempdb/tem10/apdb.pdb ./templete/6BWW_A/rec.pdb\n",
      "./tempdb/tem10/apdb.pdb ./templete/3TMZ_A/rec.pdb\n",
      "./tempdb/tem10/apdb.pdb ./templete/5IUT_A/rec.pdb\n",
      "./tempdb/tem10/apdb.pdb ./templete/3UA5_A/rec.pdb\n",
      "./tempdb/tem10/apdb.pdb ./templete/4MGJ_A/rec.pdb\n",
      "./tempdb/tem10/apdb.pdb ./templete/4JLT_A/rec.pdb\n",
      "./tempdb/tem10/apdb.pdb ./templete/5EM4_A/rec.pdb\n",
      "C C -0.54348958861435 0.99651041138565\n",
      "C S -0.7887258117778122 1.0012741882221878\n",
      "C C -0.28154181634827435 1.2584581836517257\n",
      "C N -0.13108675576910112 1.388913244230899\n",
      "C C -0.4698257151286036 1.0701742848713964\n",
      "C C -0.41301020412782763 1.1269897958721724\n",
      "C C -0.1997578576988399 1.3402421423011601\n",
      "43 43 43 ./templete/1N6B_A/lig.pdb 1\n",
      "x1 161 100 1 60\n",
      "x2 161 100 1 60\n"
     ]
    },
    {
     "name": "stderr",
     "output_type": "stream",
     "text": [
      "/home/Grx/.local/lib/python3.11/site-packages/jax/_src/ops/scatter.py:94: FutureWarning: scatter inputs have incompatible types: cannot safely cast value from dtype=int64 to dtype=int32 with jax_numpy_dtype_promotion='standard'. In future JAX releases this will result in an error.\n",
      "  warnings.warn(\n"
     ]
    },
    {
     "name": "stdout",
     "output_type": "stream",
     "text": [
      "C C -0.5436178426291444 0.9963821573708557\n",
      "C S -0.7886960771481408 1.0013039228518592\n",
      "C C -0.12142454231626787 1.4185754576837322\n",
      "C N -0.016128770838521156 1.5038712291614789\n",
      "C C -0.469825154643553 1.070174845356447\n",
      "C C -0.4130159467387562 1.1269840532612438\n",
      "C C -0.20002777998799148 1.3399722200120086\n",
      "./tempdb/tem10/apdb.pdb ./templete/1N6B_A/rec.pdb\n",
      "./tempdb/tem10/apdb.pdb ./templete/1DT6_A/rec.pdb\n",
      "./tempdb/tem10/apdb.pdb ./templete/2VN0_A/rec.pdb\n",
      "./tempdb/tem10/apdb.pdb ./templete/2NNJ_A/rec.pdb\n",
      "./tempdb/tem10/apdb.pdb ./templete/1PQ2_A/rec.pdb\n",
      "./tempdb/tem10/apdb.pdb ./templete/2NNI_A/rec.pdb\n",
      "./tempdb/tem10/apdb.pdb ./templete/2NNH_A/rec.pdb\n",
      "./tempdb/tem10/apdb.pdb ./templete/4NZ2_A/rec.pdb\n",
      "./tempdb/tem10/apdb.pdb ./templete/5XXI_A/rec.pdb\n",
      "./tempdb/tem10/apdb.pdb ./templete/5X24_A/rec.pdb\n",
      "./tempdb/tem10/apdb.pdb ./templete/7RL2_A/rec.pdb\n",
      "./tempdb/tem10/apdb.pdb ./templete/5X23_A/rec.pdb\n",
      "./tempdb/tem10/apdb.pdb ./templete/6BWW_A/rec.pdb\n",
      "./tempdb/tem10/apdb.pdb ./templete/3TMZ_A/rec.pdb\n",
      "./tempdb/tem10/apdb.pdb ./templete/5IUT_A/rec.pdb\n",
      "./tempdb/tem10/apdb.pdb ./templete/3UA5_A/rec.pdb\n",
      "./tempdb/tem10/apdb.pdb ./templete/4MGJ_A/rec.pdb\n",
      "./tempdb/tem10/apdb.pdb ./templete/4JLT_A/rec.pdb\n",
      "./tempdb/tem10/apdb.pdb ./templete/5EM4_A/rec.pdb\n",
      "2128 3.275673060609073\n",
      "43 43 43 ./templete/1N6B_A/lig.pdb 1\n",
      "x1 101 100 1 0\n",
      "x2 101 100 1 0\n"
     ]
    },
    {
     "name": "stderr",
     "output_type": "stream",
     "text": [
      "/home/Grx/.local/lib/python3.11/site-packages/jax/_src/ops/scatter.py:94: FutureWarning: scatter inputs have incompatible types: cannot safely cast value from dtype=int64 to dtype=int32 with jax_numpy_dtype_promotion='standard'. In future JAX releases this will result in an error.\n",
      "  warnings.warn(\n"
     ]
    },
    {
     "name": "stdout",
     "output_type": "stream",
     "text": [
      "2128 3.2755960617746265\n",
      "10 243.71421146392822\n",
      "3455 2.230543879864282\n",
      "43 43 43 ./templete/3WSP_A/lig.pdb 1\n",
      "x1 101 100 1 0\n",
      "x2 101 100 1 0\n"
     ]
    },
    {
     "name": "stderr",
     "output_type": "stream",
     "text": [
      "/home/Grx/.local/lib/python3.11/site-packages/jax/_src/ops/scatter.py:94: FutureWarning: scatter inputs have incompatible types: cannot safely cast value from dtype=int64 to dtype=int32 with jax_numpy_dtype_promotion='standard'. In future JAX releases this will result in an error.\n",
      "  warnings.warn(\n"
     ]
    },
    {
     "name": "stdout",
     "output_type": "stream",
     "text": [
      "3455 2.239522866064888\n",
      "./tempdb/tem11/apdb.pdb ./templete/3WSP_A/rec.pdb\n",
      "./tempdb/tem11/apdb.pdb ./templete/5B2U_A/rec.pdb\n",
      "./tempdb/tem11/apdb.pdb ./templete/3M4V_A/rec.pdb\n",
      "./tempdb/tem11/apdb.pdb ./templete/3HF2_A/rec.pdb\n",
      "./tempdb/tem11/apdb.pdb ./templete/4HGJ_A/rec.pdb\n",
      "./tempdb/tem11/apdb.pdb ./templete/7EGN_A/rec.pdb\n",
      "./tempdb/tem11/apdb.pdb ./templete/5B2X_A/rec.pdb\n",
      "./tempdb/tem11/apdb.pdb ./templete/5B2V_A/rec.pdb\n",
      "./tempdb/tem11/apdb.pdb ./templete/5E7Y_A/rec.pdb\n",
      "./tempdb/tem11/apdb.pdb ./templete/1YQO_A/rec.pdb\n",
      "./tempdb/tem11/apdb.pdb ./templete/5E78_A/rec.pdb\n",
      "./tempdb/tem11/apdb.pdb ./templete/1P0V_A/rec.pdb\n",
      "./tempdb/tem11/apdb.pdb ./templete/1YQP_A/rec.pdb\n",
      "./tempdb/tem11/apdb.pdb ./templete/1P0X_A/rec.pdb\n",
      "./tempdb/tem11/apdb.pdb ./templete/2NNB_A/rec.pdb\n",
      "./tempdb/tem11/apdb.pdb ./templete/1P0W_A/rec.pdb\n",
      "./tempdb/tem11/apdb.pdb ./templete/6JO1_A/rec.pdb\n",
      "./tempdb/tem11/apdb.pdb ./templete/6K3Q_A/rec.pdb\n",
      "./tempdb/tem11/apdb.pdb ./templete/1JME_A/rec.pdb\n",
      "3455 2.230543879864282\n",
      "43 43 43 ./templete/3WSP_A/lig.pdb 1\n",
      "x1 101 100 1 0\n",
      "x2 101 100 1 0\n"
     ]
    },
    {
     "name": "stderr",
     "output_type": "stream",
     "text": [
      "/home/Grx/.local/lib/python3.11/site-packages/jax/_src/ops/scatter.py:94: FutureWarning: scatter inputs have incompatible types: cannot safely cast value from dtype=int64 to dtype=int32 with jax_numpy_dtype_promotion='standard'. In future JAX releases this will result in an error.\n",
      "  warnings.warn(\n"
     ]
    },
    {
     "name": "stdout",
     "output_type": "stream",
     "text": [
      "3455 2.239522866064888\n",
      "./tempdb/tem11/apdb.pdb ./templete/3WSP_A/rec.pdb\n",
      "./tempdb/tem11/apdb.pdb ./templete/5B2U_A/rec.pdb\n",
      "./tempdb/tem11/apdb.pdb ./templete/3M4V_A/rec.pdb\n",
      "./tempdb/tem11/apdb.pdb ./templete/3HF2_A/rec.pdb\n",
      "./tempdb/tem11/apdb.pdb ./templete/4HGJ_A/rec.pdb\n",
      "./tempdb/tem11/apdb.pdb ./templete/7EGN_A/rec.pdb\n",
      "./tempdb/tem11/apdb.pdb ./templete/5B2X_A/rec.pdb\n",
      "./tempdb/tem11/apdb.pdb ./templete/5B2V_A/rec.pdb\n",
      "./tempdb/tem11/apdb.pdb ./templete/5E7Y_A/rec.pdb\n",
      "./tempdb/tem11/apdb.pdb ./templete/1YQO_A/rec.pdb\n",
      "./tempdb/tem11/apdb.pdb ./templete/5E78_A/rec.pdb\n",
      "./tempdb/tem11/apdb.pdb ./templete/1P0V_A/rec.pdb\n",
      "./tempdb/tem11/apdb.pdb ./templete/1YQP_A/rec.pdb\n",
      "./tempdb/tem11/apdb.pdb ./templete/1P0X_A/rec.pdb\n",
      "./tempdb/tem11/apdb.pdb ./templete/2NNB_A/rec.pdb\n",
      "./tempdb/tem11/apdb.pdb ./templete/1P0W_A/rec.pdb\n",
      "./tempdb/tem11/apdb.pdb ./templete/6JO1_A/rec.pdb\n",
      "./tempdb/tem11/apdb.pdb ./templete/6K3Q_A/rec.pdb\n",
      "./tempdb/tem11/apdb.pdb ./templete/1JME_A/rec.pdb\n",
      "3455 2.230543879864282\n",
      "43 43 43 ./templete/3WSP_A/lig.pdb 1\n",
      "x1 101 100 1 0\n",
      "x2 101 100 1 0\n"
     ]
    },
    {
     "name": "stderr",
     "output_type": "stream",
     "text": [
      "/home/Grx/.local/lib/python3.11/site-packages/jax/_src/ops/scatter.py:94: FutureWarning: scatter inputs have incompatible types: cannot safely cast value from dtype=int64 to dtype=int32 with jax_numpy_dtype_promotion='standard'. In future JAX releases this will result in an error.\n",
      "  warnings.warn(\n"
     ]
    },
    {
     "name": "stdout",
     "output_type": "stream",
     "text": [
      "3455 2.239522866064888\n",
      "./tempdb/tem11/apdb.pdb ./templete/3WSP_A/rec.pdb\n",
      "./tempdb/tem11/apdb.pdb ./templete/5B2U_A/rec.pdb\n",
      "./tempdb/tem11/apdb.pdb ./templete/3M4V_A/rec.pdb\n",
      "./tempdb/tem11/apdb.pdb ./templete/3HF2_A/rec.pdb\n",
      "./tempdb/tem11/apdb.pdb ./templete/4HGJ_A/rec.pdb\n",
      "./tempdb/tem11/apdb.pdb ./templete/7EGN_A/rec.pdb\n",
      "./tempdb/tem11/apdb.pdb ./templete/5B2X_A/rec.pdb\n",
      "./tempdb/tem11/apdb.pdb ./templete/5B2V_A/rec.pdb\n",
      "./tempdb/tem11/apdb.pdb ./templete/5E7Y_A/rec.pdb\n",
      "./tempdb/tem11/apdb.pdb ./templete/1YQO_A/rec.pdb\n",
      "./tempdb/tem11/apdb.pdb ./templete/5E78_A/rec.pdb\n",
      "./tempdb/tem11/apdb.pdb ./templete/1P0V_A/rec.pdb\n",
      "./tempdb/tem11/apdb.pdb ./templete/1YQP_A/rec.pdb\n",
      "./tempdb/tem11/apdb.pdb ./templete/1P0X_A/rec.pdb\n",
      "./tempdb/tem11/apdb.pdb ./templete/2NNB_A/rec.pdb\n",
      "./tempdb/tem11/apdb.pdb ./templete/1P0W_A/rec.pdb\n",
      "./tempdb/tem11/apdb.pdb ./templete/6JO1_A/rec.pdb\n",
      "./tempdb/tem11/apdb.pdb ./templete/6K3Q_A/rec.pdb\n",
      "./tempdb/tem11/apdb.pdb ./templete/1JME_A/rec.pdb\n",
      "3455 2.230543879864282\n",
      "43 43 43 ./templete/3WSP_A/lig.pdb 1\n",
      "x1 101 100 1 0\n",
      "x2 101 100 1 0\n"
     ]
    },
    {
     "name": "stderr",
     "output_type": "stream",
     "text": [
      "/home/Grx/.local/lib/python3.11/site-packages/jax/_src/ops/scatter.py:94: FutureWarning: scatter inputs have incompatible types: cannot safely cast value from dtype=int64 to dtype=int32 with jax_numpy_dtype_promotion='standard'. In future JAX releases this will result in an error.\n",
      "  warnings.warn(\n"
     ]
    },
    {
     "name": "stdout",
     "output_type": "stream",
     "text": [
      "3455 2.2395228660648874\n",
      "11 254.64677000045776\n",
      "4126 2.4471577390924355\n",
      "43 43 43 ./templete/3UA5_A/lig.pdb 1\n",
      "x1 101 100 1 0\n",
      "x2 101 100 1 0\n"
     ]
    },
    {
     "name": "stderr",
     "output_type": "stream",
     "text": [
      "/home/Grx/.local/lib/python3.11/site-packages/jax/_src/ops/scatter.py:94: FutureWarning: scatter inputs have incompatible types: cannot safely cast value from dtype=int64 to dtype=int32 with jax_numpy_dtype_promotion='standard'. In future JAX releases this will result in an error.\n",
      "  warnings.warn(\n"
     ]
    },
    {
     "name": "stdout",
     "output_type": "stream",
     "text": [
      "4126 2.581267220505844\n",
      "./tempdb/tem12/apdb.pdb ./templete/1DT6_A/rec.pdb\n",
      "./tempdb/tem12/apdb.pdb ./templete/5X23_A/rec.pdb\n",
      "./tempdb/tem12/apdb.pdb ./templete/5XXI_A/rec.pdb\n",
      "./tempdb/tem12/apdb.pdb ./templete/7RL2_A/rec.pdb\n",
      "./tempdb/tem12/apdb.pdb ./templete/1N6B_A/rec.pdb\n",
      "./tempdb/tem12/apdb.pdb ./templete/5X24_A/rec.pdb\n",
      "./tempdb/tem12/apdb.pdb ./templete/1NR6_A/rec.pdb\n",
      "./tempdb/tem12/apdb.pdb ./templete/3UA5_A/rec.pdb\n",
      "./tempdb/tem12/apdb.pdb ./templete/5IUT_A/rec.pdb\n",
      "./tempdb/tem12/apdb.pdb ./templete/6BWW_A/rec.pdb\n",
      "./tempdb/tem12/apdb.pdb ./templete/1PO5_A/rec.pdb\n",
      "./tempdb/tem12/apdb.pdb ./templete/4NZ2_A/rec.pdb\n",
      "./tempdb/tem12/apdb.pdb ./templete/3TMZ_A/rec.pdb\n",
      "./tempdb/tem12/apdb.pdb ./templete/2NNJ_A/rec.pdb\n",
      "./tempdb/tem12/apdb.pdb ./templete/2NNI_A/rec.pdb\n",
      "./tempdb/tem12/apdb.pdb ./templete/2VN0_A/rec.pdb\n",
      "./tempdb/tem12/apdb.pdb ./templete/3UAS_A/rec.pdb\n",
      "./tempdb/tem12/apdb.pdb ./templete/4H1N_A/rec.pdb\n",
      "./tempdb/tem12/apdb.pdb ./templete/4MGJ_A/rec.pdb\n",
      "4126 2.5333483771483176\n",
      "43 43 43 ./templete/1PO5_A/lig.pdb 1\n",
      "x1 101 100 1 0\n",
      "x2 101 100 1 0\n"
     ]
    },
    {
     "name": "stderr",
     "output_type": "stream",
     "text": [
      "/home/Grx/.local/lib/python3.11/site-packages/jax/_src/ops/scatter.py:94: FutureWarning: scatter inputs have incompatible types: cannot safely cast value from dtype=int64 to dtype=int32 with jax_numpy_dtype_promotion='standard'. In future JAX releases this will result in an error.\n",
      "  warnings.warn(\n"
     ]
    },
    {
     "name": "stdout",
     "output_type": "stream",
     "text": [
      "4126 2.5333816994835763\n",
      "./tempdb/tem12/apdb.pdb ./templete/1DT6_A/rec.pdb\n",
      "./tempdb/tem12/apdb.pdb ./templete/5X23_A/rec.pdb\n",
      "./tempdb/tem12/apdb.pdb ./templete/5XXI_A/rec.pdb\n",
      "./tempdb/tem12/apdb.pdb ./templete/7RL2_A/rec.pdb\n",
      "./tempdb/tem12/apdb.pdb ./templete/1N6B_A/rec.pdb\n",
      "./tempdb/tem12/apdb.pdb ./templete/5X24_A/rec.pdb\n",
      "./tempdb/tem12/apdb.pdb ./templete/1NR6_A/rec.pdb\n",
      "./tempdb/tem12/apdb.pdb ./templete/3UA5_A/rec.pdb\n",
      "./tempdb/tem12/apdb.pdb ./templete/5IUT_A/rec.pdb\n",
      "./tempdb/tem12/apdb.pdb ./templete/6BWW_A/rec.pdb\n",
      "./tempdb/tem12/apdb.pdb ./templete/1PO5_A/rec.pdb\n",
      "./tempdb/tem12/apdb.pdb ./templete/4NZ2_A/rec.pdb\n",
      "./tempdb/tem12/apdb.pdb ./templete/3TMZ_A/rec.pdb\n",
      "./tempdb/tem12/apdb.pdb ./templete/2NNJ_A/rec.pdb\n",
      "./tempdb/tem12/apdb.pdb ./templete/2NNI_A/rec.pdb\n",
      "./tempdb/tem12/apdb.pdb ./templete/2VN0_A/rec.pdb\n",
      "./tempdb/tem12/apdb.pdb ./templete/3UAS_A/rec.pdb\n",
      "./tempdb/tem12/apdb.pdb ./templete/4H1N_A/rec.pdb\n",
      "./tempdb/tem12/apdb.pdb ./templete/4MGJ_A/rec.pdb\n",
      "4126 3.2589670142546723\n",
      "C C -0.030521282031441777 1.5094787179685583\n",
      "43 43 43 ./templete/1DT6_A/lig.pdb 1\n",
      "x1 106 100 1 5\n",
      "x2 106 100 1 5\n"
     ]
    },
    {
     "name": "stderr",
     "output_type": "stream",
     "text": [
      "/home/Grx/.local/lib/python3.11/site-packages/jax/_src/ops/scatter.py:94: FutureWarning: scatter inputs have incompatible types: cannot safely cast value from dtype=int64 to dtype=int32 with jax_numpy_dtype_promotion='standard'. In future JAX releases this will result in an error.\n",
      "  warnings.warn(\n"
     ]
    },
    {
     "name": "stdout",
     "output_type": "stream",
     "text": [
      "4126 3.329002457690569\n",
      "./tempdb/tem12/apdb.pdb ./templete/1DT6_A/rec.pdb\n",
      "./tempdb/tem12/apdb.pdb ./templete/5X23_A/rec.pdb\n",
      "./tempdb/tem12/apdb.pdb ./templete/5XXI_A/rec.pdb\n",
      "./tempdb/tem12/apdb.pdb ./templete/7RL2_A/rec.pdb\n",
      "./tempdb/tem12/apdb.pdb ./templete/1N6B_A/rec.pdb\n",
      "./tempdb/tem12/apdb.pdb ./templete/5X24_A/rec.pdb\n",
      "./tempdb/tem12/apdb.pdb ./templete/1NR6_A/rec.pdb\n",
      "./tempdb/tem12/apdb.pdb ./templete/3UA5_A/rec.pdb\n",
      "./tempdb/tem12/apdb.pdb ./templete/5IUT_A/rec.pdb\n",
      "./tempdb/tem12/apdb.pdb ./templete/6BWW_A/rec.pdb\n",
      "./tempdb/tem12/apdb.pdb ./templete/1PO5_A/rec.pdb\n",
      "./tempdb/tem12/apdb.pdb ./templete/4NZ2_A/rec.pdb\n",
      "./tempdb/tem12/apdb.pdb ./templete/3TMZ_A/rec.pdb\n",
      "./tempdb/tem12/apdb.pdb ./templete/2NNJ_A/rec.pdb\n",
      "./tempdb/tem12/apdb.pdb ./templete/2NNI_A/rec.pdb\n",
      "./tempdb/tem12/apdb.pdb ./templete/2VN0_A/rec.pdb\n",
      "./tempdb/tem12/apdb.pdb ./templete/3UAS_A/rec.pdb\n",
      "./tempdb/tem12/apdb.pdb ./templete/4H1N_A/rec.pdb\n",
      "./tempdb/tem12/apdb.pdb ./templete/4MGJ_A/rec.pdb\n",
      "4126 3.0997253104105873\n",
      "C O -0.16250644861367558 1.3374935513863244\n",
      "O N -0.149532037213973 1.330467962786027\n",
      "43 43 43 ./templete/1DT6_A/lig.pdb 1\n",
      "x1 116 100 1 15\n",
      "x2 116 100 1 15\n"
     ]
    },
    {
     "name": "stderr",
     "output_type": "stream",
     "text": [
      "/home/Grx/.local/lib/python3.11/site-packages/jax/_src/ops/scatter.py:94: FutureWarning: scatter inputs have incompatible types: cannot safely cast value from dtype=int64 to dtype=int32 with jax_numpy_dtype_promotion='standard'. In future JAX releases this will result in an error.\n",
      "  warnings.warn(\n"
     ]
    },
    {
     "name": "stdout",
     "output_type": "stream",
     "text": [
      "4126 3.18201157343964\n",
      "12 248.26326417922974\n",
      "1454 2.534967258171197\n",
      "43 43 43 ./templete/3WRK_A/lig.pdb 1\n",
      "x1 101 100 1 0\n",
      "x2 101 100 1 0\n"
     ]
    },
    {
     "name": "stderr",
     "output_type": "stream",
     "text": [
      "/home/Grx/.local/lib/python3.11/site-packages/jax/_src/ops/scatter.py:94: FutureWarning: scatter inputs have incompatible types: cannot safely cast value from dtype=int64 to dtype=int32 with jax_numpy_dtype_promotion='standard'. In future JAX releases this will result in an error.\n",
      "  warnings.warn(\n"
     ]
    },
    {
     "name": "stdout",
     "output_type": "stream",
     "text": [
      "1454 2.455001540784297\n",
      "./tempdb/tem13/apdb.pdb ./templete/3WRK_A/rec.pdb\n",
      "./tempdb/tem13/apdb.pdb ./templete/5IK1_A/rec.pdb\n",
      "./tempdb/tem13/apdb.pdb ./templete/3L61_A/rec.pdb\n",
      "./tempdb/tem13/apdb.pdb ./templete/3P6V_A/rec.pdb\n",
      "./tempdb/tem13/apdb.pdb ./templete/3P6R_A/rec.pdb\n",
      "./tempdb/tem13/apdb.pdb ./templete/3P6W_A/rec.pdb\n",
      "./tempdb/tem13/apdb.pdb ./templete/3P6X_A/rec.pdb\n",
      "./tempdb/tem13/apdb.pdb ./templete/3L62_A/rec.pdb\n",
      "./tempdb/tem13/apdb.pdb ./templete/3WRI_A/rec.pdb\n",
      "./tempdb/tem13/apdb.pdb ./templete/3P6Q_A/rec.pdb\n",
      "./tempdb/tem13/apdb.pdb ./templete/3P6U_A/rec.pdb\n",
      "./tempdb/tem13/apdb.pdb ./templete/3W9C_A/rec.pdb\n",
      "./tempdb/tem13/apdb.pdb ./templete/5GXG_A/rec.pdb\n",
      "./tempdb/tem13/apdb.pdb ./templete/3P6S_A/rec.pdb\n",
      "./tempdb/tem13/apdb.pdb ./templete/4JWU_A/rec.pdb\n",
      "./tempdb/tem13/apdb.pdb ./templete/1K2O_A/rec.pdb\n",
      "./tempdb/tem13/apdb.pdb ./templete/6NBL_A/rec.pdb\n",
      "./tempdb/tem13/apdb.pdb ./templete/1QMQ_A/rec.pdb\n",
      "./tempdb/tem13/apdb.pdb ./templete/3P6T_A/rec.pdb\n",
      "1454 2.534967258171197\n",
      "43 43 43 ./templete/3WRK_A/lig.pdb 1\n",
      "x1 101 100 1 0\n",
      "x2 101 100 1 0\n"
     ]
    },
    {
     "name": "stderr",
     "output_type": "stream",
     "text": [
      "/home/Grx/.local/lib/python3.11/site-packages/jax/_src/ops/scatter.py:94: FutureWarning: scatter inputs have incompatible types: cannot safely cast value from dtype=int64 to dtype=int32 with jax_numpy_dtype_promotion='standard'. In future JAX releases this will result in an error.\n",
      "  warnings.warn(\n"
     ]
    },
    {
     "name": "stdout",
     "output_type": "stream",
     "text": [
      "1454 2.455001540784306\n",
      "./tempdb/tem13/apdb.pdb ./templete/3WRK_A/rec.pdb\n",
      "./tempdb/tem13/apdb.pdb ./templete/5IK1_A/rec.pdb\n",
      "./tempdb/tem13/apdb.pdb ./templete/3L61_A/rec.pdb\n",
      "./tempdb/tem13/apdb.pdb ./templete/3P6V_A/rec.pdb\n",
      "./tempdb/tem13/apdb.pdb ./templete/3P6R_A/rec.pdb\n",
      "./tempdb/tem13/apdb.pdb ./templete/3P6W_A/rec.pdb\n",
      "./tempdb/tem13/apdb.pdb ./templete/3P6X_A/rec.pdb\n",
      "./tempdb/tem13/apdb.pdb ./templete/3L62_A/rec.pdb\n",
      "./tempdb/tem13/apdb.pdb ./templete/3WRI_A/rec.pdb\n",
      "./tempdb/tem13/apdb.pdb ./templete/3P6Q_A/rec.pdb\n",
      "./tempdb/tem13/apdb.pdb ./templete/3P6U_A/rec.pdb\n",
      "./tempdb/tem13/apdb.pdb ./templete/3W9C_A/rec.pdb\n",
      "./tempdb/tem13/apdb.pdb ./templete/5GXG_A/rec.pdb\n",
      "./tempdb/tem13/apdb.pdb ./templete/3P6S_A/rec.pdb\n",
      "./tempdb/tem13/apdb.pdb ./templete/4JWU_A/rec.pdb\n",
      "./tempdb/tem13/apdb.pdb ./templete/1K2O_A/rec.pdb\n",
      "./tempdb/tem13/apdb.pdb ./templete/6NBL_A/rec.pdb\n",
      "./tempdb/tem13/apdb.pdb ./templete/1QMQ_A/rec.pdb\n",
      "./tempdb/tem13/apdb.pdb ./templete/3P6T_A/rec.pdb\n",
      "1454 2.534967258171197\n",
      "43 43 43 ./templete/3WRK_A/lig.pdb 1\n",
      "x1 101 100 1 0\n",
      "x2 101 100 1 0\n"
     ]
    },
    {
     "name": "stderr",
     "output_type": "stream",
     "text": [
      "/home/Grx/.local/lib/python3.11/site-packages/jax/_src/ops/scatter.py:94: FutureWarning: scatter inputs have incompatible types: cannot safely cast value from dtype=int64 to dtype=int32 with jax_numpy_dtype_promotion='standard'. In future JAX releases this will result in an error.\n",
      "  warnings.warn(\n"
     ]
    },
    {
     "name": "stdout",
     "output_type": "stream",
     "text": [
      "1454 2.455001540784299\n",
      "./tempdb/tem13/apdb.pdb ./templete/3WRK_A/rec.pdb\n",
      "./tempdb/tem13/apdb.pdb ./templete/5IK1_A/rec.pdb\n",
      "./tempdb/tem13/apdb.pdb ./templete/3L61_A/rec.pdb\n",
      "./tempdb/tem13/apdb.pdb ./templete/3P6V_A/rec.pdb\n",
      "./tempdb/tem13/apdb.pdb ./templete/3P6R_A/rec.pdb\n",
      "./tempdb/tem13/apdb.pdb ./templete/3P6W_A/rec.pdb\n",
      "./tempdb/tem13/apdb.pdb ./templete/3P6X_A/rec.pdb\n",
      "./tempdb/tem13/apdb.pdb ./templete/3L62_A/rec.pdb\n",
      "./tempdb/tem13/apdb.pdb ./templete/3WRI_A/rec.pdb\n",
      "./tempdb/tem13/apdb.pdb ./templete/3P6Q_A/rec.pdb\n",
      "./tempdb/tem13/apdb.pdb ./templete/3P6U_A/rec.pdb\n",
      "./tempdb/tem13/apdb.pdb ./templete/3W9C_A/rec.pdb\n",
      "./tempdb/tem13/apdb.pdb ./templete/5GXG_A/rec.pdb\n",
      "./tempdb/tem13/apdb.pdb ./templete/3P6S_A/rec.pdb\n",
      "./tempdb/tem13/apdb.pdb ./templete/4JWU_A/rec.pdb\n",
      "./tempdb/tem13/apdb.pdb ./templete/1K2O_A/rec.pdb\n",
      "./tempdb/tem13/apdb.pdb ./templete/6NBL_A/rec.pdb\n",
      "./tempdb/tem13/apdb.pdb ./templete/1QMQ_A/rec.pdb\n",
      "./tempdb/tem13/apdb.pdb ./templete/3P6T_A/rec.pdb\n",
      "1454 2.534967258171197\n",
      "43 43 43 ./templete/3WRK_A/lig.pdb 1\n",
      "x1 101 100 1 0\n",
      "x2 101 100 1 0\n"
     ]
    },
    {
     "name": "stderr",
     "output_type": "stream",
     "text": [
      "/home/Grx/.local/lib/python3.11/site-packages/jax/_src/ops/scatter.py:94: FutureWarning: scatter inputs have incompatible types: cannot safely cast value from dtype=int64 to dtype=int32 with jax_numpy_dtype_promotion='standard'. In future JAX releases this will result in an error.\n",
      "  warnings.warn(\n"
     ]
    },
    {
     "name": "stdout",
     "output_type": "stream",
     "text": [
      "1454 2.4550015407843007\n",
      "13 81.03621506690979\n",
      "43 43 43 ./templete/1T88_A/lig.pdb 1\n",
      "x1 101 100 1 0\n",
      "x2 101 100 1 0\n"
     ]
    },
    {
     "name": "stderr",
     "output_type": "stream",
     "text": [
      "/home/Grx/.local/lib/python3.11/site-packages/jax/_src/ops/scatter.py:94: FutureWarning: scatter inputs have incompatible types: cannot safely cast value from dtype=int64 to dtype=int32 with jax_numpy_dtype_promotion='standard'. In future JAX releases this will result in an error.\n",
      "  warnings.warn(\n"
     ]
    },
    {
     "name": "stdout",
     "output_type": "stream",
     "text": [
      "./tempdb/tem16/apdb.pdb ./templete/1T88_A/rec.pdb\n",
      "./tempdb/tem16/apdb.pdb ./templete/2A1N_A/rec.pdb\n",
      "./tempdb/tem16/apdb.pdb ./templete/2A1O_A/rec.pdb\n",
      "./tempdb/tem16/apdb.pdb ./templete/2A1M_A/rec.pdb\n",
      "./tempdb/tem16/apdb.pdb ./templete/1MPW_A/rec.pdb\n",
      "./tempdb/tem16/apdb.pdb ./templete/3WRH_A/rec.pdb\n",
      "./tempdb/tem16/apdb.pdb ./templete/4G3R_A/rec.pdb\n",
      "./tempdb/tem16/apdb.pdb ./templete/2GR6_A/rec.pdb\n",
      "./tempdb/tem16/apdb.pdb ./templete/3WRJ_A/rec.pdb\n",
      "./tempdb/tem16/apdb.pdb ./templete/3WRM_A/rec.pdb\n",
      "./tempdb/tem16/apdb.pdb ./templete/3WRL_A/rec.pdb\n",
      "./tempdb/tem16/apdb.pdb ./templete/4L4C_A/rec.pdb\n",
      "./tempdb/tem16/apdb.pdb ./templete/2QBN_A/rec.pdb\n",
      "./tempdb/tem16/apdb.pdb ./templete/2GQX_A/rec.pdb\n",
      "./tempdb/tem16/apdb.pdb ./templete/1DZ8_A/rec.pdb\n",
      "./tempdb/tem16/apdb.pdb ./templete/2QBO_A/rec.pdb\n",
      "./tempdb/tem16/apdb.pdb ./templete/1O76_A/rec.pdb\n",
      "./tempdb/tem16/apdb.pdb ./templete/1DZ9_A/rec.pdb\n",
      "./tempdb/tem16/apdb.pdb ./templete/1C8J_A/rec.pdb\n",
      "43 43 43 ./templete/1T88_A/lig.pdb 1\n",
      "x1 101 100 1 0\n",
      "x2 101 100 1 0\n"
     ]
    },
    {
     "name": "stderr",
     "output_type": "stream",
     "text": [
      "/home/Grx/.local/lib/python3.11/site-packages/jax/_src/ops/scatter.py:94: FutureWarning: scatter inputs have incompatible types: cannot safely cast value from dtype=int64 to dtype=int32 with jax_numpy_dtype_promotion='standard'. In future JAX releases this will result in an error.\n",
      "  warnings.warn(\n"
     ]
    },
    {
     "name": "stdout",
     "output_type": "stream",
     "text": [
      "./tempdb/tem16/apdb.pdb ./templete/1T88_A/rec.pdb\n",
      "./tempdb/tem16/apdb.pdb ./templete/2A1N_A/rec.pdb\n",
      "./tempdb/tem16/apdb.pdb ./templete/2A1O_A/rec.pdb\n",
      "./tempdb/tem16/apdb.pdb ./templete/2A1M_A/rec.pdb\n",
      "./tempdb/tem16/apdb.pdb ./templete/1MPW_A/rec.pdb\n",
      "./tempdb/tem16/apdb.pdb ./templete/3WRH_A/rec.pdb\n",
      "./tempdb/tem16/apdb.pdb ./templete/4G3R_A/rec.pdb\n",
      "./tempdb/tem16/apdb.pdb ./templete/2GR6_A/rec.pdb\n",
      "./tempdb/tem16/apdb.pdb ./templete/3WRJ_A/rec.pdb\n",
      "./tempdb/tem16/apdb.pdb ./templete/3WRM_A/rec.pdb\n",
      "./tempdb/tem16/apdb.pdb ./templete/3WRL_A/rec.pdb\n",
      "./tempdb/tem16/apdb.pdb ./templete/4L4C_A/rec.pdb\n",
      "./tempdb/tem16/apdb.pdb ./templete/2QBN_A/rec.pdb\n",
      "./tempdb/tem16/apdb.pdb ./templete/2GQX_A/rec.pdb\n",
      "./tempdb/tem16/apdb.pdb ./templete/1DZ8_A/rec.pdb\n",
      "./tempdb/tem16/apdb.pdb ./templete/2QBO_A/rec.pdb\n",
      "./tempdb/tem16/apdb.pdb ./templete/1O76_A/rec.pdb\n",
      "./tempdb/tem16/apdb.pdb ./templete/1DZ9_A/rec.pdb\n",
      "./tempdb/tem16/apdb.pdb ./templete/1C8J_A/rec.pdb\n",
      "43 43 43 ./templete/1T88_A/lig.pdb 1\n",
      "x1 101 100 1 0\n",
      "x2 101 100 1 0\n"
     ]
    },
    {
     "name": "stderr",
     "output_type": "stream",
     "text": [
      "/home/Grx/.local/lib/python3.11/site-packages/jax/_src/ops/scatter.py:94: FutureWarning: scatter inputs have incompatible types: cannot safely cast value from dtype=int64 to dtype=int32 with jax_numpy_dtype_promotion='standard'. In future JAX releases this will result in an error.\n",
      "  warnings.warn(\n"
     ]
    },
    {
     "name": "stdout",
     "output_type": "stream",
     "text": [
      "./tempdb/tem16/apdb.pdb ./templete/1T88_A/rec.pdb\n",
      "./tempdb/tem16/apdb.pdb ./templete/2A1N_A/rec.pdb\n",
      "./tempdb/tem16/apdb.pdb ./templete/2A1O_A/rec.pdb\n",
      "./tempdb/tem16/apdb.pdb ./templete/2A1M_A/rec.pdb\n",
      "./tempdb/tem16/apdb.pdb ./templete/1MPW_A/rec.pdb\n",
      "./tempdb/tem16/apdb.pdb ./templete/3WRH_A/rec.pdb\n",
      "./tempdb/tem16/apdb.pdb ./templete/4G3R_A/rec.pdb\n",
      "./tempdb/tem16/apdb.pdb ./templete/2GR6_A/rec.pdb\n",
      "./tempdb/tem16/apdb.pdb ./templete/3WRJ_A/rec.pdb\n",
      "./tempdb/tem16/apdb.pdb ./templete/3WRM_A/rec.pdb\n",
      "./tempdb/tem16/apdb.pdb ./templete/3WRL_A/rec.pdb\n",
      "./tempdb/tem16/apdb.pdb ./templete/4L4C_A/rec.pdb\n",
      "./tempdb/tem16/apdb.pdb ./templete/2QBN_A/rec.pdb\n",
      "./tempdb/tem16/apdb.pdb ./templete/2GQX_A/rec.pdb\n",
      "./tempdb/tem16/apdb.pdb ./templete/1DZ8_A/rec.pdb\n",
      "./tempdb/tem16/apdb.pdb ./templete/2QBO_A/rec.pdb\n",
      "./tempdb/tem16/apdb.pdb ./templete/1O76_A/rec.pdb\n",
      "./tempdb/tem16/apdb.pdb ./templete/1DZ9_A/rec.pdb\n",
      "./tempdb/tem16/apdb.pdb ./templete/1C8J_A/rec.pdb\n",
      "3546 0.7532449800695658\n",
      "C N -1.0557328355354025 0.4642671644645975\n",
      "N C -0.05227488949735504 1.467725110502645\n",
      "43 43 43 ./templete/1T88_A/lig.pdb 1\n",
      "x1 116 100 1 15\n",
      "x2 116 100 1 15\n"
     ]
    },
    {
     "name": "stderr",
     "output_type": "stream",
     "text": [
      "/home/Grx/.local/lib/python3.11/site-packages/jax/_src/ops/scatter.py:94: FutureWarning: scatter inputs have incompatible types: cannot safely cast value from dtype=int64 to dtype=int32 with jax_numpy_dtype_promotion='standard'. In future JAX releases this will result in an error.\n",
      "  warnings.warn(\n"
     ]
    },
    {
     "name": "stdout",
     "output_type": "stream",
     "text": [
      "C N -1.0550099271040332 0.4649900728959669\n",
      "N S -0.0337096364733922 1.7362903635266078\n",
      "3546 1.8368946261023205\n",
      "16 153.37109375\n",
      "C O -0.19909992697363754 1.3009000730263625\n",
      "C N -0.5626447890150704 0.9573552109849296\n",
      "C C -0.09286489918874774 1.4471351008112523\n",
      "C C -0.5193188548816987 1.0206811451183013\n",
      "C O -0.764183446774943 0.735816553225057\n",
      "C C -0.45041613448069096 1.089583865519309\n",
      "C C -0.28115449716813457 1.2588455028318655\n",
      "C N -0.3256587589804998 1.1943412410195002\n",
      "43 43 43 ./templete/2A1M_A/lig.pdb 1\n",
      "x1 158 100 1 57\n",
      "x2 158 100 1 57\n"
     ]
    },
    {
     "name": "stderr",
     "output_type": "stream",
     "text": [
      "/home/Grx/.local/lib/python3.11/site-packages/jax/_src/ops/scatter.py:94: FutureWarning: scatter inputs have incompatible types: cannot safely cast value from dtype=int64 to dtype=int32 with jax_numpy_dtype_promotion='standard'. In future JAX releases this will result in an error.\n",
      "  warnings.warn(\n"
     ]
    },
    {
     "name": "stdout",
     "output_type": "stream",
     "text": [
      "C C -0.7576374327033465 0.7823625672966535\n",
      "C N -0.4092936380805545 1.1107063619194455\n",
      "C N -0.3228833088366694 1.1971166911633306\n",
      "./tempdb/tem17/apdb.pdb ./templete/2A1M_A/rec.pdb\n",
      "./tempdb/tem17/apdb.pdb ./templete/2A1O_A/rec.pdb\n",
      "./tempdb/tem17/apdb.pdb ./templete/2GR6_A/rec.pdb\n",
      "./tempdb/tem17/apdb.pdb ./templete/3WRH_A/rec.pdb\n",
      "./tempdb/tem17/apdb.pdb ./templete/3WRJ_A/rec.pdb\n",
      "./tempdb/tem17/apdb.pdb ./templete/3WRM_A/rec.pdb\n",
      "./tempdb/tem17/apdb.pdb ./templete/3WRL_A/rec.pdb\n",
      "./tempdb/tem17/apdb.pdb ./templete/2GQX_A/rec.pdb\n",
      "./tempdb/tem17/apdb.pdb ./templete/4L4C_A/rec.pdb\n",
      "./tempdb/tem17/apdb.pdb ./templete/2QBN_A/rec.pdb\n",
      "./tempdb/tem17/apdb.pdb ./templete/1C8J_A/rec.pdb\n",
      "./tempdb/tem17/apdb.pdb ./templete/1DZ8_A/rec.pdb\n",
      "./tempdb/tem17/apdb.pdb ./templete/1O76_A/rec.pdb\n",
      "./tempdb/tem17/apdb.pdb ./templete/2QBO_A/rec.pdb\n",
      "./tempdb/tem17/apdb.pdb ./templete/1DZ9_A/rec.pdb\n",
      "./tempdb/tem17/apdb.pdb ./templete/2QBM_A/rec.pdb\n",
      "./tempdb/tem17/apdb.pdb ./templete/6WFL_A/rec.pdb\n",
      "./tempdb/tem17/apdb.pdb ./templete/1UYU_A/rec.pdb\n",
      "./tempdb/tem17/apdb.pdb ./templete/2FRZ_A/rec.pdb\n",
      "C O -0.19909992697363754 1.3009000730263625\n",
      "C N -0.5626447890150704 0.9573552109849296\n",
      "C C -0.09286489918874774 1.4471351008112523\n",
      "C C -0.5193188548816987 1.0206811451183013\n",
      "C O -0.764183446774943 0.735816553225057\n",
      "C C -0.45041613448069096 1.089583865519309\n",
      "C C -0.28115449716813457 1.2588455028318655\n",
      "C N -0.3256587589804998 1.1943412410195002\n",
      "43 43 43 ./templete/2A1M_A/lig.pdb 1\n",
      "x1 158 100 1 57\n",
      "x2 158 100 1 57\n"
     ]
    },
    {
     "name": "stderr",
     "output_type": "stream",
     "text": [
      "/home/Grx/.local/lib/python3.11/site-packages/jax/_src/ops/scatter.py:94: FutureWarning: scatter inputs have incompatible types: cannot safely cast value from dtype=int64 to dtype=int32 with jax_numpy_dtype_promotion='standard'. In future JAX releases this will result in an error.\n",
      "  warnings.warn(\n"
     ]
    },
    {
     "name": "stdout",
     "output_type": "stream",
     "text": [
      "C C -0.7576374327033439 0.7823625672966561\n",
      "C N -0.40929363808055275 1.1107063619194473\n",
      "C N -0.3228833088366694 1.1971166911633306\n",
      "./tempdb/tem17/apdb.pdb ./templete/2A1M_A/rec.pdb\n",
      "./tempdb/tem17/apdb.pdb ./templete/2A1O_A/rec.pdb\n",
      "./tempdb/tem17/apdb.pdb ./templete/2GR6_A/rec.pdb\n",
      "./tempdb/tem17/apdb.pdb ./templete/3WRH_A/rec.pdb\n",
      "./tempdb/tem17/apdb.pdb ./templete/3WRJ_A/rec.pdb\n",
      "./tempdb/tem17/apdb.pdb ./templete/3WRM_A/rec.pdb\n",
      "./tempdb/tem17/apdb.pdb ./templete/3WRL_A/rec.pdb\n",
      "./tempdb/tem17/apdb.pdb ./templete/2GQX_A/rec.pdb\n",
      "./tempdb/tem17/apdb.pdb ./templete/4L4C_A/rec.pdb\n",
      "./tempdb/tem17/apdb.pdb ./templete/2QBN_A/rec.pdb\n",
      "./tempdb/tem17/apdb.pdb ./templete/1C8J_A/rec.pdb\n",
      "./tempdb/tem17/apdb.pdb ./templete/1DZ8_A/rec.pdb\n",
      "./tempdb/tem17/apdb.pdb ./templete/1O76_A/rec.pdb\n",
      "./tempdb/tem17/apdb.pdb ./templete/2QBO_A/rec.pdb\n",
      "./tempdb/tem17/apdb.pdb ./templete/1DZ9_A/rec.pdb\n",
      "./tempdb/tem17/apdb.pdb ./templete/2QBM_A/rec.pdb\n",
      "./tempdb/tem17/apdb.pdb ./templete/6WFL_A/rec.pdb\n",
      "./tempdb/tem17/apdb.pdb ./templete/1UYU_A/rec.pdb\n",
      "./tempdb/tem17/apdb.pdb ./templete/2FRZ_A/rec.pdb\n",
      "43 43 43 ./templete/2A1M_A/lig.pdb 1\n",
      "x1 101 100 1 0\n",
      "x2 101 100 1 0\n"
     ]
    },
    {
     "name": "stderr",
     "output_type": "stream",
     "text": [
      "/home/Grx/.local/lib/python3.11/site-packages/jax/_src/ops/scatter.py:94: FutureWarning: scatter inputs have incompatible types: cannot safely cast value from dtype=int64 to dtype=int32 with jax_numpy_dtype_promotion='standard'. In future JAX releases this will result in an error.\n",
      "  warnings.warn(\n"
     ]
    },
    {
     "name": "stdout",
     "output_type": "stream",
     "text": [
      "./tempdb/tem17/apdb.pdb ./templete/2A1M_A/rec.pdb\n",
      "./tempdb/tem17/apdb.pdb ./templete/2A1O_A/rec.pdb\n",
      "./tempdb/tem17/apdb.pdb ./templete/2GR6_A/rec.pdb\n",
      "./tempdb/tem17/apdb.pdb ./templete/3WRH_A/rec.pdb\n",
      "./tempdb/tem17/apdb.pdb ./templete/3WRJ_A/rec.pdb\n",
      "./tempdb/tem17/apdb.pdb ./templete/3WRM_A/rec.pdb\n",
      "./tempdb/tem17/apdb.pdb ./templete/3WRL_A/rec.pdb\n",
      "./tempdb/tem17/apdb.pdb ./templete/2GQX_A/rec.pdb\n",
      "./tempdb/tem17/apdb.pdb ./templete/4L4C_A/rec.pdb\n",
      "./tempdb/tem17/apdb.pdb ./templete/2QBN_A/rec.pdb\n",
      "./tempdb/tem17/apdb.pdb ./templete/1C8J_A/rec.pdb\n",
      "./tempdb/tem17/apdb.pdb ./templete/1DZ8_A/rec.pdb\n",
      "./tempdb/tem17/apdb.pdb ./templete/1O76_A/rec.pdb\n",
      "./tempdb/tem17/apdb.pdb ./templete/2QBO_A/rec.pdb\n",
      "./tempdb/tem17/apdb.pdb ./templete/1DZ9_A/rec.pdb\n",
      "./tempdb/tem17/apdb.pdb ./templete/2QBM_A/rec.pdb\n",
      "./tempdb/tem17/apdb.pdb ./templete/6WFL_A/rec.pdb\n",
      "./tempdb/tem17/apdb.pdb ./templete/1UYU_A/rec.pdb\n",
      "./tempdb/tem17/apdb.pdb ./templete/2FRZ_A/rec.pdb\n",
      "2592 1.8530520769800283\n",
      "O N -0.458457049361114 1.021542950638886\n",
      "43 43 43 ./templete/2A1M_A/lig.pdb 1\n",
      "x1 109 100 1 8\n",
      "x2 109 100 1 8\n"
     ]
    },
    {
     "name": "stderr",
     "output_type": "stream",
     "text": [
      "/home/Grx/.local/lib/python3.11/site-packages/jax/_src/ops/scatter.py:94: FutureWarning: scatter inputs have incompatible types: cannot safely cast value from dtype=int64 to dtype=int32 with jax_numpy_dtype_promotion='standard'. In future JAX releases this will result in an error.\n",
      "  warnings.warn(\n"
     ]
    },
    {
     "name": "stdout",
     "output_type": "stream",
     "text": [
      "O N -0.4573641273202165 1.0226358726797835\n",
      "2592 1.8898786965353092\n",
      "17 137.60996866226196\n",
      "2791 2.501842720875953\n",
      "43 43 43 ./templete/4RM4_A/lig.pdb 1\n",
      "x1 101 100 1 0\n",
      "x2 101 100 1 0\n"
     ]
    },
    {
     "name": "stderr",
     "output_type": "stream",
     "text": [
      "/home/Grx/.local/lib/python3.11/site-packages/jax/_src/ops/scatter.py:94: FutureWarning: scatter inputs have incompatible types: cannot safely cast value from dtype=int64 to dtype=int32 with jax_numpy_dtype_promotion='standard'. In future JAX releases this will result in an error.\n",
      "  warnings.warn(\n"
     ]
    },
    {
     "name": "stdout",
     "output_type": "stream",
     "text": [
      "2791 2.439151670654393\n",
      "./tempdb/tem18/apdb.pdb ./templete/5D3U_A/rec.pdb\n",
      "./tempdb/tem18/apdb.pdb ./templete/4TPO_A/rec.pdb\n",
      "./tempdb/tem18/apdb.pdb ./templete/4TPN_A/rec.pdb\n",
      "./tempdb/tem18/apdb.pdb ./templete/4RM4_A/rec.pdb\n",
      "./tempdb/tem18/apdb.pdb ./templete/7TP5_A/rec.pdb\n",
      "./tempdb/tem18/apdb.pdb ./templete/8DYB_A/rec.pdb\n",
      "./tempdb/tem18/apdb.pdb ./templete/6OOX_A/rec.pdb\n",
      "./tempdb/tem18/apdb.pdb ./templete/7TP6_A/rec.pdb\n",
      "./tempdb/tem18/apdb.pdb ./templete/6UNN_A/rec.pdb\n",
      "./tempdb/tem18/apdb.pdb ./templete/8D39_A/rec.pdb\n",
      "./tempdb/tem18/apdb.pdb ./templete/7JXB_A/rec.pdb\n",
      "./tempdb/tem18/apdb.pdb ./templete/6OOW_A/rec.pdb\n",
      "./tempdb/tem18/apdb.pdb ./templete/5UVB_A/rec.pdb\n",
      "./tempdb/tem18/apdb.pdb ./templete/6VJX_A/rec.pdb\n",
      "./tempdb/tem18/apdb.pdb ./templete/7N60_A/rec.pdb\n",
      "./tempdb/tem18/apdb.pdb ./templete/5KDZ_A/rec.pdb\n",
      "./tempdb/tem18/apdb.pdb ./templete/7REH_A/rec.pdb\n",
      "./tempdb/tem18/apdb.pdb ./templete/7TNF_A/rec.pdb\n",
      "./tempdb/tem18/apdb.pdb ./templete/5YQA_A/rec.pdb\n",
      "2791 2.501842720875953\n",
      "43 43 43 ./templete/4RM4_A/lig.pdb 1\n",
      "x1 101 100 1 0\n",
      "x2 101 100 1 0\n"
     ]
    },
    {
     "name": "stderr",
     "output_type": "stream",
     "text": [
      "/home/Grx/.local/lib/python3.11/site-packages/jax/_src/ops/scatter.py:94: FutureWarning: scatter inputs have incompatible types: cannot safely cast value from dtype=int64 to dtype=int32 with jax_numpy_dtype_promotion='standard'. In future JAX releases this will result in an error.\n",
      "  warnings.warn(\n"
     ]
    },
    {
     "name": "stdout",
     "output_type": "stream",
     "text": [
      "2791 2.439151670654393\n",
      "./tempdb/tem18/apdb.pdb ./templete/5D3U_A/rec.pdb\n",
      "./tempdb/tem18/apdb.pdb ./templete/4TPO_A/rec.pdb\n",
      "./tempdb/tem18/apdb.pdb ./templete/4TPN_A/rec.pdb\n",
      "./tempdb/tem18/apdb.pdb ./templete/4RM4_A/rec.pdb\n",
      "./tempdb/tem18/apdb.pdb ./templete/7TP5_A/rec.pdb\n",
      "./tempdb/tem18/apdb.pdb ./templete/8DYB_A/rec.pdb\n",
      "./tempdb/tem18/apdb.pdb ./templete/6OOX_A/rec.pdb\n",
      "./tempdb/tem18/apdb.pdb ./templete/7TP6_A/rec.pdb\n",
      "./tempdb/tem18/apdb.pdb ./templete/6UNN_A/rec.pdb\n",
      "./tempdb/tem18/apdb.pdb ./templete/8D39_A/rec.pdb\n",
      "./tempdb/tem18/apdb.pdb ./templete/7JXB_A/rec.pdb\n",
      "./tempdb/tem18/apdb.pdb ./templete/6OOW_A/rec.pdb\n",
      "./tempdb/tem18/apdb.pdb ./templete/5UVB_A/rec.pdb\n",
      "./tempdb/tem18/apdb.pdb ./templete/6VJX_A/rec.pdb\n",
      "./tempdb/tem18/apdb.pdb ./templete/7N60_A/rec.pdb\n",
      "./tempdb/tem18/apdb.pdb ./templete/5KDZ_A/rec.pdb\n",
      "./tempdb/tem18/apdb.pdb ./templete/7REH_A/rec.pdb\n",
      "./tempdb/tem18/apdb.pdb ./templete/7TNF_A/rec.pdb\n",
      "./tempdb/tem18/apdb.pdb ./templete/5YQA_A/rec.pdb\n",
      "2791 2.501842720875953\n",
      "43 43 43 ./templete/4RM4_A/lig.pdb 1\n",
      "x1 101 100 1 0\n",
      "x2 101 100 1 0\n"
     ]
    },
    {
     "name": "stderr",
     "output_type": "stream",
     "text": [
      "/home/Grx/.local/lib/python3.11/site-packages/jax/_src/ops/scatter.py:94: FutureWarning: scatter inputs have incompatible types: cannot safely cast value from dtype=int64 to dtype=int32 with jax_numpy_dtype_promotion='standard'. In future JAX releases this will result in an error.\n",
      "  warnings.warn(\n"
     ]
    },
    {
     "name": "stdout",
     "output_type": "stream",
     "text": [
      "2791 2.4391516706544043\n",
      "./tempdb/tem18/apdb.pdb ./templete/5D3U_A/rec.pdb\n",
      "./tempdb/tem18/apdb.pdb ./templete/4TPO_A/rec.pdb\n",
      "./tempdb/tem18/apdb.pdb ./templete/4TPN_A/rec.pdb\n",
      "./tempdb/tem18/apdb.pdb ./templete/4RM4_A/rec.pdb\n",
      "./tempdb/tem18/apdb.pdb ./templete/7TP5_A/rec.pdb\n",
      "./tempdb/tem18/apdb.pdb ./templete/8DYB_A/rec.pdb\n",
      "./tempdb/tem18/apdb.pdb ./templete/6OOX_A/rec.pdb\n",
      "./tempdb/tem18/apdb.pdb ./templete/7TP6_A/rec.pdb\n",
      "./tempdb/tem18/apdb.pdb ./templete/6UNN_A/rec.pdb\n",
      "./tempdb/tem18/apdb.pdb ./templete/8D39_A/rec.pdb\n",
      "./tempdb/tem18/apdb.pdb ./templete/7JXB_A/rec.pdb\n",
      "./tempdb/tem18/apdb.pdb ./templete/6OOW_A/rec.pdb\n",
      "./tempdb/tem18/apdb.pdb ./templete/5UVB_A/rec.pdb\n",
      "./tempdb/tem18/apdb.pdb ./templete/6VJX_A/rec.pdb\n",
      "./tempdb/tem18/apdb.pdb ./templete/7N60_A/rec.pdb\n",
      "./tempdb/tem18/apdb.pdb ./templete/5KDZ_A/rec.pdb\n",
      "./tempdb/tem18/apdb.pdb ./templete/7REH_A/rec.pdb\n",
      "./tempdb/tem18/apdb.pdb ./templete/7TNF_A/rec.pdb\n",
      "./tempdb/tem18/apdb.pdb ./templete/5YQA_A/rec.pdb\n",
      "2791 3.1797564372133875\n",
      "C O -0.35505152954379815 1.1449484704562018\n",
      "C N -0.0750166090919917 1.4449833909080083\n",
      "43 43 43 ./templete/5D3U_A/lig.pdb 1\n",
      "x1 111 100 1 10\n",
      "x2 111 100 1 10\n"
     ]
    },
    {
     "name": "stderr",
     "output_type": "stream",
     "text": [
      "/home/Grx/.local/lib/python3.11/site-packages/jax/_src/ops/scatter.py:94: FutureWarning: scatter inputs have incompatible types: cannot safely cast value from dtype=int64 to dtype=int32 with jax_numpy_dtype_promotion='standard'. In future JAX releases this will result in an error.\n",
      "  warnings.warn(\n"
     ]
    },
    {
     "name": "stdout",
     "output_type": "stream",
     "text": [
      "C O -0.35501606784886164 1.1449839321511384\n",
      "2791 3.1768732692185297\n",
      "18 123.00757694244385\n",
      "3364 0.7798006155422049\n",
      "FE S -1.0001993844577952 0.7798006155422049\n",
      "43 43 43 ./templete/6UPI_A/lig.pdb 1\n",
      "x1 106 100 1 5\n",
      "x2 106 100 1 5\n"
     ]
    },
    {
     "name": "stderr",
     "output_type": "stream",
     "text": [
      "/home/Grx/.local/lib/python3.11/site-packages/jax/_src/ops/scatter.py:94: FutureWarning: scatter inputs have incompatible types: cannot safely cast value from dtype=int64 to dtype=int32 with jax_numpy_dtype_promotion='standard'. In future JAX releases this will result in an error.\n",
      "  warnings.warn(\n"
     ]
    },
    {
     "name": "stdout",
     "output_type": "stream",
     "text": [
      "3364 1.8588338132183622\n",
      "./tempdb/tem19/apdb.pdb ./templete/6UPI_A/rec.pdb\n",
      "./tempdb/tem19/apdb.pdb ./templete/3G5H_A/rec.pdb\n",
      "./tempdb/tem19/apdb.pdb ./templete/3G5F_A/rec.pdb\n",
      "./tempdb/tem19/apdb.pdb ./templete/5WP2_A/rec.pdb\n",
      "./tempdb/tem19/apdb.pdb ./templete/4IPS_A/rec.pdb\n",
      "./tempdb/tem19/apdb.pdb ./templete/6RQ3_A/rec.pdb\n",
      "./tempdb/tem19/apdb.pdb ./templete/4IPW_A/rec.pdb\n",
      "./tempdb/tem19/apdb.pdb ./templete/5O4K_A/rec.pdb\n",
      "./tempdb/tem19/apdb.pdb ./templete/5IBE_A/rec.pdb\n",
      "./tempdb/tem19/apdb.pdb ./templete/3CXV_A/rec.pdb\n",
      "./tempdb/tem19/apdb.pdb ./templete/6RQE_A/rec.pdb\n",
      "./tempdb/tem19/apdb.pdb ./templete/5OPA_A/rec.pdb\n",
      "./tempdb/tem19/apdb.pdb ./templete/6RQ1_A/rec.pdb\n",
      "./tempdb/tem19/apdb.pdb ./templete/4IQ9_A/rec.pdb\n",
      "./tempdb/tem19/apdb.pdb ./templete/1N40_A/rec.pdb\n",
      "./tempdb/tem19/apdb.pdb ./templete/4G47_A/rec.pdb\n",
      "./tempdb/tem19/apdb.pdb ./templete/4G46_A/rec.pdb\n",
      "./tempdb/tem19/apdb.pdb ./templete/4G45_A/rec.pdb\n",
      "./tempdb/tem19/apdb.pdb ./templete/4G48_A/rec.pdb\n",
      "3364 0.9837941857929431\n",
      "FE S -0.7962058142070569 0.9837941857929431\n",
      "43 43 43 ./templete/6UPI_A/lig.pdb 1\n",
      "x1 106 100 1 5\n",
      "x2 106 100 1 5\n"
     ]
    },
    {
     "name": "stderr",
     "output_type": "stream",
     "text": [
      "/home/Grx/.local/lib/python3.11/site-packages/jax/_src/ops/scatter.py:94: FutureWarning: scatter inputs have incompatible types: cannot safely cast value from dtype=int64 to dtype=int32 with jax_numpy_dtype_promotion='standard'. In future JAX releases this will result in an error.\n",
      "  warnings.warn(\n"
     ]
    },
    {
     "name": "stdout",
     "output_type": "stream",
     "text": [
      "3364 1.82834926126325\n",
      "./tempdb/tem19/apdb.pdb ./templete/6UPI_A/rec.pdb\n",
      "./tempdb/tem19/apdb.pdb ./templete/3G5H_A/rec.pdb\n",
      "./tempdb/tem19/apdb.pdb ./templete/3G5F_A/rec.pdb\n",
      "./tempdb/tem19/apdb.pdb ./templete/5WP2_A/rec.pdb\n",
      "./tempdb/tem19/apdb.pdb ./templete/4IPS_A/rec.pdb\n",
      "./tempdb/tem19/apdb.pdb ./templete/6RQ3_A/rec.pdb\n",
      "./tempdb/tem19/apdb.pdb ./templete/4IPW_A/rec.pdb\n",
      "./tempdb/tem19/apdb.pdb ./templete/5O4K_A/rec.pdb\n",
      "./tempdb/tem19/apdb.pdb ./templete/5IBE_A/rec.pdb\n",
      "./tempdb/tem19/apdb.pdb ./templete/3CXV_A/rec.pdb\n",
      "./tempdb/tem19/apdb.pdb ./templete/6RQE_A/rec.pdb\n",
      "./tempdb/tem19/apdb.pdb ./templete/5OPA_A/rec.pdb\n",
      "./tempdb/tem19/apdb.pdb ./templete/6RQ1_A/rec.pdb\n",
      "./tempdb/tem19/apdb.pdb ./templete/4IQ9_A/rec.pdb\n",
      "./tempdb/tem19/apdb.pdb ./templete/1N40_A/rec.pdb\n",
      "./tempdb/tem19/apdb.pdb ./templete/4G47_A/rec.pdb\n",
      "./tempdb/tem19/apdb.pdb ./templete/4G46_A/rec.pdb\n",
      "./tempdb/tem19/apdb.pdb ./templete/4G45_A/rec.pdb\n",
      "./tempdb/tem19/apdb.pdb ./templete/4G48_A/rec.pdb\n",
      "C C -0.22928378357479784 1.3107162164252022\n",
      "C N -0.11230898276646029 1.4076910172335397\n",
      "C O -0.09688061805133685 1.4031193819486631\n",
      "C N -0.7173718170908775 0.8026281829091225\n",
      "N C -0.24040748673650003 1.2795925132635\n",
      "43 43 43 ./templete/6UPI_A/lig.pdb 1\n",
      "x1 131 100 1 30\n",
      "x2 131 100 1 30\n"
     ]
    },
    {
     "name": "stderr",
     "output_type": "stream",
     "text": [
      "/home/Grx/.local/lib/python3.11/site-packages/jax/_src/ops/scatter.py:94: FutureWarning: scatter inputs have incompatible types: cannot safely cast value from dtype=int64 to dtype=int32 with jax_numpy_dtype_promotion='standard'. In future JAX releases this will result in an error.\n",
      "  warnings.warn(\n"
     ]
    },
    {
     "name": "stdout",
     "output_type": "stream",
     "text": [
      "./tempdb/tem19/apdb.pdb ./templete/6UPI_A/rec.pdb\n",
      "./tempdb/tem19/apdb.pdb ./templete/3G5H_A/rec.pdb\n",
      "./tempdb/tem19/apdb.pdb ./templete/3G5F_A/rec.pdb\n",
      "./tempdb/tem19/apdb.pdb ./templete/5WP2_A/rec.pdb\n",
      "./tempdb/tem19/apdb.pdb ./templete/4IPS_A/rec.pdb\n",
      "./tempdb/tem19/apdb.pdb ./templete/6RQ3_A/rec.pdb\n",
      "./tempdb/tem19/apdb.pdb ./templete/4IPW_A/rec.pdb\n",
      "./tempdb/tem19/apdb.pdb ./templete/5O4K_A/rec.pdb\n",
      "./tempdb/tem19/apdb.pdb ./templete/5IBE_A/rec.pdb\n",
      "./tempdb/tem19/apdb.pdb ./templete/3CXV_A/rec.pdb\n",
      "./tempdb/tem19/apdb.pdb ./templete/6RQE_A/rec.pdb\n",
      "./tempdb/tem19/apdb.pdb ./templete/5OPA_A/rec.pdb\n",
      "./tempdb/tem19/apdb.pdb ./templete/6RQ1_A/rec.pdb\n",
      "./tempdb/tem19/apdb.pdb ./templete/4IQ9_A/rec.pdb\n",
      "./tempdb/tem19/apdb.pdb ./templete/1N40_A/rec.pdb\n",
      "./tempdb/tem19/apdb.pdb ./templete/4G47_A/rec.pdb\n",
      "./tempdb/tem19/apdb.pdb ./templete/4G46_A/rec.pdb\n",
      "./tempdb/tem19/apdb.pdb ./templete/4G45_A/rec.pdb\n",
      "./tempdb/tem19/apdb.pdb ./templete/4G48_A/rec.pdb\n",
      "3364 0.9358600322697851\n",
      "FE S -0.8441399677302149 0.9358600322697851\n",
      "43 43 43 ./templete/6UPI_A/lig.pdb 1\n",
      "x1 106 100 1 5\n",
      "x2 106 100 1 5\n"
     ]
    },
    {
     "name": "stderr",
     "output_type": "stream",
     "text": [
      "/home/Grx/.local/lib/python3.11/site-packages/jax/_src/ops/scatter.py:94: FutureWarning: scatter inputs have incompatible types: cannot safely cast value from dtype=int64 to dtype=int32 with jax_numpy_dtype_promotion='standard'. In future JAX releases this will result in an error.\n",
      "  warnings.warn(\n"
     ]
    },
    {
     "name": "stdout",
     "output_type": "stream",
     "text": [
      "3364 1.9093899262967935\n",
      "19 154.6214280128479\n"
     ]
    }
   ],
   "source": [
    "# resultax5=[]\n",
    "# resultax6=[]\n",
    "# resultax7=[]\n",
    "# resultax8=[]\n",
    "for i in range(3,20):\n",
    "    if i==7 or i==14 or i==15:\n",
    "        continue\n",
    "    t0=time.time()\n",
    "    prtpath='./alfpdb/alf'+str(i)+'/apdb.pdb'\n",
    "    teml=get_tem(1,10,i)\n",
    "    success,suct,fesx=get_mdp(teml,prtpath)\n",
    "    succ,crashn,fes=md(suct,1,1,4,i)\n",
    "    t1=time.time()\n",
    "    resultax5.append([prtpath,succ,fes,t1-t0+60])\n",
    "    \n",
    "    t0x=time.time()\n",
    "    prtpath='./alfpdb/alf'+str(i)+'/apdb.pdb'\n",
    "    teml=get_tem(0,10,i)\n",
    "    success,suct,fesx=get_mdp(teml,prtpath)\n",
    "    succ,crashn,fes=md(suct,1,1,5,i)\n",
    "    t1x=time.time()\n",
    "    resultax6.append([prtpath,succ,fes,t1x-t0x+60])\n",
    "    \n",
    "    t0x=time.time()\n",
    "    prtpath='./alfpdb/alf'+str(i)+'/apdb.pdb'\n",
    "    teml=get_tem(0,5,i)\n",
    "    success,suct,fesx=get_mdp(teml,prtpath)\n",
    "    succ,crashn,fes=md(suct,1,1,6,i)\n",
    "    t1x=time.time()\n",
    "    resultax7.append([prtpath,succ,fes,t1x-t0x+60])\n",
    "    \n",
    "    t0x=time.time()\n",
    "    prtpath='./alfpdb/alf'+str(i)+'/apdb.pdb'\n",
    "    teml=get_tem(0,1,i)\n",
    "    success,suct,fesx=get_mdp(teml,prtpath)\n",
    "    succ,crashn,fes=md(suct,1,1,7,i)\n",
    "    t1x=time.time()\n",
    "    resultax8.append([prtpath,succ,fes,t1x-t0x+60])\n",
    "    \n",
    "    print(i,time.time()-t0)"
   ]
  },
  {
   "cell_type": "code",
   "execution_count": 61,
   "id": "c8d41c7a",
   "metadata": {},
   "outputs": [],
   "source": [
    "def writeresult(file,l):\n",
    "    with open(file,'w')as f:\n",
    "        for i in l:\n",
    "            print(i,file=f)\n",
    "writeresult('./resulttxr/result0.txt',resultax0)\n",
    "writeresult('./resulttxr/result1.txt',resultax1)\n",
    "writeresult('./resulttxr/result2.txt',resultax2)\n",
    "writeresult('./resulttxr/result3.txt',resultax3)\n",
    "writeresult('./resulttxr/result4.txt',resultax4)\n",
    "writeresult('./resulttxr/result5.txt',resultax5)\n",
    "writeresult('./resulttxr/result6.txt',resultax6)\n",
    "writeresult('./resulttxr/result7.txt',resultax7)\n",
    "writeresult('./resulttxr/result8.txt',resultax8)"
   ]
  },
  {
   "cell_type": "code",
   "execution_count": null,
   "id": "c5b8c189",
   "metadata": {},
   "outputs": [],
   "source": []
  }
 ],
 "metadata": {
  "kernelspec": {
   "display_name": "Python 3 (ipykernel)",
   "language": "python",
   "name": "python3"
  },
  "language_info": {
   "codemirror_mode": {
    "name": "ipython",
    "version": 3
   },
   "file_extension": ".py",
   "mimetype": "text/x-python",
   "name": "python",
   "nbconvert_exporter": "python",
   "pygments_lexer": "ipython3",
   "version": "3.11.10"
  }
 },
 "nbformat": 4,
 "nbformat_minor": 5
}
