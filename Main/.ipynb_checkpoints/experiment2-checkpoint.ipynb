{
 "cells": [
  {
   "cell_type": "code",
   "execution_count": 1,
   "id": "abf00413",
   "metadata": {},
   "outputs": [],
   "source": [
    "import os\n",
    "import time\n",
    "import shutil"
   ]
  },
  {
   "cell_type": "code",
   "execution_count": 2,
   "id": "1cda0af6",
   "metadata": {},
   "outputs": [],
   "source": [
    "os.environ['CUDA_VISIBLE_DEVICES']='6'\n",
    "os.environ['TF_CPP_MIN_LOG_LEVEL'] = '0'"
   ]
  },
  {
   "cell_type": "code",
   "execution_count": 4,
   "id": "198c78be-1087-4189-94e2-85c27b8c073e",
   "metadata": {},
   "outputs": [
    {
     "name": "stdout",
     "output_type": "stream",
     "text": [
      "[CpuDevice(id=0)]\n"
     ]
    }
   ],
   "source": [
    "import jax\n",
    "print(jax.devices())"
   ]
  },
  {
   "cell_type": "code",
   "execution_count": 5,
   "id": "a2be3c3e",
   "metadata": {},
   "outputs": [],
   "source": [
    "import numpy as onp\n",
    "\n",
    "import jax.numpy as np\n",
    "from jax import random\n",
    "from jax import jit, grad, vmap, value_and_grad\n",
    "from jax import lax\n",
    "from jax import ops\n",
    "\n",
    "from jax import config\n",
    "config.update(\"jax_enable_x64\", True)\n",
    "\n",
    "from jax_md import space, smap, energy, minimize, quantity, simulate, partition\n",
    "\n",
    "from functools import partial\n",
    "import time\n",
    "\n",
    "f32 = np.float32\n",
    "f64 = np.float64\n",
    "  \n",
    "key = random.PRNGKey(0)"
   ]
  },
  {
   "cell_type": "code",
   "execution_count": 6,
   "id": "df2488de",
   "metadata": {},
   "outputs": [],
   "source": [
    "#从TMalign输出中获取得分\n",
    "def getscore(file):\n",
    "    cnt=0\n",
    "    score=0.0\n",
    "    with open(file) as f:\n",
    "        for i in f:\n",
    "            #print(cnt,i)\n",
    "            if cnt==14:\n",
    "                xi=i.split()\n",
    "                score=float(xi[1])\n",
    "                break\n",
    "            cnt=cnt+1\n",
    "    return score"
   ]
  },
  {
   "cell_type": "code",
   "execution_count": 7,
   "id": "15a1be59",
   "metadata": {},
   "outputs": [],
   "source": [
    "#成对距离的计算\n",
    "from jax_md import space\n",
    "import jax.numpy as np\n",
    "def displacement(Ra, Rb, **unused_kwargs):\n",
    "    dR = Ra - Rb\n",
    "    return dR\n",
    "metric = space.metric(displacement)\n",
    "metrix = space.map_product(metric)"
   ]
  },
  {
   "cell_type": "code",
   "execution_count": 8,
   "id": "97590f5b",
   "metadata": {},
   "outputs": [],
   "source": [
    "#酶和小分子的读入\n",
    "from biopandas.pdb import PandasPdb\n",
    "def readlig(file):\n",
    "    data = PandasPdb().read_pdb(file)\n",
    "    df = data.df['HETATM']\n",
    "    typ=df['atom_name']\n",
    "    lx=df['x_coord']\n",
    "    ly=df['y_coord']\n",
    "    lz=df['z_coord']\n",
    "    osym=df['element_symbol']\n",
    "    otyp=[]\n",
    "    opos=[]\n",
    "    for i in range(len(typ)):\n",
    "        otyp.append(typ[i])\n",
    "        opos.append([lx[i],ly[i],lz[i]])\n",
    "    \n",
    "    nom=['CHA', 'CHB', 'CHC', 'CHD', 'C1A', 'C2A', 'C3A', 'C4A', 'CMA', 'CAA', 'CBA', 'CGA', 'O1A', 'O2A', 'C1B', 'C2B', 'C3B', 'C4B', 'CMB', 'CAB', 'CBB', 'C1C', 'C2C', 'C3C', 'C4C', 'CMC', 'CAC', 'CBC', 'C1D', 'C2D', 'C3D', 'C4D', 'CMD', 'CAD', 'CBD', 'CGD', 'O1D', 'O2D', 'NA', 'NB', 'NC', 'ND', 'FE']\n",
    "    if len(otyp)!=43:\n",
    "        return otyp,opos\n",
    "#    if otyp[0]!=nom[0]:\n",
    "    dic={}\n",
    "    new_pos=[]\n",
    "    new_typ=[]\n",
    "    new_sym=[]\n",
    "    for i in range(len(otyp)):\n",
    "        dic[otyp[i]]=i\n",
    "    for i in nom:\n",
    "        j=dic[i]\n",
    "        new_pos.append(opos[j])\n",
    "        new_typ.append(otyp[j])\n",
    "        new_sym.append(osym[j])\n",
    "    return new_typ,new_pos,new_sym\n",
    "    \n",
    "    return otyp,opos,osym\n",
    "\n",
    "def readrec(file):\n",
    "    data = PandasPdb().read_pdb(file)\n",
    "    df = data.df['ATOM']\n",
    "    res=df['residue_name']\n",
    "    typ=df['atom_name']\n",
    "    lx=df['x_coord']\n",
    "    ly=df['y_coord']\n",
    "    lz=df['z_coord']\n",
    "    sym=df['element_symbol']\n",
    "    otyp=[]\n",
    "    opos=[]\n",
    "    ores=[]\n",
    "    osym=[]\n",
    "    for i in range(len(typ)):\n",
    "        otyp.append(typ[i])\n",
    "        opos.append([lx[i],ly[i],lz[i]])\n",
    "        ores.append(res[i])\n",
    "        osym.append(sym[i])\n",
    "    return otyp,opos,ores,osym"
   ]
  },
  {
   "cell_type": "code",
   "execution_count": 9,
   "id": "89310bc9",
   "metadata": {},
   "outputs": [],
   "source": [
    "def readrecx(file):\n",
    "    data = PandasPdb().read_pdb(file)\n",
    "    df = data.df['ATOM']\n",
    "    #print(df)\n",
    "    res=df['residue_name']\n",
    "    resnum=df['residue_number']\n",
    "    typ=df['atom_name']\n",
    "    lx=df['x_coord']\n",
    "    ly=df['y_coord']\n",
    "    lz=df['z_coord']\n",
    "    sym=df['element_symbol']\n",
    "    otyp=[]\n",
    "    opos=[]\n",
    "    ores=[]\n",
    "    osym=[]\n",
    "    onum=[]\n",
    "    for i in range(len(typ)):\n",
    "        otyp.append(typ[i])\n",
    "        opos.append([lx[i],ly[i],lz[i]])\n",
    "        ores.append(res[i])\n",
    "        osym.append(sym[i])\n",
    "        onum.append(resnum[i])\n",
    "    return otyp,opos,ores,osym,onum"
   ]
  },
  {
   "cell_type": "code",
   "execution_count": 10,
   "id": "e639e43f",
   "metadata": {},
   "outputs": [],
   "source": [
    "dicr={'H':0.32,'C':0.77,'N':0.75,'O':0.73,'S':1.02,'FE':0.76}\n",
    "def ckcrash(pres,ps,ppos,hs,hpos):\n",
    "    #检查蛋白质和小分子关系，p代表蛋白质数据，h代表小分子数据\n",
    "    \n",
    "    #生成原子半径\n",
    "    pr=[]\n",
    "    hr=[]\n",
    "    for i in ps:\n",
    "        if i not in dicr:\n",
    "            #print(i,dicr)\n",
    "            return\n",
    "        pr.append(dicr[i])\n",
    "    for i in hs:\n",
    "        if i not in dicr:\n",
    "            #print(i,dicr)\n",
    "            return\n",
    "        hr.append(dicr[i])\n",
    "    \n",
    "    \n",
    "    pr=np.array(pr)\n",
    "    hr=np.array(hr)\n",
    "    ppos=np.array(ppos)\n",
    "    hpos=np.array(hpos)\n",
    "    disph=[]\n",
    "    result='success'\n",
    "    minfes=100.0\n",
    "    spos=0\n",
    "    \n",
    "    #计算heme小分子的原子与蛋白质原子的距离\n",
    "    for i in range(len(hs)):\n",
    "        dis=metric(hpos[i],ppos)-(pr+hr[i])\n",
    "        disph.append(np.min(dis))\n",
    "        if hs[i]=='FE':\n",
    "            for j in range(len(pr)):\n",
    "                if ps[j]=='S': #and pres[j]=='CYS':\n",
    "                    fes=dis[j]+pr[j]+hr[i]\n",
    "                    #print(fes)\n",
    "                    if fes<minfes:\n",
    "                        minfes=fes\n",
    "                        spos=j\n",
    "            if minfes<1.93 or minfes>2.77:\n",
    "                result='Fe_remote'\n",
    "\n",
    "    for i in disph:\n",
    "        if i<0:\n",
    "            result='crash'\n",
    "            break\n",
    "        if i>11:\n",
    "            result='notin'\n",
    "            break\n",
    "\n",
    "    return disph,result,minfes,spos"
   ]
  },
  {
   "cell_type": "code",
   "execution_count": 11,
   "id": "d041322f",
   "metadata": {},
   "outputs": [],
   "source": [
    "def process(rfile,lfile):\n",
    "    #检查蛋白质和小分子的具体关系，rfile代表蛋白质数据路径，lfile代表小分子数据路径\n",
    "    ptyp,ppos,pres,psym=readrec(rfile)\n",
    "    ltyp,lpos,lsym=readlig(lfile)\n",
    "    mindis,result,minfes,spos=ckcrash(pres,psym,ppos,lsym,lpos)\n",
    "    return result,minfes,spos\n",
    "    #print(minfes,min(mindis))\n",
    "    if result!='crash':\n",
    "        return result,minfes,spos\n",
    "    #检查具体的crash情况\n",
    "    nl=[ 'CBA', 'CGA', 'O1A', 'O2A',  'CBB', 'CBC', 'CBD', 'CGD', 'O1D', 'O2D'] \n",
    "    mintag=0\n",
    "    crashl=[]\n",
    "    for i in range(len(mindis)):\n",
    "        if mindis[i]<0:\n",
    "            if ltyp[i] not in nl:\n",
    "                mintag=1\n",
    "            crashl.append(ltyp[i])\n",
    "    if mintag==0:\n",
    "        return 'rotate',minfes,spos\n",
    "    if len(crashl)==1 and crashl[0]=='FE':\n",
    "        return 'Fe_crash',minfes,spos\n",
    "    return 'other',minfes,spos"
   ]
  },
  {
   "cell_type": "code",
   "execution_count": 12,
   "id": "d64a7df4",
   "metadata": {},
   "outputs": [],
   "source": [
    "def checkbondhem(ligfile):\n",
    "    conext=0\n",
    "    with open(ligfile) as f:\n",
    "        for i in f:\n",
    "            xi=i.split()\n",
    "            if xi[0]=='CONECT':\n",
    "                conext=1\n",
    "                break\n",
    "    return conext"
   ]
  },
  {
   "cell_type": "code",
   "execution_count": 13,
   "id": "3c37b4ca",
   "metadata": {},
   "outputs": [],
   "source": [
    "def get_tem(blv,top,i):\n",
    "    pat='./alfpdb/alf'+str(i)\n",
    "    fdsk=pat+'/foldseekout.txt'\n",
    "    teml=[]\n",
    "    with open(fdsk)as f:\n",
    "        for j in f:\n",
    "            xi=j.split()\n",
    "            out=xi[1].replace(\"'\", \"\").replace(\",\", \"\")\n",
    "            tpp='./templete/'+out\n",
    "            ligp=tpp+'/lig.pdb'\n",
    "            if checkbondhem(ligp)==0:\n",
    "                continue\n",
    "            teml.append(tpp)\n",
    "            if len(teml)>20:\n",
    "                break\n",
    "    \n",
    "    if blv==1:\n",
    "        outl=[]\n",
    "        for j in range(top):\n",
    "            outl.append(teml[j])\n",
    "        return outl\n",
    "    \n",
    "    if blv==0:\n",
    "        prt='./alfpdb/alf'+str(i)+'/apdb.pdb'\n",
    "        outf='outtmxra.txt'\n",
    "        rel=[]\n",
    "        for j in range(20):\n",
    "            tem=teml[j]+'/rec.pdb'\n",
    "            #print(prt,tem)\n",
    "            com='./TMalign '+prt+' '+tem+' > '+outf\n",
    "            os.system(com)\n",
    "            sc=getscore(outf)\n",
    "            rel.append((teml[j],sc))\n",
    "        sortedl=sorted(rel,key=lambda x:x[1],reverse=True)\n",
    "        outl=[]\n",
    "        for j in range(top):\n",
    "            outl.append(sortedl[j][0])\n",
    "        return outl\n",
    "        #print(sortedl)\n",
    "    \n",
    "#print(get_tem(0,10,0))"
   ]
  },
  {
   "cell_type": "code",
   "execution_count": 14,
   "id": "c4c6cf0e",
   "metadata": {},
   "outputs": [],
   "source": [
    "def get_mdp(teml,prt):\n",
    "    suc=0\n",
    "    sucr=teml[0]\n",
    "    for i in teml:\n",
    "        trec=i+'/rec.pdb'\n",
    "        tlig=i+'/lig.pdb'\n",
    "        tmprt='./tmxra/TM_sup.pdb'\n",
    "        com='./TMalign '+prt+' '+trec+' -o ./tmxra/TM_sup > outtmxra.txt'\n",
    "        os.system(com)\n",
    "        result,minfes,spos=process(tmprt,tlig)\n",
    "        if result=='success':\n",
    "            suc=1\n",
    "            sucr=i\n",
    "            break\n",
    "    return suc,sucr,minfes\n",
    "        #print(result,minfes,spos)"
   ]
  },
  {
   "cell_type": "code",
   "execution_count": 15,
   "id": "d3dfaa6c",
   "metadata": {},
   "outputs": [],
   "source": [
    "# xl=get_tem(1,10,0)\n",
    "# xpath='./alfpdb/alf'+str(1)+'/apdb.pdb'\n",
    "# get_mdp(xl,xpath)"
   ]
  },
  {
   "cell_type": "code",
   "execution_count": 16,
   "id": "230b0141",
   "metadata": {},
   "outputs": [],
   "source": [
    "# print(get_mdp(xl,xpath))"
   ]
  },
  {
   "cell_type": "code",
   "execution_count": 17,
   "id": "84ac7cad",
   "metadata": {},
   "outputs": [],
   "source": [
    "def init(ltyp,lpos,lsym,rtyp,rpos,rres,rsym,rnum):\n",
    "    R=[]\n",
    "    res=[]\n",
    "    typ=[]\n",
    "    resnum=[]\n",
    "    item=[]\n",
    "    dl={}\n",
    "    for i in range(len(lpos)):\n",
    "        R.append(lpos[i])\n",
    "        res.append('HEM')\n",
    "        typ.append(lsym[i])\n",
    "        item.append(ltyp[i])\n",
    "        resnum.append(0)\n",
    "        dl[ltyp[i]]=i\n",
    "    for i in range(len(rpos)):\n",
    "        R.append(rpos[i])\n",
    "        res.append(rres[i])\n",
    "        typ.append(rsym[i])\n",
    "        item.append(rtyp[i])\n",
    "        resnum.append(rnum[i])\n",
    "    R=np.array(R)\n",
    "    return R,res,typ,resnum,item,dl"
   ]
  },
  {
   "cell_type": "code",
   "execution_count": 18,
   "id": "ae1086cc",
   "metadata": {},
   "outputs": [],
   "source": [
    "def bondhem(ligfile,R,d):\n",
    "    dx={}\n",
    "    bond=[]\n",
    "    bond_dis=[]\n",
    "    with open(ligfile) as f:\n",
    "        for i in f:\n",
    "            xi=i.split()\n",
    "            if xi[0]=='HETATM':\n",
    "                dx[xi[1]]=xi[2]\n",
    "            if xi[0]=='CONECT':\n",
    "                st='st'\n",
    "                for j in xi:\n",
    "                    if j=='CONECT':\n",
    "                        continue\n",
    "                    if st=='st':\n",
    "                        st=j\n",
    "                        continue\n",
    "                    a=dx[st]\n",
    "                    b=dx[j]\n",
    "                    bond.append([d[a],d[b]])\n",
    "                    bond_dis.append(metric(R[d[a]],R[d[b]]))\n",
    "    return bond,bond_dis"
   ]
  },
  {
   "cell_type": "code",
   "execution_count": 19,
   "id": "289d8a8b",
   "metadata": {},
   "outputs": [],
   "source": [
    "def bondfes(R,fe,typ,res,d):\n",
    "    fe=d['FE']\n",
    "    s=0\n",
    "    for i in range(len(R)):\n",
    "        if typ[i]=='S' and res[i]=='CYS':\n",
    "            if metric(R[fe],R[i])<5.0:\n",
    "                #print(i,metric(R[fe],R[i]))\n",
    "                s=i\n",
    "    return [[fe,s]],[2.35]"
   ]
  },
  {
   "cell_type": "code",
   "execution_count": 20,
   "id": "fd6edc1e",
   "metadata": {},
   "outputs": [],
   "source": [
    "def bondfesx(R,fe,typ,res,d):\n",
    "    fe=d['FE']\n",
    "    s=0\n",
    "    for i in range(len(R)):\n",
    "        if typ[i]=='S' and res[i]=='CYS':\n",
    "            if metric(R[fe],R[i])<5.0:\n",
    "                #print(i,metric(R[fe],R[i]))\n",
    "                s=i\n",
    "    return [[fe,s]],[metric(R[fe],R[s])]"
   ]
  },
  {
   "cell_type": "code",
   "execution_count": 21,
   "id": "39708ff4",
   "metadata": {},
   "outputs": [],
   "source": [
    "def ckcrashx(rtpos,typ,res,resnum):\n",
    "    ar=[]\n",
    "    crashl=[]\n",
    "    for i in typ:\n",
    "        if i not in dicr:\n",
    "            #print(i)\n",
    "            return\n",
    "        ar.append(dicr[i])\n",
    "    ar=np.array(ar)\n",
    "    for i in range(len(rtpos)):\n",
    "        if res[i]!='HEM':\n",
    "            break\n",
    "        #print(i)\n",
    "        dis=metric(rtpos[i],rtpos)-(ar[i]+ar)\n",
    "        if np.min(dis[43:])<0:\n",
    "            mdis=np.argwhere(dis<0)\n",
    "            #print(mdis)\n",
    "            for jx in mdis:\n",
    "                j=jx[0]\n",
    "                #print(dis[j])\n",
    "                if resnum[j] not in crashl and j>=43:\n",
    "                    crashl.append(resnum[j])\n",
    "                    #print(typ[i],typ[j],dis[j],metric(rtpos[i],rtpos[j]))\n",
    "    return crashl"
   ]
  },
  {
   "cell_type": "code",
   "execution_count": 22,
   "id": "6f521b28",
   "metadata": {},
   "outputs": [],
   "source": [
    "amino_acids = {\n",
    "    'GLY': [('N', 'CA'), ('CA', 'C'), ('C', 'O')],\n",
    "    'ALA': [('N', 'CA'), ('CA', 'C'), ('C', 'O'), ('CA', 'CB')],\n",
    "    'SER': [('N', 'CA'), ('CA', 'C'), ('C', 'O'), ('CA', 'CB'), ('CB', 'OG')],\n",
    "    'CYS': [('N', 'CA'), ('CA', 'C'), ('C', 'O'), ('CA', 'CB'), ('CB', 'SG')],\n",
    "    'VAL': [('N', 'CA'), ('CA', 'C'), ('C', 'O'), ('CA', 'CB'), ('CB', 'CG1'), ('CB', 'CG2')],\n",
    "    'ILE': [('N', 'CA'), ('CA', 'C'), ('C', 'O'), ('CA', 'CB'), ('CB', 'CG1'), ('CG1', 'CD1'), ('CB', 'CG2')],\n",
    "    'LEU': [('N', 'CA'), ('CA', 'C'), ('C', 'O'), ('CA', 'CB'), ('CB', 'CG'), ('CG', 'CD1'), ('CG', 'CD2')],\n",
    "    'THR': [('N', 'CA'), ('CA', 'C'), ('C', 'O'), ('CA', 'CB'), ('CB', 'OG1'), ('CB', 'CG2')],\n",
    "    'ARG': [('N', 'CA'), ('CA', 'C'), ('C', 'O'), ('CA', 'CB'), ('CB', 'CG'), ('CG', 'CD'), ('CD', 'NE'), ('NE', 'CZ'), ('CZ', 'NH1'), ('CZ', 'NH2')],\n",
    "    'LYS': [('N', 'CA'), ('CA', 'C'), ('C', 'O'), ('CA', 'CB'), ('CB', 'CG'), ('CG', 'CD'), ('CD', 'CE'), ('CE', 'NZ')],\n",
    "    'ASP': [('N', 'CA'), ('CA', 'C'), ('C', 'O'), ('CA', 'CB'), ('CB', 'CG'), ('CG', 'OD1'), ('CG', 'OD2')],\n",
    "    'GLU': [('N', 'CA'), ('CA', 'C'), ('C', 'O'), ('CA', 'CB'), ('CB', 'CG'), ('CG', 'CD'), ('CD', 'OE1'), ('CD', 'OE2')],\n",
    "    'ASN': [('N', 'CA'), ('CA', 'C'), ('C', 'O'), ('CA', 'CB'), ('CB', 'CG'), ('CG', 'OD1'), ('CG', 'ND2')],\n",
    "    'GLN': [('N', 'CA'), ('CA', 'C'), ('C', 'O'), ('CA', 'CB'), ('CB', 'CG'), ('CG', 'CD'), ('CD', 'OE1'), ('CD', 'NE2')],\n",
    "    'HIS': [('N', 'CA'), ('CA', 'C'), ('C', 'O'), ('CA', 'CB'), ('CB', 'CG'), ('CG', 'ND1'), ('CG', 'CD2'), ('CD2', 'NE2'),('CE1', 'ND1'),('CE1', 'NE2')],\n",
    "    'PHE': [('N', 'CA'), ('CA', 'C'), ('C', 'O'), ('CA', 'CB'), ('CB', 'CG'), ('CG', 'CD1'), ('CG', 'CD2'), ('CD1', 'CE1'), ('CD2', 'CE2'), ('CE1', 'CZ'), ('CE2', 'CZ')],\n",
    "    'TYR': [('N', 'CA'), ('CA', 'C'), ('C', 'O'), ('CA', 'CB'), ('CB', 'CG'), ('CG', 'CD1'), ('CG', 'CD2'), ('CD1', 'CE1'), ('CD2', 'CE2'), ('CE1', 'CZ'), ('CZ', 'OH'), ('CE2', 'CZ')],\n",
    "    'TRP': [('N', 'CA'), ('CA', 'C'), ('C', 'O'), ('CA', 'CB'), ('CB', 'CG'), ('CG', 'CD1'), ('CG', 'CD2'), ('CD2', 'CE2'), ('CD2', 'CE3'), ('CE2', 'CZ2'), ('CE3', 'CZ3'), ('CZ2', 'CH2'),('CD1', 'NE1'),('CE2', 'NE1'),('CZ3', 'CH2')],\n",
    "    'MET': [('N', 'CA'), ('CA', 'C'), ('C', 'O'), ('CA', 'CB'), ('CB', 'CG'), ('CG', 'SD'), ('SD', 'CE')],\n",
    "    'PRO': [('N', 'CA'), ('CA', 'C'), ('C', 'O'), ('CA', 'CB'), ('CB', 'CG'), ('CG', 'CD'), ('CD', 'N')],  # Note: Proline has a bond back to its N\n",
    "}\n",
    "\n",
    "def get_bonds(residue):\n",
    "    return amino_acids.get(residue, \"Unknown residue.\")\n",
    "\n",
    "def bondres(R,crashl,resnum,item,res):\n",
    "    d={}\n",
    "    bond=[]\n",
    "    bond_dis=[]\n",
    "    for i in range(len(resnum)):\n",
    "        if resnum[i] in crashl:\n",
    "            d[item[i]]=i\n",
    "            if i+1==len(resnum):\n",
    "                b=get_bonds(res[i])\n",
    "                for j in b:\n",
    "                    xa=d[j[0]]\n",
    "                    xb=d[j[1]]\n",
    "                    bond.append([xa,xb])\n",
    "                    bond_dis.append(metric(R[xa],R[xb]))\n",
    "                break\n",
    "            if resnum[i]!=resnum[i+1]:\n",
    "                b=get_bonds(res[i])\n",
    "                for j in b:\n",
    "                    xa=d[j[0]]\n",
    "                    xb=d[j[1]]\n",
    "                    bond.append([xa,xb])\n",
    "                    bond_dis.append(metric(R[xa],R[xb]))\n",
    "                d={}\n",
    "    return bond,bond_dis"
   ]
  },
  {
   "cell_type": "code",
   "execution_count": 23,
   "id": "36d7d42b",
   "metadata": {},
   "outputs": [],
   "source": [
    "def setup_periodic_box():\n",
    "    def displacement_fn(Ra, Rb, **unused_kwargs):\n",
    "        dR = Ra - Rb\n",
    "        return dR\n",
    "    #return np.mod(dR + box_size * f32(0.5), box_size) - f32(0.5) * box_size\n",
    "\n",
    "    def shift_fn(R, dR, **unused_kwargs):\n",
    "        return R+dR\n",
    "    #return np.mod(R + dR, box_size)\n",
    "\n",
    "    return displacement_fn, shift_fn \n",
    "displacement, shift = setup_periodic_box()"
   ]
  },
  {
   "cell_type": "code",
   "execution_count": 24,
   "id": "8d756217",
   "metadata": {},
   "outputs": [],
   "source": [
    "def harmonic_morse(dr, sigma=3.8, espilon=0.09, gd=1.0,**kwargs):\n",
    "    U=gd*f32(4)*espilon*((sigma/dr)**12-(sigma/dr)**6 )\n",
    "    return np.array(U, dtype=dr.dtype)"
   ]
  },
  {
   "cell_type": "code",
   "execution_count": 25,
   "id": "e6dfaca0",
   "metadata": {},
   "outputs": [],
   "source": [
    "def harmonic_morse_cutoff_neighbor_list(\n",
    "    displacement_or_metric,\n",
    "    box_size,\n",
    "    species=None,\n",
    "    sigma=3.5,\n",
    "    epsilon=0.1,\n",
    "    gd=1.0,\n",
    "    r_onset=1.0,\n",
    "    r_cutoff=1.5, \n",
    "    dr_threshold=2.0,\n",
    "    format=partition.OrderedSparse,\n",
    "    **kwargs): \n",
    "\n",
    "  sigma = np.array(sigma, dtype=np.float32)\n",
    "  epsilon = np.array(epsilon, dtype=np.float32)\n",
    "  gd = np.array(gd, dtype=np.float32)\n",
    "  r_onset = np.array(r_onset, dtype=np.float32)\n",
    "  r_cutoff = np.array(r_cutoff, np.float32)\n",
    "  dr_threshold = np.float32(dr_threshold)\n",
    "\n",
    "  neighbor_fn = partition.neighbor_list(\n",
    "        displacement_or_metric, \n",
    "        box_size, \n",
    "        r_cutoff, \n",
    "        dr_threshold,\n",
    "        format=format)\n",
    "\n",
    "  energy_fn = smap.pair_neighbor_list(\n",
    "    energy.multiplicative_isotropic_cutoff(harmonic_morse, r_onset, r_cutoff),\n",
    "    space.canonicalize_displacement_or_metric(displacement_or_metric),\n",
    "    species=species,\n",
    "    sigma=sigma,\n",
    "    epsilon=epsilon,\n",
    "    gd=gd)\n",
    "    \n",
    "  return neighbor_fn, energy_fn"
   ]
  },
  {
   "cell_type": "code",
   "execution_count": 26,
   "id": "46b3d664",
   "metadata": {},
   "outputs": [],
   "source": [
    "def bistable_spring(dr, r0=1.0, k=15.0,gd=1.0, **kwargs):\n",
    "  return gd*0.5*k*(dr-r0)**2"
   ]
  },
  {
   "cell_type": "code",
   "execution_count": 27,
   "id": "0e5eda3b",
   "metadata": {},
   "outputs": [],
   "source": [
    "def bistable_spring_bond(\n",
    "    displacement_or_metric, bond, bond_type=None, r0=1, k=350.0,gd=1.0):\n",
    "  \"\"\"Convenience wrapper to compute energy of particles bonded by springs.\"\"\"\n",
    "  r0 = np.array(r0, f32)\n",
    "  k = np.array(k, f32)\n",
    "  gd = np.array(gd, f32)\n",
    "  return smap.bond(\n",
    "    bistable_spring,\n",
    "    space.canonicalize_displacement_or_metric(displacement_or_metric),\n",
    "    bond,\n",
    "    bond_type,\n",
    "    r0=r0,\n",
    "    k=k,\n",
    "    gd=gd)"
   ]
  },
  {
   "cell_type": "code",
   "execution_count": 28,
   "id": "792d23e7",
   "metadata": {},
   "outputs": [],
   "source": [
    "def potential_en(r,k=1.0,s=100000000.0):\n",
    "    return k*s*r**2"
   ]
  },
  {
   "cell_type": "code",
   "execution_count": 29,
   "id": "540704bc",
   "metadata": {},
   "outputs": [],
   "source": [
    "import regularp\n",
    "def position_regular(\n",
    "    displacement_or_metric, R0, k=1.0, s=10000000.0):\n",
    "  \"\"\"Convenience wrapper to compute energy of particles bonded by springs.\"\"\"\n",
    "  k = np.array(k, f32)\n",
    "  s = np.array(s, f32)\n",
    "  return regularp.angx(\n",
    "    potential_en,\n",
    "    space.canonicalize_displacement_or_metric(displacement_or_metric),\n",
    "    R0,\n",
    "    k=k,\n",
    "    s=s)"
   ]
  },
  {
   "cell_type": "code",
   "execution_count": 30,
   "id": "b4ddf97a",
   "metadata": {},
   "outputs": [],
   "source": [
    "import anglex\n",
    "def fs(s,s0=60.0,k=0.2):\n",
    "    return k*(s-s0)**2\n",
    "def bistable_ang(\n",
    "    displacement_or_metric, ang, bond_type=None, s0=60.0, k=0.2):\n",
    "  \"\"\"Convenience wrapper to compute energy of particles bonded by springs.\"\"\"\n",
    "  ang = np.array(ang)\n",
    "  s0 = np.array(s0, f32)\n",
    "  k = np.array(k, f32)\n",
    "  return anglex.angx(\n",
    "  #return smap.bond(\n",
    "    fs,\n",
    "    displacement_or_metric,\n",
    "    ang,\n",
    "    bond_type,\n",
    "    s0=s0,\n",
    "    k=k)"
   ]
  },
  {
   "cell_type": "code",
   "execution_count": 31,
   "id": "13dab5fe",
   "metadata": {},
   "outputs": [],
   "source": [
    "import emang\n",
    "def em(st,k=2.0):\n",
    "    return 0.5*k*(1.0+np.cos(np.radians(2.0*st-180.0)))\n",
    "#print(em(135))\n",
    "def bistable_emang(\n",
    "    displacement_or_metric, emangx, bond_type=None, k=2.0):\n",
    "  \"\"\"Convenience wrapper to compute energy of particles bonded by springs.\"\"\"\n",
    "  emangx = np.array(emangx)\n",
    "  k = np.array(k, f32)  \n",
    "  return emang.angx(\n",
    "    em,\n",
    "    displacement_or_metric,\n",
    "    emangx,\n",
    "    bond_type,\n",
    "    k=k)"
   ]
  },
  {
   "cell_type": "code",
   "execution_count": 32,
   "id": "24f718de",
   "metadata": {},
   "outputs": [],
   "source": [
    "def hemang(res,item):\n",
    "    dl={}\n",
    "    for i in range(len(res)):\n",
    "        if res[i]=='HEM':\n",
    "            dl[item[i]]=i\n",
    "    #print(dl)\n",
    "    angl=[]\n",
    "    angk=[]\n",
    "    anga=[]\n",
    "    with open('hemangle.txt') as f:\n",
    "        for i in f:\n",
    "            xi=i.split()\n",
    "            angl.append(np.array([dl[xi[0]],dl[xi[1]],dl[xi[2]]]))\n",
    "            angk.append(float(xi[3]))\n",
    "            anga.append(float(xi[4]))\n",
    "    ang_cmp,ang_energy=bistable_ang(displacement, angl,s0=anga,k=angk)\n",
    "    #R=np.array(opos)\n",
    "    #print(ang_energy(R))\n",
    "    eml=[]\n",
    "    emk=[]\n",
    "    with open('hememang.txt') as f:\n",
    "        for i in f:\n",
    "            xi=i.split()\n",
    "            eml.append([dl[xi[0]],dl[xi[1]],dl[xi[2]],dl[xi[3]]])\n",
    "            emk.append(float(xi[4]))\n",
    "    ang_cmp,emang_energy=bistable_emang(displacement, eml,k=emk)\n",
    "    #print(emang_energy(R))  \n",
    "    def sume(R):\n",
    "        return ang_energy(R)+emang_energy(R)\n",
    "    return sume"
   ]
  },
  {
   "cell_type": "code",
   "execution_count": 33,
   "id": "fc041f86",
   "metadata": {},
   "outputs": [],
   "source": [
    "def run_minimization(energy_fn, neighbor_fn, R_init, shift,num_steps,dt=0.0000001):\n",
    "    dt_start = dt\n",
    "    dt_max = dt*4\n",
    "    init,apply = minimize.fire_descent(energy_fn,shift,dt_start=dt_start,dt_max=dt_max)\n",
    "    state = init(R_init)\n",
    "    nbrs = neighbor_fn.allocate(R_init)\n",
    "    #t0=time.time()\n",
    "    for i in range(num_steps):\n",
    "        state = apply(state, neighbor=nbrs)\n",
    "        e=energy_fn(state.position, neighbor=nbrs)\n",
    "        #rx=state.position\n",
    "        #t=time.time()-t0\n",
    "        #if i%100==0:\n",
    "        #print(i,e)\n",
    "    return state.position"
   ]
  },
  {
   "cell_type": "code",
   "execution_count": 34,
   "id": "374007ab",
   "metadata": {},
   "outputs": [],
   "source": [
    "def energyx(R,bond,bond_dis,crashl,resnum,res,item):\n",
    "    r_onset  = 0.0\n",
    "    r_cutoff = 10.0\n",
    "    dr_threshold = 0.5\n",
    "    neighbor_fn, vdv_fn = harmonic_morse_cutoff_neighbor_list(\n",
    "        displacement,50.0, sigma=3.39967,epsilon=0.359824,\n",
    "        r_onset=r_onset, r_cutoff=r_cutoff, dr_threshold=dr_threshold)\n",
    "    nbrs = neighbor_fn.allocate(R)\n",
    "    \n",
    "    bond_energy_fn = bistable_spring_bond(displacement, bond, r0=bond_dis,k=390.0)\n",
    "    \n",
    "    crashl.append(0)\n",
    "    kk=[]\n",
    "    for i in resnum:\n",
    "        if i in crashl:\n",
    "            kk.append(0)\n",
    "        else:\n",
    "            kk.append(1)\n",
    "    pr_energy=position_regular(displacement,R,k=kk)\n",
    "    \n",
    "    hemang_energy=hemang(res,item)\n",
    "    def sum_engn(R,neighbor=nbrs,**kwargs):\n",
    "        return bond_energy_fn(R)+vdv_fn(R, neighbor=nbrs)+pr_energy(R)+hemang_energy(R)\n",
    "    \n",
    "    return neighbor_fn,sum_engn"
   ]
  },
  {
   "cell_type": "code",
   "execution_count": 35,
   "id": "43a16ee2",
   "metadata": {},
   "outputs": [],
   "source": [
    "def savemd(prt,lig,nprt,nlig,r,resnum,d):\n",
    "    ppdb = PandasPdb().read_pdb(prt)\n",
    "    adf = ppdb.df['ATOM'].copy()\n",
    "    lpdb = PandasPdb().read_pdb(lig)\n",
    "    ldf = lpdb.df['HETATM'].copy()\n",
    "    num=0\n",
    "    for i in range(len(resnum)):\n",
    "        if resnum[i]==0:\n",
    "            idx=d[ldf['atom_name'][i]]\n",
    "            ldf['x_coord'][i]=r[idx][0]\n",
    "            ldf['y_coord'][i]=r[idx][1]\n",
    "            ldf['z_coord'][i]=r[idx][2]\n",
    "            num=num+1\n",
    "        else:\n",
    "            idx=i-num\n",
    "            adf['x_coord'][idx]=r[i][0]\n",
    "            adf['y_coord'][idx]=r[i][1]\n",
    "            adf['z_coord'][idx]=r[i][2]\n",
    "    \n",
    "    ppdb.df['ATOM']=adf\n",
    "    ppdb.to_pdb(path=nprt, records=None)\n",
    "    lpdb.df['HETATM']=ldf\n",
    "    lpdb.to_pdb(path=nlig, records=None)"
   ]
  },
  {
   "cell_type": "code",
   "execution_count": 36,
   "id": "82751e3b",
   "metadata": {},
   "outputs": [],
   "source": [
    "import warnings\n",
    "import pandas as pd\n",
    "from pandas.errors import SettingWithCopyWarning\n",
    "warnings.filterwarnings('ignore')\n",
    "#warnings.filterwarnings(\"ignore\", category=SettingWithCopyWarning)\n",
    "\n",
    "def md(tem,ifcra,iffes,idxr,numi):\n",
    "    \n",
    "    #print('read')\n",
    "    rec_path='./tmxra/TM_sup.pdb'\n",
    "    lig_path=tem+'/lig.pdb'\n",
    "    ltyp,lpos,lsym=readlig(lig_path)\n",
    "    rtyp,rpos,rres,rsym,rnum=readrecx(rec_path)\n",
    "    \n",
    "    #print('init')\n",
    "    R,res,typ,resnum,item,d=init(ltyp,lpos,lsym,rtyp,rpos,rres,rsym,rnum)\n",
    "    #print(d)\n",
    "    bondh,bondhdis=bondhem(lig_path,R,d)\n",
    "    bondf,bondfdis=bondfes(R,d['FE'],typ,res,d)\n",
    "    \n",
    "    crashl=[]\n",
    "    for i in range(1,max(resnum)):\n",
    "        crashl.append(i)\n",
    "    if ifcra==1:\n",
    "        crashl=ckcrashx(R,typ,res,resnum)\n",
    "    bondr,bondrdis=bondres(R,crashl,resnum,item,res)\n",
    "    \n",
    "    bond=bondh+bondr\n",
    "    bond_dis=bondhdis+bondrdis\n",
    "    if iffes==1:\n",
    "        bond=bond+bondf\n",
    "        bond_dis=bond_dis+bondfdis\n",
    "    bond=np.array(bond)\n",
    "    bond_dis=np.array(bond_dis)\n",
    "    \n",
    "    #print('x1',len(bond),len(bondh),len(bondf),len(bondr))\n",
    "    #print('x2',len(bond_dis),len(bondhdis),len(bondfdis),len(bondrdis))\n",
    "    \n",
    "    #print('energy')\n",
    "    neighbor_fn,sum_engn=energyx(R,bond,bond_dis,crashl,resnum,res,item)\n",
    "#     try:\n",
    "#     # 可能引发错误的代码\n",
    "#     risky_operation()\n",
    "# except Exception as e:\n",
    "#     # 捕获并处理错误\n",
    "#     print(\"An error occurred:\", e)\n",
    "    \n",
    "    #print('md')\n",
    "    rt=run_minimization(sum_engn, neighbor_fn, R, shift,200,dt=0.000005)\n",
    "    \n",
    "    crashlx=ckcrashx(rt,typ,res,resnum)\n",
    "    bondf,bondfdis=bondfesx(rt,d['FE'],typ,res,d)\n",
    "    \n",
    "    succ=0\n",
    "    if len(crashlx)==0 and bondfdis[0]>1.93 and bondfdis[0]<2.77:\n",
    "        succ=1\n",
    "    #print('result',succ,len(crashlx),bondfdis)\n",
    "    \n",
    "    prt=rec_path\n",
    "    lig=lig_path\n",
    "    nprt='./alfpdb/alf'+str(numi)+'/xr'+str(idxr)+'mdtm.pdb'\n",
    "    nlig='./alfpdb/alf'+str(numi)+'/xr'+str(idxr)+'mdlig.pdb'\n",
    "    #print(nprt,nlig)\n",
    "    savemd(prt,lig,nprt,nlig,rt,resnum,d)\n",
    "    cpprt='./alfpdb/alf'+str(numi)+'/xr'+str(idxr)+'tm.pdb'\n",
    "    cplig='./alfpdb/alf'+str(numi)+'/xr'+str(idxr)+'lig.pdb'\n",
    "    shutil.copy(prt, cpprt)\n",
    "    shutil.copy(lig, cplig)\n",
    "    \n",
    "#     for i in range(len(rt)):\n",
    "#         print(typ[i],res[i],resnum[i],rt[i])\n",
    "    return succ,len(crashlx),bondfdis[0]"
   ]
  },
  {
   "cell_type": "code",
   "execution_count": 37,
   "id": "928476df",
   "metadata": {},
   "outputs": [],
   "source": [
    "resultax=[]"
   ]
  },
  {
   "cell_type": "code",
   "execution_count": null,
   "id": "252efa87",
   "metadata": {},
   "outputs": [],
   "source": [
    "for i in range(50):\n",
    "    "
   ]
  },
  {
   "cell_type": "code",
   "execution_count": 38,
   "id": "cbf11c99",
   "metadata": {},
   "outputs": [
    {
     "name": "stdout",
     "output_type": "stream",
     "text": [
      "0 34.115272521972656 0 0 4.406117151855642\n",
      "1 30.161134719848633 1 0 2.164908722030162\n",
      "2 23.259663820266724 1 0 2.758917943614211\n",
      "3 86.92811584472656 1 0 2.391453427924082\n"
     ]
    },
    {
     "ename": "TypeError",
     "evalue": "reshape new_sizes must all be positive, got (-1, 0, 1).",
     "output_type": "error",
     "traceback": [
      "\u001b[0;31m---------------------------------------------------------------------------\u001b[0m",
      "\u001b[0;31mTypeError\u001b[0m                                 Traceback (most recent call last)",
      "Cell \u001b[0;32mIn[38], line 12\u001b[0m\n\u001b[1;32m      9\u001b[0m success,suct,fesx\u001b[38;5;241m=\u001b[39mget_mdp(teml,prtpath)\n\u001b[1;32m     10\u001b[0m t1\u001b[38;5;241m=\u001b[39mtime\u001b[38;5;241m.\u001b[39mtime()\n\u001b[0;32m---> 12\u001b[0m succ,crashn,fes\u001b[38;5;241m=\u001b[39m\u001b[43mmd\u001b[49m\u001b[43m(\u001b[49m\u001b[43msuct\u001b[49m\u001b[43m,\u001b[49m\u001b[38;5;241;43m1\u001b[39;49m\u001b[43m,\u001b[49m\u001b[38;5;241;43m1\u001b[39;49m\u001b[43m,\u001b[49m\u001b[38;5;241;43m1\u001b[39;49m\u001b[43m,\u001b[49m\u001b[43mi\u001b[49m\u001b[43m)\u001b[49m\n\u001b[1;32m     13\u001b[0m t2\u001b[38;5;241m=\u001b[39mtime\u001b[38;5;241m.\u001b[39mtime()\n\u001b[1;32m     14\u001b[0m resultax\u001b[38;5;241m.\u001b[39mappend([prtpath,succ,crashn,fes,t2\u001b[38;5;241m-\u001b[39mt0\u001b[38;5;241m+\u001b[39m\u001b[38;5;241m60\u001b[39m])\n",
      "Cell \u001b[0;32mIn[36], line 40\u001b[0m, in \u001b[0;36mmd\u001b[0;34m(tem, ifcra, iffes, idxr, numi)\u001b[0m\n\u001b[1;32m     34\u001b[0m bond_dis\u001b[38;5;241m=\u001b[39mnp\u001b[38;5;241m.\u001b[39marray(bond_dis)\n\u001b[1;32m     36\u001b[0m \u001b[38;5;66;03m#print('x1',len(bond),len(bondh),len(bondf),len(bondr))\u001b[39;00m\n\u001b[1;32m     37\u001b[0m \u001b[38;5;66;03m#print('x2',len(bond_dis),len(bondhdis),len(bondfdis),len(bondrdis))\u001b[39;00m\n\u001b[1;32m     38\u001b[0m \n\u001b[1;32m     39\u001b[0m \u001b[38;5;66;03m#print('energy')\u001b[39;00m\n\u001b[0;32m---> 40\u001b[0m neighbor_fn,sum_engn\u001b[38;5;241m=\u001b[39m\u001b[43menergyx\u001b[49m\u001b[43m(\u001b[49m\u001b[43mR\u001b[49m\u001b[43m,\u001b[49m\u001b[43mbond\u001b[49m\u001b[43m,\u001b[49m\u001b[43mbond_dis\u001b[49m\u001b[43m,\u001b[49m\u001b[43mcrashl\u001b[49m\u001b[43m,\u001b[49m\u001b[43mresnum\u001b[49m\u001b[43m,\u001b[49m\u001b[43mres\u001b[49m\u001b[43m,\u001b[49m\u001b[43mitem\u001b[49m\u001b[43m)\u001b[49m\n\u001b[1;32m     42\u001b[0m \u001b[38;5;66;03m#print('md')\u001b[39;00m\n\u001b[1;32m     43\u001b[0m rt\u001b[38;5;241m=\u001b[39mrun_minimization(sum_engn, neighbor_fn, R, shift,\u001b[38;5;241m200\u001b[39m,dt\u001b[38;5;241m=\u001b[39m\u001b[38;5;241m0.000005\u001b[39m)\n",
      "Cell \u001b[0;32mIn[34], line 8\u001b[0m, in \u001b[0;36menergyx\u001b[0;34m(R, bond, bond_dis, crashl, resnum, res, item)\u001b[0m\n\u001b[1;32m      4\u001b[0m dr_threshold \u001b[38;5;241m=\u001b[39m \u001b[38;5;241m0.5\u001b[39m\n\u001b[1;32m      5\u001b[0m neighbor_fn, vdv_fn \u001b[38;5;241m=\u001b[39m harmonic_morse_cutoff_neighbor_list(\n\u001b[1;32m      6\u001b[0m     displacement,\u001b[38;5;241m50.0\u001b[39m, sigma\u001b[38;5;241m=\u001b[39m\u001b[38;5;241m3.39967\u001b[39m,epsilon\u001b[38;5;241m=\u001b[39m\u001b[38;5;241m0.359824\u001b[39m,\n\u001b[1;32m      7\u001b[0m     r_onset\u001b[38;5;241m=\u001b[39mr_onset, r_cutoff\u001b[38;5;241m=\u001b[39mr_cutoff, dr_threshold\u001b[38;5;241m=\u001b[39mdr_threshold)\n\u001b[0;32m----> 8\u001b[0m nbrs \u001b[38;5;241m=\u001b[39m \u001b[43mneighbor_fn\u001b[49m\u001b[38;5;241;43m.\u001b[39;49m\u001b[43mallocate\u001b[49m\u001b[43m(\u001b[49m\u001b[43mR\u001b[49m\u001b[43m)\u001b[49m\n\u001b[1;32m     10\u001b[0m bond_energy_fn \u001b[38;5;241m=\u001b[39m bistable_spring_bond(displacement, bond, r0\u001b[38;5;241m=\u001b[39mbond_dis,k\u001b[38;5;241m=\u001b[39m\u001b[38;5;241m390.0\u001b[39m)\n\u001b[1;32m     12\u001b[0m crashl\u001b[38;5;241m.\u001b[39mappend(\u001b[38;5;241m0\u001b[39m)\n",
      "File \u001b[0;32m~/anaconda3/envs/flexfillb/lib/python3.11/site-packages/jax_md/partition.py:982\u001b[0m, in \u001b[0;36mneighbor_list.<locals>.allocate_fn\u001b[0;34m(position, extra_capacity, **kwargs)\u001b[0m\n\u001b[1;32m    980\u001b[0m \u001b[38;5;28;01mdef\u001b[39;00m \u001b[38;5;21mallocate_fn\u001b[39m(position: Array, extra_capacity: \u001b[38;5;28mint\u001b[39m \u001b[38;5;241m=\u001b[39m \u001b[38;5;241m0\u001b[39m, \u001b[38;5;241m*\u001b[39m\u001b[38;5;241m*\u001b[39mkwargs\n\u001b[1;32m    981\u001b[0m                 ):\n\u001b[0;32m--> 982\u001b[0m   \u001b[38;5;28;01mreturn\u001b[39;00m \u001b[43mneighbor_list_fn\u001b[49m\u001b[43m(\u001b[49m\u001b[43mposition\u001b[49m\u001b[43m,\u001b[49m\u001b[43m \u001b[49m\u001b[43mextra_capacity\u001b[49m\u001b[38;5;241;43m=\u001b[39;49m\u001b[43mextra_capacity\u001b[49m\u001b[43m,\u001b[49m\u001b[43m \u001b[49m\u001b[38;5;241;43m*\u001b[39;49m\u001b[38;5;241;43m*\u001b[39;49m\u001b[43mkwargs\u001b[49m\u001b[43m)\u001b[49m\n",
      "File \u001b[0;32m~/anaconda3/envs/flexfillb/lib/python3.11/site-packages/jax_md/partition.py:954\u001b[0m, in \u001b[0;36mneighbor_list.<locals>.neighbor_list_fn\u001b[0;34m(position, neighbors, extra_capacity, **kwargs)\u001b[0m\n\u001b[1;32m    952\u001b[0m nbrs \u001b[38;5;241m=\u001b[39m neighbors\n\u001b[1;32m    953\u001b[0m \u001b[38;5;28;01mif\u001b[39;00m nbrs \u001b[38;5;129;01mis\u001b[39;00m \u001b[38;5;28;01mNone\u001b[39;00m:\n\u001b[0;32m--> 954\u001b[0m   \u001b[38;5;28;01mreturn\u001b[39;00m \u001b[43mneighbor_fn\u001b[49m\u001b[43m(\u001b[49m\u001b[43m(\u001b[49m\u001b[43mposition\u001b[49m\u001b[43m,\u001b[49m\u001b[43m \u001b[49m\u001b[43mPartitionError\u001b[49m\u001b[43m(\u001b[49m\u001b[43mjnp\u001b[49m\u001b[38;5;241;43m.\u001b[39;49m\u001b[43mzeros\u001b[49m\u001b[43m(\u001b[49m\u001b[43m(\u001b[49m\u001b[43m)\u001b[49m\u001b[43m,\u001b[49m\u001b[43m \u001b[49m\u001b[43mjnp\u001b[49m\u001b[38;5;241;43m.\u001b[39;49m\u001b[43muint8\u001b[49m\u001b[43m)\u001b[49m\u001b[43m)\u001b[49m\u001b[43m)\u001b[49m\u001b[43m)\u001b[49m\n\u001b[1;32m    956\u001b[0m neighbor_fn \u001b[38;5;241m=\u001b[39m partial(neighbor_fn, max_occupancy\u001b[38;5;241m=\u001b[39mnbrs\u001b[38;5;241m.\u001b[39mmax_occupancy)\n\u001b[1;32m    958\u001b[0m \u001b[38;5;66;03m# If the box has been updated, then check that fractional coordinates are\u001b[39;00m\n\u001b[1;32m    959\u001b[0m \u001b[38;5;66;03m# enabled and that the cell list has big enough cells.\u001b[39;00m\n",
      "File \u001b[0;32m~/anaconda3/envs/flexfillb/lib/python3.11/site-packages/jax_md/partition.py:911\u001b[0m, in \u001b[0;36mneighbor_list.<locals>.neighbor_list_fn.<locals>.neighbor_fn\u001b[0;34m(position_and_error, max_occupancy)\u001b[0m\n\u001b[1;32m    909\u001b[0m \u001b[38;5;28;01melse\u001b[39;00m:\n\u001b[1;32m    910\u001b[0m   err \u001b[38;5;241m=\u001b[39m err\u001b[38;5;241m.\u001b[39mupdate(PEC\u001b[38;5;241m.\u001b[39mCELL_LIST_OVERFLOW, cl\u001b[38;5;241m.\u001b[39mdid_buffer_overflow)\n\u001b[0;32m--> 911\u001b[0m   idx \u001b[38;5;241m=\u001b[39m \u001b[43mcell_list_candidate_fn\u001b[49m\u001b[43m(\u001b[49m\u001b[43mcl\u001b[49m\u001b[38;5;241;43m.\u001b[39;49m\u001b[43mid_buffer\u001b[49m\u001b[43m,\u001b[49m\u001b[43m \u001b[49m\u001b[43mposition\u001b[49m\u001b[38;5;241;43m.\u001b[39;49m\u001b[43mshape\u001b[49m\u001b[43m)\u001b[49m\n\u001b[1;32m    912\u001b[0m   cl_capacity \u001b[38;5;241m=\u001b[39m cl\u001b[38;5;241m.\u001b[39mcell_capacity\n\u001b[1;32m    914\u001b[0m \u001b[38;5;28;01mif\u001b[39;00m mask_self:\n",
      "    \u001b[0;31m[... skipping hidden 12 frame]\u001b[0m\n",
      "File \u001b[0;32m~/anaconda3/envs/flexfillb/lib/python3.11/site-packages/jax_md/partition.py:821\u001b[0m, in \u001b[0;36mneighbor_list.<locals>.cell_list_candidate_fn\u001b[0;34m(cl_id_buffer, positionShape)\u001b[0m\n\u001b[1;32m    818\u001b[0m   \u001b[38;5;28;01mreturn\u001b[39;00m value\u001b[38;5;241m.\u001b[39mat[scatter_indices]\u001b[38;5;241m.\u001b[39mset(cell_value)\n\u001b[1;32m    820\u001b[0m neighbor_idx \u001b[38;5;241m=\u001b[39m jnp\u001b[38;5;241m.\u001b[39mzeros((N \u001b[38;5;241m+\u001b[39m \u001b[38;5;241m1\u001b[39m,) \u001b[38;5;241m+\u001b[39m cell_idx\u001b[38;5;241m.\u001b[39mshape[\u001b[38;5;241m-\u001b[39m\u001b[38;5;241m2\u001b[39m:], i32)\n\u001b[0;32m--> 821\u001b[0m neighbor_idx \u001b[38;5;241m=\u001b[39m \u001b[43mcopy_values_from_cell\u001b[49m\u001b[43m(\u001b[49m\u001b[43mneighbor_idx\u001b[49m\u001b[43m,\u001b[49m\u001b[43m \u001b[49m\u001b[43mcell_idx\u001b[49m\u001b[43m,\u001b[49m\u001b[43m \u001b[49m\u001b[43midx\u001b[49m\u001b[43m)\u001b[49m\n\u001b[1;32m    822\u001b[0m \u001b[38;5;28;01mreturn\u001b[39;00m neighbor_idx[:\u001b[38;5;241m-\u001b[39m\u001b[38;5;241m1\u001b[39m, :, \u001b[38;5;241m0\u001b[39m]\n",
      "File \u001b[0;32m~/anaconda3/envs/flexfillb/lib/python3.11/site-packages/jax_md/partition.py:817\u001b[0m, in \u001b[0;36mneighbor_list.<locals>.cell_list_candidate_fn.<locals>.copy_values_from_cell\u001b[0;34m(value, cell_value, cell_id)\u001b[0m\n\u001b[1;32m    815\u001b[0m \u001b[38;5;28;01mdef\u001b[39;00m \u001b[38;5;21mcopy_values_from_cell\u001b[39m(value, cell_value, cell_id):\n\u001b[1;32m    816\u001b[0m   scatter_indices \u001b[38;5;241m=\u001b[39m jnp\u001b[38;5;241m.\u001b[39mreshape(cell_id, (\u001b[38;5;241m-\u001b[39m\u001b[38;5;241m1\u001b[39m,))\n\u001b[0;32m--> 817\u001b[0m   cell_value \u001b[38;5;241m=\u001b[39m \u001b[43mjnp\u001b[49m\u001b[38;5;241;43m.\u001b[39;49m\u001b[43mreshape\u001b[49m\u001b[43m(\u001b[49m\u001b[43mcell_value\u001b[49m\u001b[43m,\u001b[49m\u001b[43m \u001b[49m\u001b[43m(\u001b[49m\u001b[38;5;241;43m-\u001b[39;49m\u001b[38;5;241;43m1\u001b[39;49m\u001b[43m,\u001b[49m\u001b[43m)\u001b[49m\u001b[43m \u001b[49m\u001b[38;5;241;43m+\u001b[39;49m\u001b[43m \u001b[49m\u001b[43mcell_value\u001b[49m\u001b[38;5;241;43m.\u001b[39;49m\u001b[43mshape\u001b[49m\u001b[43m[\u001b[49m\u001b[38;5;241;43m-\u001b[39;49m\u001b[38;5;241;43m2\u001b[39;49m\u001b[43m:\u001b[49m\u001b[43m]\u001b[49m\u001b[43m)\u001b[49m\n\u001b[1;32m    818\u001b[0m   \u001b[38;5;28;01mreturn\u001b[39;00m value\u001b[38;5;241m.\u001b[39mat[scatter_indices]\u001b[38;5;241m.\u001b[39mset(cell_value)\n",
      "File \u001b[0;32m~/anaconda3/envs/flexfillb/lib/python3.11/site-packages/jax/_src/numpy/lax_numpy.py:786\u001b[0m, in \u001b[0;36mreshape\u001b[0;34m(a, newshape, order)\u001b[0m\n\u001b[1;32m    783\u001b[0m util\u001b[38;5;241m.\u001b[39mcheck_arraylike(\u001b[38;5;124m\"\u001b[39m\u001b[38;5;124mreshape\u001b[39m\u001b[38;5;124m\"\u001b[39m, a)\n\u001b[1;32m    784\u001b[0m \u001b[38;5;28;01mtry\u001b[39;00m:\n\u001b[1;32m    785\u001b[0m   \u001b[38;5;66;03m# forward to method for ndarrays\u001b[39;00m\n\u001b[0;32m--> 786\u001b[0m   \u001b[38;5;28;01mreturn\u001b[39;00m \u001b[43ma\u001b[49m\u001b[38;5;241;43m.\u001b[39;49m\u001b[43mreshape\u001b[49m\u001b[43m(\u001b[49m\u001b[43mnewshape\u001b[49m\u001b[43m,\u001b[49m\u001b[43m \u001b[49m\u001b[43morder\u001b[49m\u001b[38;5;241;43m=\u001b[39;49m\u001b[43morder\u001b[49m\u001b[43m)\u001b[49m  \u001b[38;5;66;03m# type: ignore[call-overload,union-attr]\u001b[39;00m\n\u001b[1;32m    787\u001b[0m \u001b[38;5;28;01mexcept\u001b[39;00m \u001b[38;5;167;01mAttributeError\u001b[39;00m:\n\u001b[1;32m    788\u001b[0m   \u001b[38;5;28;01mreturn\u001b[39;00m asarray(a)\u001b[38;5;241m.\u001b[39mreshape(newshape, order\u001b[38;5;241m=\u001b[39morder)\n",
      "File \u001b[0;32m~/anaconda3/envs/flexfillb/lib/python3.11/site-packages/jax/_src/numpy/array_methods.py:733\u001b[0m, in \u001b[0;36m_forward_method_to_aval.<locals>.meth\u001b[0;34m(self, *args, **kwargs)\u001b[0m\n\u001b[1;32m    732\u001b[0m \u001b[38;5;28;01mdef\u001b[39;00m \u001b[38;5;21mmeth\u001b[39m(\u001b[38;5;28mself\u001b[39m, \u001b[38;5;241m*\u001b[39margs, \u001b[38;5;241m*\u001b[39m\u001b[38;5;241m*\u001b[39mkwargs):\n\u001b[0;32m--> 733\u001b[0m   \u001b[38;5;28;01mreturn\u001b[39;00m \u001b[38;5;28;43mgetattr\u001b[39;49m\u001b[43m(\u001b[49m\u001b[38;5;28;43mself\u001b[39;49m\u001b[38;5;241;43m.\u001b[39;49m\u001b[43maval\u001b[49m\u001b[43m,\u001b[49m\u001b[43m \u001b[49m\u001b[43mname\u001b[49m\u001b[43m)\u001b[49m\u001b[38;5;241;43m.\u001b[39;49m\u001b[43mfun\u001b[49m\u001b[43m(\u001b[49m\u001b[38;5;28;43mself\u001b[39;49m\u001b[43m,\u001b[49m\u001b[43m \u001b[49m\u001b[38;5;241;43m*\u001b[39;49m\u001b[43margs\u001b[49m\u001b[43m,\u001b[49m\u001b[43m \u001b[49m\u001b[38;5;241;43m*\u001b[39;49m\u001b[38;5;241;43m*\u001b[39;49m\u001b[43mkwargs\u001b[49m\u001b[43m)\u001b[49m\n",
      "File \u001b[0;32m~/anaconda3/envs/flexfillb/lib/python3.11/site-packages/jax/_src/numpy/array_methods.py:143\u001b[0m, in \u001b[0;36m_reshape\u001b[0;34m(a, order, *args)\u001b[0m\n\u001b[1;32m    141\u001b[0m newshape \u001b[38;5;241m=\u001b[39m _compute_newshape(a, args[\u001b[38;5;241m0\u001b[39m] \u001b[38;5;28;01mif\u001b[39;00m \u001b[38;5;28mlen\u001b[39m(args) \u001b[38;5;241m==\u001b[39m \u001b[38;5;241m1\u001b[39m \u001b[38;5;28;01melse\u001b[39;00m args)\n\u001b[1;32m    142\u001b[0m \u001b[38;5;28;01mif\u001b[39;00m order \u001b[38;5;241m==\u001b[39m \u001b[38;5;124m\"\u001b[39m\u001b[38;5;124mC\u001b[39m\u001b[38;5;124m\"\u001b[39m:\n\u001b[0;32m--> 143\u001b[0m   \u001b[38;5;28;01mreturn\u001b[39;00m \u001b[43mlax\u001b[49m\u001b[38;5;241;43m.\u001b[39;49m\u001b[43mreshape\u001b[49m\u001b[43m(\u001b[49m\u001b[43ma\u001b[49m\u001b[43m,\u001b[49m\u001b[43m \u001b[49m\u001b[43mnewshape\u001b[49m\u001b[43m,\u001b[49m\u001b[43m \u001b[49m\u001b[38;5;28;43;01mNone\u001b[39;49;00m\u001b[43m)\u001b[49m\n\u001b[1;32m    144\u001b[0m \u001b[38;5;28;01melif\u001b[39;00m order \u001b[38;5;241m==\u001b[39m \u001b[38;5;124m\"\u001b[39m\u001b[38;5;124mF\u001b[39m\u001b[38;5;124m\"\u001b[39m:\n\u001b[1;32m    145\u001b[0m   dims \u001b[38;5;241m=\u001b[39m \u001b[38;5;28mlist\u001b[39m(\u001b[38;5;28mrange\u001b[39m(a\u001b[38;5;241m.\u001b[39mndim)[::\u001b[38;5;241m-\u001b[39m\u001b[38;5;241m1\u001b[39m])\n",
      "    \u001b[0;31m[... skipping hidden 8 frame]\u001b[0m\n",
      "File \u001b[0;32m~/anaconda3/envs/flexfillb/lib/python3.11/site-packages/jax/_src/lax/lax.py:3373\u001b[0m, in \u001b[0;36m_reshape_shape_rule\u001b[0;34m(operand, new_sizes, dimensions)\u001b[0m\n\u001b[1;32m   3371\u001b[0m \u001b[38;5;28;01mif\u001b[39;00m \u001b[38;5;129;01mnot\u001b[39;00m \u001b[38;5;28mall\u001b[39m(d \u001b[38;5;241m>\u001b[39m\u001b[38;5;241m=\u001b[39m \u001b[38;5;241m0\u001b[39m \u001b[38;5;28;01mfor\u001b[39;00m d \u001b[38;5;129;01min\u001b[39;00m new_sizes):\n\u001b[1;32m   3372\u001b[0m   msg \u001b[38;5;241m=\u001b[39m \u001b[38;5;124m'\u001b[39m\u001b[38;5;124mreshape new_sizes must all be positive, got \u001b[39m\u001b[38;5;132;01m{}\u001b[39;00m\u001b[38;5;124m.\u001b[39m\u001b[38;5;124m'\u001b[39m\n\u001b[0;32m-> 3373\u001b[0m   \u001b[38;5;28;01mraise\u001b[39;00m \u001b[38;5;167;01mTypeError\u001b[39;00m(msg\u001b[38;5;241m.\u001b[39mformat(new_sizes))\n\u001b[1;32m   3374\u001b[0m \u001b[38;5;66;03m# TODO(necula): re-enable this check\u001b[39;00m\n\u001b[1;32m   3375\u001b[0m \u001b[38;5;28;01mif\u001b[39;00m (\u001b[38;5;129;01mnot\u001b[39;00m config\u001b[38;5;241m.\u001b[39mdynamic_shapes\u001b[38;5;241m.\u001b[39mvalue \u001b[38;5;129;01mand\u001b[39;00m\n\u001b[1;32m   3376\u001b[0m     \u001b[38;5;129;01mnot\u001b[39;00m math\u001b[38;5;241m.\u001b[39mprod(np\u001b[38;5;241m.\u001b[39mshape(operand)) \u001b[38;5;241m==\u001b[39m math\u001b[38;5;241m.\u001b[39mprod(new_sizes)):\n",
      "\u001b[0;31mTypeError\u001b[0m: reshape new_sizes must all be positive, got (-1, 0, 1)."
     ]
    }
   ],
   "source": [
    "#blv,top,ifcra,iffes\n",
    "#resultax=[]\n",
    "for i in range(0,100):\n",
    "    # if i==4 or i==17 or i==23 or i==27 or i==50 or i==77 or i==79 or i==93 or i==95 or i==58:\n",
    "    #     continue\n",
    "    t0=time.time()\n",
    "    prtpath='./alfpdb/alf'+str(i)+'/apdb.pdb'\n",
    "    teml=get_tem(0,10,i)\n",
    "    success,suct,fesx=get_mdp(teml,prtpath)\n",
    "    t1=time.time()\n",
    "    \n",
    "    succ,crashn,fes=md(suct,1,1,1,i)\n",
    "    t2=time.time()\n",
    "    resultax.append([prtpath,succ,crashn,fes,t2-t0+60])\n",
    "    print(i,time.time()-t0,succ,crashn,fes)"
   ]
  },
  {
   "cell_type": "code",
   "execution_count": 50,
   "id": "3b093dee",
   "metadata": {},
   "outputs": [],
   "source": [
    "def writeresult(file,l):\n",
    "    with open(file,'w')as f:\n",
    "        num=0\n",
    "        for i in l:\n",
    "            if num==0:\n",
    "                num=1\n",
    "                continue\n",
    "            print(i[0],i[1],i[2],i[3],i[4],file=f)\n",
    "writeresult('resultalf.txt',resultax)\n"
   ]
  },
  {
   "cell_type": "code",
   "execution_count": 49,
   "id": "dc72e0e2",
   "metadata": {},
   "outputs": [
    {
     "name": "stdout",
     "output_type": "stream",
     "text": [
      "[['./alfpdb/alf96/apdb.pdb', 1, Array(2.30611104, dtype=float64), 91.08272361755371], ['./alfpdb/alf96/apdb.pdb', 1, 0, Array(2.30611104, dtype=float64), 90.7047529220581], ['./alfpdb/alf97/apdb.pdb', 1, 0, Array(2.53237383, dtype=float64), 84.99917960166931], ['./alfpdb/alf98/apdb.pdb', 0, 0, Array(4.52403917, dtype=float64), 112.80206036567688], ['./alfpdb/alf99/apdb.pdb', 1, 0, Array(2.53553815, dtype=float64), 104.65071558952332], ['./alfpdb/alf0/apdb.pdb', 0, 0, Array(3.71861103, dtype=float64), 102.58836650848389], ['./alfpdb/alf1/apdb.pdb', 1, 0, Array(2.16480776, dtype=float64), 98.69726014137268], ['./alfpdb/alf2/apdb.pdb', 1, 0, Array(2.76075636, dtype=float64), 98.96161365509033], ['./alfpdb/alf3/apdb.pdb', 1, 0, Array(2.39116864, dtype=float64), 123.52078008651733], ['./alfpdb/alf5/apdb.pdb', 0, 0, Array(3.71334042, dtype=float64), 111.91374731063843], ['./alfpdb/alf6/apdb.pdb', 0, 1, Array(2.15511261, dtype=float64), 115.83915710449219], ['./alfpdb/alf7/apdb.pdb', 1, 0, Array(2.25057634, dtype=float64), 111.71764945983887], ['./alfpdb/alf8/apdb.pdb', 1, 0, Array(2.25976578, dtype=float64), 100.53662443161011], ['./alfpdb/alf9/apdb.pdb', 1, 0, Array(2.30072273, dtype=float64), 101.18030714988708], ['./alfpdb/alf10/apdb.pdb', 1, 0, Array(2.49723078, dtype=float64), 95.44740295410156], ['./alfpdb/alf11/apdb.pdb', 1, 0, Array(2.00115082, dtype=float64), 105.5919783115387], ['./alfpdb/alf12/apdb.pdb', 1, 0, Array(2.57434546, dtype=float64), 108.1289336681366], ['./alfpdb/alf13/apdb.pdb', 1, 0, Array(2.61770864, dtype=float64), 93.67020606994629], ['./alfpdb/alf14/apdb.pdb', 1, 0, Array(2.17104522, dtype=float64), 108.2828049659729], ['./alfpdb/alf15/apdb.pdb', 1, 0, Array(2.51248112, dtype=float64), 89.45481944084167], ['./alfpdb/alf16/apdb.pdb', 0, 13, Array(13.84944258, dtype=float64), 119.04385900497437], ['./alfpdb/alf18/apdb.pdb', 1, 0, Array(2.00596749, dtype=float64), 98.82169103622437], ['./alfpdb/alf19/apdb.pdb', 1, 0, Array(1.95642665, dtype=float64), 107.52662444114685], ['./alfpdb/alf20/apdb.pdb', 0, 0, Array(4.55059809, dtype=float64), 108.9545361995697], ['./alfpdb/alf21/apdb.pdb', 0, 0, Array(3.61474095, dtype=float64), 100.08046770095825], ['./alfpdb/alf22/apdb.pdb', 1, 0, Array(2.40823856, dtype=float64), 105.14076900482178], ['./alfpdb/alf24/apdb.pdb', 1, 0, Array(2.41960143, dtype=float64), 100.28088212013245], ['./alfpdb/alf25/apdb.pdb', 1, 0, Array(2.36559285, dtype=float64), 102.40511798858643], ['./alfpdb/alf26/apdb.pdb', 1, 0, Array(2.65732138, dtype=float64), 100.10573935508728], ['./alfpdb/alf28/apdb.pdb', 0, 0, Array(3.60866878, dtype=float64), 121.74571180343628], ['./alfpdb/alf29/apdb.pdb', 1, 0, Array(1.97291221, dtype=float64), 106.35328817367554], ['./alfpdb/alf30/apdb.pdb', 1, 0, Array(2.09058379, dtype=float64), 99.68707728385925], ['./alfpdb/alf31/apdb.pdb', 1, 0, Array(2.3068472, dtype=float64), 101.54029417037964], ['./alfpdb/alf32/apdb.pdb', 1, 0, Array(2.59268687, dtype=float64), 99.95029830932617], ['./alfpdb/alf33/apdb.pdb', 1, 0, Array(2.04954104, dtype=float64), 108.80908417701721], ['./alfpdb/alf34/apdb.pdb', 0, 0, Array(3.69663678, dtype=float64), 97.47433066368103], ['./alfpdb/alf35/apdb.pdb', 0, 0, Array(3.58620814, dtype=float64), 112.44928503036499], ['./alfpdb/alf36/apdb.pdb', 1, 0, Array(2.26885659, dtype=float64), 103.92937707901001], ['./alfpdb/alf37/apdb.pdb', 1, 0, Array(2.55392227, dtype=float64), 101.15729904174805], ['./alfpdb/alf38/apdb.pdb', 1, 0, Array(2.68727955, dtype=float64), 104.92159032821655], ['./alfpdb/alf39/apdb.pdb', 1, 0, Array(2.5695449, dtype=float64), 107.06506371498108], ['./alfpdb/alf40/apdb.pdb', 1, 0, Array(2.09609973, dtype=float64), 107.57847285270691], ['./alfpdb/alf41/apdb.pdb', 1, 0, Array(2.71343837, dtype=float64), 103.73936629295349], ['./alfpdb/alf42/apdb.pdb', 1, 0, Array(2.54818374, dtype=float64), 107.60539078712463], ['./alfpdb/alf43/apdb.pdb', 1, 0, Array(2.2350846, dtype=float64), 109.67353439331055], ['./alfpdb/alf44/apdb.pdb', 1, 0, Array(1.97854373, dtype=float64), 108.27450346946716], ['./alfpdb/alf45/apdb.pdb', 0, 1, Array(2.55191563, dtype=float64), 106.72624135017395], ['./alfpdb/alf46/apdb.pdb', 1, 0, Array(2.36735264, dtype=float64), 93.07637882232666], ['./alfpdb/alf47/apdb.pdb', 1, 0, Array(2.06181046, dtype=float64), 101.78364872932434], ['./alfpdb/alf48/apdb.pdb', 1, 0, Array(2.20928136, dtype=float64), 105.79378700256348], ['./alfpdb/alf49/apdb.pdb', 0, 0, Array(3.55389521, dtype=float64), 112.56277656555176], ['./alfpdb/alf51/apdb.pdb', 1, 0, Array(2.42123865, dtype=float64), 105.22553372383118], ['./alfpdb/alf52/apdb.pdb', 0, 0, Array(3.74046508, dtype=float64), 90.0063726902008], ['./alfpdb/alf53/apdb.pdb', 1, 0, Array(2.06791249, dtype=float64), 98.11125087738037], ['./alfpdb/alf54/apdb.pdb', 1, 0, Array(2.41181347, dtype=float64), 92.71810936927795], ['./alfpdb/alf55/apdb.pdb', 1, 0, Array(2.20105216, dtype=float64), 96.02097463607788], ['./alfpdb/alf56/apdb.pdb', 1, 0, Array(2.43525239, dtype=float64), 99.67802166938782], ['./alfpdb/alf57/apdb.pdb', 1, 0, Array(2.46564421, dtype=float64), 103.25437450408936], ['./alfpdb/alf59/apdb.pdb', 1, 0, Array(1.97819352, dtype=float64), 94.41340279579163], ['./alfpdb/alf60/apdb.pdb', 1, 0, Array(2.11657048, dtype=float64), 102.59148406982422], ['./alfpdb/alf61/apdb.pdb', 0, 0, Array(3.6417587, dtype=float64), 108.28532195091248], ['./alfpdb/alf62/apdb.pdb', 1, 0, Array(2.50117001, dtype=float64), 107.28159618377686], ['./alfpdb/alf63/apdb.pdb', 1, 0, Array(2.13202868, dtype=float64), 109.0662350654602], ['./alfpdb/alf64/apdb.pdb', 1, 0, Array(2.46841734, dtype=float64), 99.67833065986633], ['./alfpdb/alf65/apdb.pdb', 1, 0, Array(2.3784598, dtype=float64), 104.8187906742096], ['./alfpdb/alf66/apdb.pdb', 0, 0, Array(3.73128016, dtype=float64), 112.45234513282776], ['./alfpdb/alf67/apdb.pdb', 1, 0, Array(2.35265771, dtype=float64), 105.00323939323425], ['./alfpdb/alf68/apdb.pdb', 0, 6, Array(3.37949526, dtype=float64), 114.47017121315002], ['./alfpdb/alf69/apdb.pdb', 1, 0, Array(2.51902802, dtype=float64), 99.67549014091492], ['./alfpdb/alf70/apdb.pdb', 0, 0, Array(3.67726514, dtype=float64), 95.92482447624207], ['./alfpdb/alf71/apdb.pdb', 1, 0, Array(2.71966181, dtype=float64), 110.26067280769348], ['./alfpdb/alf72/apdb.pdb', 1, 0, Array(2.15225037, dtype=float64), 100.64028358459473], ['./alfpdb/alf73/apdb.pdb', 0, 0, Array(3.55274177, dtype=float64), 92.08758497238159], ['./alfpdb/alf74/apdb.pdb', 1, 0, Array(2.00864826, dtype=float64), 100.14414954185486], ['./alfpdb/alf75/apdb.pdb', 0, 0, Array(4.33843193, dtype=float64), 115.39684271812439], ['./alfpdb/alf76/apdb.pdb', 1, 0, Array(2.20342047, dtype=float64), 113.7247884273529], ['./alfpdb/alf78/apdb.pdb', 1, 0, Array(1.96358986, dtype=float64), 105.07244777679443], ['./alfpdb/alf80/apdb.pdb', 1, 0, Array(2.51131707, dtype=float64), 108.20622038841248], ['./alfpdb/alf81/apdb.pdb', 0, 1, Array(3.59033549, dtype=float64), 111.28272151947021], ['./alfpdb/alf82/apdb.pdb', 1, 0, Array(2.12653238, dtype=float64), 99.97357416152954], ['./alfpdb/alf83/apdb.pdb', 1, 0, Array(2.36522891, dtype=float64), 103.78672552108765], ['./alfpdb/alf84/apdb.pdb', 1, 0, Array(2.72996755, dtype=float64), 98.92048645019531], ['./alfpdb/alf85/apdb.pdb', 1, 0, Array(2.29815521, dtype=float64), 102.12392592430115], ['./alfpdb/alf86/apdb.pdb', 1, 0, Array(2.0574789, dtype=float64), 91.48726487159729], ['./alfpdb/alf87/apdb.pdb', 0, 0, Array(3.63371394, dtype=float64), 108.58102083206177], ['./alfpdb/alf88/apdb.pdb', 1, 0, Array(2.3901138, dtype=float64), 99.87194442749023], ['./alfpdb/alf89/apdb.pdb', 1, 0, Array(2.01006801, dtype=float64), 100.8385660648346], ['./alfpdb/alf90/apdb.pdb', 1, 0, Array(2.35715548, dtype=float64), 103.5556812286377], ['./alfpdb/alf91/apdb.pdb', 0, 0, Array(3.60492444, dtype=float64), 101.64574527740479], ['./alfpdb/alf92/apdb.pdb', 1, 0, Array(2.03692908, dtype=float64), 108.77935767173767], ['./alfpdb/alf94/apdb.pdb', 1, 0, Array(1.97810986, dtype=float64), 111.07881307601929], ['./alfpdb/alf96/apdb.pdb', 1, 0, Array(2.30611104, dtype=float64), 95.27312707901001], ['./alfpdb/alf97/apdb.pdb', 1, 0, Array(2.53237383, dtype=float64), 87.59512519836426], ['./alfpdb/alf98/apdb.pdb', 0, 0, Array(4.52403917, dtype=float64), 102.15414023399353], ['./alfpdb/alf99/apdb.pdb', 1, 0, Array(2.53553815, dtype=float64), 90.85584878921509]]\n"
     ]
    }
   ],
   "source": [
    "print(resultax)"
   ]
  },
  {
   "cell_type": "code",
   "execution_count": null,
   "id": "c836f8d5",
   "metadata": {},
   "outputs": [],
   "source": [
    "resultax5=[]\n",
    "resultax6=[]\n",
    "resultax7=[]\n",
    "resultax8=[]\n",
    "for i in range(20):\n",
    "    t0=time.time()\n",
    "    prtpath='./alfpdb/alf'+str(i)+'/apdb.pdb'\n",
    "    teml=get_tem(1,10,i)\n",
    "    success,suct,fesx=get_mdp(teml,prtpath)\n",
    "    succ,crashn,fes=md(suct,1,1,4,i)\n",
    "    t1=time.time()\n",
    "    resultax5.append([prtpath,succ,fes,t1-t0+60])\n",
    "    \n",
    "    t0x=time.time()\n",
    "    prtpath='./alfpdb/alf'+str(i)+'/apdb.pdb'\n",
    "    teml=get_tem(0,10,i)\n",
    "    success,suct,fesx=get_mdp(teml,prtpath)\n",
    "    succ,crashn,fes=md(suct,1,1,5,i)\n",
    "    t1x=time.time()\n",
    "    resultax6.append([prtpath,succ,fes,t1x-t0x+60])\n",
    "    \n",
    "    t0x=time.time()\n",
    "    prtpath='./alfpdb/alf'+str(i)+'/apdb.pdb'\n",
    "    teml=get_tem(0,5,i)\n",
    "    success,suct,fesx=get_mdp(teml,prtpath)\n",
    "    succ,crashn,fes=md(suct,1,1,6,i)\n",
    "    t1x=time.time()\n",
    "    resultax7.append([prtpath,succ,fes,t1x-t0x+60])\n",
    "    \n",
    "    t0x=time.time()\n",
    "    prtpath='./alfpdb/alf'+str(i)+'/apdb.pdb'\n",
    "    teml=get_tem(0,1,i)\n",
    "    success,suct,fesx=get_mdp(teml,prtpath)\n",
    "    succ,crashn,fes=md(suct,1,1,7,i)\n",
    "    t1x=time.time()\n",
    "    resultax8.append([prtpath,succ,fes,t1x-t0x+60])\n",
    "    \n",
    "    print(i,time.time()-t0)"
   ]
  },
  {
   "cell_type": "code",
   "execution_count": null,
   "id": "c51ceb08",
   "metadata": {},
   "outputs": [],
   "source": [
    "def writeresult(file,l):\n",
    "    with open(file,'w')as f:\n",
    "        for i in l:\n",
    "            print(i,file=f)\n",
    "writeresult('./resultaxr/result0.txt',resultax0)\n",
    "writeresult('./resultaxr/result1.txt',resultax1)\n",
    "writeresult('./resultaxr/result2.txt',resultax2)\n",
    "writeresult('./resultaxr/result3.txt',resultax3)\n",
    "writeresult('./resultaxr/result4.txt',resultax4)\n",
    "writeresult('./resultaxr/result5.txt',resultax5)\n",
    "writeresult('./resultaxr/result6.txt',resultax6)\n",
    "writeresult('./resultaxr/result7.txt',resultax7)\n",
    "writeresult('./resultaxr/result8.txt',resultax8)\n",
    "writeresult('./resultaxr/result9.txt',resultax9)"
   ]
  },
  {
   "cell_type": "code",
   "execution_count": 35,
   "id": "785be04b",
   "metadata": {},
   "outputs": [],
   "source": [
    "resultax0=[]\n",
    "resultax1=[]\n",
    "resultax2=[]\n",
    "resultax3=[]\n",
    "resultax4=[]"
   ]
  },
  {
   "cell_type": "code",
   "execution_count": 36,
   "id": "1ff267c1",
   "metadata": {},
   "outputs": [
    {
     "name": "stdout",
     "output_type": "stream",
     "text": [
      "./alfpdb/alf0/apdb.pdb ./templete/8EWQ_A/rec.pdb\n",
      "./alfpdb/alf0/apdb.pdb ./templete/5VCD_A/rec.pdb\n",
      "./alfpdb/alf0/apdb.pdb ./templete/6DAL_A/rec.pdb\n",
      "./alfpdb/alf0/apdb.pdb ./templete/6DAC_A/rec.pdb\n",
      "./alfpdb/alf0/apdb.pdb ./templete/6MJM_A/rec.pdb\n",
      "./alfpdb/alf0/apdb.pdb ./templete/8EWE_A/rec.pdb\n",
      "./alfpdb/alf0/apdb.pdb ./templete/7LAD_A/rec.pdb\n",
      "./alfpdb/alf0/apdb.pdb ./templete/6BCZ_A/rec.pdb\n",
      "./alfpdb/alf0/apdb.pdb ./templete/6MA6_A/rec.pdb\n",
      "./alfpdb/alf0/apdb.pdb ./templete/6DA2_A/rec.pdb\n",
      "./alfpdb/alf0/apdb.pdb ./templete/5VCC_A/rec.pdb\n",
      "./alfpdb/alf0/apdb.pdb ./templete/7UFB_A/rec.pdb\n",
      "./alfpdb/alf0/apdb.pdb ./templete/6OO9_A/rec.pdb\n",
      "./alfpdb/alf0/apdb.pdb ./templete/4D75_A/rec.pdb\n",
      "./alfpdb/alf0/apdb.pdb ./templete/6BD8_A/rec.pdb\n",
      "./alfpdb/alf0/apdb.pdb ./templete/6MA8_A/rec.pdb\n",
      "./alfpdb/alf0/apdb.pdb ./templete/6BD5_A/rec.pdb\n",
      "./alfpdb/alf0/apdb.pdb ./templete/7KVP_A/rec.pdb\n",
      "./alfpdb/alf0/apdb.pdb ./templete/8EWP_A/rec.pdb\n",
      "./alfpdb/alf0/apdb.pdb ./templete/6OOA_A/rec.pdb\n"
     ]
    },
    {
     "name": "stderr",
     "output_type": "stream",
     "text": [
      "/home/Grx/.local/lib/python3.11/site-packages/jax/_src/ops/scatter.py:94: FutureWarning: scatter inputs have incompatible types: cannot safely cast value from dtype=int64 to dtype=int32 with jax_numpy_dtype_promotion='standard'. In future JAX releases this will result in an error.\n",
      "  warnings.warn(\n",
      "/home/Grx/.local/lib/python3.11/site-packages/jax/_src/ops/scatter.py:94: FutureWarning: scatter inputs have incompatible types: cannot safely cast value from dtype=int64 to dtype=int32 with jax_numpy_dtype_promotion='standard'. In future JAX releases this will result in an error.\n",
      "  warnings.warn(\n",
      "/home/Grx/.local/lib/python3.11/site-packages/jax/_src/ops/scatter.py:94: FutureWarning: scatter inputs have incompatible types: cannot safely cast value from dtype=int64 to dtype=int32 with jax_numpy_dtype_promotion='standard'. In future JAX releases this will result in an error.\n",
      "  warnings.warn(\n",
      "/home/Grx/.local/lib/python3.11/site-packages/jax/_src/ops/scatter.py:94: FutureWarning: scatter inputs have incompatible types: cannot safely cast value from dtype=int64 to dtype=int32 with jax_numpy_dtype_promotion='standard'. In future JAX releases this will result in an error.\n",
      "  warnings.warn(\n"
     ]
    },
    {
     "name": "stdout",
     "output_type": "stream",
     "text": [
      "0 147.4161810874939\n",
      "./alfpdb/alf1/apdb.pdb ./templete/4LHT_A/rec.pdb\n",
      "./alfpdb/alf1/apdb.pdb ./templete/3BDZ_A/rec.pdb\n",
      "./alfpdb/alf1/apdb.pdb ./templete/4L77_A/rec.pdb\n",
      "./alfpdb/alf1/apdb.pdb ./templete/4L6G_A/rec.pdb\n",
      "./alfpdb/alf1/apdb.pdb ./templete/1T2B_A/rec.pdb\n",
      "./alfpdb/alf1/apdb.pdb ./templete/3BE0_A/rec.pdb\n",
      "./alfpdb/alf1/apdb.pdb ./templete/4FYZ_A/rec.pdb\n",
      "./alfpdb/alf1/apdb.pdb ./templete/5L92_A/rec.pdb\n",
      "./alfpdb/alf1/apdb.pdb ./templete/5L94_A/rec.pdb\n",
      "./alfpdb/alf1/apdb.pdb ./templete/4RM4_A/rec.pdb\n",
      "./alfpdb/alf1/apdb.pdb ./templete/4YZR_A/rec.pdb\n",
      "./alfpdb/alf1/apdb.pdb ./templete/5VWS_A/rec.pdb\n",
      "./alfpdb/alf1/apdb.pdb ./templete/2XKR_A/rec.pdb\n",
      "./alfpdb/alf1/apdb.pdb ./templete/7QQ7_A/rec.pdb\n",
      "./alfpdb/alf1/apdb.pdb ./templete/7P5T_A/rec.pdb\n",
      "./alfpdb/alf1/apdb.pdb ./templete/6GMF_A/rec.pdb\n",
      "./alfpdb/alf1/apdb.pdb ./templete/7QJL_A/rec.pdb\n",
      "./alfpdb/alf1/apdb.pdb ./templete/6B11_A/rec.pdb\n",
      "./alfpdb/alf1/apdb.pdb ./templete/5FOI_A/rec.pdb\n",
      "./alfpdb/alf1/apdb.pdb ./templete/7SMZ_A/rec.pdb\n",
      "2829 2.1728492814735225\n"
     ]
    },
    {
     "name": "stderr",
     "output_type": "stream",
     "text": [
      "/home/Grx/.local/lib/python3.11/site-packages/jax/_src/ops/scatter.py:94: FutureWarning: scatter inputs have incompatible types: cannot safely cast value from dtype=int64 to dtype=int32 with jax_numpy_dtype_promotion='standard'. In future JAX releases this will result in an error.\n",
      "  warnings.warn(\n"
     ]
    },
    {
     "name": "stdout",
     "output_type": "stream",
     "text": [
      "2829 2.1532458530687535\n",
      "2829 2.1728492814735225\n"
     ]
    },
    {
     "name": "stderr",
     "output_type": "stream",
     "text": [
      "/home/Grx/.local/lib/python3.11/site-packages/jax/_src/ops/scatter.py:94: FutureWarning: scatter inputs have incompatible types: cannot safely cast value from dtype=int64 to dtype=int32 with jax_numpy_dtype_promotion='standard'. In future JAX releases this will result in an error.\n",
      "  warnings.warn(\n"
     ]
    },
    {
     "name": "stdout",
     "output_type": "stream",
     "text": [
      "2829 2.159085653695244\n",
      "2829 2.1728492814735225\n"
     ]
    },
    {
     "name": "stderr",
     "output_type": "stream",
     "text": [
      "/home/Grx/.local/lib/python3.11/site-packages/jax/_src/ops/scatter.py:94: FutureWarning: scatter inputs have incompatible types: cannot safely cast value from dtype=int64 to dtype=int32 with jax_numpy_dtype_promotion='standard'. In future JAX releases this will result in an error.\n",
      "  warnings.warn(\n"
     ]
    },
    {
     "name": "stdout",
     "output_type": "stream",
     "text": [
      "2829 2.1641896242894605\n",
      "2829 2.1728492814735225\n"
     ]
    },
    {
     "name": "stderr",
     "output_type": "stream",
     "text": [
      "/home/Grx/.local/lib/python3.11/site-packages/jax/_src/ops/scatter.py:94: FutureWarning: scatter inputs have incompatible types: cannot safely cast value from dtype=int64 to dtype=int32 with jax_numpy_dtype_promotion='standard'. In future JAX releases this will result in an error.\n",
      "  warnings.warn(\n"
     ]
    },
    {
     "name": "stdout",
     "output_type": "stream",
     "text": [
      "2829 2.164908721875325\n",
      "1 113.32029986381531\n",
      "./alfpdb/alf2/apdb.pdb ./templete/2RFB_A/rec.pdb\n",
      "./alfpdb/alf2/apdb.pdb ./templete/1WIY_A/rec.pdb\n",
      "./alfpdb/alf2/apdb.pdb ./templete/4R1Z_A/rec.pdb\n",
      "./alfpdb/alf2/apdb.pdb ./templete/4RM4_A/rec.pdb\n",
      "./alfpdb/alf2/apdb.pdb ./templete/2Q9G_A/rec.pdb\n",
      "./alfpdb/alf2/apdb.pdb ./templete/4R20_A/rec.pdb\n",
      "./alfpdb/alf2/apdb.pdb ./templete/3MDV_A/rec.pdb\n",
      "./alfpdb/alf2/apdb.pdb ./templete/3MDT_A/rec.pdb\n",
      "./alfpdb/alf2/apdb.pdb ./templete/4ENH_A/rec.pdb\n",
      "./alfpdb/alf2/apdb.pdb ./templete/4FIA_A/rec.pdb\n",
      "./alfpdb/alf2/apdb.pdb ./templete/4TX3_A/rec.pdb\n",
      "./alfpdb/alf2/apdb.pdb ./templete/6M7L_A/rec.pdb\n",
      "./alfpdb/alf2/apdb.pdb ./templete/3MDR_A/rec.pdb\n",
      "./alfpdb/alf2/apdb.pdb ./templete/6F0B_A/rec.pdb\n",
      "./alfpdb/alf2/apdb.pdb ./templete/6F0C_A/rec.pdb\n",
      "./alfpdb/alf2/apdb.pdb ./templete/3B4X_A/rec.pdb\n",
      "./alfpdb/alf2/apdb.pdb ./templete/7LS3_A/rec.pdb\n",
      "./alfpdb/alf2/apdb.pdb ./templete/1LFK_A/rec.pdb\n",
      "./alfpdb/alf2/apdb.pdb ./templete/4Z5Q_A/rec.pdb\n",
      "./alfpdb/alf2/apdb.pdb ./templete/1UE8_A/rec.pdb\n",
      "2707 2.7608589243204715\n"
     ]
    },
    {
     "name": "stderr",
     "output_type": "stream",
     "text": [
      "/home/Grx/.local/lib/python3.11/site-packages/jax/_src/ops/scatter.py:94: FutureWarning: scatter inputs have incompatible types: cannot safely cast value from dtype=int64 to dtype=int32 with jax_numpy_dtype_promotion='standard'. In future JAX releases this will result in an error.\n",
      "  warnings.warn(\n"
     ]
    },
    {
     "name": "stdout",
     "output_type": "stream",
     "text": [
      "2707 2.7616989433315173\n",
      "2707 2.7608589243204715\n"
     ]
    },
    {
     "name": "stderr",
     "output_type": "stream",
     "text": [
      "/home/Grx/.local/lib/python3.11/site-packages/jax/_src/ops/scatter.py:94: FutureWarning: scatter inputs have incompatible types: cannot safely cast value from dtype=int64 to dtype=int32 with jax_numpy_dtype_promotion='standard'. In future JAX releases this will result in an error.\n",
      "  warnings.warn(\n"
     ]
    },
    {
     "name": "stdout",
     "output_type": "stream",
     "text": [
      "2707 2.7524266638240653\n",
      "2707 2.7608589243204715\n"
     ]
    },
    {
     "name": "stderr",
     "output_type": "stream",
     "text": [
      "/home/Grx/.local/lib/python3.11/site-packages/jax/_src/ops/scatter.py:94: FutureWarning: scatter inputs have incompatible types: cannot safely cast value from dtype=int64 to dtype=int32 with jax_numpy_dtype_promotion='standard'. In future JAX releases this will result in an error.\n",
      "  warnings.warn(\n"
     ]
    },
    {
     "name": "stdout",
     "output_type": "stream",
     "text": [
      "2707 2.7611494557545417\n",
      "2707 2.7608589243204715\n"
     ]
    },
    {
     "name": "stderr",
     "output_type": "stream",
     "text": [
      "/home/Grx/.local/lib/python3.11/site-packages/jax/_src/ops/scatter.py:94: FutureWarning: scatter inputs have incompatible types: cannot safely cast value from dtype=int64 to dtype=int32 with jax_numpy_dtype_promotion='standard'. In future JAX releases this will result in an error.\n",
      "  warnings.warn(\n"
     ]
    },
    {
     "name": "stdout",
     "output_type": "stream",
     "text": [
      "2707 2.758981721240413\n",
      "2 126.14952611923218\n",
      "./alfpdb/alf3/apdb.pdb ./templete/4R1Z_A/rec.pdb\n",
      "./alfpdb/alf3/apdb.pdb ./templete/4R20_A/rec.pdb\n",
      "./alfpdb/alf3/apdb.pdb ./templete/2RFB_A/rec.pdb\n",
      "./alfpdb/alf3/apdb.pdb ./templete/1WIY_A/rec.pdb\n",
      "./alfpdb/alf3/apdb.pdb ./templete/6CSD_A/rec.pdb\n",
      "./alfpdb/alf3/apdb.pdb ./templete/4WNT_A/rec.pdb\n",
      "./alfpdb/alf3/apdb.pdb ./templete/5YSM_A/rec.pdb\n",
      "./alfpdb/alf3/apdb.pdb ./templete/6F0B_A/rec.pdb\n",
      "./alfpdb/alf3/apdb.pdb ./templete/6F0C_A/rec.pdb\n",
      "./alfpdb/alf3/apdb.pdb ./templete/6VBY_A/rec.pdb\n",
      "./alfpdb/alf3/apdb.pdb ./templete/5YSW_A/rec.pdb\n",
      "./alfpdb/alf3/apdb.pdb ./templete/3B4X_A/rec.pdb\n",
      "./alfpdb/alf3/apdb.pdb ./templete/4EP6_A/rec.pdb\n",
      "./alfpdb/alf3/apdb.pdb ./templete/2Q9G_A/rec.pdb\n",
      "./alfpdb/alf3/apdb.pdb ./templete/2WIV_A/rec.pdb\n",
      "./alfpdb/alf3/apdb.pdb ./templete/3P3X_A/rec.pdb\n",
      "./alfpdb/alf3/apdb.pdb ./templete/5L94_A/rec.pdb\n",
      "./alfpdb/alf3/apdb.pdb ./templete/5L92_A/rec.pdb\n",
      "./alfpdb/alf3/apdb.pdb ./templete/1UE8_A/rec.pdb\n",
      "./alfpdb/alf3/apdb.pdb ./templete/4WNW_A/rec.pdb\n",
      "6603 2.3841077995761895\n"
     ]
    },
    {
     "name": "stderr",
     "output_type": "stream",
     "text": [
      "/home/Grx/.local/lib/python3.11/site-packages/jax/_src/ops/scatter.py:94: FutureWarning: scatter inputs have incompatible types: cannot safely cast value from dtype=int64 to dtype=int32 with jax_numpy_dtype_promotion='standard'. In future JAX releases this will result in an error.\n",
      "  warnings.warn(\n"
     ]
    },
    {
     "name": "stdout",
     "output_type": "stream",
     "text": [
      "6603 2.446369648323994\n",
      "6603 2.3841077995761895\n"
     ]
    },
    {
     "name": "stderr",
     "output_type": "stream",
     "text": [
      "/home/Grx/.local/lib/python3.11/site-packages/jax/_src/ops/scatter.py:94: FutureWarning: scatter inputs have incompatible types: cannot safely cast value from dtype=int64 to dtype=int32 with jax_numpy_dtype_promotion='standard'. In future JAX releases this will result in an error.\n",
      "  warnings.warn(\n"
     ]
    },
    {
     "name": "stdout",
     "output_type": "stream",
     "text": [
      "6603 2.4444515327051795\n",
      "6603 2.3841077995761895\n"
     ]
    },
    {
     "name": "stderr",
     "output_type": "stream",
     "text": [
      "/home/Grx/.local/lib/python3.11/site-packages/jax/_src/ops/scatter.py:94: FutureWarning: scatter inputs have incompatible types: cannot safely cast value from dtype=int64 to dtype=int32 with jax_numpy_dtype_promotion='standard'. In future JAX releases this will result in an error.\n",
      "  warnings.warn(\n"
     ]
    },
    {
     "name": "stdout",
     "output_type": "stream",
     "text": [
      "6603 2.391600104627192\n",
      "6603 2.3841077995761895\n"
     ]
    },
    {
     "name": "stderr",
     "output_type": "stream",
     "text": [
      "/home/Grx/.local/lib/python3.11/site-packages/jax/_src/ops/scatter.py:94: FutureWarning: scatter inputs have incompatible types: cannot safely cast value from dtype=int64 to dtype=int32 with jax_numpy_dtype_promotion='standard'. In future JAX releases this will result in an error.\n",
      "  warnings.warn(\n"
     ]
    },
    {
     "name": "stdout",
     "output_type": "stream",
     "text": [
      "6603 2.3914534280700113\n",
      "3 189.30062818527222\n",
      "./alfpdb/alf5/apdb.pdb ./templete/1WIY_A/rec.pdb\n",
      "./alfpdb/alf5/apdb.pdb ./templete/1N97_A/rec.pdb\n",
      "./alfpdb/alf5/apdb.pdb ./templete/2Q9G_A/rec.pdb\n",
      "./alfpdb/alf5/apdb.pdb ./templete/3MDV_A/rec.pdb\n",
      "./alfpdb/alf5/apdb.pdb ./templete/7LS4_A/rec.pdb\n",
      "./alfpdb/alf5/apdb.pdb ./templete/3MDR_A/rec.pdb\n",
      "./alfpdb/alf5/apdb.pdb ./templete/7LRL_A/rec.pdb\n",
      "./alfpdb/alf5/apdb.pdb ./templete/7LS3_A/rec.pdb\n",
      "./alfpdb/alf5/apdb.pdb ./templete/4ENH_A/rec.pdb\n",
      "./alfpdb/alf5/apdb.pdb ./templete/2Q9F_A/rec.pdb\n",
      "./alfpdb/alf5/apdb.pdb ./templete/3MDT_A/rec.pdb\n",
      "./alfpdb/alf5/apdb.pdb ./templete/4FIA_A/rec.pdb\n",
      "./alfpdb/alf5/apdb.pdb ./templete/7N3L_A/rec.pdb\n",
      "./alfpdb/alf5/apdb.pdb ./templete/7N6F_A/rec.pdb\n",
      "./alfpdb/alf5/apdb.pdb ./templete/3MDM_A/rec.pdb\n",
      "./alfpdb/alf5/apdb.pdb ./templete/4J14_A/rec.pdb\n",
      "./alfpdb/alf5/apdb.pdb ./templete/3DBG_A/rec.pdb\n",
      "./alfpdb/alf5/apdb.pdb ./templete/6A15_A/rec.pdb\n",
      "./alfpdb/alf5/apdb.pdb ./templete/4KEW_A/rec.pdb\n",
      "./alfpdb/alf5/apdb.pdb ./templete/6A18_A/rec.pdb\n"
     ]
    },
    {
     "name": "stderr",
     "output_type": "stream",
     "text": [
      "/home/Grx/.local/lib/python3.11/site-packages/jax/_src/ops/scatter.py:94: FutureWarning: scatter inputs have incompatible types: cannot safely cast value from dtype=int64 to dtype=int32 with jax_numpy_dtype_promotion='standard'. In future JAX releases this will result in an error.\n",
      "  warnings.warn(\n",
      "/home/Grx/.local/lib/python3.11/site-packages/jax/_src/ops/scatter.py:94: FutureWarning: scatter inputs have incompatible types: cannot safely cast value from dtype=int64 to dtype=int32 with jax_numpy_dtype_promotion='standard'. In future JAX releases this will result in an error.\n",
      "  warnings.warn(\n",
      "/home/Grx/.local/lib/python3.11/site-packages/jax/_src/ops/scatter.py:94: FutureWarning: scatter inputs have incompatible types: cannot safely cast value from dtype=int64 to dtype=int32 with jax_numpy_dtype_promotion='standard'. In future JAX releases this will result in an error.\n",
      "  warnings.warn(\n",
      "/home/Grx/.local/lib/python3.11/site-packages/jax/_src/ops/scatter.py:94: FutureWarning: scatter inputs have incompatible types: cannot safely cast value from dtype=int64 to dtype=int32 with jax_numpy_dtype_promotion='standard'. In future JAX releases this will result in an error.\n",
      "  warnings.warn(\n"
     ]
    },
    {
     "name": "stdout",
     "output_type": "stream",
     "text": [
      "5 135.44549560546875\n",
      "./alfpdb/alf6/apdb.pdb ./templete/7LS4_A/rec.pdb\n",
      "./alfpdb/alf6/apdb.pdb ./templete/3PSX_A/rec.pdb\n",
      "./alfpdb/alf6/apdb.pdb ./templete/2X7Y_A/rec.pdb\n",
      "./alfpdb/alf6/apdb.pdb ./templete/2Q9G_A/rec.pdb\n",
      "./alfpdb/alf6/apdb.pdb ./templete/7LS3_A/rec.pdb\n",
      "./alfpdb/alf6/apdb.pdb ./templete/7KVJ_A/rec.pdb\n",
      "./alfpdb/alf6/apdb.pdb ./templete/5DYP_A/rec.pdb\n",
      "./alfpdb/alf6/apdb.pdb ./templete/7N6F_A/rec.pdb\n",
      "./alfpdb/alf6/apdb.pdb ./templete/7LRL_A/rec.pdb\n",
      "./alfpdb/alf6/apdb.pdb ./templete/7N3L_A/rec.pdb\n",
      "./alfpdb/alf6/apdb.pdb ./templete/7UFA_A/rec.pdb\n",
      "./alfpdb/alf6/apdb.pdb ./templete/6UNL_A/rec.pdb\n",
      "./alfpdb/alf6/apdb.pdb ./templete/6UNM_A/rec.pdb\n",
      "./alfpdb/alf6/apdb.pdb ./templete/7UAZ_A/rec.pdb\n",
      "./alfpdb/alf6/apdb.pdb ./templete/7UAY_A/rec.pdb\n",
      "./alfpdb/alf6/apdb.pdb ./templete/8EWD_A/rec.pdb\n",
      "./alfpdb/alf6/apdb.pdb ./templete/3HF2_A/rec.pdb\n",
      "./alfpdb/alf6/apdb.pdb ./templete/3EKF_A/rec.pdb\n",
      "./alfpdb/alf6/apdb.pdb ./templete/1YQO_A/rec.pdb\n",
      "./alfpdb/alf6/apdb.pdb ./templete/1P0X_A/rec.pdb\n",
      "3738 2.1581524505928655\n"
     ]
    },
    {
     "name": "stderr",
     "output_type": "stream",
     "text": [
      "/home/Grx/.local/lib/python3.11/site-packages/jax/_src/ops/scatter.py:94: FutureWarning: scatter inputs have incompatible types: cannot safely cast value from dtype=int64 to dtype=int32 with jax_numpy_dtype_promotion='standard'. In future JAX releases this will result in an error.\n",
      "  warnings.warn(\n"
     ]
    },
    {
     "name": "stdout",
     "output_type": "stream",
     "text": [
      "3738 2.139952629120479\n",
      "3738 2.1581524505928655\n"
     ]
    },
    {
     "name": "stderr",
     "output_type": "stream",
     "text": [
      "/home/Grx/.local/lib/python3.11/site-packages/jax/_src/ops/scatter.py:94: FutureWarning: scatter inputs have incompatible types: cannot safely cast value from dtype=int64 to dtype=int32 with jax_numpy_dtype_promotion='standard'. In future JAX releases this will result in an error.\n",
      "  warnings.warn(\n"
     ]
    },
    {
     "name": "stdout",
     "output_type": "stream",
     "text": [
      "3738 2.081777576659791\n",
      "3738 2.1581524505928655\n"
     ]
    },
    {
     "name": "stderr",
     "output_type": "stream",
     "text": [
      "/home/Grx/.local/lib/python3.11/site-packages/jax/_src/ops/scatter.py:94: FutureWarning: scatter inputs have incompatible types: cannot safely cast value from dtype=int64 to dtype=int32 with jax_numpy_dtype_promotion='standard'. In future JAX releases this will result in an error.\n",
      "  warnings.warn(\n"
     ]
    },
    {
     "name": "stdout",
     "output_type": "stream",
     "text": [
      "3738 2.158239178025033\n",
      "3738 2.1581524505928655\n"
     ]
    },
    {
     "name": "stderr",
     "output_type": "stream",
     "text": [
      "/home/Grx/.local/lib/python3.11/site-packages/jax/_src/ops/scatter.py:94: FutureWarning: scatter inputs have incompatible types: cannot safely cast value from dtype=int64 to dtype=int32 with jax_numpy_dtype_promotion='standard'. In future JAX releases this will result in an error.\n",
      "  warnings.warn(\n"
     ]
    },
    {
     "name": "stdout",
     "output_type": "stream",
     "text": [
      "C O -0.00475901168493853 1.4952409883150615\n",
      "3738 2.158467272078115\n",
      "6 163.6276979446411\n",
      "./alfpdb/alf8/apdb.pdb ./templete/2RFB_A/rec.pdb\n",
      "./alfpdb/alf8/apdb.pdb ./templete/4RM4_A/rec.pdb\n",
      "./alfpdb/alf8/apdb.pdb ./templete/5VWS_A/rec.pdb\n",
      "./alfpdb/alf8/apdb.pdb ./templete/4TVF_A/rec.pdb\n",
      "./alfpdb/alf8/apdb.pdb ./templete/3BUJ_A/rec.pdb\n",
      "./alfpdb/alf8/apdb.pdb ./templete/4TX3_A/rec.pdb\n",
      "./alfpdb/alf8/apdb.pdb ./templete/4WPZ_A/rec.pdb\n",
      "./alfpdb/alf8/apdb.pdb ./templete/5L90_A/rec.pdb\n",
      "./alfpdb/alf8/apdb.pdb ./templete/5YSM_A/rec.pdb\n",
      "./alfpdb/alf8/apdb.pdb ./templete/3OO3_A/rec.pdb\n",
      "./alfpdb/alf8/apdb.pdb ./templete/4AW3_A/rec.pdb\n",
      "./alfpdb/alf8/apdb.pdb ./templete/4WQ0_A/rec.pdb\n",
      "./alfpdb/alf8/apdb.pdb ./templete/6M4S_A/rec.pdb\n",
      "./alfpdb/alf8/apdb.pdb ./templete/5YSW_A/rec.pdb\n",
      "./alfpdb/alf8/apdb.pdb ./templete/3ZSN_A/rec.pdb\n",
      "./alfpdb/alf8/apdb.pdb ./templete/2YCA_A/rec.pdb\n",
      "./alfpdb/alf8/apdb.pdb ./templete/2Y98_A/rec.pdb\n",
      "./alfpdb/alf8/apdb.pdb ./templete/5L91_A/rec.pdb\n",
      "./alfpdb/alf8/apdb.pdb ./templete/2Y5Z_A/rec.pdb\n",
      "./alfpdb/alf8/apdb.pdb ./templete/2Y46_A/rec.pdb\n",
      "2592 2.2667092888149547\n"
     ]
    },
    {
     "name": "stderr",
     "output_type": "stream",
     "text": [
      "/home/Grx/.local/lib/python3.11/site-packages/jax/_src/ops/scatter.py:94: FutureWarning: scatter inputs have incompatible types: cannot safely cast value from dtype=int64 to dtype=int32 with jax_numpy_dtype_promotion='standard'. In future JAX releases this will result in an error.\n",
      "  warnings.warn(\n"
     ]
    },
    {
     "name": "stdout",
     "output_type": "stream",
     "text": [
      "2592 2.239818417531685\n",
      "2592 2.2667092888149547\n"
     ]
    },
    {
     "name": "stderr",
     "output_type": "stream",
     "text": [
      "/home/Grx/.local/lib/python3.11/site-packages/jax/_src/ops/scatter.py:94: FutureWarning: scatter inputs have incompatible types: cannot safely cast value from dtype=int64 to dtype=int32 with jax_numpy_dtype_promotion='standard'. In future JAX releases this will result in an error.\n",
      "  warnings.warn(\n"
     ]
    },
    {
     "name": "stdout",
     "output_type": "stream",
     "text": [
      "2592 2.255643491067939\n",
      "2592 2.2667092888149547\n"
     ]
    },
    {
     "name": "stderr",
     "output_type": "stream",
     "text": [
      "/home/Grx/.local/lib/python3.11/site-packages/jax/_src/ops/scatter.py:94: FutureWarning: scatter inputs have incompatible types: cannot safely cast value from dtype=int64 to dtype=int32 with jax_numpy_dtype_promotion='standard'. In future JAX releases this will result in an error.\n",
      "  warnings.warn(\n"
     ]
    },
    {
     "name": "stdout",
     "output_type": "stream",
     "text": [
      "2592 2.265705135747886\n",
      "2592 2.2667092888149547\n"
     ]
    },
    {
     "name": "stderr",
     "output_type": "stream",
     "text": [
      "/home/Grx/.local/lib/python3.11/site-packages/jax/_src/ops/scatter.py:94: FutureWarning: scatter inputs have incompatible types: cannot safely cast value from dtype=int64 to dtype=int32 with jax_numpy_dtype_promotion='standard'. In future JAX releases this will result in an error.\n",
      "  warnings.warn(\n"
     ]
    },
    {
     "name": "stdout",
     "output_type": "stream",
     "text": [
      "2592 2.2659342706950047\n",
      "8 131.18666315078735\n",
      "./alfpdb/alf9/apdb.pdb ./templete/5L92_A/rec.pdb\n",
      "./alfpdb/alf9/apdb.pdb ./templete/5L94_A/rec.pdb\n",
      "./alfpdb/alf9/apdb.pdb ./templete/3R9B_A/rec.pdb\n",
      "./alfpdb/alf9/apdb.pdb ./templete/4YZR_A/rec.pdb\n",
      "./alfpdb/alf9/apdb.pdb ./templete/7WEX_A/rec.pdb\n",
      "./alfpdb/alf9/apdb.pdb ./templete/4RM4_A/rec.pdb\n",
      "./alfpdb/alf9/apdb.pdb ./templete/6B11_A/rec.pdb\n",
      "./alfpdb/alf9/apdb.pdb ./templete/5CJE_A/rec.pdb\n",
      "./alfpdb/alf9/apdb.pdb ./templete/1JIN_A/rec.pdb\n",
      "./alfpdb/alf9/apdb.pdb ./templete/1JIP_A/rec.pdb\n",
      "./alfpdb/alf9/apdb.pdb ./templete/6J84_A/rec.pdb\n",
      "./alfpdb/alf9/apdb.pdb ./templete/6J83_A/rec.pdb\n",
      "./alfpdb/alf9/apdb.pdb ./templete/1EUP_A/rec.pdb\n",
      "./alfpdb/alf9/apdb.pdb ./templete/4MM0_A/rec.pdb\n",
      "./alfpdb/alf9/apdb.pdb ./templete/6J82_A/rec.pdb\n",
      "./alfpdb/alf9/apdb.pdb ./templete/1OXA_A/rec.pdb\n",
      "./alfpdb/alf9/apdb.pdb ./templete/3R9C_A/rec.pdb\n",
      "./alfpdb/alf9/apdb.pdb ./templete/5FOI_A/rec.pdb\n",
      "./alfpdb/alf9/apdb.pdb ./templete/1JIO_A/rec.pdb\n",
      "./alfpdb/alf9/apdb.pdb ./templete/1EGY_A/rec.pdb\n",
      "2936 2.304330488449952\n"
     ]
    },
    {
     "name": "stderr",
     "output_type": "stream",
     "text": [
      "/home/Grx/.local/lib/python3.11/site-packages/jax/_src/ops/scatter.py:94: FutureWarning: scatter inputs have incompatible types: cannot safely cast value from dtype=int64 to dtype=int32 with jax_numpy_dtype_promotion='standard'. In future JAX releases this will result in an error.\n",
      "  warnings.warn(\n"
     ]
    },
    {
     "name": "stdout",
     "output_type": "stream",
     "text": [
      "2936 2.2410256654515686\n",
      "2936 2.304330488449952\n"
     ]
    },
    {
     "name": "stderr",
     "output_type": "stream",
     "text": [
      "/home/Grx/.local/lib/python3.11/site-packages/jax/_src/ops/scatter.py:94: FutureWarning: scatter inputs have incompatible types: cannot safely cast value from dtype=int64 to dtype=int32 with jax_numpy_dtype_promotion='standard'. In future JAX releases this will result in an error.\n",
      "  warnings.warn(\n"
     ]
    },
    {
     "name": "stdout",
     "output_type": "stream",
     "text": [
      "2936 2.2433693117107114\n",
      "2936 2.304330488449952\n"
     ]
    },
    {
     "name": "stderr",
     "output_type": "stream",
     "text": [
      "/home/Grx/.local/lib/python3.11/site-packages/jax/_src/ops/scatter.py:94: FutureWarning: scatter inputs have incompatible types: cannot safely cast value from dtype=int64 to dtype=int32 with jax_numpy_dtype_promotion='standard'. In future JAX releases this will result in an error.\n",
      "  warnings.warn(\n"
     ]
    },
    {
     "name": "stdout",
     "output_type": "stream",
     "text": [
      "2936 2.300513155130145\n",
      "2936 2.304330488449952\n"
     ]
    },
    {
     "name": "stderr",
     "output_type": "stream",
     "text": [
      "/home/Grx/.local/lib/python3.11/site-packages/jax/_src/ops/scatter.py:94: FutureWarning: scatter inputs have incompatible types: cannot safely cast value from dtype=int64 to dtype=int32 with jax_numpy_dtype_promotion='standard'. In future JAX releases this will result in an error.\n",
      "  warnings.warn(\n"
     ]
    },
    {
     "name": "stdout",
     "output_type": "stream",
     "text": [
      "2936 2.3007076019057755\n",
      "9 128.23475694656372\n",
      "./alfpdb/alf10/apdb.pdb ./templete/3DBG_A/rec.pdb\n",
      "./alfpdb/alf10/apdb.pdb ./templete/4R1Z_A/rec.pdb\n",
      "./alfpdb/alf10/apdb.pdb ./templete/2VE3_A/rec.pdb\n",
      "./alfpdb/alf10/apdb.pdb ./templete/2VE4_A/rec.pdb\n",
      "./alfpdb/alf10/apdb.pdb ./templete/1BVY_A/rec.pdb\n",
      "./alfpdb/alf10/apdb.pdb ./templete/3MDV_A/rec.pdb\n",
      "./alfpdb/alf10/apdb.pdb ./templete/2Q9G_A/rec.pdb\n",
      "./alfpdb/alf10/apdb.pdb ./templete/3NC6_A/rec.pdb\n",
      "./alfpdb/alf10/apdb.pdb ./templete/4ENH_A/rec.pdb\n",
      "./alfpdb/alf10/apdb.pdb ./templete/3MDT_A/rec.pdb\n",
      "./alfpdb/alf10/apdb.pdb ./templete/3MDR_A/rec.pdb\n",
      "./alfpdb/alf10/apdb.pdb ./templete/3JUS_A/rec.pdb\n",
      "./alfpdb/alf10/apdb.pdb ./templete/1WIY_A/rec.pdb\n",
      "./alfpdb/alf10/apdb.pdb ./templete/3LD6_A/rec.pdb\n",
      "./alfpdb/alf10/apdb.pdb ./templete/3NC7_A/rec.pdb\n",
      "./alfpdb/alf10/apdb.pdb ./templete/6Q2T_A/rec.pdb\n",
      "./alfpdb/alf10/apdb.pdb ./templete/4R20_A/rec.pdb\n",
      "./alfpdb/alf10/apdb.pdb ./templete/4RM4_A/rec.pdb\n",
      "./alfpdb/alf10/apdb.pdb ./templete/5VWS_A/rec.pdb\n",
      "./alfpdb/alf10/apdb.pdb ./templete/3NC5_A/rec.pdb\n",
      "2128 2.502604043791187\n"
     ]
    },
    {
     "name": "stderr",
     "output_type": "stream",
     "text": [
      "/home/Grx/.local/lib/python3.11/site-packages/jax/_src/ops/scatter.py:94: FutureWarning: scatter inputs have incompatible types: cannot safely cast value from dtype=int64 to dtype=int32 with jax_numpy_dtype_promotion='standard'. In future JAX releases this will result in an error.\n",
      "  warnings.warn(\n"
     ]
    },
    {
     "name": "stdout",
     "output_type": "stream",
     "text": [
      "2128 2.4162843771698634\n",
      "2128 2.502604043791187\n"
     ]
    },
    {
     "name": "stderr",
     "output_type": "stream",
     "text": [
      "/home/Grx/.local/lib/python3.11/site-packages/jax/_src/ops/scatter.py:94: FutureWarning: scatter inputs have incompatible types: cannot safely cast value from dtype=int64 to dtype=int32 with jax_numpy_dtype_promotion='standard'. In future JAX releases this will result in an error.\n",
      "  warnings.warn(\n"
     ]
    },
    {
     "name": "stdout",
     "output_type": "stream",
     "text": [
      "2128 2.412616455568961\n",
      "2128 2.502604043791187\n"
     ]
    },
    {
     "name": "stderr",
     "output_type": "stream",
     "text": [
      "/home/Grx/.local/lib/python3.11/site-packages/jax/_src/ops/scatter.py:94: FutureWarning: scatter inputs have incompatible types: cannot safely cast value from dtype=int64 to dtype=int32 with jax_numpy_dtype_promotion='standard'. In future JAX releases this will result in an error.\n",
      "  warnings.warn(\n"
     ]
    },
    {
     "name": "stdout",
     "output_type": "stream",
     "text": [
      "2128 2.496948718065379\n",
      "2128 2.502604043791187\n"
     ]
    },
    {
     "name": "stderr",
     "output_type": "stream",
     "text": [
      "/home/Grx/.local/lib/python3.11/site-packages/jax/_src/ops/scatter.py:94: FutureWarning: scatter inputs have incompatible types: cannot safely cast value from dtype=int64 to dtype=int32 with jax_numpy_dtype_promotion='standard'. In future JAX releases this will result in an error.\n",
      "  warnings.warn(\n"
     ]
    },
    {
     "name": "stdout",
     "output_type": "stream",
     "text": [
      "2128 2.496317651985818\n",
      "10 101.92914366722107\n",
      "./alfpdb/alf11/apdb.pdb ./templete/1WIY_A/rec.pdb\n",
      "./alfpdb/alf11/apdb.pdb ./templete/7LS3_A/rec.pdb\n",
      "./alfpdb/alf11/apdb.pdb ./templete/7LS4_A/rec.pdb\n",
      "./alfpdb/alf11/apdb.pdb ./templete/7N3L_A/rec.pdb\n",
      "./alfpdb/alf11/apdb.pdb ./templete/7N6F_A/rec.pdb\n",
      "./alfpdb/alf11/apdb.pdb ./templete/3MDV_A/rec.pdb\n",
      "./alfpdb/alf11/apdb.pdb ./templete/2Q9G_A/rec.pdb\n",
      "./alfpdb/alf11/apdb.pdb ./templete/3MDT_A/rec.pdb\n",
      "./alfpdb/alf11/apdb.pdb ./templete/1N97_A/rec.pdb\n",
      "./alfpdb/alf11/apdb.pdb ./templete/4FIA_A/rec.pdb\n",
      "./alfpdb/alf11/apdb.pdb ./templete/4ENH_A/rec.pdb\n",
      "./alfpdb/alf11/apdb.pdb ./templete/7LRL_A/rec.pdb\n",
      "./alfpdb/alf11/apdb.pdb ./templete/1YQO_A/rec.pdb\n",
      "./alfpdb/alf11/apdb.pdb ./templete/3MDR_A/rec.pdb\n",
      "./alfpdb/alf11/apdb.pdb ./templete/8EWD_A/rec.pdb\n",
      "./alfpdb/alf11/apdb.pdb ./templete/1YQP_A/rec.pdb\n",
      "./alfpdb/alf11/apdb.pdb ./templete/1P0V_A/rec.pdb\n",
      "./alfpdb/alf11/apdb.pdb ./templete/1P0W_A/rec.pdb\n",
      "./alfpdb/alf11/apdb.pdb ./templete/2NNB_A/rec.pdb\n",
      "./alfpdb/alf11/apdb.pdb ./templete/1JME_A/rec.pdb\n",
      "3455 1.9901834086334858\n"
     ]
    },
    {
     "name": "stderr",
     "output_type": "stream",
     "text": [
      "/home/Grx/.local/lib/python3.11/site-packages/jax/_src/ops/scatter.py:94: FutureWarning: scatter inputs have incompatible types: cannot safely cast value from dtype=int64 to dtype=int32 with jax_numpy_dtype_promotion='standard'. In future JAX releases this will result in an error.\n",
      "  warnings.warn(\n"
     ]
    },
    {
     "name": "stdout",
     "output_type": "stream",
     "text": [
      "3455 2.0428461469528623\n",
      "3455 1.9901834086334858\n"
     ]
    },
    {
     "name": "stderr",
     "output_type": "stream",
     "text": [
      "/home/Grx/.local/lib/python3.11/site-packages/jax/_src/ops/scatter.py:94: FutureWarning: scatter inputs have incompatible types: cannot safely cast value from dtype=int64 to dtype=int32 with jax_numpy_dtype_promotion='standard'. In future JAX releases this will result in an error.\n",
      "  warnings.warn(\n"
     ]
    },
    {
     "name": "stdout",
     "output_type": "stream",
     "text": [
      "3455 2.0522623888742846\n",
      "3455 1.9901834086334858\n"
     ]
    },
    {
     "name": "stderr",
     "output_type": "stream",
     "text": [
      "/home/Grx/.local/lib/python3.11/site-packages/jax/_src/ops/scatter.py:94: FutureWarning: scatter inputs have incompatible types: cannot safely cast value from dtype=int64 to dtype=int32 with jax_numpy_dtype_promotion='standard'. In future JAX releases this will result in an error.\n",
      "  warnings.warn(\n"
     ]
    },
    {
     "name": "stdout",
     "output_type": "stream",
     "text": [
      "3455 2.001094327948928\n",
      "3455 1.9901834086334858\n"
     ]
    },
    {
     "name": "stderr",
     "output_type": "stream",
     "text": [
      "/home/Grx/.local/lib/python3.11/site-packages/jax/_src/ops/scatter.py:94: FutureWarning: scatter inputs have incompatible types: cannot safely cast value from dtype=int64 to dtype=int32 with jax_numpy_dtype_promotion='standard'. In future JAX releases this will result in an error.\n",
      "  warnings.warn(\n"
     ]
    },
    {
     "name": "stdout",
     "output_type": "stream",
     "text": [
      "3455 2.0024822089007985\n",
      "11 128.08583569526672\n",
      "./alfpdb/alf12/apdb.pdb ./templete/5YM3_A/rec.pdb\n",
      "./alfpdb/alf12/apdb.pdb ./templete/7CB9_A/rec.pdb\n",
      "./alfpdb/alf12/apdb.pdb ./templete/4R20_A/rec.pdb\n",
      "./alfpdb/alf12/apdb.pdb ./templete/5YLW_A/rec.pdb\n",
      "./alfpdb/alf12/apdb.pdb ./templete/1WIY_A/rec.pdb\n",
      "./alfpdb/alf12/apdb.pdb ./templete/8EWD_A/rec.pdb\n",
      "./alfpdb/alf12/apdb.pdb ./templete/7KVJ_A/rec.pdb\n",
      "./alfpdb/alf12/apdb.pdb ./templete/6VBY_A/rec.pdb\n",
      "./alfpdb/alf12/apdb.pdb ./templete/8EWS_A/rec.pdb\n",
      "./alfpdb/alf12/apdb.pdb ./templete/3DBG_A/rec.pdb\n",
      "./alfpdb/alf12/apdb.pdb ./templete/7UF9_A/rec.pdb\n",
      "./alfpdb/alf12/apdb.pdb ./templete/8EXB_A/rec.pdb\n",
      "./alfpdb/alf12/apdb.pdb ./templete/8EWM_A/rec.pdb\n",
      "./alfpdb/alf12/apdb.pdb ./templete/7KSA_A/rec.pdb\n",
      "./alfpdb/alf12/apdb.pdb ./templete/8EWN_A/rec.pdb\n",
      "./alfpdb/alf12/apdb.pdb ./templete/3TJS_A/rec.pdb\n",
      "./alfpdb/alf12/apdb.pdb ./templete/1N97_A/rec.pdb\n",
      "./alfpdb/alf12/apdb.pdb ./templete/6UNM_A/rec.pdb\n",
      "./alfpdb/alf12/apdb.pdb ./templete/7UAZ_A/rec.pdb\n",
      "./alfpdb/alf12/apdb.pdb ./templete/6BDH_A/rec.pdb\n",
      "4126 2.573742994162393\n"
     ]
    },
    {
     "name": "stderr",
     "output_type": "stream",
     "text": [
      "/home/Grx/.local/lib/python3.11/site-packages/jax/_src/ops/scatter.py:94: FutureWarning: scatter inputs have incompatible types: cannot safely cast value from dtype=int64 to dtype=int32 with jax_numpy_dtype_promotion='standard'. In future JAX releases this will result in an error.\n",
      "  warnings.warn(\n"
     ]
    },
    {
     "name": "stdout",
     "output_type": "stream",
     "text": [
      "4126 2.531611020419218\n",
      "4126 2.573742994162393\n"
     ]
    },
    {
     "name": "stderr",
     "output_type": "stream",
     "text": [
      "/home/Grx/.local/lib/python3.11/site-packages/jax/_src/ops/scatter.py:94: FutureWarning: scatter inputs have incompatible types: cannot safely cast value from dtype=int64 to dtype=int32 with jax_numpy_dtype_promotion='standard'. In future JAX releases this will result in an error.\n",
      "  warnings.warn(\n"
     ]
    },
    {
     "name": "stdout",
     "output_type": "stream",
     "text": [
      "4126 2.5246563425446085\n",
      "4126 2.573742994162393\n"
     ]
    },
    {
     "name": "stderr",
     "output_type": "stream",
     "text": [
      "/home/Grx/.local/lib/python3.11/site-packages/jax/_src/ops/scatter.py:94: FutureWarning: scatter inputs have incompatible types: cannot safely cast value from dtype=int64 to dtype=int32 with jax_numpy_dtype_promotion='standard'. In future JAX releases this will result in an error.\n",
      "  warnings.warn(\n"
     ]
    },
    {
     "name": "stdout",
     "output_type": "stream",
     "text": [
      "4126 2.574429181317607\n",
      "4126 2.573742994162393\n"
     ]
    },
    {
     "name": "stderr",
     "output_type": "stream",
     "text": [
      "/home/Grx/.local/lib/python3.11/site-packages/jax/_src/ops/scatter.py:94: FutureWarning: scatter inputs have incompatible types: cannot safely cast value from dtype=int64 to dtype=int32 with jax_numpy_dtype_promotion='standard'. In future JAX releases this will result in an error.\n",
      "  warnings.warn(\n"
     ]
    },
    {
     "name": "stdout",
     "output_type": "stream",
     "text": [
      "4126 2.573557163723819\n",
      "12 155.8925199508667\n",
      "./alfpdb/alf13/apdb.pdb ./templete/2RFB_A/rec.pdb\n",
      "./alfpdb/alf13/apdb.pdb ./templete/4RM4_A/rec.pdb\n",
      "./alfpdb/alf13/apdb.pdb ./templete/5VWS_A/rec.pdb\n",
      "./alfpdb/alf13/apdb.pdb ./templete/5L90_A/rec.pdb\n",
      "./alfpdb/alf13/apdb.pdb ./templete/1UE8_A/rec.pdb\n",
      "./alfpdb/alf13/apdb.pdb ./templete/4Z5Q_A/rec.pdb\n",
      "./alfpdb/alf13/apdb.pdb ./templete/3B4X_A/rec.pdb\n",
      "./alfpdb/alf13/apdb.pdb ./templete/1IO7_A/rec.pdb\n",
      "./alfpdb/alf13/apdb.pdb ./templete/1IO9_A/rec.pdb\n",
      "./alfpdb/alf13/apdb.pdb ./templete/1IO8_A/rec.pdb\n",
      "./alfpdb/alf13/apdb.pdb ./templete/4TX3_A/rec.pdb\n",
      "./alfpdb/alf13/apdb.pdb ./templete/4TVF_A/rec.pdb\n",
      "./alfpdb/alf13/apdb.pdb ./templete/5YSM_A/rec.pdb\n",
      "./alfpdb/alf13/apdb.pdb ./templete/5L91_A/rec.pdb\n",
      "./alfpdb/alf13/apdb.pdb ./templete/3NC6_A/rec.pdb\n",
      "./alfpdb/alf13/apdb.pdb ./templete/4E2P_A/rec.pdb\n",
      "./alfpdb/alf13/apdb.pdb ./templete/3NC5_A/rec.pdb\n",
      "./alfpdb/alf13/apdb.pdb ./templete/4YZR_A/rec.pdb\n",
      "./alfpdb/alf13/apdb.pdb ./templete/3E5K_A/rec.pdb\n",
      "./alfpdb/alf13/apdb.pdb ./templete/3NC7_A/rec.pdb\n",
      "1454 2.6176029110619505\n"
     ]
    },
    {
     "name": "stderr",
     "output_type": "stream",
     "text": [
      "/home/Grx/.local/lib/python3.11/site-packages/jax/_src/ops/scatter.py:94: FutureWarning: scatter inputs have incompatible types: cannot safely cast value from dtype=int64 to dtype=int32 with jax_numpy_dtype_promotion='standard'. In future JAX releases this will result in an error.\n",
      "  warnings.warn(\n"
     ]
    },
    {
     "name": "stdout",
     "output_type": "stream",
     "text": [
      "1454 2.61984857436273\n",
      "1454 2.6176029110619505\n"
     ]
    },
    {
     "name": "stderr",
     "output_type": "stream",
     "text": [
      "/home/Grx/.local/lib/python3.11/site-packages/jax/_src/ops/scatter.py:94: FutureWarning: scatter inputs have incompatible types: cannot safely cast value from dtype=int64 to dtype=int32 with jax_numpy_dtype_promotion='standard'. In future JAX releases this will result in an error.\n",
      "  warnings.warn(\n"
     ]
    },
    {
     "name": "stdout",
     "output_type": "stream",
     "text": [
      "1454 2.566540257818221\n",
      "1454 2.6176029110619505\n"
     ]
    },
    {
     "name": "stderr",
     "output_type": "stream",
     "text": [
      "/home/Grx/.local/lib/python3.11/site-packages/jax/_src/ops/scatter.py:94: FutureWarning: scatter inputs have incompatible types: cannot safely cast value from dtype=int64 to dtype=int32 with jax_numpy_dtype_promotion='standard'. In future JAX releases this will result in an error.\n",
      "  warnings.warn(\n"
     ]
    },
    {
     "name": "stdout",
     "output_type": "stream",
     "text": [
      "1454 2.6086865189119326\n",
      "1454 2.6176029110619505\n"
     ]
    },
    {
     "name": "stderr",
     "output_type": "stream",
     "text": [
      "/home/Grx/.local/lib/python3.11/site-packages/jax/_src/ops/scatter.py:94: FutureWarning: scatter inputs have incompatible types: cannot safely cast value from dtype=int64 to dtype=int32 with jax_numpy_dtype_promotion='standard'. In future JAX releases this will result in an error.\n",
      "  warnings.warn(\n"
     ]
    },
    {
     "name": "stdout",
     "output_type": "stream",
     "text": [
      "1454 2.6074949169847734\n",
      "13 111.2053964138031\n",
      "./alfpdb/alf14/apdb.pdb ./templete/7LYX_A/rec.pdb\n",
      "./alfpdb/alf14/apdb.pdb ./templete/3B98_A/rec.pdb\n",
      "./alfpdb/alf14/apdb.pdb ./templete/3B99_A/rec.pdb\n",
      "./alfpdb/alf14/apdb.pdb ./templete/2IAG_A/rec.pdb\n",
      "./alfpdb/alf14/apdb.pdb ./templete/3B6H_A/rec.pdb\n",
      "./alfpdb/alf14/apdb.pdb ./templete/3SN5_A/rec.pdb\n",
      "./alfpdb/alf14/apdb.pdb ./templete/3DAX_A/rec.pdb\n",
      "./alfpdb/alf14/apdb.pdb ./templete/3V8D_A/rec.pdb\n",
      "./alfpdb/alf14/apdb.pdb ./templete/3DBG_A/rec.pdb\n",
      "./alfpdb/alf14/apdb.pdb ./templete/2VE4_A/rec.pdb\n",
      "./alfpdb/alf14/apdb.pdb ./templete/2VE3_A/rec.pdb\n",
      "./alfpdb/alf14/apdb.pdb ./templete/1WIY_A/rec.pdb\n",
      "./alfpdb/alf14/apdb.pdb ./templete/7RKW_A/rec.pdb\n",
      "./alfpdb/alf14/apdb.pdb ./templete/6AYC_A/rec.pdb\n",
      "./alfpdb/alf14/apdb.pdb ./templete/6AYB_A/rec.pdb\n",
      "./alfpdb/alf14/apdb.pdb ./templete/7RKR_A/rec.pdb\n",
      "./alfpdb/alf14/apdb.pdb ./templete/7RKT_A/rec.pdb\n",
      "./alfpdb/alf14/apdb.pdb ./templete/5TL8_A/rec.pdb\n",
      "./alfpdb/alf14/apdb.pdb ./templete/1X8V_A/rec.pdb\n",
      "./alfpdb/alf14/apdb.pdb ./templete/6AY4_A/rec.pdb\n",
      "3628 2.178854286087073\n"
     ]
    },
    {
     "name": "stderr",
     "output_type": "stream",
     "text": [
      "/home/Grx/.local/lib/python3.11/site-packages/jax/_src/ops/scatter.py:94: FutureWarning: scatter inputs have incompatible types: cannot safely cast value from dtype=int64 to dtype=int32 with jax_numpy_dtype_promotion='standard'. In future JAX releases this will result in an error.\n",
      "  warnings.warn(\n"
     ]
    },
    {
     "name": "stdout",
     "output_type": "stream",
     "text": [
      "3628 2.148686882484006\n",
      "3628 2.178854286087073\n"
     ]
    },
    {
     "name": "stderr",
     "output_type": "stream",
     "text": [
      "/home/Grx/.local/lib/python3.11/site-packages/jax/_src/ops/scatter.py:94: FutureWarning: scatter inputs have incompatible types: cannot safely cast value from dtype=int64 to dtype=int32 with jax_numpy_dtype_promotion='standard'. In future JAX releases this will result in an error.\n",
      "  warnings.warn(\n"
     ]
    },
    {
     "name": "stdout",
     "output_type": "stream",
     "text": [
      "3628 2.1544380797630214\n",
      "3628 2.178854286087073\n"
     ]
    },
    {
     "name": "stderr",
     "output_type": "stream",
     "text": [
      "/home/Grx/.local/lib/python3.11/site-packages/jax/_src/ops/scatter.py:94: FutureWarning: scatter inputs have incompatible types: cannot safely cast value from dtype=int64 to dtype=int32 with jax_numpy_dtype_promotion='standard'. In future JAX releases this will result in an error.\n",
      "  warnings.warn(\n"
     ]
    },
    {
     "name": "stdout",
     "output_type": "stream",
     "text": [
      "3628 2.1707919096486323\n",
      "3628 2.178854286087073\n"
     ]
    },
    {
     "name": "stderr",
     "output_type": "stream",
     "text": [
      "/home/Grx/.local/lib/python3.11/site-packages/jax/_src/ops/scatter.py:94: FutureWarning: scatter inputs have incompatible types: cannot safely cast value from dtype=int64 to dtype=int32 with jax_numpy_dtype_promotion='standard'. In future JAX releases this will result in an error.\n",
      "  warnings.warn(\n"
     ]
    },
    {
     "name": "stdout",
     "output_type": "stream",
     "text": [
      "3628 2.1714214205871833\n",
      "14 145.03304958343506\n",
      "./alfpdb/alf15/apdb.pdb ./templete/3DBG_A/rec.pdb\n",
      "./alfpdb/alf15/apdb.pdb ./templete/7KVJ_A/rec.pdb\n",
      "./alfpdb/alf15/apdb.pdb ./templete/3PSX_A/rec.pdb\n",
      "./alfpdb/alf15/apdb.pdb ./templete/3EL3_A/rec.pdb\n",
      "./alfpdb/alf15/apdb.pdb ./templete/4R1Z_A/rec.pdb\n",
      "./alfpdb/alf15/apdb.pdb ./templete/4TVF_A/rec.pdb\n",
      "./alfpdb/alf15/apdb.pdb ./templete/2W09_A/rec.pdb\n",
      "./alfpdb/alf15/apdb.pdb ./templete/2CIB_A/rec.pdb\n",
      "./alfpdb/alf15/apdb.pdb ./templete/8EWM_A/rec.pdb\n",
      "./alfpdb/alf15/apdb.pdb ./templete/8EWD_A/rec.pdb\n",
      "./alfpdb/alf15/apdb.pdb ./templete/4R20_A/rec.pdb\n",
      "./alfpdb/alf15/apdb.pdb ./templete/2W0A_A/rec.pdb\n",
      "./alfpdb/alf15/apdb.pdb ./templete/2CI0_A/rec.pdb\n",
      "./alfpdb/alf15/apdb.pdb ./templete/2RFB_A/rec.pdb\n",
      "./alfpdb/alf15/apdb.pdb ./templete/2Q9G_A/rec.pdb\n",
      "./alfpdb/alf15/apdb.pdb ./templete/1X8V_A/rec.pdb\n",
      "./alfpdb/alf15/apdb.pdb ./templete/6UNI_A/rec.pdb\n",
      "./alfpdb/alf15/apdb.pdb ./templete/7UAY_A/rec.pdb\n",
      "./alfpdb/alf15/apdb.pdb ./templete/6UNL_A/rec.pdb\n",
      "./alfpdb/alf15/apdb.pdb ./templete/6DAB_A/rec.pdb\n",
      "859 2.519327092697572\n"
     ]
    },
    {
     "name": "stderr",
     "output_type": "stream",
     "text": [
      "/home/Grx/.local/lib/python3.11/site-packages/jax/_src/ops/scatter.py:94: FutureWarning: scatter inputs have incompatible types: cannot safely cast value from dtype=int64 to dtype=int32 with jax_numpy_dtype_promotion='standard'. In future JAX releases this will result in an error.\n",
      "  warnings.warn(\n"
     ]
    },
    {
     "name": "stdout",
     "output_type": "stream",
     "text": [
      "859 2.4539908600516394\n",
      "859 2.519327092697572\n"
     ]
    },
    {
     "name": "stderr",
     "output_type": "stream",
     "text": [
      "/home/Grx/.local/lib/python3.11/site-packages/jax/_src/ops/scatter.py:94: FutureWarning: scatter inputs have incompatible types: cannot safely cast value from dtype=int64 to dtype=int32 with jax_numpy_dtype_promotion='standard'. In future JAX releases this will result in an error.\n",
      "  warnings.warn(\n"
     ]
    },
    {
     "name": "stdout",
     "output_type": "stream",
     "text": [
      "859 2.449741371358117\n",
      "859 2.519327092697572\n"
     ]
    },
    {
     "name": "stderr",
     "output_type": "stream",
     "text": [
      "/home/Grx/.local/lib/python3.11/site-packages/jax/_src/ops/scatter.py:94: FutureWarning: scatter inputs have incompatible types: cannot safely cast value from dtype=int64 to dtype=int32 with jax_numpy_dtype_promotion='standard'. In future JAX releases this will result in an error.\n",
      "  warnings.warn(\n"
     ]
    },
    {
     "name": "stdout",
     "output_type": "stream",
     "text": [
      "859 2.5121727643245233\n",
      "859 2.519327092697572\n"
     ]
    },
    {
     "name": "stderr",
     "output_type": "stream",
     "text": [
      "/home/Grx/.local/lib/python3.11/site-packages/jax/_src/ops/scatter.py:94: FutureWarning: scatter inputs have incompatible types: cannot safely cast value from dtype=int64 to dtype=int32 with jax_numpy_dtype_promotion='standard'. In future JAX releases this will result in an error.\n",
      "  warnings.warn(\n"
     ]
    },
    {
     "name": "stdout",
     "output_type": "stream",
     "text": [
      "859 2.5114261293045557\n",
      "15 81.19997930526733\n",
      "./alfpdb/alf16/apdb.pdb ./templete/3DBG_A/rec.pdb\n",
      "./alfpdb/alf16/apdb.pdb ./templete/8EWD_A/rec.pdb\n",
      "./alfpdb/alf16/apdb.pdb ./templete/7KVJ_A/rec.pdb\n",
      "./alfpdb/alf16/apdb.pdb ./templete/6UNL_A/rec.pdb\n",
      "./alfpdb/alf16/apdb.pdb ./templete/7UF9_A/rec.pdb\n",
      "./alfpdb/alf16/apdb.pdb ./templete/6BDH_A/rec.pdb\n",
      "./alfpdb/alf16/apdb.pdb ./templete/8EWR_A/rec.pdb\n",
      "./alfpdb/alf16/apdb.pdb ./templete/7KSA_A/rec.pdb\n",
      "./alfpdb/alf16/apdb.pdb ./templete/8EXB_A/rec.pdb\n",
      "./alfpdb/alf16/apdb.pdb ./templete/8EWM_A/rec.pdb\n",
      "./alfpdb/alf16/apdb.pdb ./templete/8EWN_A/rec.pdb\n",
      "./alfpdb/alf16/apdb.pdb ./templete/6UNM_A/rec.pdb\n",
      "./alfpdb/alf16/apdb.pdb ./templete/6DA3_A/rec.pdb\n",
      "./alfpdb/alf16/apdb.pdb ./templete/8EWL_A/rec.pdb\n",
      "./alfpdb/alf16/apdb.pdb ./templete/7UAZ_A/rec.pdb\n",
      "./alfpdb/alf16/apdb.pdb ./templete/6DAJ_A/rec.pdb\n",
      "./alfpdb/alf16/apdb.pdb ./templete/6DAA_A/rec.pdb\n",
      "./alfpdb/alf16/apdb.pdb ./templete/6DA5_A/rec.pdb\n",
      "./alfpdb/alf16/apdb.pdb ./templete/6DAG_A/rec.pdb\n",
      "./alfpdb/alf16/apdb.pdb ./templete/7KVI_A/rec.pdb\n"
     ]
    },
    {
     "name": "stderr",
     "output_type": "stream",
     "text": [
      "/home/Grx/.local/lib/python3.11/site-packages/jax/_src/ops/scatter.py:94: FutureWarning: scatter inputs have incompatible types: cannot safely cast value from dtype=int64 to dtype=int32 with jax_numpy_dtype_promotion='standard'. In future JAX releases this will result in an error.\n",
      "  warnings.warn(\n"
     ]
    },
    {
     "name": "stdout",
     "output_type": "stream",
     "text": [
      "C C -0.09469178453116656 1.4453082154688335\n",
      "C N -0.6755341843063515 0.8444658156936485\n",
      "C C -0.4278125579495895 1.1121874420504105\n",
      "C C -0.27543161951777484 1.2645683804822252\n",
      "O N -0.19186798480285194 1.288132015197148\n",
      "O C -0.8529200644856043 0.6470799355143957\n",
      "C O -0.07824118837706462 1.4217588116229354\n",
      "C C -0.10581394911628816 1.4341860508837119\n",
      "C C -0.7239826183472371 0.8160173816527629\n",
      "O C -0.6599237128266361 0.8400762871733639\n"
     ]
    },
    {
     "name": "stderr",
     "output_type": "stream",
     "text": [
      "/home/Grx/.local/lib/python3.11/site-packages/jax/_src/ops/scatter.py:94: FutureWarning: scatter inputs have incompatible types: cannot safely cast value from dtype=int64 to dtype=int32 with jax_numpy_dtype_promotion='standard'. In future JAX releases this will result in an error.\n",
      "  warnings.warn(\n"
     ]
    },
    {
     "name": "stdout",
     "output_type": "stream",
     "text": [
      "C C -0.09495693608325317 1.4450430639167469\n",
      "C N -0.6755000766051702 0.8444999233948298\n",
      "C C -0.42841080554018496 1.111589194459815\n",
      "C C -0.2743037547595262 1.2656962452404739\n",
      "O N -0.2490219840445842 1.2309780159554158\n",
      "O C -0.446719729142949 1.053280270857051\n",
      "C O -0.07826969256278393 1.421730307437216\n",
      "C C -0.10584080128612228 1.4341591987138778\n",
      "C C -0.7256993369328052 0.8143006630671948\n",
      "O C -0.6601080392381931 0.8398919607618069\n",
      "C C -0.22831520554669948 1.3116847944533006\n",
      "C N -0.7227516070884812 0.7972483929115188\n",
      "C C -0.3641207544989997 1.1758792455010003\n",
      "C C -0.27722963291024194 1.262770367089758\n",
      "C C -0.2167475675442736 1.3232524324557264\n",
      "C N -0.22091031872314448 1.2990896812768555\n",
      "O N -0.2952928631936087 1.1847071368063913\n",
      "O C -0.3901774916681482 1.1098225083318518\n",
      "C N -0.438321212189126 1.081678787810874\n",
      "C C -0.09850424905239508 1.441495750947605\n",
      "C C -1.1721780321949231 0.36782196780507687\n",
      "O C -0.6709179775197145 0.8290820224802855\n"
     ]
    },
    {
     "name": "stderr",
     "output_type": "stream",
     "text": [
      "/home/Grx/.local/lib/python3.11/site-packages/jax/_src/ops/scatter.py:94: FutureWarning: scatter inputs have incompatible types: cannot safely cast value from dtype=int64 to dtype=int32 with jax_numpy_dtype_promotion='standard'. In future JAX releases this will result in an error.\n",
      "  warnings.warn(\n"
     ]
    },
    {
     "name": "stdout",
     "output_type": "stream",
     "text": [
      "C C -0.3177600345597995 1.2222399654402005\n",
      "C N -0.14370405403392028 1.3762959459660797\n",
      "C C -0.42254539710164263 1.1174546028983574\n",
      "C O -0.3431196591044061 1.1568803408955939\n",
      "C C -0.12247376568971036 1.4175262343102897\n",
      "O C -0.571176420554542 0.928823579445458\n",
      "C N -0.4141659795898176 1.1058340204101824\n",
      "C C -0.0679578309947706 1.4720421690052294\n",
      "C C -0.16574766512086114 1.374252334879139\n",
      "N N -0.002639676646514655 1.4973603233534853\n",
      "C C -0.22831520554669948 1.3116847944533006\n",
      "C N -0.7227516070884812 0.7972483929115188\n",
      "C C -0.3641207544989997 1.1758792455010003\n",
      "C C -0.27722963291024194 1.262770367089758\n",
      "C C -0.2167475675442736 1.3232524324557264\n",
      "C N -0.22091031872314448 1.2990896812768555\n",
      "O N -0.2952928631936087 1.1847071368063913\n",
      "O C -0.3901774916681482 1.1098225083318518\n",
      "C N -0.438321212189126 1.081678787810874\n",
      "C C -0.09850424905239508 1.441495750947605\n",
      "C C -1.1721780321949231 0.36782196780507687\n",
      "O C -0.6709179775197145 0.8290820224802855\n"
     ]
    },
    {
     "name": "stderr",
     "output_type": "stream",
     "text": [
      "/home/Grx/.local/lib/python3.11/site-packages/jax/_src/ops/scatter.py:94: FutureWarning: scatter inputs have incompatible types: cannot safely cast value from dtype=int64 to dtype=int32 with jax_numpy_dtype_promotion='standard'. In future JAX releases this will result in an error.\n",
      "  warnings.warn(\n"
     ]
    },
    {
     "name": "stdout",
     "output_type": "stream",
     "text": [
      "C C -0.4016685794276684 1.1383314205723316\n",
      "C C -0.044127905847790805 1.4958720941522092\n",
      "C N -0.1857041474045591 1.334295852595441\n",
      "C C -0.34910786200359545 1.1908921379964046\n",
      "C C -0.598483975991129 0.941516024008871\n",
      "C O -0.13917700483197648 1.3608229951680235\n",
      "O C -0.5421952988421141 0.9578047011578859\n",
      "C N -0.2868107226840526 1.2331892773159474\n",
      "C C -0.133420553758822 1.406579446241178\n",
      "C C -0.1325528975544641 1.407447102445536\n",
      "C C -0.1013986628942003 1.4386013371057997\n",
      "16 166.05674290657043\n",
      "./alfpdb/alf18/apdb.pdb ./templete/7SMZ_A/rec.pdb\n",
      "./alfpdb/alf18/apdb.pdb ./templete/3MGX_A/rec.pdb\n",
      "./alfpdb/alf18/apdb.pdb ./templete/5LIE_A/rec.pdb\n",
      "./alfpdb/alf18/apdb.pdb ./templete/4PWV_A/rec.pdb\n",
      "./alfpdb/alf18/apdb.pdb ./templete/5LI6_A/rec.pdb\n",
      "./alfpdb/alf18/apdb.pdb ./templete/4TRI_A/rec.pdb\n",
      "./alfpdb/alf18/apdb.pdb ./templete/5LI7_A/rec.pdb\n",
      "./alfpdb/alf18/apdb.pdb ./templete/4RM4_A/rec.pdb\n",
      "./alfpdb/alf18/apdb.pdb ./templete/2RFB_A/rec.pdb\n",
      "./alfpdb/alf18/apdb.pdb ./templete/7QQ7_A/rec.pdb\n",
      "./alfpdb/alf18/apdb.pdb ./templete/2XKR_A/rec.pdb\n",
      "./alfpdb/alf18/apdb.pdb ./templete/6B11_A/rec.pdb\n",
      "./alfpdb/alf18/apdb.pdb ./templete/7P5T_A/rec.pdb\n",
      "./alfpdb/alf18/apdb.pdb ./templete/7QJL_A/rec.pdb\n",
      "./alfpdb/alf18/apdb.pdb ./templete/4LHT_A/rec.pdb\n",
      "./alfpdb/alf18/apdb.pdb ./templete/3WVS_A/rec.pdb\n",
      "./alfpdb/alf18/apdb.pdb ./templete/5L92_A/rec.pdb\n",
      "./alfpdb/alf18/apdb.pdb ./templete/5L94_A/rec.pdb\n",
      "./alfpdb/alf18/apdb.pdb ./templete/4L77_A/rec.pdb\n",
      "./alfpdb/alf18/apdb.pdb ./templete/7WEX_A/rec.pdb\n",
      "2791 2.0009772612401173\n"
     ]
    },
    {
     "name": "stderr",
     "output_type": "stream",
     "text": [
      "/home/Grx/.local/lib/python3.11/site-packages/jax/_src/ops/scatter.py:94: FutureWarning: scatter inputs have incompatible types: cannot safely cast value from dtype=int64 to dtype=int32 with jax_numpy_dtype_promotion='standard'. In future JAX releases this will result in an error.\n",
      "  warnings.warn(\n"
     ]
    },
    {
     "name": "stdout",
     "output_type": "stream",
     "text": [
      "2791 2.0519445084531753\n",
      "2791 2.0009772612401173\n"
     ]
    },
    {
     "name": "stderr",
     "output_type": "stream",
     "text": [
      "/home/Grx/.local/lib/python3.11/site-packages/jax/_src/ops/scatter.py:94: FutureWarning: scatter inputs have incompatible types: cannot safely cast value from dtype=int64 to dtype=int32 with jax_numpy_dtype_promotion='standard'. In future JAX releases this will result in an error.\n",
      "  warnings.warn(\n"
     ]
    },
    {
     "name": "stdout",
     "output_type": "stream",
     "text": [
      "2791 2.061380423476318\n",
      "2791 2.0009772612401173\n"
     ]
    },
    {
     "name": "stderr",
     "output_type": "stream",
     "text": [
      "/home/Grx/.local/lib/python3.11/site-packages/jax/_src/ops/scatter.py:94: FutureWarning: scatter inputs have incompatible types: cannot safely cast value from dtype=int64 to dtype=int32 with jax_numpy_dtype_promotion='standard'. In future JAX releases this will result in an error.\n",
      "  warnings.warn(\n"
     ]
    },
    {
     "name": "stdout",
     "output_type": "stream",
     "text": [
      "2791 2.0055635180946205\n",
      "2791 2.0009772612401173\n"
     ]
    },
    {
     "name": "stderr",
     "output_type": "stream",
     "text": [
      "/home/Grx/.local/lib/python3.11/site-packages/jax/_src/ops/scatter.py:94: FutureWarning: scatter inputs have incompatible types: cannot safely cast value from dtype=int64 to dtype=int32 with jax_numpy_dtype_promotion='standard'. In future JAX releases this will result in an error.\n",
      "  warnings.warn(\n"
     ]
    },
    {
     "name": "stdout",
     "output_type": "stream",
     "text": [
      "2791 2.0069918604100376\n",
      "18 112.43986678123474\n",
      "./alfpdb/alf19/apdb.pdb ./templete/1WIY_A/rec.pdb\n",
      "./alfpdb/alf19/apdb.pdb ./templete/3DBG_A/rec.pdb\n",
      "./alfpdb/alf19/apdb.pdb ./templete/1N97_A/rec.pdb\n",
      "./alfpdb/alf19/apdb.pdb ./templete/7KVJ_A/rec.pdb\n",
      "./alfpdb/alf19/apdb.pdb ./templete/7TTP_A/rec.pdb\n",
      "./alfpdb/alf19/apdb.pdb ./templete/8EWD_A/rec.pdb\n",
      "./alfpdb/alf19/apdb.pdb ./templete/7TTO_A/rec.pdb\n",
      "./alfpdb/alf19/apdb.pdb ./templete/7TTB_A/rec.pdb\n",
      "./alfpdb/alf19/apdb.pdb ./templete/7TTA_A/rec.pdb\n",
      "./alfpdb/alf19/apdb.pdb ./templete/3TJS_A/rec.pdb\n",
      "./alfpdb/alf19/apdb.pdb ./templete/3PSX_A/rec.pdb\n",
      "./alfpdb/alf19/apdb.pdb ./templete/6UNM_A/rec.pdb\n",
      "./alfpdb/alf19/apdb.pdb ./templete/7UAY_A/rec.pdb\n",
      "./alfpdb/alf19/apdb.pdb ./templete/8EXB_A/rec.pdb\n",
      "./alfpdb/alf19/apdb.pdb ./templete/6DAB_A/rec.pdb\n",
      "./alfpdb/alf19/apdb.pdb ./templete/3EL3_A/rec.pdb\n",
      "./alfpdb/alf19/apdb.pdb ./templete/8EWM_A/rec.pdb\n",
      "./alfpdb/alf19/apdb.pdb ./templete/6BDH_A/rec.pdb\n",
      "./alfpdb/alf19/apdb.pdb ./templete/6UNJ_A/rec.pdb\n",
      "./alfpdb/alf19/apdb.pdb ./templete/7UAZ_A/rec.pdb\n",
      "3364 1.9462320005590281\n"
     ]
    },
    {
     "name": "stderr",
     "output_type": "stream",
     "text": [
      "/home/Grx/.local/lib/python3.11/site-packages/jax/_src/ops/scatter.py:94: FutureWarning: scatter inputs have incompatible types: cannot safely cast value from dtype=int64 to dtype=int32 with jax_numpy_dtype_promotion='standard'. In future JAX releases this will result in an error.\n",
      "  warnings.warn(\n"
     ]
    },
    {
     "name": "stdout",
     "output_type": "stream",
     "text": [
      "3364 2.028994054575212\n",
      "3364 1.9462320005590281\n"
     ]
    },
    {
     "name": "stderr",
     "output_type": "stream",
     "text": [
      "/home/Grx/.local/lib/python3.11/site-packages/jax/_src/ops/scatter.py:94: FutureWarning: scatter inputs have incompatible types: cannot safely cast value from dtype=int64 to dtype=int32 with jax_numpy_dtype_promotion='standard'. In future JAX releases this will result in an error.\n",
      "  warnings.warn(\n"
     ]
    },
    {
     "name": "stdout",
     "output_type": "stream",
     "text": [
      "3364 2.03880633066468\n",
      "3364 1.9462320005590281\n"
     ]
    },
    {
     "name": "stderr",
     "output_type": "stream",
     "text": [
      "/home/Grx/.local/lib/python3.11/site-packages/jax/_src/ops/scatter.py:94: FutureWarning: scatter inputs have incompatible types: cannot safely cast value from dtype=int64 to dtype=int32 with jax_numpy_dtype_promotion='standard'. In future JAX releases this will result in an error.\n",
      "  warnings.warn(\n"
     ]
    },
    {
     "name": "stdout",
     "output_type": "stream",
     "text": [
      "3364 1.9560792085857523\n",
      "3364 1.9462320005590281\n"
     ]
    },
    {
     "name": "stderr",
     "output_type": "stream",
     "text": [
      "/home/Grx/.local/lib/python3.11/site-packages/jax/_src/ops/scatter.py:94: FutureWarning: scatter inputs have incompatible types: cannot safely cast value from dtype=int64 to dtype=int32 with jax_numpy_dtype_promotion='standard'. In future JAX releases this will result in an error.\n",
      "  warnings.warn(\n"
     ]
    },
    {
     "name": "stdout",
     "output_type": "stream",
     "text": [
      "3364 1.9576072285404122\n",
      "19 133.96026730537415\n"
     ]
    }
   ],
   "source": [
    "for i in range(0,20):\n",
    "    \n",
    "    if i==4 or i==7 or i==17:\n",
    "        continue\n",
    "    \n",
    "    t0=time.time()\n",
    "    prtpath='./alfpdb/alf'+str(i)+'/apdb.pdb'\n",
    "    teml=get_tem(0,10,i)\n",
    "    success,suct,fesx=get_mdp(teml,prtpath)\n",
    "    t1=time.time()\n",
    "    resultax0.append([prtpath,success,fesx,t1-t0+60])\n",
    "    \n",
    "    succ,crashn,fes=md(suct,0,0,0,i)\n",
    "    t2=time.time()\n",
    "    resultax1.append([prtpath,succ,fes,t2-t0+60])\n",
    "    \n",
    "    succ,crashn,fes=md(suct,0,1,1,i)\n",
    "    t3=time.time()\n",
    "    resultax2.append([prtpath,succ,fes,(t3-t2)+(t1-t0)+60])\n",
    "    \n",
    "    succ,crashn,fes=md(suct,1,0,2,i)\n",
    "    t4=time.time()\n",
    "    resultax3.append([prtpath,succ,fes,(t4-t3)+(t1-t0)+60])\n",
    "    \n",
    "    succ,crashn,fes=md(suct,1,1,3,i)\n",
    "    t5=time.time()\n",
    "    resultax4.append([prtpath,succ,fes,(t5-t4)+(t1-t0)+60])\n",
    "    \n",
    "    print(i,time.time()-t0)"
   ]
  },
  {
   "cell_type": "code",
   "execution_count": 37,
   "id": "967ed68e",
   "metadata": {},
   "outputs": [
    {
     "name": "stderr",
     "output_type": "stream",
     "text": [
      "/home/Grx/.local/lib/python3.11/site-packages/jax/_src/ops/scatter.py:94: FutureWarning: scatter inputs have incompatible types: cannot safely cast value from dtype=int64 to dtype=int32 with jax_numpy_dtype_promotion='standard'. In future JAX releases this will result in an error.\n",
      "  warnings.warn(\n"
     ]
    },
    {
     "name": "stdout",
     "output_type": "stream",
     "text": [
      "./alfpdb/alf0/apdb.pdb ./templete/8EWQ_A/rec.pdb\n",
      "./alfpdb/alf0/apdb.pdb ./templete/5VCD_A/rec.pdb\n",
      "./alfpdb/alf0/apdb.pdb ./templete/6DAL_A/rec.pdb\n",
      "./alfpdb/alf0/apdb.pdb ./templete/6DAC_A/rec.pdb\n",
      "./alfpdb/alf0/apdb.pdb ./templete/6MJM_A/rec.pdb\n",
      "./alfpdb/alf0/apdb.pdb ./templete/8EWE_A/rec.pdb\n",
      "./alfpdb/alf0/apdb.pdb ./templete/7LAD_A/rec.pdb\n",
      "./alfpdb/alf0/apdb.pdb ./templete/6BCZ_A/rec.pdb\n",
      "./alfpdb/alf0/apdb.pdb ./templete/6MA6_A/rec.pdb\n",
      "./alfpdb/alf0/apdb.pdb ./templete/6DA2_A/rec.pdb\n",
      "./alfpdb/alf0/apdb.pdb ./templete/5VCC_A/rec.pdb\n",
      "./alfpdb/alf0/apdb.pdb ./templete/7UFB_A/rec.pdb\n",
      "./alfpdb/alf0/apdb.pdb ./templete/6OO9_A/rec.pdb\n",
      "./alfpdb/alf0/apdb.pdb ./templete/4D75_A/rec.pdb\n",
      "./alfpdb/alf0/apdb.pdb ./templete/6BD8_A/rec.pdb\n",
      "./alfpdb/alf0/apdb.pdb ./templete/6MA8_A/rec.pdb\n",
      "./alfpdb/alf0/apdb.pdb ./templete/6BD5_A/rec.pdb\n",
      "./alfpdb/alf0/apdb.pdb ./templete/7KVP_A/rec.pdb\n",
      "./alfpdb/alf0/apdb.pdb ./templete/8EWP_A/rec.pdb\n",
      "./alfpdb/alf0/apdb.pdb ./templete/6OOA_A/rec.pdb\n"
     ]
    },
    {
     "name": "stderr",
     "output_type": "stream",
     "text": [
      "/home/Grx/.local/lib/python3.11/site-packages/jax/_src/ops/scatter.py:94: FutureWarning: scatter inputs have incompatible types: cannot safely cast value from dtype=int64 to dtype=int32 with jax_numpy_dtype_promotion='standard'. In future JAX releases this will result in an error.\n",
      "  warnings.warn(\n"
     ]
    },
    {
     "name": "stdout",
     "output_type": "stream",
     "text": [
      "./alfpdb/alf0/apdb.pdb ./templete/8EWQ_A/rec.pdb\n",
      "./alfpdb/alf0/apdb.pdb ./templete/5VCD_A/rec.pdb\n",
      "./alfpdb/alf0/apdb.pdb ./templete/6DAL_A/rec.pdb\n",
      "./alfpdb/alf0/apdb.pdb ./templete/6DAC_A/rec.pdb\n",
      "./alfpdb/alf0/apdb.pdb ./templete/6MJM_A/rec.pdb\n",
      "./alfpdb/alf0/apdb.pdb ./templete/8EWE_A/rec.pdb\n",
      "./alfpdb/alf0/apdb.pdb ./templete/7LAD_A/rec.pdb\n",
      "./alfpdb/alf0/apdb.pdb ./templete/6BCZ_A/rec.pdb\n",
      "./alfpdb/alf0/apdb.pdb ./templete/6MA6_A/rec.pdb\n",
      "./alfpdb/alf0/apdb.pdb ./templete/6DA2_A/rec.pdb\n",
      "./alfpdb/alf0/apdb.pdb ./templete/5VCC_A/rec.pdb\n",
      "./alfpdb/alf0/apdb.pdb ./templete/7UFB_A/rec.pdb\n",
      "./alfpdb/alf0/apdb.pdb ./templete/6OO9_A/rec.pdb\n",
      "./alfpdb/alf0/apdb.pdb ./templete/4D75_A/rec.pdb\n",
      "./alfpdb/alf0/apdb.pdb ./templete/6BD8_A/rec.pdb\n",
      "./alfpdb/alf0/apdb.pdb ./templete/6MA8_A/rec.pdb\n",
      "./alfpdb/alf0/apdb.pdb ./templete/6BD5_A/rec.pdb\n",
      "./alfpdb/alf0/apdb.pdb ./templete/7KVP_A/rec.pdb\n",
      "./alfpdb/alf0/apdb.pdb ./templete/8EWP_A/rec.pdb\n",
      "./alfpdb/alf0/apdb.pdb ./templete/6OOA_A/rec.pdb\n"
     ]
    },
    {
     "name": "stderr",
     "output_type": "stream",
     "text": [
      "/home/Grx/.local/lib/python3.11/site-packages/jax/_src/ops/scatter.py:94: FutureWarning: scatter inputs have incompatible types: cannot safely cast value from dtype=int64 to dtype=int32 with jax_numpy_dtype_promotion='standard'. In future JAX releases this will result in an error.\n",
      "  warnings.warn(\n"
     ]
    },
    {
     "name": "stdout",
     "output_type": "stream",
     "text": [
      "./alfpdb/alf0/apdb.pdb ./templete/8EWQ_A/rec.pdb\n",
      "./alfpdb/alf0/apdb.pdb ./templete/5VCD_A/rec.pdb\n",
      "./alfpdb/alf0/apdb.pdb ./templete/6DAL_A/rec.pdb\n",
      "./alfpdb/alf0/apdb.pdb ./templete/6DAC_A/rec.pdb\n",
      "./alfpdb/alf0/apdb.pdb ./templete/6MJM_A/rec.pdb\n",
      "./alfpdb/alf0/apdb.pdb ./templete/8EWE_A/rec.pdb\n",
      "./alfpdb/alf0/apdb.pdb ./templete/7LAD_A/rec.pdb\n",
      "./alfpdb/alf0/apdb.pdb ./templete/6BCZ_A/rec.pdb\n",
      "./alfpdb/alf0/apdb.pdb ./templete/6MA6_A/rec.pdb\n",
      "./alfpdb/alf0/apdb.pdb ./templete/6DA2_A/rec.pdb\n",
      "./alfpdb/alf0/apdb.pdb ./templete/5VCC_A/rec.pdb\n",
      "./alfpdb/alf0/apdb.pdb ./templete/7UFB_A/rec.pdb\n",
      "./alfpdb/alf0/apdb.pdb ./templete/6OO9_A/rec.pdb\n",
      "./alfpdb/alf0/apdb.pdb ./templete/4D75_A/rec.pdb\n",
      "./alfpdb/alf0/apdb.pdb ./templete/6BD8_A/rec.pdb\n",
      "./alfpdb/alf0/apdb.pdb ./templete/6MA8_A/rec.pdb\n",
      "./alfpdb/alf0/apdb.pdb ./templete/6BD5_A/rec.pdb\n",
      "./alfpdb/alf0/apdb.pdb ./templete/7KVP_A/rec.pdb\n",
      "./alfpdb/alf0/apdb.pdb ./templete/8EWP_A/rec.pdb\n",
      "./alfpdb/alf0/apdb.pdb ./templete/6OOA_A/rec.pdb\n"
     ]
    },
    {
     "name": "stderr",
     "output_type": "stream",
     "text": [
      "/home/Grx/.local/lib/python3.11/site-packages/jax/_src/ops/scatter.py:94: FutureWarning: scatter inputs have incompatible types: cannot safely cast value from dtype=int64 to dtype=int32 with jax_numpy_dtype_promotion='standard'. In future JAX releases this will result in an error.\n",
      "  warnings.warn(\n"
     ]
    },
    {
     "name": "stdout",
     "output_type": "stream",
     "text": [
      "0 128.88122868537903\n",
      "2829 2.1728492814735225\n"
     ]
    },
    {
     "name": "stderr",
     "output_type": "stream",
     "text": [
      "/home/Grx/.local/lib/python3.11/site-packages/jax/_src/ops/scatter.py:94: FutureWarning: scatter inputs have incompatible types: cannot safely cast value from dtype=int64 to dtype=int32 with jax_numpy_dtype_promotion='standard'. In future JAX releases this will result in an error.\n",
      "  warnings.warn(\n"
     ]
    },
    {
     "name": "stdout",
     "output_type": "stream",
     "text": [
      "2829 2.164908721875325\n",
      "./alfpdb/alf1/apdb.pdb ./templete/4LHT_A/rec.pdb\n",
      "./alfpdb/alf1/apdb.pdb ./templete/3BDZ_A/rec.pdb\n",
      "./alfpdb/alf1/apdb.pdb ./templete/4L77_A/rec.pdb\n",
      "./alfpdb/alf1/apdb.pdb ./templete/4L6G_A/rec.pdb\n",
      "./alfpdb/alf1/apdb.pdb ./templete/1T2B_A/rec.pdb\n",
      "./alfpdb/alf1/apdb.pdb ./templete/3BE0_A/rec.pdb\n",
      "./alfpdb/alf1/apdb.pdb ./templete/4FYZ_A/rec.pdb\n",
      "./alfpdb/alf1/apdb.pdb ./templete/5L92_A/rec.pdb\n",
      "./alfpdb/alf1/apdb.pdb ./templete/5L94_A/rec.pdb\n",
      "./alfpdb/alf1/apdb.pdb ./templete/4RM4_A/rec.pdb\n",
      "./alfpdb/alf1/apdb.pdb ./templete/4YZR_A/rec.pdb\n",
      "./alfpdb/alf1/apdb.pdb ./templete/5VWS_A/rec.pdb\n",
      "./alfpdb/alf1/apdb.pdb ./templete/2XKR_A/rec.pdb\n",
      "./alfpdb/alf1/apdb.pdb ./templete/7QQ7_A/rec.pdb\n",
      "./alfpdb/alf1/apdb.pdb ./templete/7P5T_A/rec.pdb\n",
      "./alfpdb/alf1/apdb.pdb ./templete/6GMF_A/rec.pdb\n",
      "./alfpdb/alf1/apdb.pdb ./templete/7QJL_A/rec.pdb\n",
      "./alfpdb/alf1/apdb.pdb ./templete/6B11_A/rec.pdb\n",
      "./alfpdb/alf1/apdb.pdb ./templete/5FOI_A/rec.pdb\n",
      "./alfpdb/alf1/apdb.pdb ./templete/7SMZ_A/rec.pdb\n",
      "2829 2.1728492814735225\n"
     ]
    },
    {
     "name": "stderr",
     "output_type": "stream",
     "text": [
      "/home/Grx/.local/lib/python3.11/site-packages/jax/_src/ops/scatter.py:94: FutureWarning: scatter inputs have incompatible types: cannot safely cast value from dtype=int64 to dtype=int32 with jax_numpy_dtype_promotion='standard'. In future JAX releases this will result in an error.\n",
      "  warnings.warn(\n"
     ]
    },
    {
     "name": "stdout",
     "output_type": "stream",
     "text": [
      "2829 2.164908721875325\n",
      "./alfpdb/alf1/apdb.pdb ./templete/4LHT_A/rec.pdb\n",
      "./alfpdb/alf1/apdb.pdb ./templete/3BDZ_A/rec.pdb\n",
      "./alfpdb/alf1/apdb.pdb ./templete/4L77_A/rec.pdb\n",
      "./alfpdb/alf1/apdb.pdb ./templete/4L6G_A/rec.pdb\n",
      "./alfpdb/alf1/apdb.pdb ./templete/1T2B_A/rec.pdb\n",
      "./alfpdb/alf1/apdb.pdb ./templete/3BE0_A/rec.pdb\n",
      "./alfpdb/alf1/apdb.pdb ./templete/4FYZ_A/rec.pdb\n",
      "./alfpdb/alf1/apdb.pdb ./templete/5L92_A/rec.pdb\n",
      "./alfpdb/alf1/apdb.pdb ./templete/5L94_A/rec.pdb\n",
      "./alfpdb/alf1/apdb.pdb ./templete/4RM4_A/rec.pdb\n",
      "./alfpdb/alf1/apdb.pdb ./templete/4YZR_A/rec.pdb\n",
      "./alfpdb/alf1/apdb.pdb ./templete/5VWS_A/rec.pdb\n",
      "./alfpdb/alf1/apdb.pdb ./templete/2XKR_A/rec.pdb\n",
      "./alfpdb/alf1/apdb.pdb ./templete/7QQ7_A/rec.pdb\n",
      "./alfpdb/alf1/apdb.pdb ./templete/7P5T_A/rec.pdb\n",
      "./alfpdb/alf1/apdb.pdb ./templete/6GMF_A/rec.pdb\n",
      "./alfpdb/alf1/apdb.pdb ./templete/7QJL_A/rec.pdb\n",
      "./alfpdb/alf1/apdb.pdb ./templete/6B11_A/rec.pdb\n",
      "./alfpdb/alf1/apdb.pdb ./templete/5FOI_A/rec.pdb\n",
      "./alfpdb/alf1/apdb.pdb ./templete/7SMZ_A/rec.pdb\n",
      "2829 2.1728492814735225\n"
     ]
    },
    {
     "name": "stderr",
     "output_type": "stream",
     "text": [
      "/home/Grx/.local/lib/python3.11/site-packages/jax/_src/ops/scatter.py:94: FutureWarning: scatter inputs have incompatible types: cannot safely cast value from dtype=int64 to dtype=int32 with jax_numpy_dtype_promotion='standard'. In future JAX releases this will result in an error.\n",
      "  warnings.warn(\n"
     ]
    },
    {
     "name": "stdout",
     "output_type": "stream",
     "text": [
      "2829 2.164908721875325\n",
      "./alfpdb/alf1/apdb.pdb ./templete/4LHT_A/rec.pdb\n",
      "./alfpdb/alf1/apdb.pdb ./templete/3BDZ_A/rec.pdb\n",
      "./alfpdb/alf1/apdb.pdb ./templete/4L77_A/rec.pdb\n",
      "./alfpdb/alf1/apdb.pdb ./templete/4L6G_A/rec.pdb\n",
      "./alfpdb/alf1/apdb.pdb ./templete/1T2B_A/rec.pdb\n",
      "./alfpdb/alf1/apdb.pdb ./templete/3BE0_A/rec.pdb\n",
      "./alfpdb/alf1/apdb.pdb ./templete/4FYZ_A/rec.pdb\n",
      "./alfpdb/alf1/apdb.pdb ./templete/5L92_A/rec.pdb\n",
      "./alfpdb/alf1/apdb.pdb ./templete/5L94_A/rec.pdb\n",
      "./alfpdb/alf1/apdb.pdb ./templete/4RM4_A/rec.pdb\n",
      "./alfpdb/alf1/apdb.pdb ./templete/4YZR_A/rec.pdb\n",
      "./alfpdb/alf1/apdb.pdb ./templete/5VWS_A/rec.pdb\n",
      "./alfpdb/alf1/apdb.pdb ./templete/2XKR_A/rec.pdb\n",
      "./alfpdb/alf1/apdb.pdb ./templete/7QQ7_A/rec.pdb\n",
      "./alfpdb/alf1/apdb.pdb ./templete/7P5T_A/rec.pdb\n",
      "./alfpdb/alf1/apdb.pdb ./templete/6GMF_A/rec.pdb\n",
      "./alfpdb/alf1/apdb.pdb ./templete/7QJL_A/rec.pdb\n",
      "./alfpdb/alf1/apdb.pdb ./templete/6B11_A/rec.pdb\n",
      "./alfpdb/alf1/apdb.pdb ./templete/5FOI_A/rec.pdb\n",
      "./alfpdb/alf1/apdb.pdb ./templete/7SMZ_A/rec.pdb\n",
      "2829 2.1728492814735225\n"
     ]
    },
    {
     "name": "stderr",
     "output_type": "stream",
     "text": [
      "/home/Grx/.local/lib/python3.11/site-packages/jax/_src/ops/scatter.py:94: FutureWarning: scatter inputs have incompatible types: cannot safely cast value from dtype=int64 to dtype=int32 with jax_numpy_dtype_promotion='standard'. In future JAX releases this will result in an error.\n",
      "  warnings.warn(\n"
     ]
    },
    {
     "name": "stdout",
     "output_type": "stream",
     "text": [
      "2829 2.164908721875326\n",
      "1 100.95105695724487\n",
      "2707 2.7608589243204715\n"
     ]
    },
    {
     "name": "stderr",
     "output_type": "stream",
     "text": [
      "/home/Grx/.local/lib/python3.11/site-packages/jax/_src/ops/scatter.py:94: FutureWarning: scatter inputs have incompatible types: cannot safely cast value from dtype=int64 to dtype=int32 with jax_numpy_dtype_promotion='standard'. In future JAX releases this will result in an error.\n",
      "  warnings.warn(\n"
     ]
    },
    {
     "name": "stdout",
     "output_type": "stream",
     "text": [
      "2707 2.758981130985717\n",
      "./alfpdb/alf2/apdb.pdb ./templete/2RFB_A/rec.pdb\n",
      "./alfpdb/alf2/apdb.pdb ./templete/1WIY_A/rec.pdb\n",
      "./alfpdb/alf2/apdb.pdb ./templete/4R1Z_A/rec.pdb\n",
      "./alfpdb/alf2/apdb.pdb ./templete/4RM4_A/rec.pdb\n",
      "./alfpdb/alf2/apdb.pdb ./templete/2Q9G_A/rec.pdb\n",
      "./alfpdb/alf2/apdb.pdb ./templete/4R20_A/rec.pdb\n",
      "./alfpdb/alf2/apdb.pdb ./templete/3MDV_A/rec.pdb\n",
      "./alfpdb/alf2/apdb.pdb ./templete/3MDT_A/rec.pdb\n",
      "./alfpdb/alf2/apdb.pdb ./templete/4ENH_A/rec.pdb\n",
      "./alfpdb/alf2/apdb.pdb ./templete/4FIA_A/rec.pdb\n",
      "./alfpdb/alf2/apdb.pdb ./templete/4TX3_A/rec.pdb\n",
      "./alfpdb/alf2/apdb.pdb ./templete/6M7L_A/rec.pdb\n",
      "./alfpdb/alf2/apdb.pdb ./templete/3MDR_A/rec.pdb\n",
      "./alfpdb/alf2/apdb.pdb ./templete/6F0B_A/rec.pdb\n",
      "./alfpdb/alf2/apdb.pdb ./templete/6F0C_A/rec.pdb\n",
      "./alfpdb/alf2/apdb.pdb ./templete/3B4X_A/rec.pdb\n",
      "./alfpdb/alf2/apdb.pdb ./templete/7LS3_A/rec.pdb\n",
      "./alfpdb/alf2/apdb.pdb ./templete/1LFK_A/rec.pdb\n",
      "./alfpdb/alf2/apdb.pdb ./templete/4Z5Q_A/rec.pdb\n",
      "./alfpdb/alf2/apdb.pdb ./templete/1UE8_A/rec.pdb\n",
      "2707 2.7608589243204715\n"
     ]
    },
    {
     "name": "stderr",
     "output_type": "stream",
     "text": [
      "/home/Grx/.local/lib/python3.11/site-packages/jax/_src/ops/scatter.py:94: FutureWarning: scatter inputs have incompatible types: cannot safely cast value from dtype=int64 to dtype=int32 with jax_numpy_dtype_promotion='standard'. In future JAX releases this will result in an error.\n",
      "  warnings.warn(\n"
     ]
    },
    {
     "name": "stdout",
     "output_type": "stream",
     "text": [
      "2707 2.758922236460009\n",
      "./alfpdb/alf2/apdb.pdb ./templete/2RFB_A/rec.pdb\n",
      "./alfpdb/alf2/apdb.pdb ./templete/1WIY_A/rec.pdb\n",
      "./alfpdb/alf2/apdb.pdb ./templete/4R1Z_A/rec.pdb\n",
      "./alfpdb/alf2/apdb.pdb ./templete/4RM4_A/rec.pdb\n",
      "./alfpdb/alf2/apdb.pdb ./templete/2Q9G_A/rec.pdb\n",
      "./alfpdb/alf2/apdb.pdb ./templete/4R20_A/rec.pdb\n",
      "./alfpdb/alf2/apdb.pdb ./templete/3MDV_A/rec.pdb\n",
      "./alfpdb/alf2/apdb.pdb ./templete/3MDT_A/rec.pdb\n",
      "./alfpdb/alf2/apdb.pdb ./templete/4ENH_A/rec.pdb\n",
      "./alfpdb/alf2/apdb.pdb ./templete/4FIA_A/rec.pdb\n",
      "./alfpdb/alf2/apdb.pdb ./templete/4TX3_A/rec.pdb\n",
      "./alfpdb/alf2/apdb.pdb ./templete/6M7L_A/rec.pdb\n",
      "./alfpdb/alf2/apdb.pdb ./templete/3MDR_A/rec.pdb\n",
      "./alfpdb/alf2/apdb.pdb ./templete/6F0B_A/rec.pdb\n",
      "./alfpdb/alf2/apdb.pdb ./templete/6F0C_A/rec.pdb\n",
      "./alfpdb/alf2/apdb.pdb ./templete/3B4X_A/rec.pdb\n",
      "./alfpdb/alf2/apdb.pdb ./templete/7LS3_A/rec.pdb\n",
      "./alfpdb/alf2/apdb.pdb ./templete/1LFK_A/rec.pdb\n",
      "./alfpdb/alf2/apdb.pdb ./templete/4Z5Q_A/rec.pdb\n",
      "./alfpdb/alf2/apdb.pdb ./templete/1UE8_A/rec.pdb\n",
      "2707 2.7608589243204715\n"
     ]
    },
    {
     "name": "stderr",
     "output_type": "stream",
     "text": [
      "/home/Grx/.local/lib/python3.11/site-packages/jax/_src/ops/scatter.py:94: FutureWarning: scatter inputs have incompatible types: cannot safely cast value from dtype=int64 to dtype=int32 with jax_numpy_dtype_promotion='standard'. In future JAX releases this will result in an error.\n",
      "  warnings.warn(\n"
     ]
    },
    {
     "name": "stdout",
     "output_type": "stream",
     "text": [
      "2707 2.758921663867799\n",
      "./alfpdb/alf2/apdb.pdb ./templete/2RFB_A/rec.pdb\n",
      "./alfpdb/alf2/apdb.pdb ./templete/1WIY_A/rec.pdb\n",
      "./alfpdb/alf2/apdb.pdb ./templete/4R1Z_A/rec.pdb\n",
      "./alfpdb/alf2/apdb.pdb ./templete/4RM4_A/rec.pdb\n",
      "./alfpdb/alf2/apdb.pdb ./templete/2Q9G_A/rec.pdb\n",
      "./alfpdb/alf2/apdb.pdb ./templete/4R20_A/rec.pdb\n",
      "./alfpdb/alf2/apdb.pdb ./templete/3MDV_A/rec.pdb\n",
      "./alfpdb/alf2/apdb.pdb ./templete/3MDT_A/rec.pdb\n",
      "./alfpdb/alf2/apdb.pdb ./templete/4ENH_A/rec.pdb\n",
      "./alfpdb/alf2/apdb.pdb ./templete/4FIA_A/rec.pdb\n",
      "./alfpdb/alf2/apdb.pdb ./templete/4TX3_A/rec.pdb\n",
      "./alfpdb/alf2/apdb.pdb ./templete/6M7L_A/rec.pdb\n",
      "./alfpdb/alf2/apdb.pdb ./templete/3MDR_A/rec.pdb\n",
      "./alfpdb/alf2/apdb.pdb ./templete/6F0B_A/rec.pdb\n",
      "./alfpdb/alf2/apdb.pdb ./templete/6F0C_A/rec.pdb\n",
      "./alfpdb/alf2/apdb.pdb ./templete/3B4X_A/rec.pdb\n",
      "./alfpdb/alf2/apdb.pdb ./templete/7LS3_A/rec.pdb\n",
      "./alfpdb/alf2/apdb.pdb ./templete/1LFK_A/rec.pdb\n",
      "./alfpdb/alf2/apdb.pdb ./templete/4Z5Q_A/rec.pdb\n",
      "./alfpdb/alf2/apdb.pdb ./templete/1UE8_A/rec.pdb\n",
      "2707 2.7608589243204715\n"
     ]
    },
    {
     "name": "stderr",
     "output_type": "stream",
     "text": [
      "/home/Grx/.local/lib/python3.11/site-packages/jax/_src/ops/scatter.py:94: FutureWarning: scatter inputs have incompatible types: cannot safely cast value from dtype=int64 to dtype=int32 with jax_numpy_dtype_promotion='standard'. In future JAX releases this will result in an error.\n",
      "  warnings.warn(\n"
     ]
    },
    {
     "name": "stdout",
     "output_type": "stream",
     "text": [
      "2707 2.7589807281361587\n",
      "2 119.46653604507446\n",
      "C C -0.516528456673075 1.023471543326925\n",
      "C O -0.282873465904222 1.217126534095778\n",
      "C N -0.28276396754701594 1.237236032452984\n",
      "C O -0.2061309958113997 1.2938690041886003\n",
      "C N -0.04878791467715349 1.4712120853228465\n",
      "C C -0.6009094825311043 0.9390905174688957\n",
      "C C -0.14115726402143425 1.3988427359785658\n",
      "C N -0.020808884764853763 1.4991911152351463\n",
      "C C -0.12455766631063492 1.4154423336893651\n",
      "C C -0.4078599909905134 1.1321400090094866\n"
     ]
    },
    {
     "name": "stderr",
     "output_type": "stream",
     "text": [
      "/home/Grx/.local/lib/python3.11/site-packages/jax/_src/ops/scatter.py:94: FutureWarning: scatter inputs have incompatible types: cannot safely cast value from dtype=int64 to dtype=int32 with jax_numpy_dtype_promotion='standard'. In future JAX releases this will result in an error.\n",
      "  warnings.warn(\n"
     ]
    },
    {
     "name": "stdout",
     "output_type": "stream",
     "text": [
      "./alfpdb/alf5/apdb.pdb ./templete/1WIY_A/rec.pdb\n",
      "./alfpdb/alf5/apdb.pdb ./templete/1N97_A/rec.pdb\n",
      "./alfpdb/alf5/apdb.pdb ./templete/2Q9G_A/rec.pdb\n",
      "./alfpdb/alf5/apdb.pdb ./templete/3MDV_A/rec.pdb\n",
      "./alfpdb/alf5/apdb.pdb ./templete/7LS4_A/rec.pdb\n",
      "./alfpdb/alf5/apdb.pdb ./templete/3MDR_A/rec.pdb\n",
      "./alfpdb/alf5/apdb.pdb ./templete/7LRL_A/rec.pdb\n",
      "./alfpdb/alf5/apdb.pdb ./templete/7LS3_A/rec.pdb\n",
      "./alfpdb/alf5/apdb.pdb ./templete/4ENH_A/rec.pdb\n",
      "./alfpdb/alf5/apdb.pdb ./templete/2Q9F_A/rec.pdb\n",
      "./alfpdb/alf5/apdb.pdb ./templete/3MDT_A/rec.pdb\n",
      "./alfpdb/alf5/apdb.pdb ./templete/4FIA_A/rec.pdb\n",
      "./alfpdb/alf5/apdb.pdb ./templete/7N3L_A/rec.pdb\n",
      "./alfpdb/alf5/apdb.pdb ./templete/7N6F_A/rec.pdb\n",
      "./alfpdb/alf5/apdb.pdb ./templete/3MDM_A/rec.pdb\n",
      "./alfpdb/alf5/apdb.pdb ./templete/4J14_A/rec.pdb\n",
      "./alfpdb/alf5/apdb.pdb ./templete/3DBG_A/rec.pdb\n",
      "./alfpdb/alf5/apdb.pdb ./templete/6A15_A/rec.pdb\n",
      "./alfpdb/alf5/apdb.pdb ./templete/4KEW_A/rec.pdb\n",
      "./alfpdb/alf5/apdb.pdb ./templete/6A18_A/rec.pdb\n"
     ]
    },
    {
     "name": "stderr",
     "output_type": "stream",
     "text": [
      "/home/Grx/.local/lib/python3.11/site-packages/jax/_src/ops/scatter.py:94: FutureWarning: scatter inputs have incompatible types: cannot safely cast value from dtype=int64 to dtype=int32 with jax_numpy_dtype_promotion='standard'. In future JAX releases this will result in an error.\n",
      "  warnings.warn(\n"
     ]
    },
    {
     "name": "stdout",
     "output_type": "stream",
     "text": [
      "./alfpdb/alf5/apdb.pdb ./templete/1WIY_A/rec.pdb\n",
      "./alfpdb/alf5/apdb.pdb ./templete/1N97_A/rec.pdb\n",
      "./alfpdb/alf5/apdb.pdb ./templete/2Q9G_A/rec.pdb\n",
      "./alfpdb/alf5/apdb.pdb ./templete/3MDV_A/rec.pdb\n",
      "./alfpdb/alf5/apdb.pdb ./templete/7LS4_A/rec.pdb\n",
      "./alfpdb/alf5/apdb.pdb ./templete/3MDR_A/rec.pdb\n",
      "./alfpdb/alf5/apdb.pdb ./templete/7LRL_A/rec.pdb\n",
      "./alfpdb/alf5/apdb.pdb ./templete/7LS3_A/rec.pdb\n",
      "./alfpdb/alf5/apdb.pdb ./templete/4ENH_A/rec.pdb\n",
      "./alfpdb/alf5/apdb.pdb ./templete/2Q9F_A/rec.pdb\n",
      "./alfpdb/alf5/apdb.pdb ./templete/3MDT_A/rec.pdb\n",
      "./alfpdb/alf5/apdb.pdb ./templete/4FIA_A/rec.pdb\n",
      "./alfpdb/alf5/apdb.pdb ./templete/7N3L_A/rec.pdb\n",
      "./alfpdb/alf5/apdb.pdb ./templete/7N6F_A/rec.pdb\n",
      "./alfpdb/alf5/apdb.pdb ./templete/3MDM_A/rec.pdb\n",
      "./alfpdb/alf5/apdb.pdb ./templete/4J14_A/rec.pdb\n",
      "./alfpdb/alf5/apdb.pdb ./templete/3DBG_A/rec.pdb\n",
      "./alfpdb/alf5/apdb.pdb ./templete/6A15_A/rec.pdb\n",
      "./alfpdb/alf5/apdb.pdb ./templete/4KEW_A/rec.pdb\n",
      "./alfpdb/alf5/apdb.pdb ./templete/6A18_A/rec.pdb\n"
     ]
    },
    {
     "name": "stderr",
     "output_type": "stream",
     "text": [
      "/home/Grx/.local/lib/python3.11/site-packages/jax/_src/ops/scatter.py:94: FutureWarning: scatter inputs have incompatible types: cannot safely cast value from dtype=int64 to dtype=int32 with jax_numpy_dtype_promotion='standard'. In future JAX releases this will result in an error.\n",
      "  warnings.warn(\n"
     ]
    },
    {
     "name": "stdout",
     "output_type": "stream",
     "text": [
      "./alfpdb/alf5/apdb.pdb ./templete/1WIY_A/rec.pdb\n",
      "./alfpdb/alf5/apdb.pdb ./templete/1N97_A/rec.pdb\n",
      "./alfpdb/alf5/apdb.pdb ./templete/2Q9G_A/rec.pdb\n",
      "./alfpdb/alf5/apdb.pdb ./templete/3MDV_A/rec.pdb\n",
      "./alfpdb/alf5/apdb.pdb ./templete/7LS4_A/rec.pdb\n",
      "./alfpdb/alf5/apdb.pdb ./templete/3MDR_A/rec.pdb\n",
      "./alfpdb/alf5/apdb.pdb ./templete/7LRL_A/rec.pdb\n",
      "./alfpdb/alf5/apdb.pdb ./templete/7LS3_A/rec.pdb\n",
      "./alfpdb/alf5/apdb.pdb ./templete/4ENH_A/rec.pdb\n",
      "./alfpdb/alf5/apdb.pdb ./templete/2Q9F_A/rec.pdb\n",
      "./alfpdb/alf5/apdb.pdb ./templete/3MDT_A/rec.pdb\n",
      "./alfpdb/alf5/apdb.pdb ./templete/4FIA_A/rec.pdb\n",
      "./alfpdb/alf5/apdb.pdb ./templete/7N3L_A/rec.pdb\n",
      "./alfpdb/alf5/apdb.pdb ./templete/7N6F_A/rec.pdb\n",
      "./alfpdb/alf5/apdb.pdb ./templete/3MDM_A/rec.pdb\n",
      "./alfpdb/alf5/apdb.pdb ./templete/4J14_A/rec.pdb\n",
      "./alfpdb/alf5/apdb.pdb ./templete/3DBG_A/rec.pdb\n",
      "./alfpdb/alf5/apdb.pdb ./templete/6A15_A/rec.pdb\n",
      "./alfpdb/alf5/apdb.pdb ./templete/4KEW_A/rec.pdb\n",
      "./alfpdb/alf5/apdb.pdb ./templete/6A18_A/rec.pdb\n",
      "3692 3.431788017928848\n"
     ]
    },
    {
     "name": "stderr",
     "output_type": "stream",
     "text": [
      "/home/Grx/.local/lib/python3.11/site-packages/jax/_src/ops/scatter.py:94: FutureWarning: scatter inputs have incompatible types: cannot safely cast value from dtype=int64 to dtype=int32 with jax_numpy_dtype_promotion='standard'. In future JAX releases this will result in an error.\n",
      "  warnings.warn(\n"
     ]
    },
    {
     "name": "stdout",
     "output_type": "stream",
     "text": [
      "C C -0.0032376978494925712 1.5367623021505075\n",
      "3692 3.426444345559412\n",
      "5 157.88746619224548\n",
      "3738 2.1581524505928655\n"
     ]
    },
    {
     "name": "stderr",
     "output_type": "stream",
     "text": [
      "/home/Grx/.local/lib/python3.11/site-packages/jax/_src/ops/scatter.py:94: FutureWarning: scatter inputs have incompatible types: cannot safely cast value from dtype=int64 to dtype=int32 with jax_numpy_dtype_promotion='standard'. In future JAX releases this will result in an error.\n",
      "  warnings.warn(\n"
     ]
    },
    {
     "name": "stdout",
     "output_type": "stream",
     "text": [
      "C O -0.040663146385351956 1.459336853614648\n",
      "3738 2.155582956318175\n",
      "./alfpdb/alf6/apdb.pdb ./templete/7LS4_A/rec.pdb\n",
      "./alfpdb/alf6/apdb.pdb ./templete/3PSX_A/rec.pdb\n",
      "./alfpdb/alf6/apdb.pdb ./templete/2X7Y_A/rec.pdb\n",
      "./alfpdb/alf6/apdb.pdb ./templete/2Q9G_A/rec.pdb\n",
      "./alfpdb/alf6/apdb.pdb ./templete/7LS3_A/rec.pdb\n",
      "./alfpdb/alf6/apdb.pdb ./templete/7KVJ_A/rec.pdb\n",
      "./alfpdb/alf6/apdb.pdb ./templete/5DYP_A/rec.pdb\n",
      "./alfpdb/alf6/apdb.pdb ./templete/7N6F_A/rec.pdb\n",
      "./alfpdb/alf6/apdb.pdb ./templete/7LRL_A/rec.pdb\n",
      "./alfpdb/alf6/apdb.pdb ./templete/7N3L_A/rec.pdb\n",
      "./alfpdb/alf6/apdb.pdb ./templete/7UFA_A/rec.pdb\n",
      "./alfpdb/alf6/apdb.pdb ./templete/6UNL_A/rec.pdb\n",
      "./alfpdb/alf6/apdb.pdb ./templete/6UNM_A/rec.pdb\n",
      "./alfpdb/alf6/apdb.pdb ./templete/7UAZ_A/rec.pdb\n",
      "./alfpdb/alf6/apdb.pdb ./templete/7UAY_A/rec.pdb\n",
      "./alfpdb/alf6/apdb.pdb ./templete/8EWD_A/rec.pdb\n",
      "./alfpdb/alf6/apdb.pdb ./templete/3HF2_A/rec.pdb\n",
      "./alfpdb/alf6/apdb.pdb ./templete/3EKF_A/rec.pdb\n",
      "./alfpdb/alf6/apdb.pdb ./templete/1YQO_A/rec.pdb\n",
      "./alfpdb/alf6/apdb.pdb ./templete/1P0X_A/rec.pdb\n",
      "3738 2.1581524505928655\n"
     ]
    },
    {
     "name": "stderr",
     "output_type": "stream",
     "text": [
      "/home/Grx/.local/lib/python3.11/site-packages/jax/_src/ops/scatter.py:94: FutureWarning: scatter inputs have incompatible types: cannot safely cast value from dtype=int64 to dtype=int32 with jax_numpy_dtype_promotion='standard'. In future JAX releases this will result in an error.\n",
      "  warnings.warn(\n"
     ]
    },
    {
     "name": "stdout",
     "output_type": "stream",
     "text": [
      "C O -0.04062877908837392 1.459371220911626\n",
      "3738 2.1555855240269604\n",
      "./alfpdb/alf6/apdb.pdb ./templete/7LS4_A/rec.pdb\n",
      "./alfpdb/alf6/apdb.pdb ./templete/3PSX_A/rec.pdb\n",
      "./alfpdb/alf6/apdb.pdb ./templete/2X7Y_A/rec.pdb\n",
      "./alfpdb/alf6/apdb.pdb ./templete/2Q9G_A/rec.pdb\n",
      "./alfpdb/alf6/apdb.pdb ./templete/7LS3_A/rec.pdb\n",
      "./alfpdb/alf6/apdb.pdb ./templete/7KVJ_A/rec.pdb\n",
      "./alfpdb/alf6/apdb.pdb ./templete/5DYP_A/rec.pdb\n",
      "./alfpdb/alf6/apdb.pdb ./templete/7N6F_A/rec.pdb\n",
      "./alfpdb/alf6/apdb.pdb ./templete/7LRL_A/rec.pdb\n",
      "./alfpdb/alf6/apdb.pdb ./templete/7N3L_A/rec.pdb\n",
      "./alfpdb/alf6/apdb.pdb ./templete/7UFA_A/rec.pdb\n",
      "./alfpdb/alf6/apdb.pdb ./templete/6UNL_A/rec.pdb\n",
      "./alfpdb/alf6/apdb.pdb ./templete/6UNM_A/rec.pdb\n",
      "./alfpdb/alf6/apdb.pdb ./templete/7UAZ_A/rec.pdb\n",
      "./alfpdb/alf6/apdb.pdb ./templete/7UAY_A/rec.pdb\n",
      "./alfpdb/alf6/apdb.pdb ./templete/8EWD_A/rec.pdb\n",
      "./alfpdb/alf6/apdb.pdb ./templete/3HF2_A/rec.pdb\n",
      "./alfpdb/alf6/apdb.pdb ./templete/3EKF_A/rec.pdb\n",
      "./alfpdb/alf6/apdb.pdb ./templete/1YQO_A/rec.pdb\n",
      "./alfpdb/alf6/apdb.pdb ./templete/1P0X_A/rec.pdb\n",
      "3738 1.3699383197793986\n",
      "FE S -0.4100616802206014 1.3699383197793986\n"
     ]
    },
    {
     "name": "stderr",
     "output_type": "stream",
     "text": [
      "/home/Grx/.local/lib/python3.11/site-packages/jax/_src/ops/scatter.py:94: FutureWarning: scatter inputs have incompatible types: cannot safely cast value from dtype=int64 to dtype=int32 with jax_numpy_dtype_promotion='standard'. In future JAX releases this will result in an error.\n",
      "  warnings.warn(\n"
     ]
    },
    {
     "name": "stdout",
     "output_type": "stream",
     "text": [
      "3738 1.8298377004910085\n",
      "./alfpdb/alf6/apdb.pdb ./templete/7LS4_A/rec.pdb\n",
      "./alfpdb/alf6/apdb.pdb ./templete/3PSX_A/rec.pdb\n",
      "./alfpdb/alf6/apdb.pdb ./templete/2X7Y_A/rec.pdb\n",
      "./alfpdb/alf6/apdb.pdb ./templete/2Q9G_A/rec.pdb\n",
      "./alfpdb/alf6/apdb.pdb ./templete/7LS3_A/rec.pdb\n",
      "./alfpdb/alf6/apdb.pdb ./templete/7KVJ_A/rec.pdb\n",
      "./alfpdb/alf6/apdb.pdb ./templete/5DYP_A/rec.pdb\n",
      "./alfpdb/alf6/apdb.pdb ./templete/7N6F_A/rec.pdb\n",
      "./alfpdb/alf6/apdb.pdb ./templete/7LRL_A/rec.pdb\n",
      "./alfpdb/alf6/apdb.pdb ./templete/7N3L_A/rec.pdb\n",
      "./alfpdb/alf6/apdb.pdb ./templete/7UFA_A/rec.pdb\n",
      "./alfpdb/alf6/apdb.pdb ./templete/6UNL_A/rec.pdb\n",
      "./alfpdb/alf6/apdb.pdb ./templete/6UNM_A/rec.pdb\n",
      "./alfpdb/alf6/apdb.pdb ./templete/7UAZ_A/rec.pdb\n",
      "./alfpdb/alf6/apdb.pdb ./templete/7UAY_A/rec.pdb\n",
      "./alfpdb/alf6/apdb.pdb ./templete/8EWD_A/rec.pdb\n",
      "./alfpdb/alf6/apdb.pdb ./templete/3HF2_A/rec.pdb\n",
      "./alfpdb/alf6/apdb.pdb ./templete/3EKF_A/rec.pdb\n",
      "./alfpdb/alf6/apdb.pdb ./templete/1YQO_A/rec.pdb\n",
      "./alfpdb/alf6/apdb.pdb ./templete/1P0X_A/rec.pdb\n",
      "3738 1.2064240547999694\n",
      "FE S -0.5735759452000306 1.2064240547999694\n"
     ]
    },
    {
     "name": "stderr",
     "output_type": "stream",
     "text": [
      "/home/Grx/.local/lib/python3.11/site-packages/jax/_src/ops/scatter.py:94: FutureWarning: scatter inputs have incompatible types: cannot safely cast value from dtype=int64 to dtype=int32 with jax_numpy_dtype_promotion='standard'. In future JAX releases this will result in an error.\n",
      "  warnings.warn(\n"
     ]
    },
    {
     "name": "stdout",
     "output_type": "stream",
     "text": [
      "3738 1.8369764659593169\n",
      "6 168.4492335319519\n",
      "2592 2.2667092888149547\n"
     ]
    },
    {
     "name": "stderr",
     "output_type": "stream",
     "text": [
      "/home/Grx/.local/lib/python3.11/site-packages/jax/_src/ops/scatter.py:94: FutureWarning: scatter inputs have incompatible types: cannot safely cast value from dtype=int64 to dtype=int32 with jax_numpy_dtype_promotion='standard'. In future JAX releases this will result in an error.\n",
      "  warnings.warn(\n"
     ]
    },
    {
     "name": "stdout",
     "output_type": "stream",
     "text": [
      "2592 2.2335131152779124\n",
      "./alfpdb/alf8/apdb.pdb ./templete/2RFB_A/rec.pdb\n",
      "./alfpdb/alf8/apdb.pdb ./templete/4RM4_A/rec.pdb\n",
      "./alfpdb/alf8/apdb.pdb ./templete/5VWS_A/rec.pdb\n",
      "./alfpdb/alf8/apdb.pdb ./templete/4TVF_A/rec.pdb\n",
      "./alfpdb/alf8/apdb.pdb ./templete/3BUJ_A/rec.pdb\n",
      "./alfpdb/alf8/apdb.pdb ./templete/4TX3_A/rec.pdb\n",
      "./alfpdb/alf8/apdb.pdb ./templete/4WPZ_A/rec.pdb\n",
      "./alfpdb/alf8/apdb.pdb ./templete/5L90_A/rec.pdb\n",
      "./alfpdb/alf8/apdb.pdb ./templete/5YSM_A/rec.pdb\n",
      "./alfpdb/alf8/apdb.pdb ./templete/3OO3_A/rec.pdb\n",
      "./alfpdb/alf8/apdb.pdb ./templete/4AW3_A/rec.pdb\n",
      "./alfpdb/alf8/apdb.pdb ./templete/4WQ0_A/rec.pdb\n",
      "./alfpdb/alf8/apdb.pdb ./templete/6M4S_A/rec.pdb\n",
      "./alfpdb/alf8/apdb.pdb ./templete/5YSW_A/rec.pdb\n",
      "./alfpdb/alf8/apdb.pdb ./templete/3ZSN_A/rec.pdb\n",
      "./alfpdb/alf8/apdb.pdb ./templete/2YCA_A/rec.pdb\n",
      "./alfpdb/alf8/apdb.pdb ./templete/2Y98_A/rec.pdb\n",
      "./alfpdb/alf8/apdb.pdb ./templete/5L91_A/rec.pdb\n",
      "./alfpdb/alf8/apdb.pdb ./templete/2Y5Z_A/rec.pdb\n",
      "./alfpdb/alf8/apdb.pdb ./templete/2Y46_A/rec.pdb\n",
      "2592 2.2667092888149547\n"
     ]
    },
    {
     "name": "stderr",
     "output_type": "stream",
     "text": [
      "/home/Grx/.local/lib/python3.11/site-packages/jax/_src/ops/scatter.py:94: FutureWarning: scatter inputs have incompatible types: cannot safely cast value from dtype=int64 to dtype=int32 with jax_numpy_dtype_promotion='standard'. In future JAX releases this will result in an error.\n",
      "  warnings.warn(\n"
     ]
    },
    {
     "name": "stdout",
     "output_type": "stream",
     "text": [
      "2592 2.259797997948459\n",
      "./alfpdb/alf8/apdb.pdb ./templete/2RFB_A/rec.pdb\n",
      "./alfpdb/alf8/apdb.pdb ./templete/4RM4_A/rec.pdb\n",
      "./alfpdb/alf8/apdb.pdb ./templete/5VWS_A/rec.pdb\n",
      "./alfpdb/alf8/apdb.pdb ./templete/4TVF_A/rec.pdb\n",
      "./alfpdb/alf8/apdb.pdb ./templete/3BUJ_A/rec.pdb\n",
      "./alfpdb/alf8/apdb.pdb ./templete/4TX3_A/rec.pdb\n",
      "./alfpdb/alf8/apdb.pdb ./templete/4WPZ_A/rec.pdb\n",
      "./alfpdb/alf8/apdb.pdb ./templete/5L90_A/rec.pdb\n",
      "./alfpdb/alf8/apdb.pdb ./templete/5YSM_A/rec.pdb\n",
      "./alfpdb/alf8/apdb.pdb ./templete/3OO3_A/rec.pdb\n",
      "./alfpdb/alf8/apdb.pdb ./templete/4AW3_A/rec.pdb\n",
      "./alfpdb/alf8/apdb.pdb ./templete/4WQ0_A/rec.pdb\n",
      "./alfpdb/alf8/apdb.pdb ./templete/6M4S_A/rec.pdb\n",
      "./alfpdb/alf8/apdb.pdb ./templete/5YSW_A/rec.pdb\n",
      "./alfpdb/alf8/apdb.pdb ./templete/3ZSN_A/rec.pdb\n",
      "./alfpdb/alf8/apdb.pdb ./templete/2YCA_A/rec.pdb\n",
      "./alfpdb/alf8/apdb.pdb ./templete/2Y98_A/rec.pdb\n",
      "./alfpdb/alf8/apdb.pdb ./templete/5L91_A/rec.pdb\n",
      "./alfpdb/alf8/apdb.pdb ./templete/2Y5Z_A/rec.pdb\n",
      "./alfpdb/alf8/apdb.pdb ./templete/2Y46_A/rec.pdb\n",
      "2592 2.2667092888149547\n"
     ]
    },
    {
     "name": "stderr",
     "output_type": "stream",
     "text": [
      "/home/Grx/.local/lib/python3.11/site-packages/jax/_src/ops/scatter.py:94: FutureWarning: scatter inputs have incompatible types: cannot safely cast value from dtype=int64 to dtype=int32 with jax_numpy_dtype_promotion='standard'. In future JAX releases this will result in an error.\n",
      "  warnings.warn(\n"
     ]
    },
    {
     "name": "stdout",
     "output_type": "stream",
     "text": [
      "2592 2.2659342815873926\n",
      "./alfpdb/alf8/apdb.pdb ./templete/2RFB_A/rec.pdb\n",
      "./alfpdb/alf8/apdb.pdb ./templete/4RM4_A/rec.pdb\n",
      "./alfpdb/alf8/apdb.pdb ./templete/5VWS_A/rec.pdb\n",
      "./alfpdb/alf8/apdb.pdb ./templete/4TVF_A/rec.pdb\n",
      "./alfpdb/alf8/apdb.pdb ./templete/3BUJ_A/rec.pdb\n",
      "./alfpdb/alf8/apdb.pdb ./templete/4TX3_A/rec.pdb\n",
      "./alfpdb/alf8/apdb.pdb ./templete/4WPZ_A/rec.pdb\n",
      "./alfpdb/alf8/apdb.pdb ./templete/5L90_A/rec.pdb\n",
      "./alfpdb/alf8/apdb.pdb ./templete/5YSM_A/rec.pdb\n",
      "./alfpdb/alf8/apdb.pdb ./templete/3OO3_A/rec.pdb\n",
      "./alfpdb/alf8/apdb.pdb ./templete/4AW3_A/rec.pdb\n",
      "./alfpdb/alf8/apdb.pdb ./templete/4WQ0_A/rec.pdb\n",
      "./alfpdb/alf8/apdb.pdb ./templete/6M4S_A/rec.pdb\n",
      "./alfpdb/alf8/apdb.pdb ./templete/5YSW_A/rec.pdb\n",
      "./alfpdb/alf8/apdb.pdb ./templete/3ZSN_A/rec.pdb\n",
      "./alfpdb/alf8/apdb.pdb ./templete/2YCA_A/rec.pdb\n",
      "./alfpdb/alf8/apdb.pdb ./templete/2Y98_A/rec.pdb\n",
      "./alfpdb/alf8/apdb.pdb ./templete/5L91_A/rec.pdb\n",
      "./alfpdb/alf8/apdb.pdb ./templete/2Y5Z_A/rec.pdb\n",
      "./alfpdb/alf8/apdb.pdb ./templete/2Y46_A/rec.pdb\n",
      "2592 2.3104467100541406\n",
      "O C -0.07622684391087264 1.4237731560891274\n"
     ]
    },
    {
     "name": "stderr",
     "output_type": "stream",
     "text": [
      "/home/Grx/.local/lib/python3.11/site-packages/jax/_src/ops/scatter.py:94: FutureWarning: scatter inputs have incompatible types: cannot safely cast value from dtype=int64 to dtype=int32 with jax_numpy_dtype_promotion='standard'. In future JAX releases this will result in an error.\n",
      "  warnings.warn(\n"
     ]
    },
    {
     "name": "stdout",
     "output_type": "stream",
     "text": [
      "2592 2.304585830479913\n",
      "8 125.85468292236328\n",
      "2936 2.304330488449952\n"
     ]
    },
    {
     "name": "stderr",
     "output_type": "stream",
     "text": [
      "/home/Grx/.local/lib/python3.11/site-packages/jax/_src/ops/scatter.py:94: FutureWarning: scatter inputs have incompatible types: cannot safely cast value from dtype=int64 to dtype=int32 with jax_numpy_dtype_promotion='standard'. In future JAX releases this will result in an error.\n",
      "  warnings.warn(\n"
     ]
    },
    {
     "name": "stdout",
     "output_type": "stream",
     "text": [
      "2936 2.300707479625648\n",
      "./alfpdb/alf9/apdb.pdb ./templete/5L92_A/rec.pdb\n",
      "./alfpdb/alf9/apdb.pdb ./templete/5L94_A/rec.pdb\n",
      "./alfpdb/alf9/apdb.pdb ./templete/3R9B_A/rec.pdb\n",
      "./alfpdb/alf9/apdb.pdb ./templete/4YZR_A/rec.pdb\n",
      "./alfpdb/alf9/apdb.pdb ./templete/7WEX_A/rec.pdb\n",
      "./alfpdb/alf9/apdb.pdb ./templete/4RM4_A/rec.pdb\n",
      "./alfpdb/alf9/apdb.pdb ./templete/6B11_A/rec.pdb\n",
      "./alfpdb/alf9/apdb.pdb ./templete/5CJE_A/rec.pdb\n",
      "./alfpdb/alf9/apdb.pdb ./templete/1JIN_A/rec.pdb\n",
      "./alfpdb/alf9/apdb.pdb ./templete/1JIP_A/rec.pdb\n",
      "./alfpdb/alf9/apdb.pdb ./templete/6J84_A/rec.pdb\n",
      "./alfpdb/alf9/apdb.pdb ./templete/6J83_A/rec.pdb\n",
      "./alfpdb/alf9/apdb.pdb ./templete/1EUP_A/rec.pdb\n",
      "./alfpdb/alf9/apdb.pdb ./templete/4MM0_A/rec.pdb\n",
      "./alfpdb/alf9/apdb.pdb ./templete/6J82_A/rec.pdb\n",
      "./alfpdb/alf9/apdb.pdb ./templete/1OXA_A/rec.pdb\n",
      "./alfpdb/alf9/apdb.pdb ./templete/3R9C_A/rec.pdb\n",
      "./alfpdb/alf9/apdb.pdb ./templete/5FOI_A/rec.pdb\n",
      "./alfpdb/alf9/apdb.pdb ./templete/1JIO_A/rec.pdb\n",
      "./alfpdb/alf9/apdb.pdb ./templete/1EGY_A/rec.pdb\n",
      "2936 2.304330488449952\n"
     ]
    },
    {
     "name": "stderr",
     "output_type": "stream",
     "text": [
      "/home/Grx/.local/lib/python3.11/site-packages/jax/_src/ops/scatter.py:94: FutureWarning: scatter inputs have incompatible types: cannot safely cast value from dtype=int64 to dtype=int32 with jax_numpy_dtype_promotion='standard'. In future JAX releases this will result in an error.\n",
      "  warnings.warn(\n"
     ]
    },
    {
     "name": "stdout",
     "output_type": "stream",
     "text": [
      "2936 2.300709528588867\n",
      "./alfpdb/alf9/apdb.pdb ./templete/5L92_A/rec.pdb\n",
      "./alfpdb/alf9/apdb.pdb ./templete/5L94_A/rec.pdb\n",
      "./alfpdb/alf9/apdb.pdb ./templete/3R9B_A/rec.pdb\n",
      "./alfpdb/alf9/apdb.pdb ./templete/4YZR_A/rec.pdb\n",
      "./alfpdb/alf9/apdb.pdb ./templete/7WEX_A/rec.pdb\n",
      "./alfpdb/alf9/apdb.pdb ./templete/4RM4_A/rec.pdb\n",
      "./alfpdb/alf9/apdb.pdb ./templete/6B11_A/rec.pdb\n",
      "./alfpdb/alf9/apdb.pdb ./templete/5CJE_A/rec.pdb\n",
      "./alfpdb/alf9/apdb.pdb ./templete/1JIN_A/rec.pdb\n",
      "./alfpdb/alf9/apdb.pdb ./templete/1JIP_A/rec.pdb\n",
      "./alfpdb/alf9/apdb.pdb ./templete/6J84_A/rec.pdb\n",
      "./alfpdb/alf9/apdb.pdb ./templete/6J83_A/rec.pdb\n",
      "./alfpdb/alf9/apdb.pdb ./templete/1EUP_A/rec.pdb\n",
      "./alfpdb/alf9/apdb.pdb ./templete/4MM0_A/rec.pdb\n",
      "./alfpdb/alf9/apdb.pdb ./templete/6J82_A/rec.pdb\n",
      "./alfpdb/alf9/apdb.pdb ./templete/1OXA_A/rec.pdb\n",
      "./alfpdb/alf9/apdb.pdb ./templete/3R9C_A/rec.pdb\n",
      "./alfpdb/alf9/apdb.pdb ./templete/5FOI_A/rec.pdb\n",
      "./alfpdb/alf9/apdb.pdb ./templete/1JIO_A/rec.pdb\n",
      "./alfpdb/alf9/apdb.pdb ./templete/1EGY_A/rec.pdb\n",
      "2936 2.304330488449952\n"
     ]
    },
    {
     "name": "stderr",
     "output_type": "stream",
     "text": [
      "/home/Grx/.local/lib/python3.11/site-packages/jax/_src/ops/scatter.py:94: FutureWarning: scatter inputs have incompatible types: cannot safely cast value from dtype=int64 to dtype=int32 with jax_numpy_dtype_promotion='standard'. In future JAX releases this will result in an error.\n",
      "  warnings.warn(\n"
     ]
    },
    {
     "name": "stdout",
     "output_type": "stream",
     "text": [
      "2936 2.300709528588867\n",
      "./alfpdb/alf9/apdb.pdb ./templete/5L92_A/rec.pdb\n",
      "./alfpdb/alf9/apdb.pdb ./templete/5L94_A/rec.pdb\n",
      "./alfpdb/alf9/apdb.pdb ./templete/3R9B_A/rec.pdb\n",
      "./alfpdb/alf9/apdb.pdb ./templete/4YZR_A/rec.pdb\n",
      "./alfpdb/alf9/apdb.pdb ./templete/7WEX_A/rec.pdb\n",
      "./alfpdb/alf9/apdb.pdb ./templete/4RM4_A/rec.pdb\n",
      "./alfpdb/alf9/apdb.pdb ./templete/6B11_A/rec.pdb\n",
      "./alfpdb/alf9/apdb.pdb ./templete/5CJE_A/rec.pdb\n",
      "./alfpdb/alf9/apdb.pdb ./templete/1JIN_A/rec.pdb\n",
      "./alfpdb/alf9/apdb.pdb ./templete/1JIP_A/rec.pdb\n",
      "./alfpdb/alf9/apdb.pdb ./templete/6J84_A/rec.pdb\n",
      "./alfpdb/alf9/apdb.pdb ./templete/6J83_A/rec.pdb\n",
      "./alfpdb/alf9/apdb.pdb ./templete/1EUP_A/rec.pdb\n",
      "./alfpdb/alf9/apdb.pdb ./templete/4MM0_A/rec.pdb\n",
      "./alfpdb/alf9/apdb.pdb ./templete/6J82_A/rec.pdb\n",
      "./alfpdb/alf9/apdb.pdb ./templete/1OXA_A/rec.pdb\n",
      "./alfpdb/alf9/apdb.pdb ./templete/3R9C_A/rec.pdb\n",
      "./alfpdb/alf9/apdb.pdb ./templete/5FOI_A/rec.pdb\n",
      "./alfpdb/alf9/apdb.pdb ./templete/1JIO_A/rec.pdb\n",
      "./alfpdb/alf9/apdb.pdb ./templete/1EGY_A/rec.pdb\n",
      "2936 2.304330488449952\n"
     ]
    },
    {
     "name": "stderr",
     "output_type": "stream",
     "text": [
      "/home/Grx/.local/lib/python3.11/site-packages/jax/_src/ops/scatter.py:94: FutureWarning: scatter inputs have incompatible types: cannot safely cast value from dtype=int64 to dtype=int32 with jax_numpy_dtype_promotion='standard'. In future JAX releases this will result in an error.\n",
      "  warnings.warn(\n"
     ]
    },
    {
     "name": "stdout",
     "output_type": "stream",
     "text": [
      "2936 2.300709528588867\n",
      "9 108.67588496208191\n",
      "2128 2.502604043791187\n"
     ]
    },
    {
     "name": "stderr",
     "output_type": "stream",
     "text": [
      "/home/Grx/.local/lib/python3.11/site-packages/jax/_src/ops/scatter.py:94: FutureWarning: scatter inputs have incompatible types: cannot safely cast value from dtype=int64 to dtype=int32 with jax_numpy_dtype_promotion='standard'. In future JAX releases this will result in an error.\n",
      "  warnings.warn(\n"
     ]
    },
    {
     "name": "stdout",
     "output_type": "stream",
     "text": [
      "2128 2.496317651985818\n",
      "./alfpdb/alf10/apdb.pdb ./templete/3DBG_A/rec.pdb\n",
      "./alfpdb/alf10/apdb.pdb ./templete/4R1Z_A/rec.pdb\n",
      "./alfpdb/alf10/apdb.pdb ./templete/2VE3_A/rec.pdb\n",
      "./alfpdb/alf10/apdb.pdb ./templete/2VE4_A/rec.pdb\n",
      "./alfpdb/alf10/apdb.pdb ./templete/1BVY_A/rec.pdb\n",
      "./alfpdb/alf10/apdb.pdb ./templete/3MDV_A/rec.pdb\n",
      "./alfpdb/alf10/apdb.pdb ./templete/2Q9G_A/rec.pdb\n",
      "./alfpdb/alf10/apdb.pdb ./templete/3NC6_A/rec.pdb\n",
      "./alfpdb/alf10/apdb.pdb ./templete/4ENH_A/rec.pdb\n",
      "./alfpdb/alf10/apdb.pdb ./templete/3MDT_A/rec.pdb\n",
      "./alfpdb/alf10/apdb.pdb ./templete/3MDR_A/rec.pdb\n",
      "./alfpdb/alf10/apdb.pdb ./templete/3JUS_A/rec.pdb\n",
      "./alfpdb/alf10/apdb.pdb ./templete/1WIY_A/rec.pdb\n",
      "./alfpdb/alf10/apdb.pdb ./templete/3LD6_A/rec.pdb\n",
      "./alfpdb/alf10/apdb.pdb ./templete/3NC7_A/rec.pdb\n",
      "./alfpdb/alf10/apdb.pdb ./templete/6Q2T_A/rec.pdb\n",
      "./alfpdb/alf10/apdb.pdb ./templete/4R20_A/rec.pdb\n",
      "./alfpdb/alf10/apdb.pdb ./templete/4RM4_A/rec.pdb\n",
      "./alfpdb/alf10/apdb.pdb ./templete/5VWS_A/rec.pdb\n",
      "./alfpdb/alf10/apdb.pdb ./templete/3NC5_A/rec.pdb\n",
      "2128 2.502604043791187\n"
     ]
    },
    {
     "name": "stderr",
     "output_type": "stream",
     "text": [
      "/home/Grx/.local/lib/python3.11/site-packages/jax/_src/ops/scatter.py:94: FutureWarning: scatter inputs have incompatible types: cannot safely cast value from dtype=int64 to dtype=int32 with jax_numpy_dtype_promotion='standard'. In future JAX releases this will result in an error.\n",
      "  warnings.warn(\n"
     ]
    },
    {
     "name": "stdout",
     "output_type": "stream",
     "text": [
      "2128 2.496317651985818\n",
      "./alfpdb/alf10/apdb.pdb ./templete/3DBG_A/rec.pdb\n",
      "./alfpdb/alf10/apdb.pdb ./templete/4R1Z_A/rec.pdb\n",
      "./alfpdb/alf10/apdb.pdb ./templete/2VE3_A/rec.pdb\n",
      "./alfpdb/alf10/apdb.pdb ./templete/2VE4_A/rec.pdb\n",
      "./alfpdb/alf10/apdb.pdb ./templete/1BVY_A/rec.pdb\n",
      "./alfpdb/alf10/apdb.pdb ./templete/3MDV_A/rec.pdb\n",
      "./alfpdb/alf10/apdb.pdb ./templete/2Q9G_A/rec.pdb\n",
      "./alfpdb/alf10/apdb.pdb ./templete/3NC6_A/rec.pdb\n",
      "./alfpdb/alf10/apdb.pdb ./templete/4ENH_A/rec.pdb\n",
      "./alfpdb/alf10/apdb.pdb ./templete/3MDT_A/rec.pdb\n",
      "./alfpdb/alf10/apdb.pdb ./templete/3MDR_A/rec.pdb\n",
      "./alfpdb/alf10/apdb.pdb ./templete/3JUS_A/rec.pdb\n",
      "./alfpdb/alf10/apdb.pdb ./templete/1WIY_A/rec.pdb\n",
      "./alfpdb/alf10/apdb.pdb ./templete/3LD6_A/rec.pdb\n",
      "./alfpdb/alf10/apdb.pdb ./templete/3NC7_A/rec.pdb\n",
      "./alfpdb/alf10/apdb.pdb ./templete/6Q2T_A/rec.pdb\n",
      "./alfpdb/alf10/apdb.pdb ./templete/4R20_A/rec.pdb\n",
      "./alfpdb/alf10/apdb.pdb ./templete/4RM4_A/rec.pdb\n",
      "./alfpdb/alf10/apdb.pdb ./templete/5VWS_A/rec.pdb\n",
      "./alfpdb/alf10/apdb.pdb ./templete/3NC5_A/rec.pdb\n",
      "2128 2.502604043791187\n"
     ]
    },
    {
     "name": "stderr",
     "output_type": "stream",
     "text": [
      "/home/Grx/.local/lib/python3.11/site-packages/jax/_src/ops/scatter.py:94: FutureWarning: scatter inputs have incompatible types: cannot safely cast value from dtype=int64 to dtype=int32 with jax_numpy_dtype_promotion='standard'. In future JAX releases this will result in an error.\n",
      "  warnings.warn(\n"
     ]
    },
    {
     "name": "stdout",
     "output_type": "stream",
     "text": [
      "2128 2.496317651985818\n",
      "./alfpdb/alf10/apdb.pdb ./templete/3DBG_A/rec.pdb\n",
      "./alfpdb/alf10/apdb.pdb ./templete/4R1Z_A/rec.pdb\n",
      "./alfpdb/alf10/apdb.pdb ./templete/2VE3_A/rec.pdb\n",
      "./alfpdb/alf10/apdb.pdb ./templete/2VE4_A/rec.pdb\n",
      "./alfpdb/alf10/apdb.pdb ./templete/1BVY_A/rec.pdb\n",
      "./alfpdb/alf10/apdb.pdb ./templete/3MDV_A/rec.pdb\n",
      "./alfpdb/alf10/apdb.pdb ./templete/2Q9G_A/rec.pdb\n",
      "./alfpdb/alf10/apdb.pdb ./templete/3NC6_A/rec.pdb\n",
      "./alfpdb/alf10/apdb.pdb ./templete/4ENH_A/rec.pdb\n",
      "./alfpdb/alf10/apdb.pdb ./templete/3MDT_A/rec.pdb\n",
      "./alfpdb/alf10/apdb.pdb ./templete/3MDR_A/rec.pdb\n",
      "./alfpdb/alf10/apdb.pdb ./templete/3JUS_A/rec.pdb\n",
      "./alfpdb/alf10/apdb.pdb ./templete/1WIY_A/rec.pdb\n",
      "./alfpdb/alf10/apdb.pdb ./templete/3LD6_A/rec.pdb\n",
      "./alfpdb/alf10/apdb.pdb ./templete/3NC7_A/rec.pdb\n",
      "./alfpdb/alf10/apdb.pdb ./templete/6Q2T_A/rec.pdb\n",
      "./alfpdb/alf10/apdb.pdb ./templete/4R20_A/rec.pdb\n",
      "./alfpdb/alf10/apdb.pdb ./templete/4RM4_A/rec.pdb\n",
      "./alfpdb/alf10/apdb.pdb ./templete/5VWS_A/rec.pdb\n",
      "./alfpdb/alf10/apdb.pdb ./templete/3NC5_A/rec.pdb\n",
      "2128 2.502604043791187\n"
     ]
    },
    {
     "name": "stderr",
     "output_type": "stream",
     "text": [
      "/home/Grx/.local/lib/python3.11/site-packages/jax/_src/ops/scatter.py:94: FutureWarning: scatter inputs have incompatible types: cannot safely cast value from dtype=int64 to dtype=int32 with jax_numpy_dtype_promotion='standard'. In future JAX releases this will result in an error.\n",
      "  warnings.warn(\n"
     ]
    },
    {
     "name": "stdout",
     "output_type": "stream",
     "text": [
      "2128 2.496317651985818\n",
      "10 86.2915050983429\n",
      "3455 2.1520095260012218\n"
     ]
    },
    {
     "name": "stderr",
     "output_type": "stream",
     "text": [
      "/home/Grx/.local/lib/python3.11/site-packages/jax/_src/ops/scatter.py:94: FutureWarning: scatter inputs have incompatible types: cannot safely cast value from dtype=int64 to dtype=int32 with jax_numpy_dtype_promotion='standard'. In future JAX releases this will result in an error.\n",
      "  warnings.warn(\n"
     ]
    },
    {
     "name": "stdout",
     "output_type": "stream",
     "text": [
      "3455 2.1563176445117236\n",
      "./alfpdb/alf11/apdb.pdb ./templete/1WIY_A/rec.pdb\n",
      "./alfpdb/alf11/apdb.pdb ./templete/7LS3_A/rec.pdb\n",
      "./alfpdb/alf11/apdb.pdb ./templete/7LS4_A/rec.pdb\n",
      "./alfpdb/alf11/apdb.pdb ./templete/7N3L_A/rec.pdb\n",
      "./alfpdb/alf11/apdb.pdb ./templete/7N6F_A/rec.pdb\n",
      "./alfpdb/alf11/apdb.pdb ./templete/3MDV_A/rec.pdb\n",
      "./alfpdb/alf11/apdb.pdb ./templete/2Q9G_A/rec.pdb\n",
      "./alfpdb/alf11/apdb.pdb ./templete/3MDT_A/rec.pdb\n",
      "./alfpdb/alf11/apdb.pdb ./templete/1N97_A/rec.pdb\n",
      "./alfpdb/alf11/apdb.pdb ./templete/4FIA_A/rec.pdb\n",
      "./alfpdb/alf11/apdb.pdb ./templete/4ENH_A/rec.pdb\n",
      "./alfpdb/alf11/apdb.pdb ./templete/7LRL_A/rec.pdb\n",
      "./alfpdb/alf11/apdb.pdb ./templete/1YQO_A/rec.pdb\n",
      "./alfpdb/alf11/apdb.pdb ./templete/3MDR_A/rec.pdb\n",
      "./alfpdb/alf11/apdb.pdb ./templete/8EWD_A/rec.pdb\n",
      "./alfpdb/alf11/apdb.pdb ./templete/1YQP_A/rec.pdb\n",
      "./alfpdb/alf11/apdb.pdb ./templete/1P0V_A/rec.pdb\n",
      "./alfpdb/alf11/apdb.pdb ./templete/1P0W_A/rec.pdb\n",
      "./alfpdb/alf11/apdb.pdb ./templete/2NNB_A/rec.pdb\n",
      "./alfpdb/alf11/apdb.pdb ./templete/1JME_A/rec.pdb\n",
      "3455 1.9901834086334858\n"
     ]
    },
    {
     "name": "stderr",
     "output_type": "stream",
     "text": [
      "/home/Grx/.local/lib/python3.11/site-packages/jax/_src/ops/scatter.py:94: FutureWarning: scatter inputs have incompatible types: cannot safely cast value from dtype=int64 to dtype=int32 with jax_numpy_dtype_promotion='standard'. In future JAX releases this will result in an error.\n",
      "  warnings.warn(\n"
     ]
    },
    {
     "name": "stdout",
     "output_type": "stream",
     "text": [
      "3455 2.0024822089007985\n",
      "./alfpdb/alf11/apdb.pdb ./templete/1WIY_A/rec.pdb\n",
      "./alfpdb/alf11/apdb.pdb ./templete/7LS3_A/rec.pdb\n",
      "./alfpdb/alf11/apdb.pdb ./templete/7LS4_A/rec.pdb\n",
      "./alfpdb/alf11/apdb.pdb ./templete/7N3L_A/rec.pdb\n",
      "./alfpdb/alf11/apdb.pdb ./templete/7N6F_A/rec.pdb\n",
      "./alfpdb/alf11/apdb.pdb ./templete/3MDV_A/rec.pdb\n",
      "./alfpdb/alf11/apdb.pdb ./templete/2Q9G_A/rec.pdb\n",
      "./alfpdb/alf11/apdb.pdb ./templete/3MDT_A/rec.pdb\n",
      "./alfpdb/alf11/apdb.pdb ./templete/1N97_A/rec.pdb\n",
      "./alfpdb/alf11/apdb.pdb ./templete/4FIA_A/rec.pdb\n",
      "./alfpdb/alf11/apdb.pdb ./templete/4ENH_A/rec.pdb\n",
      "./alfpdb/alf11/apdb.pdb ./templete/7LRL_A/rec.pdb\n",
      "./alfpdb/alf11/apdb.pdb ./templete/1YQO_A/rec.pdb\n",
      "./alfpdb/alf11/apdb.pdb ./templete/3MDR_A/rec.pdb\n",
      "./alfpdb/alf11/apdb.pdb ./templete/8EWD_A/rec.pdb\n",
      "./alfpdb/alf11/apdb.pdb ./templete/1YQP_A/rec.pdb\n",
      "./alfpdb/alf11/apdb.pdb ./templete/1P0V_A/rec.pdb\n",
      "./alfpdb/alf11/apdb.pdb ./templete/1P0W_A/rec.pdb\n",
      "./alfpdb/alf11/apdb.pdb ./templete/2NNB_A/rec.pdb\n",
      "./alfpdb/alf11/apdb.pdb ./templete/1JME_A/rec.pdb\n",
      "3455 1.9901834086334858\n"
     ]
    },
    {
     "name": "stderr",
     "output_type": "stream",
     "text": [
      "/home/Grx/.local/lib/python3.11/site-packages/jax/_src/ops/scatter.py:94: FutureWarning: scatter inputs have incompatible types: cannot safely cast value from dtype=int64 to dtype=int32 with jax_numpy_dtype_promotion='standard'. In future JAX releases this will result in an error.\n",
      "  warnings.warn(\n"
     ]
    },
    {
     "name": "stdout",
     "output_type": "stream",
     "text": [
      "3455 2.0024822089007985\n",
      "./alfpdb/alf11/apdb.pdb ./templete/1WIY_A/rec.pdb\n",
      "./alfpdb/alf11/apdb.pdb ./templete/7LS3_A/rec.pdb\n",
      "./alfpdb/alf11/apdb.pdb ./templete/7LS4_A/rec.pdb\n",
      "./alfpdb/alf11/apdb.pdb ./templete/7N3L_A/rec.pdb\n",
      "./alfpdb/alf11/apdb.pdb ./templete/7N6F_A/rec.pdb\n",
      "./alfpdb/alf11/apdb.pdb ./templete/3MDV_A/rec.pdb\n",
      "./alfpdb/alf11/apdb.pdb ./templete/2Q9G_A/rec.pdb\n",
      "./alfpdb/alf11/apdb.pdb ./templete/3MDT_A/rec.pdb\n",
      "./alfpdb/alf11/apdb.pdb ./templete/1N97_A/rec.pdb\n",
      "./alfpdb/alf11/apdb.pdb ./templete/4FIA_A/rec.pdb\n",
      "./alfpdb/alf11/apdb.pdb ./templete/4ENH_A/rec.pdb\n",
      "./alfpdb/alf11/apdb.pdb ./templete/7LRL_A/rec.pdb\n",
      "./alfpdb/alf11/apdb.pdb ./templete/1YQO_A/rec.pdb\n",
      "./alfpdb/alf11/apdb.pdb ./templete/3MDR_A/rec.pdb\n",
      "./alfpdb/alf11/apdb.pdb ./templete/8EWD_A/rec.pdb\n",
      "./alfpdb/alf11/apdb.pdb ./templete/1YQP_A/rec.pdb\n",
      "./alfpdb/alf11/apdb.pdb ./templete/1P0V_A/rec.pdb\n",
      "./alfpdb/alf11/apdb.pdb ./templete/1P0W_A/rec.pdb\n",
      "./alfpdb/alf11/apdb.pdb ./templete/2NNB_A/rec.pdb\n",
      "./alfpdb/alf11/apdb.pdb ./templete/1JME_A/rec.pdb\n",
      "3455 1.7210944192577007\n",
      "FE S -0.058905580742299346 1.7210944192577007\n"
     ]
    },
    {
     "name": "stderr",
     "output_type": "stream",
     "text": [
      "/home/Grx/.local/lib/python3.11/site-packages/jax/_src/ops/scatter.py:94: FutureWarning: scatter inputs have incompatible types: cannot safely cast value from dtype=int64 to dtype=int32 with jax_numpy_dtype_promotion='standard'. In future JAX releases this will result in an error.\n",
      "  warnings.warn(\n"
     ]
    },
    {
     "name": "stdout",
     "output_type": "stream",
     "text": [
      "3455 1.8365300605565447\n",
      "11 132.35889291763306\n",
      "4126 2.573742994162393\n"
     ]
    },
    {
     "name": "stderr",
     "output_type": "stream",
     "text": [
      "/home/Grx/.local/lib/python3.11/site-packages/jax/_src/ops/scatter.py:94: FutureWarning: scatter inputs have incompatible types: cannot safely cast value from dtype=int64 to dtype=int32 with jax_numpy_dtype_promotion='standard'. In future JAX releases this will result in an error.\n",
      "  warnings.warn(\n"
     ]
    },
    {
     "name": "stdout",
     "output_type": "stream",
     "text": [
      "4126 2.573557108850852\n",
      "./alfpdb/alf12/apdb.pdb ./templete/5YM3_A/rec.pdb\n",
      "./alfpdb/alf12/apdb.pdb ./templete/7CB9_A/rec.pdb\n",
      "./alfpdb/alf12/apdb.pdb ./templete/4R20_A/rec.pdb\n",
      "./alfpdb/alf12/apdb.pdb ./templete/5YLW_A/rec.pdb\n",
      "./alfpdb/alf12/apdb.pdb ./templete/1WIY_A/rec.pdb\n",
      "./alfpdb/alf12/apdb.pdb ./templete/8EWD_A/rec.pdb\n",
      "./alfpdb/alf12/apdb.pdb ./templete/7KVJ_A/rec.pdb\n",
      "./alfpdb/alf12/apdb.pdb ./templete/6VBY_A/rec.pdb\n",
      "./alfpdb/alf12/apdb.pdb ./templete/8EWS_A/rec.pdb\n",
      "./alfpdb/alf12/apdb.pdb ./templete/3DBG_A/rec.pdb\n",
      "./alfpdb/alf12/apdb.pdb ./templete/7UF9_A/rec.pdb\n",
      "./alfpdb/alf12/apdb.pdb ./templete/8EXB_A/rec.pdb\n",
      "./alfpdb/alf12/apdb.pdb ./templete/8EWM_A/rec.pdb\n",
      "./alfpdb/alf12/apdb.pdb ./templete/7KSA_A/rec.pdb\n",
      "./alfpdb/alf12/apdb.pdb ./templete/8EWN_A/rec.pdb\n",
      "./alfpdb/alf12/apdb.pdb ./templete/3TJS_A/rec.pdb\n",
      "./alfpdb/alf12/apdb.pdb ./templete/1N97_A/rec.pdb\n",
      "./alfpdb/alf12/apdb.pdb ./templete/6UNM_A/rec.pdb\n",
      "./alfpdb/alf12/apdb.pdb ./templete/7UAZ_A/rec.pdb\n",
      "./alfpdb/alf12/apdb.pdb ./templete/6BDH_A/rec.pdb\n",
      "4126 2.573742994162393\n"
     ]
    },
    {
     "name": "stderr",
     "output_type": "stream",
     "text": [
      "/home/Grx/.local/lib/python3.11/site-packages/jax/_src/ops/scatter.py:94: FutureWarning: scatter inputs have incompatible types: cannot safely cast value from dtype=int64 to dtype=int32 with jax_numpy_dtype_promotion='standard'. In future JAX releases this will result in an error.\n",
      "  warnings.warn(\n"
     ]
    },
    {
     "name": "stdout",
     "output_type": "stream",
     "text": [
      "4126 2.573557101244766\n",
      "./alfpdb/alf12/apdb.pdb ./templete/5YM3_A/rec.pdb\n",
      "./alfpdb/alf12/apdb.pdb ./templete/7CB9_A/rec.pdb\n",
      "./alfpdb/alf12/apdb.pdb ./templete/4R20_A/rec.pdb\n",
      "./alfpdb/alf12/apdb.pdb ./templete/5YLW_A/rec.pdb\n",
      "./alfpdb/alf12/apdb.pdb ./templete/1WIY_A/rec.pdb\n",
      "./alfpdb/alf12/apdb.pdb ./templete/8EWD_A/rec.pdb\n",
      "./alfpdb/alf12/apdb.pdb ./templete/7KVJ_A/rec.pdb\n",
      "./alfpdb/alf12/apdb.pdb ./templete/6VBY_A/rec.pdb\n",
      "./alfpdb/alf12/apdb.pdb ./templete/8EWS_A/rec.pdb\n",
      "./alfpdb/alf12/apdb.pdb ./templete/3DBG_A/rec.pdb\n",
      "./alfpdb/alf12/apdb.pdb ./templete/7UF9_A/rec.pdb\n",
      "./alfpdb/alf12/apdb.pdb ./templete/8EXB_A/rec.pdb\n",
      "./alfpdb/alf12/apdb.pdb ./templete/8EWM_A/rec.pdb\n",
      "./alfpdb/alf12/apdb.pdb ./templete/7KSA_A/rec.pdb\n",
      "./alfpdb/alf12/apdb.pdb ./templete/8EWN_A/rec.pdb\n",
      "./alfpdb/alf12/apdb.pdb ./templete/3TJS_A/rec.pdb\n",
      "./alfpdb/alf12/apdb.pdb ./templete/1N97_A/rec.pdb\n",
      "./alfpdb/alf12/apdb.pdb ./templete/6UNM_A/rec.pdb\n",
      "./alfpdb/alf12/apdb.pdb ./templete/7UAZ_A/rec.pdb\n",
      "./alfpdb/alf12/apdb.pdb ./templete/6BDH_A/rec.pdb\n",
      "4126 2.573742994162393\n"
     ]
    },
    {
     "name": "stderr",
     "output_type": "stream",
     "text": [
      "/home/Grx/.local/lib/python3.11/site-packages/jax/_src/ops/scatter.py:94: FutureWarning: scatter inputs have incompatible types: cannot safely cast value from dtype=int64 to dtype=int32 with jax_numpy_dtype_promotion='standard'. In future JAX releases this will result in an error.\n",
      "  warnings.warn(\n"
     ]
    },
    {
     "name": "stdout",
     "output_type": "stream",
     "text": [
      "4126 2.5735570931249283\n",
      "./alfpdb/alf12/apdb.pdb ./templete/5YM3_A/rec.pdb\n",
      "./alfpdb/alf12/apdb.pdb ./templete/7CB9_A/rec.pdb\n",
      "./alfpdb/alf12/apdb.pdb ./templete/4R20_A/rec.pdb\n",
      "./alfpdb/alf12/apdb.pdb ./templete/5YLW_A/rec.pdb\n",
      "./alfpdb/alf12/apdb.pdb ./templete/1WIY_A/rec.pdb\n",
      "./alfpdb/alf12/apdb.pdb ./templete/8EWD_A/rec.pdb\n",
      "./alfpdb/alf12/apdb.pdb ./templete/7KVJ_A/rec.pdb\n",
      "./alfpdb/alf12/apdb.pdb ./templete/6VBY_A/rec.pdb\n",
      "./alfpdb/alf12/apdb.pdb ./templete/8EWS_A/rec.pdb\n",
      "./alfpdb/alf12/apdb.pdb ./templete/3DBG_A/rec.pdb\n",
      "./alfpdb/alf12/apdb.pdb ./templete/7UF9_A/rec.pdb\n",
      "./alfpdb/alf12/apdb.pdb ./templete/8EXB_A/rec.pdb\n",
      "./alfpdb/alf12/apdb.pdb ./templete/8EWM_A/rec.pdb\n",
      "./alfpdb/alf12/apdb.pdb ./templete/7KSA_A/rec.pdb\n",
      "./alfpdb/alf12/apdb.pdb ./templete/8EWN_A/rec.pdb\n",
      "./alfpdb/alf12/apdb.pdb ./templete/3TJS_A/rec.pdb\n",
      "./alfpdb/alf12/apdb.pdb ./templete/1N97_A/rec.pdb\n",
      "./alfpdb/alf12/apdb.pdb ./templete/6UNM_A/rec.pdb\n",
      "./alfpdb/alf12/apdb.pdb ./templete/7UAZ_A/rec.pdb\n",
      "./alfpdb/alf12/apdb.pdb ./templete/6BDH_A/rec.pdb\n",
      "4126 2.573742994162393\n"
     ]
    },
    {
     "name": "stderr",
     "output_type": "stream",
     "text": [
      "/home/Grx/.local/lib/python3.11/site-packages/jax/_src/ops/scatter.py:94: FutureWarning: scatter inputs have incompatible types: cannot safely cast value from dtype=int64 to dtype=int32 with jax_numpy_dtype_promotion='standard'. In future JAX releases this will result in an error.\n",
      "  warnings.warn(\n"
     ]
    },
    {
     "name": "stdout",
     "output_type": "stream",
     "text": [
      "4126 2.573557150660124\n",
      "12 151.525710105896\n",
      "1454 2.6176029110619505\n"
     ]
    },
    {
     "name": "stderr",
     "output_type": "stream",
     "text": [
      "/home/Grx/.local/lib/python3.11/site-packages/jax/_src/ops/scatter.py:94: FutureWarning: scatter inputs have incompatible types: cannot safely cast value from dtype=int64 to dtype=int32 with jax_numpy_dtype_promotion='standard'. In future JAX releases this will result in an error.\n",
      "  warnings.warn(\n"
     ]
    },
    {
     "name": "stdout",
     "output_type": "stream",
     "text": [
      "1454 2.607214279046936\n",
      "./alfpdb/alf13/apdb.pdb ./templete/2RFB_A/rec.pdb\n",
      "./alfpdb/alf13/apdb.pdb ./templete/4RM4_A/rec.pdb\n",
      "./alfpdb/alf13/apdb.pdb ./templete/5VWS_A/rec.pdb\n",
      "./alfpdb/alf13/apdb.pdb ./templete/5L90_A/rec.pdb\n",
      "./alfpdb/alf13/apdb.pdb ./templete/1UE8_A/rec.pdb\n",
      "./alfpdb/alf13/apdb.pdb ./templete/4Z5Q_A/rec.pdb\n",
      "./alfpdb/alf13/apdb.pdb ./templete/3B4X_A/rec.pdb\n",
      "./alfpdb/alf13/apdb.pdb ./templete/1IO7_A/rec.pdb\n",
      "./alfpdb/alf13/apdb.pdb ./templete/1IO9_A/rec.pdb\n",
      "./alfpdb/alf13/apdb.pdb ./templete/1IO8_A/rec.pdb\n",
      "./alfpdb/alf13/apdb.pdb ./templete/4TX3_A/rec.pdb\n",
      "./alfpdb/alf13/apdb.pdb ./templete/4TVF_A/rec.pdb\n",
      "./alfpdb/alf13/apdb.pdb ./templete/5YSM_A/rec.pdb\n",
      "./alfpdb/alf13/apdb.pdb ./templete/5L91_A/rec.pdb\n",
      "./alfpdb/alf13/apdb.pdb ./templete/3NC6_A/rec.pdb\n",
      "./alfpdb/alf13/apdb.pdb ./templete/4E2P_A/rec.pdb\n",
      "./alfpdb/alf13/apdb.pdb ./templete/3NC5_A/rec.pdb\n",
      "./alfpdb/alf13/apdb.pdb ./templete/4YZR_A/rec.pdb\n",
      "./alfpdb/alf13/apdb.pdb ./templete/3E5K_A/rec.pdb\n",
      "./alfpdb/alf13/apdb.pdb ./templete/3NC7_A/rec.pdb\n",
      "1454 2.6176029110619505\n"
     ]
    },
    {
     "name": "stderr",
     "output_type": "stream",
     "text": [
      "/home/Grx/.local/lib/python3.11/site-packages/jax/_src/ops/scatter.py:94: FutureWarning: scatter inputs have incompatible types: cannot safely cast value from dtype=int64 to dtype=int32 with jax_numpy_dtype_promotion='standard'. In future JAX releases this will result in an error.\n",
      "  warnings.warn(\n"
     ]
    },
    {
     "name": "stdout",
     "output_type": "stream",
     "text": [
      "1454 2.6072093658800397\n",
      "./alfpdb/alf13/apdb.pdb ./templete/2RFB_A/rec.pdb\n",
      "./alfpdb/alf13/apdb.pdb ./templete/4RM4_A/rec.pdb\n",
      "./alfpdb/alf13/apdb.pdb ./templete/5VWS_A/rec.pdb\n",
      "./alfpdb/alf13/apdb.pdb ./templete/5L90_A/rec.pdb\n",
      "./alfpdb/alf13/apdb.pdb ./templete/1UE8_A/rec.pdb\n",
      "./alfpdb/alf13/apdb.pdb ./templete/4Z5Q_A/rec.pdb\n",
      "./alfpdb/alf13/apdb.pdb ./templete/3B4X_A/rec.pdb\n",
      "./alfpdb/alf13/apdb.pdb ./templete/1IO7_A/rec.pdb\n",
      "./alfpdb/alf13/apdb.pdb ./templete/1IO9_A/rec.pdb\n",
      "./alfpdb/alf13/apdb.pdb ./templete/1IO8_A/rec.pdb\n",
      "./alfpdb/alf13/apdb.pdb ./templete/4TX3_A/rec.pdb\n",
      "./alfpdb/alf13/apdb.pdb ./templete/4TVF_A/rec.pdb\n",
      "./alfpdb/alf13/apdb.pdb ./templete/5YSM_A/rec.pdb\n",
      "./alfpdb/alf13/apdb.pdb ./templete/5L91_A/rec.pdb\n",
      "./alfpdb/alf13/apdb.pdb ./templete/3NC6_A/rec.pdb\n",
      "./alfpdb/alf13/apdb.pdb ./templete/4E2P_A/rec.pdb\n",
      "./alfpdb/alf13/apdb.pdb ./templete/3NC5_A/rec.pdb\n",
      "./alfpdb/alf13/apdb.pdb ./templete/4YZR_A/rec.pdb\n",
      "./alfpdb/alf13/apdb.pdb ./templete/3E5K_A/rec.pdb\n",
      "./alfpdb/alf13/apdb.pdb ./templete/3NC7_A/rec.pdb\n",
      "1454 2.6176029110619505\n"
     ]
    },
    {
     "name": "stderr",
     "output_type": "stream",
     "text": [
      "/home/Grx/.local/lib/python3.11/site-packages/jax/_src/ops/scatter.py:94: FutureWarning: scatter inputs have incompatible types: cannot safely cast value from dtype=int64 to dtype=int32 with jax_numpy_dtype_promotion='standard'. In future JAX releases this will result in an error.\n",
      "  warnings.warn(\n"
     ]
    },
    {
     "name": "stdout",
     "output_type": "stream",
     "text": [
      "1454 2.6074982678726015\n",
      "./alfpdb/alf13/apdb.pdb ./templete/2RFB_A/rec.pdb\n",
      "./alfpdb/alf13/apdb.pdb ./templete/4RM4_A/rec.pdb\n",
      "./alfpdb/alf13/apdb.pdb ./templete/5VWS_A/rec.pdb\n",
      "./alfpdb/alf13/apdb.pdb ./templete/5L90_A/rec.pdb\n",
      "./alfpdb/alf13/apdb.pdb ./templete/1UE8_A/rec.pdb\n",
      "./alfpdb/alf13/apdb.pdb ./templete/4Z5Q_A/rec.pdb\n",
      "./alfpdb/alf13/apdb.pdb ./templete/3B4X_A/rec.pdb\n",
      "./alfpdb/alf13/apdb.pdb ./templete/1IO7_A/rec.pdb\n",
      "./alfpdb/alf13/apdb.pdb ./templete/1IO9_A/rec.pdb\n",
      "./alfpdb/alf13/apdb.pdb ./templete/1IO8_A/rec.pdb\n",
      "./alfpdb/alf13/apdb.pdb ./templete/4TX3_A/rec.pdb\n",
      "./alfpdb/alf13/apdb.pdb ./templete/4TVF_A/rec.pdb\n",
      "./alfpdb/alf13/apdb.pdb ./templete/5YSM_A/rec.pdb\n",
      "./alfpdb/alf13/apdb.pdb ./templete/5L91_A/rec.pdb\n",
      "./alfpdb/alf13/apdb.pdb ./templete/3NC6_A/rec.pdb\n",
      "./alfpdb/alf13/apdb.pdb ./templete/4E2P_A/rec.pdb\n",
      "./alfpdb/alf13/apdb.pdb ./templete/3NC5_A/rec.pdb\n",
      "./alfpdb/alf13/apdb.pdb ./templete/4YZR_A/rec.pdb\n",
      "./alfpdb/alf13/apdb.pdb ./templete/3E5K_A/rec.pdb\n",
      "./alfpdb/alf13/apdb.pdb ./templete/3NC7_A/rec.pdb\n",
      "1454 1.8556769654225886\n"
     ]
    },
    {
     "name": "stderr",
     "output_type": "stream",
     "text": [
      "/home/Grx/.local/lib/python3.11/site-packages/jax/_src/ops/scatter.py:94: FutureWarning: scatter inputs have incompatible types: cannot safely cast value from dtype=int64 to dtype=int32 with jax_numpy_dtype_promotion='standard'. In future JAX releases this will result in an error.\n",
      "  warnings.warn(\n"
     ]
    },
    {
     "name": "stdout",
     "output_type": "stream",
     "text": [
      "1454 1.8585382425499628\n",
      "13 100.00490355491638\n",
      "3628 2.178854286087073\n"
     ]
    },
    {
     "name": "stderr",
     "output_type": "stream",
     "text": [
      "/home/Grx/.local/lib/python3.11/site-packages/jax/_src/ops/scatter.py:94: FutureWarning: scatter inputs have incompatible types: cannot safely cast value from dtype=int64 to dtype=int32 with jax_numpy_dtype_promotion='standard'. In future JAX releases this will result in an error.\n",
      "  warnings.warn(\n"
     ]
    },
    {
     "name": "stdout",
     "output_type": "stream",
     "text": [
      "3628 2.1714177525013154\n",
      "./alfpdb/alf14/apdb.pdb ./templete/7LYX_A/rec.pdb\n",
      "./alfpdb/alf14/apdb.pdb ./templete/3B98_A/rec.pdb\n",
      "./alfpdb/alf14/apdb.pdb ./templete/3B99_A/rec.pdb\n",
      "./alfpdb/alf14/apdb.pdb ./templete/2IAG_A/rec.pdb\n",
      "./alfpdb/alf14/apdb.pdb ./templete/3B6H_A/rec.pdb\n",
      "./alfpdb/alf14/apdb.pdb ./templete/3SN5_A/rec.pdb\n",
      "./alfpdb/alf14/apdb.pdb ./templete/3DAX_A/rec.pdb\n",
      "./alfpdb/alf14/apdb.pdb ./templete/3V8D_A/rec.pdb\n",
      "./alfpdb/alf14/apdb.pdb ./templete/3DBG_A/rec.pdb\n",
      "./alfpdb/alf14/apdb.pdb ./templete/2VE4_A/rec.pdb\n",
      "./alfpdb/alf14/apdb.pdb ./templete/2VE3_A/rec.pdb\n",
      "./alfpdb/alf14/apdb.pdb ./templete/1WIY_A/rec.pdb\n",
      "./alfpdb/alf14/apdb.pdb ./templete/7RKW_A/rec.pdb\n",
      "./alfpdb/alf14/apdb.pdb ./templete/6AYC_A/rec.pdb\n",
      "./alfpdb/alf14/apdb.pdb ./templete/6AYB_A/rec.pdb\n",
      "./alfpdb/alf14/apdb.pdb ./templete/7RKR_A/rec.pdb\n",
      "./alfpdb/alf14/apdb.pdb ./templete/7RKT_A/rec.pdb\n",
      "./alfpdb/alf14/apdb.pdb ./templete/5TL8_A/rec.pdb\n",
      "./alfpdb/alf14/apdb.pdb ./templete/1X8V_A/rec.pdb\n",
      "./alfpdb/alf14/apdb.pdb ./templete/6AY4_A/rec.pdb\n",
      "3628 2.178854286087073\n"
     ]
    },
    {
     "name": "stderr",
     "output_type": "stream",
     "text": [
      "/home/Grx/.local/lib/python3.11/site-packages/jax/_src/ops/scatter.py:94: FutureWarning: scatter inputs have incompatible types: cannot safely cast value from dtype=int64 to dtype=int32 with jax_numpy_dtype_promotion='standard'. In future JAX releases this will result in an error.\n",
      "  warnings.warn(\n"
     ]
    },
    {
     "name": "stdout",
     "output_type": "stream",
     "text": [
      "3628 2.1714214205871833\n",
      "./alfpdb/alf14/apdb.pdb ./templete/7LYX_A/rec.pdb\n",
      "./alfpdb/alf14/apdb.pdb ./templete/3B98_A/rec.pdb\n",
      "./alfpdb/alf14/apdb.pdb ./templete/3B99_A/rec.pdb\n",
      "./alfpdb/alf14/apdb.pdb ./templete/2IAG_A/rec.pdb\n",
      "./alfpdb/alf14/apdb.pdb ./templete/3B6H_A/rec.pdb\n",
      "./alfpdb/alf14/apdb.pdb ./templete/3SN5_A/rec.pdb\n",
      "./alfpdb/alf14/apdb.pdb ./templete/3DAX_A/rec.pdb\n",
      "./alfpdb/alf14/apdb.pdb ./templete/3V8D_A/rec.pdb\n",
      "./alfpdb/alf14/apdb.pdb ./templete/3DBG_A/rec.pdb\n",
      "./alfpdb/alf14/apdb.pdb ./templete/2VE4_A/rec.pdb\n",
      "./alfpdb/alf14/apdb.pdb ./templete/2VE3_A/rec.pdb\n",
      "./alfpdb/alf14/apdb.pdb ./templete/1WIY_A/rec.pdb\n",
      "./alfpdb/alf14/apdb.pdb ./templete/7RKW_A/rec.pdb\n",
      "./alfpdb/alf14/apdb.pdb ./templete/6AYC_A/rec.pdb\n",
      "./alfpdb/alf14/apdb.pdb ./templete/6AYB_A/rec.pdb\n",
      "./alfpdb/alf14/apdb.pdb ./templete/7RKR_A/rec.pdb\n",
      "./alfpdb/alf14/apdb.pdb ./templete/7RKT_A/rec.pdb\n",
      "./alfpdb/alf14/apdb.pdb ./templete/5TL8_A/rec.pdb\n",
      "./alfpdb/alf14/apdb.pdb ./templete/1X8V_A/rec.pdb\n",
      "./alfpdb/alf14/apdb.pdb ./templete/6AY4_A/rec.pdb\n",
      "3628 2.178854286087073\n"
     ]
    },
    {
     "name": "stderr",
     "output_type": "stream",
     "text": [
      "/home/Grx/.local/lib/python3.11/site-packages/jax/_src/ops/scatter.py:94: FutureWarning: scatter inputs have incompatible types: cannot safely cast value from dtype=int64 to dtype=int32 with jax_numpy_dtype_promotion='standard'. In future JAX releases this will result in an error.\n",
      "  warnings.warn(\n"
     ]
    },
    {
     "name": "stdout",
     "output_type": "stream",
     "text": [
      "3628 2.171417752501317\n",
      "./alfpdb/alf14/apdb.pdb ./templete/7LYX_A/rec.pdb\n",
      "./alfpdb/alf14/apdb.pdb ./templete/3B98_A/rec.pdb\n",
      "./alfpdb/alf14/apdb.pdb ./templete/3B99_A/rec.pdb\n",
      "./alfpdb/alf14/apdb.pdb ./templete/2IAG_A/rec.pdb\n",
      "./alfpdb/alf14/apdb.pdb ./templete/3B6H_A/rec.pdb\n",
      "./alfpdb/alf14/apdb.pdb ./templete/3SN5_A/rec.pdb\n",
      "./alfpdb/alf14/apdb.pdb ./templete/3DAX_A/rec.pdb\n",
      "./alfpdb/alf14/apdb.pdb ./templete/3V8D_A/rec.pdb\n",
      "./alfpdb/alf14/apdb.pdb ./templete/3DBG_A/rec.pdb\n",
      "./alfpdb/alf14/apdb.pdb ./templete/2VE4_A/rec.pdb\n",
      "./alfpdb/alf14/apdb.pdb ./templete/2VE3_A/rec.pdb\n",
      "./alfpdb/alf14/apdb.pdb ./templete/1WIY_A/rec.pdb\n",
      "./alfpdb/alf14/apdb.pdb ./templete/7RKW_A/rec.pdb\n",
      "./alfpdb/alf14/apdb.pdb ./templete/6AYC_A/rec.pdb\n",
      "./alfpdb/alf14/apdb.pdb ./templete/6AYB_A/rec.pdb\n",
      "./alfpdb/alf14/apdb.pdb ./templete/7RKR_A/rec.pdb\n",
      "./alfpdb/alf14/apdb.pdb ./templete/7RKT_A/rec.pdb\n",
      "./alfpdb/alf14/apdb.pdb ./templete/5TL8_A/rec.pdb\n",
      "./alfpdb/alf14/apdb.pdb ./templete/1X8V_A/rec.pdb\n",
      "./alfpdb/alf14/apdb.pdb ./templete/6AY4_A/rec.pdb\n",
      "3628 2.326685410621727\n",
      "C O -0.28457209181292864 1.2154279081870714\n"
     ]
    },
    {
     "name": "stderr",
     "output_type": "stream",
     "text": [
      "/home/Grx/.local/lib/python3.11/site-packages/jax/_src/ops/scatter.py:94: FutureWarning: scatter inputs have incompatible types: cannot safely cast value from dtype=int64 to dtype=int32 with jax_numpy_dtype_promotion='standard'. In future JAX releases this will result in an error.\n",
      "  warnings.warn(\n"
     ]
    },
    {
     "name": "stdout",
     "output_type": "stream",
     "text": [
      "3628 2.3229662669773417\n",
      "14 136.36204767227173\n",
      "859 2.519327092697572\n"
     ]
    },
    {
     "name": "stderr",
     "output_type": "stream",
     "text": [
      "/home/Grx/.local/lib/python3.11/site-packages/jax/_src/ops/scatter.py:94: FutureWarning: scatter inputs have incompatible types: cannot safely cast value from dtype=int64 to dtype=int32 with jax_numpy_dtype_promotion='standard'. In future JAX releases this will result in an error.\n",
      "  warnings.warn(\n"
     ]
    },
    {
     "name": "stdout",
     "output_type": "stream",
     "text": [
      "859 2.5114261293045557\n",
      "./alfpdb/alf15/apdb.pdb ./templete/3DBG_A/rec.pdb\n",
      "./alfpdb/alf15/apdb.pdb ./templete/7KVJ_A/rec.pdb\n",
      "./alfpdb/alf15/apdb.pdb ./templete/3PSX_A/rec.pdb\n",
      "./alfpdb/alf15/apdb.pdb ./templete/3EL3_A/rec.pdb\n",
      "./alfpdb/alf15/apdb.pdb ./templete/4R1Z_A/rec.pdb\n",
      "./alfpdb/alf15/apdb.pdb ./templete/4TVF_A/rec.pdb\n",
      "./alfpdb/alf15/apdb.pdb ./templete/2W09_A/rec.pdb\n",
      "./alfpdb/alf15/apdb.pdb ./templete/2CIB_A/rec.pdb\n",
      "./alfpdb/alf15/apdb.pdb ./templete/8EWM_A/rec.pdb\n",
      "./alfpdb/alf15/apdb.pdb ./templete/8EWD_A/rec.pdb\n",
      "./alfpdb/alf15/apdb.pdb ./templete/4R20_A/rec.pdb\n",
      "./alfpdb/alf15/apdb.pdb ./templete/2W0A_A/rec.pdb\n",
      "./alfpdb/alf15/apdb.pdb ./templete/2CI0_A/rec.pdb\n",
      "./alfpdb/alf15/apdb.pdb ./templete/2RFB_A/rec.pdb\n",
      "./alfpdb/alf15/apdb.pdb ./templete/2Q9G_A/rec.pdb\n",
      "./alfpdb/alf15/apdb.pdb ./templete/1X8V_A/rec.pdb\n",
      "./alfpdb/alf15/apdb.pdb ./templete/6UNI_A/rec.pdb\n",
      "./alfpdb/alf15/apdb.pdb ./templete/7UAY_A/rec.pdb\n",
      "./alfpdb/alf15/apdb.pdb ./templete/6UNL_A/rec.pdb\n",
      "./alfpdb/alf15/apdb.pdb ./templete/6DAB_A/rec.pdb\n",
      "859 2.519327092697572\n"
     ]
    },
    {
     "name": "stderr",
     "output_type": "stream",
     "text": [
      "/home/Grx/.local/lib/python3.11/site-packages/jax/_src/ops/scatter.py:94: FutureWarning: scatter inputs have incompatible types: cannot safely cast value from dtype=int64 to dtype=int32 with jax_numpy_dtype_promotion='standard'. In future JAX releases this will result in an error.\n",
      "  warnings.warn(\n"
     ]
    },
    {
     "name": "stdout",
     "output_type": "stream",
     "text": [
      "859 2.5114261293045548\n",
      "./alfpdb/alf15/apdb.pdb ./templete/3DBG_A/rec.pdb\n",
      "./alfpdb/alf15/apdb.pdb ./templete/7KVJ_A/rec.pdb\n",
      "./alfpdb/alf15/apdb.pdb ./templete/3PSX_A/rec.pdb\n",
      "./alfpdb/alf15/apdb.pdb ./templete/3EL3_A/rec.pdb\n",
      "./alfpdb/alf15/apdb.pdb ./templete/4R1Z_A/rec.pdb\n",
      "./alfpdb/alf15/apdb.pdb ./templete/4TVF_A/rec.pdb\n",
      "./alfpdb/alf15/apdb.pdb ./templete/2W09_A/rec.pdb\n",
      "./alfpdb/alf15/apdb.pdb ./templete/2CIB_A/rec.pdb\n",
      "./alfpdb/alf15/apdb.pdb ./templete/8EWM_A/rec.pdb\n",
      "./alfpdb/alf15/apdb.pdb ./templete/8EWD_A/rec.pdb\n",
      "./alfpdb/alf15/apdb.pdb ./templete/4R20_A/rec.pdb\n",
      "./alfpdb/alf15/apdb.pdb ./templete/2W0A_A/rec.pdb\n",
      "./alfpdb/alf15/apdb.pdb ./templete/2CI0_A/rec.pdb\n",
      "./alfpdb/alf15/apdb.pdb ./templete/2RFB_A/rec.pdb\n",
      "./alfpdb/alf15/apdb.pdb ./templete/2Q9G_A/rec.pdb\n",
      "./alfpdb/alf15/apdb.pdb ./templete/1X8V_A/rec.pdb\n",
      "./alfpdb/alf15/apdb.pdb ./templete/6UNI_A/rec.pdb\n",
      "./alfpdb/alf15/apdb.pdb ./templete/7UAY_A/rec.pdb\n",
      "./alfpdb/alf15/apdb.pdb ./templete/6UNL_A/rec.pdb\n",
      "./alfpdb/alf15/apdb.pdb ./templete/6DAB_A/rec.pdb\n",
      "859 2.519327092697572\n"
     ]
    },
    {
     "name": "stderr",
     "output_type": "stream",
     "text": [
      "/home/Grx/.local/lib/python3.11/site-packages/jax/_src/ops/scatter.py:94: FutureWarning: scatter inputs have incompatible types: cannot safely cast value from dtype=int64 to dtype=int32 with jax_numpy_dtype_promotion='standard'. In future JAX releases this will result in an error.\n",
      "  warnings.warn(\n"
     ]
    },
    {
     "name": "stdout",
     "output_type": "stream",
     "text": [
      "859 2.5114261293045557\n",
      "./alfpdb/alf15/apdb.pdb ./templete/3DBG_A/rec.pdb\n",
      "./alfpdb/alf15/apdb.pdb ./templete/7KVJ_A/rec.pdb\n",
      "./alfpdb/alf15/apdb.pdb ./templete/3PSX_A/rec.pdb\n",
      "./alfpdb/alf15/apdb.pdb ./templete/3EL3_A/rec.pdb\n",
      "./alfpdb/alf15/apdb.pdb ./templete/4R1Z_A/rec.pdb\n",
      "./alfpdb/alf15/apdb.pdb ./templete/4TVF_A/rec.pdb\n",
      "./alfpdb/alf15/apdb.pdb ./templete/2W09_A/rec.pdb\n",
      "./alfpdb/alf15/apdb.pdb ./templete/2CIB_A/rec.pdb\n",
      "./alfpdb/alf15/apdb.pdb ./templete/8EWM_A/rec.pdb\n",
      "./alfpdb/alf15/apdb.pdb ./templete/8EWD_A/rec.pdb\n",
      "./alfpdb/alf15/apdb.pdb ./templete/4R20_A/rec.pdb\n",
      "./alfpdb/alf15/apdb.pdb ./templete/2W0A_A/rec.pdb\n",
      "./alfpdb/alf15/apdb.pdb ./templete/2CI0_A/rec.pdb\n",
      "./alfpdb/alf15/apdb.pdb ./templete/2RFB_A/rec.pdb\n",
      "./alfpdb/alf15/apdb.pdb ./templete/2Q9G_A/rec.pdb\n",
      "./alfpdb/alf15/apdb.pdb ./templete/1X8V_A/rec.pdb\n",
      "./alfpdb/alf15/apdb.pdb ./templete/6UNI_A/rec.pdb\n",
      "./alfpdb/alf15/apdb.pdb ./templete/7UAY_A/rec.pdb\n",
      "./alfpdb/alf15/apdb.pdb ./templete/6UNL_A/rec.pdb\n",
      "./alfpdb/alf15/apdb.pdb ./templete/6DAB_A/rec.pdb\n",
      "859 2.519327092697572\n"
     ]
    },
    {
     "name": "stderr",
     "output_type": "stream",
     "text": [
      "/home/Grx/.local/lib/python3.11/site-packages/jax/_src/ops/scatter.py:94: FutureWarning: scatter inputs have incompatible types: cannot safely cast value from dtype=int64 to dtype=int32 with jax_numpy_dtype_promotion='standard'. In future JAX releases this will result in an error.\n",
      "  warnings.warn(\n"
     ]
    },
    {
     "name": "stdout",
     "output_type": "stream",
     "text": [
      "859 2.5114261293045557\n",
      "15 65.81572580337524\n"
     ]
    },
    {
     "name": "stderr",
     "output_type": "stream",
     "text": [
      "/home/Grx/.local/lib/python3.11/site-packages/jax/_src/ops/scatter.py:94: FutureWarning: scatter inputs have incompatible types: cannot safely cast value from dtype=int64 to dtype=int32 with jax_numpy_dtype_promotion='standard'. In future JAX releases this will result in an error.\n",
      "  warnings.warn(\n"
     ]
    },
    {
     "name": "stdout",
     "output_type": "stream",
     "text": [
      "./alfpdb/alf16/apdb.pdb ./templete/3DBG_A/rec.pdb\n",
      "./alfpdb/alf16/apdb.pdb ./templete/8EWD_A/rec.pdb\n",
      "./alfpdb/alf16/apdb.pdb ./templete/7KVJ_A/rec.pdb\n",
      "./alfpdb/alf16/apdb.pdb ./templete/6UNL_A/rec.pdb\n",
      "./alfpdb/alf16/apdb.pdb ./templete/7UF9_A/rec.pdb\n",
      "./alfpdb/alf16/apdb.pdb ./templete/6BDH_A/rec.pdb\n",
      "./alfpdb/alf16/apdb.pdb ./templete/8EWR_A/rec.pdb\n",
      "./alfpdb/alf16/apdb.pdb ./templete/7KSA_A/rec.pdb\n",
      "./alfpdb/alf16/apdb.pdb ./templete/8EXB_A/rec.pdb\n",
      "./alfpdb/alf16/apdb.pdb ./templete/8EWM_A/rec.pdb\n",
      "./alfpdb/alf16/apdb.pdb ./templete/8EWN_A/rec.pdb\n",
      "./alfpdb/alf16/apdb.pdb ./templete/6UNM_A/rec.pdb\n",
      "./alfpdb/alf16/apdb.pdb ./templete/6DA3_A/rec.pdb\n",
      "./alfpdb/alf16/apdb.pdb ./templete/8EWL_A/rec.pdb\n",
      "./alfpdb/alf16/apdb.pdb ./templete/7UAZ_A/rec.pdb\n",
      "./alfpdb/alf16/apdb.pdb ./templete/6DAJ_A/rec.pdb\n",
      "./alfpdb/alf16/apdb.pdb ./templete/6DAA_A/rec.pdb\n",
      "./alfpdb/alf16/apdb.pdb ./templete/6DA5_A/rec.pdb\n",
      "./alfpdb/alf16/apdb.pdb ./templete/6DAG_A/rec.pdb\n",
      "./alfpdb/alf16/apdb.pdb ./templete/7KVI_A/rec.pdb\n",
      "C C -0.22831520554669948 1.3116847944533006\n",
      "C N -0.7227516070884812 0.7972483929115188\n",
      "C C -0.3641207544989997 1.1758792455010003\n",
      "C C -0.27722963291024194 1.262770367089758\n",
      "C C -0.2167475675442736 1.3232524324557264\n",
      "C N -0.22091031872314448 1.2990896812768555\n",
      "O N -0.2952928631936087 1.1847071368063913\n",
      "O C -0.3901774916681482 1.1098225083318518\n",
      "C N -0.438321212189126 1.081678787810874\n",
      "C C -0.09850424905239508 1.441495750947605\n",
      "C C -1.1721780321949231 0.36782196780507687\n",
      "O C -0.6709179775197145 0.8290820224802855\n"
     ]
    },
    {
     "name": "stderr",
     "output_type": "stream",
     "text": [
      "/home/Grx/.local/lib/python3.11/site-packages/jax/_src/ops/scatter.py:94: FutureWarning: scatter inputs have incompatible types: cannot safely cast value from dtype=int64 to dtype=int32 with jax_numpy_dtype_promotion='standard'. In future JAX releases this will result in an error.\n",
      "  warnings.warn(\n"
     ]
    },
    {
     "name": "stdout",
     "output_type": "stream",
     "text": [
      "C C -0.5153970670911083 1.0246029329088917\n",
      "C C -0.07253575781486798 1.467464242185132\n",
      "C N -0.15336892225875065 1.3666310777412494\n",
      "C C -0.42523117870679594 1.114768821293204\n",
      "C C -0.5942618163393872 0.9457381836606128\n",
      "C O -0.12889923481392995 1.37110076518607\n",
      "O C -0.5506659563555207 0.9493340436444793\n",
      "C N -0.25223895562441445 1.2677610443755856\n",
      "C C -0.13253203516963485 1.4074679648303652\n",
      "C C -0.14993487532541594 1.390065124674584\n",
      "C C -0.11234765023649218 1.4276523497635079\n",
      "./alfpdb/alf16/apdb.pdb ./templete/3DBG_A/rec.pdb\n",
      "./alfpdb/alf16/apdb.pdb ./templete/8EWD_A/rec.pdb\n",
      "./alfpdb/alf16/apdb.pdb ./templete/7KVJ_A/rec.pdb\n",
      "./alfpdb/alf16/apdb.pdb ./templete/6UNL_A/rec.pdb\n",
      "./alfpdb/alf16/apdb.pdb ./templete/7UF9_A/rec.pdb\n",
      "./alfpdb/alf16/apdb.pdb ./templete/6BDH_A/rec.pdb\n",
      "./alfpdb/alf16/apdb.pdb ./templete/8EWR_A/rec.pdb\n",
      "./alfpdb/alf16/apdb.pdb ./templete/7KSA_A/rec.pdb\n",
      "./alfpdb/alf16/apdb.pdb ./templete/8EXB_A/rec.pdb\n",
      "./alfpdb/alf16/apdb.pdb ./templete/8EWM_A/rec.pdb\n",
      "./alfpdb/alf16/apdb.pdb ./templete/8EWN_A/rec.pdb\n",
      "./alfpdb/alf16/apdb.pdb ./templete/6UNM_A/rec.pdb\n",
      "./alfpdb/alf16/apdb.pdb ./templete/6DA3_A/rec.pdb\n",
      "./alfpdb/alf16/apdb.pdb ./templete/8EWL_A/rec.pdb\n",
      "./alfpdb/alf16/apdb.pdb ./templete/7UAZ_A/rec.pdb\n",
      "./alfpdb/alf16/apdb.pdb ./templete/6DAJ_A/rec.pdb\n",
      "./alfpdb/alf16/apdb.pdb ./templete/6DAA_A/rec.pdb\n",
      "./alfpdb/alf16/apdb.pdb ./templete/6DA5_A/rec.pdb\n",
      "./alfpdb/alf16/apdb.pdb ./templete/6DAG_A/rec.pdb\n",
      "./alfpdb/alf16/apdb.pdb ./templete/7KVI_A/rec.pdb\n",
      "C C -0.4786075183985894 1.0613924816014106\n",
      "C N -0.18721757214464763 1.3327824278553524\n",
      "C C -1.0713679481725564 0.4686320518274437\n",
      "C N -0.32604145800618367 1.1939585419938163\n",
      "C C -0.262641005824908 1.277358994175092\n",
      "C O -0.20349354031690292 1.296506459683097\n",
      "C N -0.5132651789075737 1.0067348210924263\n",
      "C C -0.1920011127601038 1.3479988872398962\n",
      "C N -0.34766088523840644 1.1723391147615936\n",
      "C C -0.39776315941044915 1.1422368405895509\n",
      "C C -0.09367154491104501 1.446328455088955\n"
     ]
    },
    {
     "name": "stderr",
     "output_type": "stream",
     "text": [
      "/home/Grx/.local/lib/python3.11/site-packages/jax/_src/ops/scatter.py:94: FutureWarning: scatter inputs have incompatible types: cannot safely cast value from dtype=int64 to dtype=int32 with jax_numpy_dtype_promotion='standard'. In future JAX releases this will result in an error.\n",
      "  warnings.warn(\n"
     ]
    },
    {
     "name": "stdout",
     "output_type": "stream",
     "text": [
      "C C -0.3897486390890643 1.1502513609109357\n",
      "C N -0.00172376629327875 1.5182762337067213\n",
      "C C -1.0315529831174906 0.5084470168825095\n",
      "C N -0.2951770365923614 1.2248229634076386\n",
      "C C -0.33751916247588176 1.2024808375241183\n",
      "C O -0.47258309478935345 1.0274169052106465\n",
      "C N -0.2514465640799475 1.2685534359200525\n",
      "C C -0.21007052674847881 1.3299294732515212\n",
      "C N -0.3593572856284355 1.1606427143715645\n",
      "C C -0.4707775823080793 1.0692224176919207\n",
      "C C -0.09554356170317924 1.4444564382968208\n",
      "./alfpdb/alf16/apdb.pdb ./templete/3DBG_A/rec.pdb\n",
      "./alfpdb/alf16/apdb.pdb ./templete/8EWD_A/rec.pdb\n",
      "./alfpdb/alf16/apdb.pdb ./templete/7KVJ_A/rec.pdb\n",
      "./alfpdb/alf16/apdb.pdb ./templete/6UNL_A/rec.pdb\n",
      "./alfpdb/alf16/apdb.pdb ./templete/7UF9_A/rec.pdb\n",
      "./alfpdb/alf16/apdb.pdb ./templete/6BDH_A/rec.pdb\n",
      "./alfpdb/alf16/apdb.pdb ./templete/8EWR_A/rec.pdb\n",
      "./alfpdb/alf16/apdb.pdb ./templete/7KSA_A/rec.pdb\n",
      "./alfpdb/alf16/apdb.pdb ./templete/8EXB_A/rec.pdb\n",
      "./alfpdb/alf16/apdb.pdb ./templete/8EWM_A/rec.pdb\n",
      "./alfpdb/alf16/apdb.pdb ./templete/8EWN_A/rec.pdb\n",
      "./alfpdb/alf16/apdb.pdb ./templete/6UNM_A/rec.pdb\n",
      "./alfpdb/alf16/apdb.pdb ./templete/6DA3_A/rec.pdb\n",
      "./alfpdb/alf16/apdb.pdb ./templete/8EWL_A/rec.pdb\n",
      "./alfpdb/alf16/apdb.pdb ./templete/7UAZ_A/rec.pdb\n",
      "./alfpdb/alf16/apdb.pdb ./templete/6DAJ_A/rec.pdb\n",
      "./alfpdb/alf16/apdb.pdb ./templete/6DAA_A/rec.pdb\n",
      "./alfpdb/alf16/apdb.pdb ./templete/6DA5_A/rec.pdb\n",
      "./alfpdb/alf16/apdb.pdb ./templete/6DAG_A/rec.pdb\n",
      "./alfpdb/alf16/apdb.pdb ./templete/7KVI_A/rec.pdb\n",
      "3546 1.8276796765297803\n",
      "C C -0.4568615047003466 1.0831384952996534\n",
      "C O -0.8808126293277602 0.6191873706722398\n"
     ]
    },
    {
     "name": "stderr",
     "output_type": "stream",
     "text": [
      "/home/Grx/.local/lib/python3.11/site-packages/jax/_src/ops/scatter.py:94: FutureWarning: scatter inputs have incompatible types: cannot safely cast value from dtype=int64 to dtype=int32 with jax_numpy_dtype_promotion='standard'. In future JAX releases this will result in an error.\n",
      "  warnings.warn(\n"
     ]
    },
    {
     "name": "stdout",
     "output_type": "stream",
     "text": [
      "3546 1.8850334990479891\n",
      "16 164.747629404068\n",
      "2791 2.0009772612401173\n"
     ]
    },
    {
     "name": "stderr",
     "output_type": "stream",
     "text": [
      "/home/Grx/.local/lib/python3.11/site-packages/jax/_src/ops/scatter.py:94: FutureWarning: scatter inputs have incompatible types: cannot safely cast value from dtype=int64 to dtype=int32 with jax_numpy_dtype_promotion='standard'. In future JAX releases this will result in an error.\n",
      "  warnings.warn(\n"
     ]
    },
    {
     "name": "stdout",
     "output_type": "stream",
     "text": [
      "2791 2.0069918604100376\n",
      "./alfpdb/alf18/apdb.pdb ./templete/7SMZ_A/rec.pdb\n",
      "./alfpdb/alf18/apdb.pdb ./templete/3MGX_A/rec.pdb\n",
      "./alfpdb/alf18/apdb.pdb ./templete/5LIE_A/rec.pdb\n",
      "./alfpdb/alf18/apdb.pdb ./templete/4PWV_A/rec.pdb\n",
      "./alfpdb/alf18/apdb.pdb ./templete/5LI6_A/rec.pdb\n",
      "./alfpdb/alf18/apdb.pdb ./templete/4TRI_A/rec.pdb\n",
      "./alfpdb/alf18/apdb.pdb ./templete/5LI7_A/rec.pdb\n",
      "./alfpdb/alf18/apdb.pdb ./templete/4RM4_A/rec.pdb\n",
      "./alfpdb/alf18/apdb.pdb ./templete/2RFB_A/rec.pdb\n",
      "./alfpdb/alf18/apdb.pdb ./templete/7QQ7_A/rec.pdb\n",
      "./alfpdb/alf18/apdb.pdb ./templete/2XKR_A/rec.pdb\n",
      "./alfpdb/alf18/apdb.pdb ./templete/6B11_A/rec.pdb\n",
      "./alfpdb/alf18/apdb.pdb ./templete/7P5T_A/rec.pdb\n",
      "./alfpdb/alf18/apdb.pdb ./templete/7QJL_A/rec.pdb\n",
      "./alfpdb/alf18/apdb.pdb ./templete/4LHT_A/rec.pdb\n",
      "./alfpdb/alf18/apdb.pdb ./templete/3WVS_A/rec.pdb\n",
      "./alfpdb/alf18/apdb.pdb ./templete/5L92_A/rec.pdb\n",
      "./alfpdb/alf18/apdb.pdb ./templete/5L94_A/rec.pdb\n",
      "./alfpdb/alf18/apdb.pdb ./templete/4L77_A/rec.pdb\n",
      "./alfpdb/alf18/apdb.pdb ./templete/7WEX_A/rec.pdb\n",
      "2791 2.0009772612401173\n"
     ]
    },
    {
     "name": "stderr",
     "output_type": "stream",
     "text": [
      "/home/Grx/.local/lib/python3.11/site-packages/jax/_src/ops/scatter.py:94: FutureWarning: scatter inputs have incompatible types: cannot safely cast value from dtype=int64 to dtype=int32 with jax_numpy_dtype_promotion='standard'. In future JAX releases this will result in an error.\n",
      "  warnings.warn(\n"
     ]
    },
    {
     "name": "stdout",
     "output_type": "stream",
     "text": [
      "2791 2.0069918604100376\n",
      "./alfpdb/alf18/apdb.pdb ./templete/7SMZ_A/rec.pdb\n",
      "./alfpdb/alf18/apdb.pdb ./templete/3MGX_A/rec.pdb\n",
      "./alfpdb/alf18/apdb.pdb ./templete/5LIE_A/rec.pdb\n",
      "./alfpdb/alf18/apdb.pdb ./templete/4PWV_A/rec.pdb\n",
      "./alfpdb/alf18/apdb.pdb ./templete/5LI6_A/rec.pdb\n",
      "./alfpdb/alf18/apdb.pdb ./templete/4TRI_A/rec.pdb\n",
      "./alfpdb/alf18/apdb.pdb ./templete/5LI7_A/rec.pdb\n",
      "./alfpdb/alf18/apdb.pdb ./templete/4RM4_A/rec.pdb\n",
      "./alfpdb/alf18/apdb.pdb ./templete/2RFB_A/rec.pdb\n",
      "./alfpdb/alf18/apdb.pdb ./templete/7QQ7_A/rec.pdb\n",
      "./alfpdb/alf18/apdb.pdb ./templete/2XKR_A/rec.pdb\n",
      "./alfpdb/alf18/apdb.pdb ./templete/6B11_A/rec.pdb\n",
      "./alfpdb/alf18/apdb.pdb ./templete/7P5T_A/rec.pdb\n",
      "./alfpdb/alf18/apdb.pdb ./templete/7QJL_A/rec.pdb\n",
      "./alfpdb/alf18/apdb.pdb ./templete/4LHT_A/rec.pdb\n",
      "./alfpdb/alf18/apdb.pdb ./templete/3WVS_A/rec.pdb\n",
      "./alfpdb/alf18/apdb.pdb ./templete/5L92_A/rec.pdb\n",
      "./alfpdb/alf18/apdb.pdb ./templete/5L94_A/rec.pdb\n",
      "./alfpdb/alf18/apdb.pdb ./templete/4L77_A/rec.pdb\n",
      "./alfpdb/alf18/apdb.pdb ./templete/7WEX_A/rec.pdb\n",
      "2791 2.0009772612401173\n"
     ]
    },
    {
     "name": "stderr",
     "output_type": "stream",
     "text": [
      "/home/Grx/.local/lib/python3.11/site-packages/jax/_src/ops/scatter.py:94: FutureWarning: scatter inputs have incompatible types: cannot safely cast value from dtype=int64 to dtype=int32 with jax_numpy_dtype_promotion='standard'. In future JAX releases this will result in an error.\n",
      "  warnings.warn(\n"
     ]
    },
    {
     "name": "stdout",
     "output_type": "stream",
     "text": [
      "2791 2.0069918604100376\n",
      "./alfpdb/alf18/apdb.pdb ./templete/7SMZ_A/rec.pdb\n",
      "./alfpdb/alf18/apdb.pdb ./templete/3MGX_A/rec.pdb\n",
      "./alfpdb/alf18/apdb.pdb ./templete/5LIE_A/rec.pdb\n",
      "./alfpdb/alf18/apdb.pdb ./templete/4PWV_A/rec.pdb\n",
      "./alfpdb/alf18/apdb.pdb ./templete/5LI6_A/rec.pdb\n",
      "./alfpdb/alf18/apdb.pdb ./templete/4TRI_A/rec.pdb\n",
      "./alfpdb/alf18/apdb.pdb ./templete/5LI7_A/rec.pdb\n",
      "./alfpdb/alf18/apdb.pdb ./templete/4RM4_A/rec.pdb\n",
      "./alfpdb/alf18/apdb.pdb ./templete/2RFB_A/rec.pdb\n",
      "./alfpdb/alf18/apdb.pdb ./templete/7QQ7_A/rec.pdb\n",
      "./alfpdb/alf18/apdb.pdb ./templete/2XKR_A/rec.pdb\n",
      "./alfpdb/alf18/apdb.pdb ./templete/6B11_A/rec.pdb\n",
      "./alfpdb/alf18/apdb.pdb ./templete/7P5T_A/rec.pdb\n",
      "./alfpdb/alf18/apdb.pdb ./templete/7QJL_A/rec.pdb\n",
      "./alfpdb/alf18/apdb.pdb ./templete/4LHT_A/rec.pdb\n",
      "./alfpdb/alf18/apdb.pdb ./templete/3WVS_A/rec.pdb\n",
      "./alfpdb/alf18/apdb.pdb ./templete/5L92_A/rec.pdb\n",
      "./alfpdb/alf18/apdb.pdb ./templete/5L94_A/rec.pdb\n",
      "./alfpdb/alf18/apdb.pdb ./templete/4L77_A/rec.pdb\n",
      "./alfpdb/alf18/apdb.pdb ./templete/7WEX_A/rec.pdb\n",
      "2791 2.0009772612401173\n"
     ]
    },
    {
     "name": "stderr",
     "output_type": "stream",
     "text": [
      "/home/Grx/.local/lib/python3.11/site-packages/jax/_src/ops/scatter.py:94: FutureWarning: scatter inputs have incompatible types: cannot safely cast value from dtype=int64 to dtype=int32 with jax_numpy_dtype_promotion='standard'. In future JAX releases this will result in an error.\n",
      "  warnings.warn(\n"
     ]
    },
    {
     "name": "stdout",
     "output_type": "stream",
     "text": [
      "2791 2.0069918604100376\n",
      "18 100.65371704101562\n",
      "3364 1.9462320005590281\n"
     ]
    },
    {
     "name": "stderr",
     "output_type": "stream",
     "text": [
      "/home/Grx/.local/lib/python3.11/site-packages/jax/_src/ops/scatter.py:94: FutureWarning: scatter inputs have incompatible types: cannot safely cast value from dtype=int64 to dtype=int32 with jax_numpy_dtype_promotion='standard'. In future JAX releases this will result in an error.\n",
      "  warnings.warn(\n"
     ]
    },
    {
     "name": "stdout",
     "output_type": "stream",
     "text": [
      "3364 1.9576072285404122\n",
      "./alfpdb/alf19/apdb.pdb ./templete/1WIY_A/rec.pdb\n",
      "./alfpdb/alf19/apdb.pdb ./templete/3DBG_A/rec.pdb\n",
      "./alfpdb/alf19/apdb.pdb ./templete/1N97_A/rec.pdb\n",
      "./alfpdb/alf19/apdb.pdb ./templete/7KVJ_A/rec.pdb\n",
      "./alfpdb/alf19/apdb.pdb ./templete/7TTP_A/rec.pdb\n",
      "./alfpdb/alf19/apdb.pdb ./templete/8EWD_A/rec.pdb\n",
      "./alfpdb/alf19/apdb.pdb ./templete/7TTO_A/rec.pdb\n",
      "./alfpdb/alf19/apdb.pdb ./templete/7TTB_A/rec.pdb\n",
      "./alfpdb/alf19/apdb.pdb ./templete/7TTA_A/rec.pdb\n",
      "./alfpdb/alf19/apdb.pdb ./templete/3TJS_A/rec.pdb\n",
      "./alfpdb/alf19/apdb.pdb ./templete/3PSX_A/rec.pdb\n",
      "./alfpdb/alf19/apdb.pdb ./templete/6UNM_A/rec.pdb\n",
      "./alfpdb/alf19/apdb.pdb ./templete/7UAY_A/rec.pdb\n",
      "./alfpdb/alf19/apdb.pdb ./templete/8EXB_A/rec.pdb\n",
      "./alfpdb/alf19/apdb.pdb ./templete/6DAB_A/rec.pdb\n",
      "./alfpdb/alf19/apdb.pdb ./templete/3EL3_A/rec.pdb\n",
      "./alfpdb/alf19/apdb.pdb ./templete/8EWM_A/rec.pdb\n",
      "./alfpdb/alf19/apdb.pdb ./templete/6BDH_A/rec.pdb\n",
      "./alfpdb/alf19/apdb.pdb ./templete/6UNJ_A/rec.pdb\n",
      "./alfpdb/alf19/apdb.pdb ./templete/7UAZ_A/rec.pdb\n",
      "3364 1.9462320005590281\n"
     ]
    },
    {
     "name": "stderr",
     "output_type": "stream",
     "text": [
      "/home/Grx/.local/lib/python3.11/site-packages/jax/_src/ops/scatter.py:94: FutureWarning: scatter inputs have incompatible types: cannot safely cast value from dtype=int64 to dtype=int32 with jax_numpy_dtype_promotion='standard'. In future JAX releases this will result in an error.\n",
      "  warnings.warn(\n"
     ]
    },
    {
     "name": "stdout",
     "output_type": "stream",
     "text": [
      "3364 1.9576072285404122\n",
      "./alfpdb/alf19/apdb.pdb ./templete/1WIY_A/rec.pdb\n",
      "./alfpdb/alf19/apdb.pdb ./templete/3DBG_A/rec.pdb\n",
      "./alfpdb/alf19/apdb.pdb ./templete/1N97_A/rec.pdb\n",
      "./alfpdb/alf19/apdb.pdb ./templete/7KVJ_A/rec.pdb\n",
      "./alfpdb/alf19/apdb.pdb ./templete/7TTP_A/rec.pdb\n",
      "./alfpdb/alf19/apdb.pdb ./templete/8EWD_A/rec.pdb\n",
      "./alfpdb/alf19/apdb.pdb ./templete/7TTO_A/rec.pdb\n",
      "./alfpdb/alf19/apdb.pdb ./templete/7TTB_A/rec.pdb\n",
      "./alfpdb/alf19/apdb.pdb ./templete/7TTA_A/rec.pdb\n",
      "./alfpdb/alf19/apdb.pdb ./templete/3TJS_A/rec.pdb\n",
      "./alfpdb/alf19/apdb.pdb ./templete/3PSX_A/rec.pdb\n",
      "./alfpdb/alf19/apdb.pdb ./templete/6UNM_A/rec.pdb\n",
      "./alfpdb/alf19/apdb.pdb ./templete/7UAY_A/rec.pdb\n",
      "./alfpdb/alf19/apdb.pdb ./templete/8EXB_A/rec.pdb\n",
      "./alfpdb/alf19/apdb.pdb ./templete/6DAB_A/rec.pdb\n",
      "./alfpdb/alf19/apdb.pdb ./templete/3EL3_A/rec.pdb\n",
      "./alfpdb/alf19/apdb.pdb ./templete/8EWM_A/rec.pdb\n",
      "./alfpdb/alf19/apdb.pdb ./templete/6BDH_A/rec.pdb\n",
      "./alfpdb/alf19/apdb.pdb ./templete/6UNJ_A/rec.pdb\n",
      "./alfpdb/alf19/apdb.pdb ./templete/7UAZ_A/rec.pdb\n"
     ]
    },
    {
     "name": "stderr",
     "output_type": "stream",
     "text": [
      "/home/Grx/.local/lib/python3.11/site-packages/jax/_src/ops/scatter.py:94: FutureWarning: scatter inputs have incompatible types: cannot safely cast value from dtype=int64 to dtype=int32 with jax_numpy_dtype_promotion='standard'. In future JAX releases this will result in an error.\n",
      "  warnings.warn(\n"
     ]
    },
    {
     "name": "stdout",
     "output_type": "stream",
     "text": [
      "./alfpdb/alf19/apdb.pdb ./templete/1WIY_A/rec.pdb\n",
      "./alfpdb/alf19/apdb.pdb ./templete/3DBG_A/rec.pdb\n",
      "./alfpdb/alf19/apdb.pdb ./templete/1N97_A/rec.pdb\n",
      "./alfpdb/alf19/apdb.pdb ./templete/7KVJ_A/rec.pdb\n",
      "./alfpdb/alf19/apdb.pdb ./templete/7TTP_A/rec.pdb\n",
      "./alfpdb/alf19/apdb.pdb ./templete/8EWD_A/rec.pdb\n",
      "./alfpdb/alf19/apdb.pdb ./templete/7TTO_A/rec.pdb\n",
      "./alfpdb/alf19/apdb.pdb ./templete/7TTB_A/rec.pdb\n",
      "./alfpdb/alf19/apdb.pdb ./templete/7TTA_A/rec.pdb\n",
      "./alfpdb/alf19/apdb.pdb ./templete/3TJS_A/rec.pdb\n",
      "./alfpdb/alf19/apdb.pdb ./templete/3PSX_A/rec.pdb\n",
      "./alfpdb/alf19/apdb.pdb ./templete/6UNM_A/rec.pdb\n",
      "./alfpdb/alf19/apdb.pdb ./templete/7UAY_A/rec.pdb\n",
      "./alfpdb/alf19/apdb.pdb ./templete/8EXB_A/rec.pdb\n",
      "./alfpdb/alf19/apdb.pdb ./templete/6DAB_A/rec.pdb\n",
      "./alfpdb/alf19/apdb.pdb ./templete/3EL3_A/rec.pdb\n",
      "./alfpdb/alf19/apdb.pdb ./templete/8EWM_A/rec.pdb\n",
      "./alfpdb/alf19/apdb.pdb ./templete/6BDH_A/rec.pdb\n",
      "./alfpdb/alf19/apdb.pdb ./templete/6UNJ_A/rec.pdb\n",
      "./alfpdb/alf19/apdb.pdb ./templete/7UAZ_A/rec.pdb\n",
      "3364 1.4743289999182678\n",
      "FE S -0.3056710000817322 1.4743289999182678\n"
     ]
    },
    {
     "name": "stderr",
     "output_type": "stream",
     "text": [
      "/home/Grx/.local/lib/python3.11/site-packages/jax/_src/ops/scatter.py:94: FutureWarning: scatter inputs have incompatible types: cannot safely cast value from dtype=int64 to dtype=int32 with jax_numpy_dtype_promotion='standard'. In future JAX releases this will result in an error.\n",
      "  warnings.warn(\n"
     ]
    },
    {
     "name": "stdout",
     "output_type": "stream",
     "text": [
      "3364 1.8259534978104308\n",
      "19 136.1542263031006\n"
     ]
    }
   ],
   "source": [
    "resultax5=[]\n",
    "resultax6=[]\n",
    "resultax7=[]\n",
    "resultax8=[]\n",
    "for i in range(0,20):\n",
    "    if i==3  or i==4 or i==7 or i==17:\n",
    "        continue\n",
    "    \n",
    "    t0=time.time()\n",
    "    prtpath='./alfpdb/alf'+str(i)+'/apdb.pdb'\n",
    "    teml=get_tem(1,10,i)\n",
    "    success,suct,fesx=get_mdp(teml,prtpath)\n",
    "    succ,crashn,fes=md(suct,1,1,4,i)\n",
    "    t1=time.time()\n",
    "    resultax5.append([prtpath,succ,fes,t1-t0+60])\n",
    "    \n",
    "    t0x=time.time()\n",
    "    prtpath='./alfpdb/alf'+str(i)+'/apdb.pdb'\n",
    "    teml=get_tem(0,10,i)\n",
    "    success,suct,fesx=get_mdp(teml,prtpath)\n",
    "    succ,crashn,fes=md(suct,1,1,5,i)\n",
    "    t1x=time.time()\n",
    "    resultax6.append([prtpath,succ,fes,t1x-t0x+60])\n",
    "    \n",
    "    t0x=time.time()\n",
    "    prtpath='./alfpdb/alf'+str(i)+'/apdb.pdb'\n",
    "    teml=get_tem(0,5,i)\n",
    "    success,suct,fesx=get_mdp(teml,prtpath)\n",
    "    succ,crashn,fes=md(suct,1,1,6,i)\n",
    "    t1x=time.time()\n",
    "    resultax7.append([prtpath,succ,fes,t1x-t0x+60])\n",
    "    \n",
    "    t0x=time.time()\n",
    "    prtpath='./alfpdb/alf'+str(i)+'/apdb.pdb'\n",
    "    teml=get_tem(0,1,i)\n",
    "    success,suct,fesx=get_mdp(teml,prtpath)\n",
    "    succ,crashn,fes=md(suct,1,1,7,i)\n",
    "    t1x=time.time()\n",
    "    resultax8.append([prtpath,succ,fes,t1x-t0x+60])\n",
    "    \n",
    "    print(i,time.time()-t0)"
   ]
  },
  {
   "cell_type": "code",
   "execution_count": 38,
   "id": "f7d26462",
   "metadata": {},
   "outputs": [
    {
     "name": "stdout",
     "output_type": "stream",
     "text": [
      "1 0.7 0.8731538609097388 110.45316383417915\n",
      "2 0.7 0.8606452070682711 100.3050481151132\n",
      "3 0.7 0.6524864396813199 93.76423033545998\n",
      "4 0.65 0.6494943576480882 94.19451111905715\n",
      "5 0.6 0.7142074118606664 88.26502367854118\n",
      "6 0.6 0.6708993951485367 92.06012038886547\n",
      "7 0.55 0.8140266921678155 91.85838769376278\n",
      "8 0.45 0.6621125149290051 91.82148233056068\n"
     ]
    }
   ],
   "source": [
    "sl=[]\n",
    "fl=[]\n",
    "tl=[]\n",
    "for i in resultax1:\n",
    "    sl.append(i[1])\n",
    "    fl.append(i[2])\n",
    "    tl.append(i[3])\n",
    "sumr=[]\n",
    "lenr=0\n",
    "for j in fl:\n",
    "    if j<5:\n",
    "        sumr.append((j-2.38)**2)\n",
    "        lenr+=1\n",
    "sumx=np.array(sumr)\n",
    "tl=np.array(tl)\n",
    "print(1,sl.count(1)/20,np.mean(sumx)**0.5,np.mean(tl))\n",
    "\n",
    "sl=[]\n",
    "fl=[]\n",
    "tl=[]\n",
    "for i in resultax2:\n",
    "    sl.append(i[1])\n",
    "    fl.append(i[2])\n",
    "    tl.append(i[3])\n",
    "sumr=[]\n",
    "lenr=0\n",
    "for j in fl:\n",
    "    if j<5:\n",
    "        sumr.append((j-2.38)**2)\n",
    "        lenr+=1\n",
    "sumx=np.array(sumr)\n",
    "tl=np.array(tl)\n",
    "print(2,sl.count(1)/20,np.mean(sumx)**0.5,np.mean(tl))\n",
    "\n",
    "sl=[]\n",
    "fl=[]\n",
    "tl=[]\n",
    "for i in resultax3:\n",
    "    sl.append(i[1])\n",
    "    fl.append(i[2])\n",
    "    tl.append(i[3])\n",
    "sumr=[]\n",
    "lenr=0\n",
    "for j in fl:\n",
    "    if j<5:\n",
    "        sumr.append((j-2.38)**2)\n",
    "        lenr+=1\n",
    "sumx=np.array(sumr)\n",
    "tl=np.array(tl)\n",
    "print(3,sl.count(1)/20,np.mean(sumx)**0.5,np.mean(tl))\n",
    "\n",
    "sl=[]\n",
    "fl=[]\n",
    "tl=[]\n",
    "for i in resultax4:\n",
    "    sl.append(i[1])\n",
    "    fl.append(i[2])\n",
    "    tl.append(i[3])\n",
    "sumr=[]\n",
    "lenr=0\n",
    "for j in fl:\n",
    "    if j<5:\n",
    "        sumr.append((j-2.38)**2)\n",
    "        lenr+=1\n",
    "sumr=np.array(sumr)\n",
    "tl=np.array(tl)\n",
    "print(4,sl.count(1)/20,np.mean(sumr)**0.5,np.mean(tl))\n",
    "\n",
    "sl=[]\n",
    "fl=[]\n",
    "tl=[]\n",
    "for i in resultax5:\n",
    "    sl.append(i[1])\n",
    "    fl.append(i[2])\n",
    "    tl.append(i[3])\n",
    "sumr=[]\n",
    "lenr=0\n",
    "for j in fl:\n",
    "    if j<5:\n",
    "        sumr.append((j-2.38)**2)\n",
    "        lenr+=1\n",
    "sumr=np.array(sumr)\n",
    "tl=np.array(tl)\n",
    "print(5,sl.count(1)/20,np.mean(sumr)**0.5,np.mean(tl))\n",
    "\n",
    "sl=[]\n",
    "fl=[]\n",
    "tl=[]\n",
    "for i in resultax6:\n",
    "    sl.append(i[1])\n",
    "    fl.append(i[2])\n",
    "    tl.append(i[3])\n",
    "sumr=[]\n",
    "lenr=0\n",
    "for j in fl:\n",
    "    if j<5:\n",
    "        sumr.append((j-2.38)**2)\n",
    "        lenr+=1\n",
    "sumr=np.array(sumr)\n",
    "tl=np.array(tl)\n",
    "print(6,sl.count(1)/20,np.mean(sumr)**0.5,np.mean(tl))\n",
    "\n",
    "sl=[]\n",
    "fl=[]\n",
    "tl=[]\n",
    "for i in resultax7:\n",
    "    sl.append(i[1])\n",
    "    fl.append(i[2])\n",
    "    tl.append(i[3])\n",
    "sumr=[]\n",
    "lenr=0\n",
    "for j in fl:\n",
    "    if j<5:\n",
    "        sumr.append((j-2.38)**2)\n",
    "        lenr+=1\n",
    "sumr=np.array(sumr)\n",
    "tl=np.array(tl)\n",
    "print(7,sl.count(1)/20,np.mean(sumr)**0.5,np.mean(tl))\n",
    "\n",
    "sl=[]\n",
    "fl=[]\n",
    "tl=[]\n",
    "for i in resultax8:\n",
    "    sl.append(i[1])\n",
    "    fl.append(i[2])\n",
    "    tl.append(i[3])\n",
    "sumr=[]\n",
    "lenr=0\n",
    "for j in fl:\n",
    "    if j<5:\n",
    "        sumr.append((j-2.38)**2)\n",
    "        lenr+=1\n",
    "sumr=np.array(sumr)\n",
    "tl=np.array(tl)\n",
    "print(8,sl.count(1)/20,np.mean(sumr)**0.5,np.mean(tl))"
   ]
  },
  {
   "cell_type": "code",
   "execution_count": 46,
   "id": "bc724b3a",
   "metadata": {},
   "outputs": [],
   "source": [
    "xxxlll=1"
   ]
  },
  {
   "cell_type": "code",
   "execution_count": 39,
   "id": "1a3f7d0e",
   "metadata": {},
   "outputs": [],
   "source": [
    "import warnings\n",
    "import pandas as pd\n",
    "from pandas.errors import SettingWithCopyWarning\n",
    "\n",
    "warnings.filterwarnings('ignore')\n",
    "#warnings.filterwarnings(\"ignore\", category=SettingWithCopyWarning)\n",
    "\n",
    "def mdx(tem,ifcra,iffes,idxr,numi):\n",
    "    \n",
    "    #print('read')\n",
    "    rec_path='./crashl/cra'+str(tem)+'/TM_sup.pdb'\n",
    "    lig_path='./crashl/cra'+str(tem)+'/lig.pdb'\n",
    "    ltyp,lpos,lsym=readlig(lig_path)\n",
    "    rtyp,rpos,rres,rsym,rnum=readrecx(rec_path)\n",
    "    \n",
    "    #print('init')\n",
    "    R,res,typ,resnum,item,d=init(ltyp,lpos,lsym,rtyp,rpos,rres,rsym,rnum)\n",
    "    #print(d)\n",
    "    bondh,bondhdis=bondhem(lig_path,R,d)\n",
    "    bondf,bondfdis=bondfes(R,d['FE'],typ,res,d)\n",
    "    \n",
    "    crashl=[]\n",
    "    for i in range(1,max(resnum)):\n",
    "        crashl.append(i)\n",
    "    if ifcra==1:\n",
    "        crashl=ckcrashx(R,typ,res,resnum)\n",
    "    bondr,bondrdis=bondres(R,crashl,resnum,item,res)\n",
    "    \n",
    "    bond=bondh+bondr\n",
    "    bond_dis=bondhdis+bondrdis\n",
    "    if iffes==1:\n",
    "        bond=bond+bondf\n",
    "        bond_dis=bond_dis+bondfdis\n",
    "    bond=np.array(bond)\n",
    "    bond_dis=np.array(bond_dis)\n",
    "    \n",
    "    #print('x1',len(bond),len(bondh),len(bondf),len(bondr))\n",
    "    #print('x2',len(bond_dis),len(bondhdis),len(bondfdis),len(bondrdis))\n",
    "    \n",
    "    #print('energy')\n",
    "    neighbor_fn,sum_engn=energyx(R,bond,bond_dis,crashl,resnum,res,item)\n",
    "    \n",
    "    #print('md')\n",
    "    rt=run_minimization(sum_engn, neighbor_fn, R, shift,200,dt=0.000005)\n",
    "    \n",
    "    crashlx=ckcrashx(rt,typ,res,resnum)\n",
    "    bondf,bondfdis=bondfesx(rt,d['FE'],typ,res,d)\n",
    "    \n",
    "    succ=0\n",
    "    if len(crashlx)==0 and bondfdis[0]>1.93 and bondfdis[0]<2.77:\n",
    "        succ=1\n",
    "    #print('result',succ,len(crashlx),bondfdis)\n",
    "    \n",
    "    prt=rec_path\n",
    "    lig=lig_path\n",
    "    nprt='./crashl/cra'+str(tem)+'/xr'+str(idxr)+'mdtm.pdb'\n",
    "    nlig='./crashl/cra'+str(tem)+'/xr'+str(idxr)+'mdlig.pdb'\n",
    "    #print(nprt,nlig)\n",
    "    savemd(prt,lig,nprt,nlig,rt,resnum,d)\n",
    "#     cpprt='./alfpdb/alf'+str(numi)+'/xr'+str(idxr)+'tm.pdb'\n",
    "#     cplig='./alfpdb/alf'+str(numi)+'/xr'+str(idxr)+'lig.pdb'\n",
    "#     shutil.copy(prt, cpprt)\n",
    "#     shutil.copy(lig, cplig)\n",
    "    \n",
    "#     for i in range(len(rt)):\n",
    "#         print(typ[i],res[i],resnum[i],rt[i])\n",
    "    return succ,len(crashlx),bondfdis[0]"
   ]
  },
  {
   "cell_type": "code",
   "execution_count": 40,
   "id": "8a776918",
   "metadata": {},
   "outputs": [],
   "source": [
    "cresult=[]"
   ]
  },
  {
   "cell_type": "code",
   "execution_count": 41,
   "id": "e311e19f",
   "metadata": {},
   "outputs": [
    {
     "name": "stdout",
     "output_type": "stream",
     "text": [
      "4102 1.9281454820630104\n",
      "C N -0.31112903914437817 1.2088709608556218\n",
      "4102 1.9407985652874402\n",
      "0 1 0 1.9407985652874402\n",
      "7121 2.7679716400281276\n",
      "C C -0.16610881071316363 1.3738911892868364\n",
      "O C -0.6242717316427426 0.8757282683572574\n",
      "7121 2.7790097947233505\n",
      "1 0 0 2.7790097947233505\n",
      "3301 1.3033779191009789\n",
      "C C -1.0298392410229882 0.5101607589770119\n",
      "FE S -0.47662208089902114 1.3033779191009789\n",
      "3301 1.8207987801803571\n",
      "2 0 0 1.8207987801803571\n",
      "3942 2.3209836276889098\n",
      "C N -0.21722373371326875 1.3027762662867313\n",
      "C N -0.5389119819032074 0.9810880180967926\n",
      "3942 2.3210232785039633\n",
      "3 0 1 2.3210232785039633\n",
      "3982 2.0683880196906963\n",
      "C N -0.07394847947937855 1.4460515205206215\n",
      "3982 2.066431396237342\n",
      "4 1 0 2.066431396237342\n",
      "3556 3.2721816881096313\n",
      "C O -0.07606566162621342 1.4239343383737866\n",
      "O C -0.2600298390686986 1.2399701609313014\n",
      "C O -0.08591628485756453 1.4140837151424355\n",
      "O C -0.25835236271615925 1.2416476372838408\n",
      "3556 3.268807266017646\n",
      "5 0 2 3.268807266017646\n",
      "3454 2.833961714632007\n",
      "C O -0.23899920697883692 1.261000793021163\n",
      "C C -0.14387196524828383 1.3961280347517162\n",
      "3454 2.8326993217326075\n",
      "6 0 1 2.8326993217326075\n",
      "4126 2.043836343741838\n",
      "C N -0.020398052815348677 1.4996019471846513\n",
      "C N -0.043634284184516536 1.4763657158154835\n",
      "4126 2.0459691434154292\n",
      "7 0 1 2.0459691434154292\n",
      "4092 1.635900058072008\n",
      "C N -0.12255805129515274 1.3974419487048473\n",
      "FE S -0.14409994192799203 1.635900058072008\n",
      "4092 1.8272107016484367\n",
      "8 0 0 1.8272107016484367\n",
      "3490 2.5363000611126414\n",
      "C C -0.1259780765490257 1.4140219234509743\n",
      "C C -0.30220397041998326 1.2377960295800168\n",
      "3490 2.5360015735717587\n",
      "9 0 1 2.5360015735717587\n",
      "2715 1.6023835371096375\n",
      "C C -0.5946355200241504 0.9453644799758496\n",
      "O N -0.13739022795153644 1.3426097720484635\n",
      "C C -0.19830815758610343 1.3416918424138966\n",
      "C C -0.010199032553582343 1.5298009674464177\n",
      "FE S -0.17761646289036248 1.6023835371096375\n",
      "O N -0.1258607285679425 1.3541392714320575\n",
      "C C -0.20125516681454547 1.3387448331854546\n",
      "2715 1.8783619809900438\n",
      "10 0 2 1.8783619809900438\n",
      "4107 2.2781817311180426\n",
      "O N -0.4692952953508127 1.0107047046491873\n",
      "4107 2.269985510304413\n",
      "11 1 0 2.269985510304413\n",
      "8013 2.7895169832786464\n",
      "O C -0.30522010395219645 1.1947798960478035\n",
      "C N -0.013342510935828944 1.506657489064171\n",
      "8013 2.8007121805094624\n",
      "12 0 1 2.8007121805094624\n",
      "3749 2.3376321353027287\n",
      "C N -0.5098312022241014 1.0101687977758986\n",
      "C N -0.04210381618222603 1.477896183817774\n",
      "3749 2.340475572305471\n",
      "13 0 1 2.340475572305471\n",
      "4136 2.5120338373517086\n",
      "C N -0.7807605259457541 0.739239474054246\n",
      "C C -0.02112047877390899 1.518879521226091\n",
      "C N -0.6009634052138851 0.9190365947861149\n",
      "4136 2.51263030381132\n",
      "14 0 1 2.51263030381132\n",
      "2461 2.7822433394654755\n",
      "C C -0.6021700580595669 0.9378299419404331\n",
      "2461 2.775493886746853\n",
      "15 0 0 2.775493886746853\n",
      "4127 1.8954308217394795\n",
      "C N -0.4175744923125204 1.1024255076874796\n",
      "O C -0.055468934221212685 1.4445310657787873\n",
      "4127 1.917084638201117\n",
      "16 0 0 1.917084638201117\n",
      "3841 2.2155103249590153\n",
      "C N -0.014453587563637571 1.5055464124363624\n",
      "3841 2.2103857490365577\n",
      "17 1 0 2.2103857490365577\n",
      "3489 1.6670299937313664\n",
      "C C -0.052462101323128785 1.4875378986768713\n",
      "O C -0.059003816798949726 1.4409961832010503\n",
      "C C -0.5271081005358944 1.0128918994641056\n",
      "N S -0.0663433444499395 1.7036566555500605\n",
      "3489 1.8644796944281918\n",
      "18 0 0 1.8644796944281918\n",
      "3819 2.028425497769145\n",
      "C C -0.7568799581162539 0.7831200418837462\n",
      "3819 2.0424062827310623\n",
      "19 1 0 2.0424062827310623\n",
      "3617 3.0649831973438286\n",
      "O O -0.6100035294190914 0.8499964705809085\n",
      "O O -0.700196890232399 0.759803109767601\n",
      "3617 3.063128831851955\n",
      "20 0 1 3.063128831851955\n",
      "4120 2.465733967807553\n",
      "C N -0.33532704935075186 1.1846729506492482\n",
      "C N -0.34456014847731664 1.1754398515226834\n",
      "4120 2.466036214301187\n",
      "21 0 1 2.466036214301187\n",
      "4101 2.6968539077969993\n",
      "O N -0.08720496841782244 1.3927950315821775\n",
      "C N -0.04360116035490935 1.4763988396450907\n",
      "4101 2.6963203042970805\n",
      "22 0 1 2.6963203042970805\n",
      "3889 1.7879166647246172\n",
      "C N -0.008939445290163217 1.5110605547098368\n",
      "3889 1.8291700905717223\n",
      "23 0 0 1.8291700905717223\n",
      "2805 1.4144560792050065\n",
      "C N -0.5308887827953848 0.9891112172046153\n",
      "O N -0.15354004960571865 1.3264599503942813\n",
      "FE S -0.36554392079499354 1.4144560792050065\n",
      "2805 1.8618743932726163\n",
      "24 0 0 1.8618743932726163\n",
      "4123 1.988190383237983\n",
      "C N -1.1104014160180722 0.40959858398192783\n"
     ]
    },
    {
     "ename": "KeyboardInterrupt",
     "evalue": "",
     "output_type": "error",
     "traceback": [
      "\u001b[0;31m---------------------------------------------------------------------------\u001b[0m",
      "\u001b[0;31mKeyboardInterrupt\u001b[0m                         Traceback (most recent call last)",
      "Cell \u001b[0;32mIn[41], line 2\u001b[0m\n\u001b[1;32m      1\u001b[0m \u001b[38;5;28;01mfor\u001b[39;00m i \u001b[38;5;129;01min\u001b[39;00m \u001b[38;5;28mrange\u001b[39m(\u001b[38;5;241m50\u001b[39m):\n\u001b[0;32m----> 2\u001b[0m     succ,crashn,fes\u001b[38;5;241m=\u001b[39m\u001b[43mmdx\u001b[49m\u001b[43m(\u001b[49m\u001b[43mi\u001b[49m\u001b[43m,\u001b[49m\u001b[38;5;241;43m1\u001b[39;49m\u001b[43m,\u001b[49m\u001b[38;5;241;43m1\u001b[39;49m\u001b[43m,\u001b[49m\u001b[38;5;241;43m1\u001b[39;49m\u001b[43m,\u001b[49m\u001b[43mi\u001b[49m\u001b[43m)\u001b[49m\n\u001b[1;32m      3\u001b[0m     cresult\u001b[38;5;241m.\u001b[39mappend([succ,crashn,fes])\n\u001b[1;32m      4\u001b[0m     \u001b[38;5;28mprint\u001b[39m(i,succ,crashn,fes)\n",
      "Cell \u001b[0;32mIn[39], line 44\u001b[0m, in \u001b[0;36mmdx\u001b[0;34m(tem, ifcra, iffes, idxr, numi)\u001b[0m\n\u001b[1;32m     41\u001b[0m neighbor_fn,sum_engn\u001b[38;5;241m=\u001b[39menergyx(R,bond,bond_dis,crashl,resnum,res,item)\n\u001b[1;32m     43\u001b[0m \u001b[38;5;66;03m#print('md')\u001b[39;00m\n\u001b[0;32m---> 44\u001b[0m rt\u001b[38;5;241m=\u001b[39m\u001b[43mrun_minimization\u001b[49m\u001b[43m(\u001b[49m\u001b[43msum_engn\u001b[49m\u001b[43m,\u001b[49m\u001b[43m \u001b[49m\u001b[43mneighbor_fn\u001b[49m\u001b[43m,\u001b[49m\u001b[43m \u001b[49m\u001b[43mR\u001b[49m\u001b[43m,\u001b[49m\u001b[43m \u001b[49m\u001b[43mshift\u001b[49m\u001b[43m,\u001b[49m\u001b[38;5;241;43m200\u001b[39;49m\u001b[43m,\u001b[49m\u001b[43mdt\u001b[49m\u001b[38;5;241;43m=\u001b[39;49m\u001b[38;5;241;43m0.000005\u001b[39;49m\u001b[43m)\u001b[49m\n\u001b[1;32m     46\u001b[0m crashlx\u001b[38;5;241m=\u001b[39mckcrashx(rt,typ,res,resnum)\n\u001b[1;32m     47\u001b[0m bondf,bondfdis\u001b[38;5;241m=\u001b[39mbondfesx(rt,d[\u001b[38;5;124m'\u001b[39m\u001b[38;5;124mFE\u001b[39m\u001b[38;5;124m'\u001b[39m],typ,res,d)\n",
      "Cell \u001b[0;32mIn[35], line 10\u001b[0m, in \u001b[0;36mrun_minimization\u001b[0;34m(energy_fn, neighbor_fn, R_init, shift, num_steps, dt)\u001b[0m\n\u001b[1;32m      8\u001b[0m \u001b[38;5;28;01mfor\u001b[39;00m i \u001b[38;5;129;01min\u001b[39;00m \u001b[38;5;28mrange\u001b[39m(num_steps):\n\u001b[1;32m      9\u001b[0m     state \u001b[38;5;241m=\u001b[39m apply(state, neighbor\u001b[38;5;241m=\u001b[39mnbrs)\n\u001b[0;32m---> 10\u001b[0m     e\u001b[38;5;241m=\u001b[39m\u001b[43menergy_fn\u001b[49m\u001b[43m(\u001b[49m\u001b[43mstate\u001b[49m\u001b[38;5;241;43m.\u001b[39;49m\u001b[43mposition\u001b[49m\u001b[43m,\u001b[49m\u001b[43m \u001b[49m\u001b[43mneighbor\u001b[49m\u001b[38;5;241;43m=\u001b[39;49m\u001b[43mnbrs\u001b[49m\u001b[43m)\u001b[49m\n\u001b[1;32m     11\u001b[0m     \u001b[38;5;66;03m#rx=state.position\u001b[39;00m\n\u001b[1;32m     12\u001b[0m     \u001b[38;5;66;03m#t=time.time()-t0\u001b[39;00m\n\u001b[1;32m     13\u001b[0m     \u001b[38;5;66;03m#if i%100==0:\u001b[39;00m\n\u001b[1;32m     14\u001b[0m     \u001b[38;5;66;03m#print(i,e)\u001b[39;00m\n\u001b[1;32m     15\u001b[0m \u001b[38;5;28;01mreturn\u001b[39;00m state\u001b[38;5;241m.\u001b[39mposition\n",
      "Cell \u001b[0;32mIn[36], line 23\u001b[0m, in \u001b[0;36menergyx.<locals>.sum_engn\u001b[0;34m(R, neighbor, **kwargs)\u001b[0m\n\u001b[1;32m     22\u001b[0m \u001b[38;5;28;01mdef\u001b[39;00m \u001b[38;5;21msum_engn\u001b[39m(R,neighbor\u001b[38;5;241m=\u001b[39mnbrs,\u001b[38;5;241m*\u001b[39m\u001b[38;5;241m*\u001b[39mkwargs):\n\u001b[0;32m---> 23\u001b[0m     \u001b[38;5;28;01mreturn\u001b[39;00m bond_energy_fn(R)\u001b[38;5;241m+\u001b[39m\u001b[43mvdv_fn\u001b[49m\u001b[43m(\u001b[49m\u001b[43mR\u001b[49m\u001b[43m,\u001b[49m\u001b[43m \u001b[49m\u001b[43mneighbor\u001b[49m\u001b[38;5;241;43m=\u001b[39;49m\u001b[43mnbrs\u001b[49m\u001b[43m)\u001b[49m\u001b[38;5;241m+\u001b[39mpr_energy(R)\u001b[38;5;241m+\u001b[39mhemang_energy(R)\n",
      "File \u001b[0;32m~/anaconda3/envs/flexfillb/lib/python3.11/site-packages/jax_md/smap.py:702\u001b[0m, in \u001b[0;36mpair_neighbor_list.<locals>.fn_mapped\u001b[0;34m(R, neighbor, **dynamic_kwargs)\u001b[0m\n\u001b[1;32m    696\u001b[0m merged_kwargs \u001b[38;5;241m=\u001b[39m merge_dicts(kwargs, dynamic_kwargs)\n\u001b[1;32m    697\u001b[0m merged_kwargs \u001b[38;5;241m=\u001b[39m _neighborhood_kwargs_to_params(neighbor\u001b[38;5;241m.\u001b[39mformat,\n\u001b[1;32m    698\u001b[0m                                                neighbor\u001b[38;5;241m.\u001b[39midx,\n\u001b[1;32m    699\u001b[0m                                                _species,\n\u001b[1;32m    700\u001b[0m                                                merged_kwargs,\n\u001b[1;32m    701\u001b[0m                                                param_combinators)\n\u001b[0;32m--> 702\u001b[0m out \u001b[38;5;241m=\u001b[39m \u001b[43mfn\u001b[49m\u001b[43m(\u001b[49m\u001b[43mdR\u001b[49m\u001b[43m,\u001b[49m\u001b[43m \u001b[49m\u001b[38;5;241;43m*\u001b[39;49m\u001b[38;5;241;43m*\u001b[39;49m\u001b[43mmerged_kwargs\u001b[49m\u001b[43m)\u001b[49m\n\u001b[1;32m    703\u001b[0m \u001b[38;5;28;01mif\u001b[39;00m out\u001b[38;5;241m.\u001b[39mndim \u001b[38;5;241m>\u001b[39m mask\u001b[38;5;241m.\u001b[39mndim:\n\u001b[1;32m    704\u001b[0m   ddim \u001b[38;5;241m=\u001b[39m out\u001b[38;5;241m.\u001b[39mndim \u001b[38;5;241m-\u001b[39m mask\u001b[38;5;241m.\u001b[39mndim\n",
      "File \u001b[0;32m~/anaconda3/envs/flexfillb/lib/python3.11/site-packages/jax_md/energy.py:512\u001b[0m, in \u001b[0;36mmultiplicative_isotropic_cutoff.<locals>.cutoff_fn\u001b[0;34m(dr, *args, **kwargs)\u001b[0m\n\u001b[1;32m    510\u001b[0m \u001b[38;5;129m@wraps\u001b[39m(fn)\n\u001b[1;32m    511\u001b[0m \u001b[38;5;28;01mdef\u001b[39;00m \u001b[38;5;21mcutoff_fn\u001b[39m(dr, \u001b[38;5;241m*\u001b[39margs, \u001b[38;5;241m*\u001b[39m\u001b[38;5;241m*\u001b[39mkwargs):\n\u001b[0;32m--> 512\u001b[0m   \u001b[38;5;28;01mreturn\u001b[39;00m \u001b[43msmooth_fn\u001b[49m\u001b[43m(\u001b[49m\u001b[43mdr\u001b[49m\u001b[43m)\u001b[49m \u001b[38;5;241m*\u001b[39m fn(dr, \u001b[38;5;241m*\u001b[39margs, \u001b[38;5;241m*\u001b[39m\u001b[38;5;241m*\u001b[39mkwargs)\n",
      "File \u001b[0;32m~/anaconda3/envs/flexfillb/lib/python3.11/site-packages/jax_md/energy.py:502\u001b[0m, in \u001b[0;36mmultiplicative_isotropic_cutoff.<locals>.smooth_fn\u001b[0;34m(dr)\u001b[0m\n\u001b[1;32m    501\u001b[0m \u001b[38;5;28;01mdef\u001b[39;00m \u001b[38;5;21msmooth_fn\u001b[39m(dr):\n\u001b[0;32m--> 502\u001b[0m   r \u001b[38;5;241m=\u001b[39m \u001b[43mdr\u001b[49m\u001b[43m \u001b[49m\u001b[38;5;241;43m*\u001b[39;49m\u001b[38;5;241;43m*\u001b[39;49m\u001b[43m \u001b[49m\u001b[43mf32\u001b[49m\u001b[43m(\u001b[49m\u001b[38;5;241;43m2\u001b[39;49m\u001b[43m)\u001b[49m\n\u001b[1;32m    504\u001b[0m   inner \u001b[38;5;241m=\u001b[39m jnp\u001b[38;5;241m.\u001b[39mwhere(dr \u001b[38;5;241m<\u001b[39m r_cutoff,\n\u001b[1;32m    505\u001b[0m                    (r_c \u001b[38;5;241m-\u001b[39m r)\u001b[38;5;241m*\u001b[39m\u001b[38;5;241m*\u001b[39m\u001b[38;5;241m2\u001b[39m \u001b[38;5;241m*\u001b[39m (r_c \u001b[38;5;241m+\u001b[39m \u001b[38;5;241m2\u001b[39m \u001b[38;5;241m*\u001b[39m r \u001b[38;5;241m-\u001b[39m \u001b[38;5;241m3\u001b[39m \u001b[38;5;241m*\u001b[39m r_o) \u001b[38;5;241m/\u001b[39m (r_c \u001b[38;5;241m-\u001b[39m r_o)\u001b[38;5;241m*\u001b[39m\u001b[38;5;241m*\u001b[39m\u001b[38;5;241m3\u001b[39m,\n\u001b[1;32m    506\u001b[0m                    \u001b[38;5;241m0\u001b[39m)\n\u001b[1;32m    508\u001b[0m   \u001b[38;5;28;01mreturn\u001b[39;00m jnp\u001b[38;5;241m.\u001b[39mwhere(dr \u001b[38;5;241m<\u001b[39m r_onset, \u001b[38;5;241m1\u001b[39m, inner)\n",
      "File \u001b[0;32m~/anaconda3/envs/flexfillb/lib/python3.11/site-packages/jax/_src/numpy/array_methods.py:256\u001b[0m, in \u001b[0;36m_defer_to_unrecognized_arg.<locals>.deferring_binary_op\u001b[0;34m(self, other)\u001b[0m\n\u001b[1;32m    254\u001b[0m args \u001b[38;5;241m=\u001b[39m (other, \u001b[38;5;28mself\u001b[39m) \u001b[38;5;28;01mif\u001b[39;00m swap \u001b[38;5;28;01melse\u001b[39;00m (\u001b[38;5;28mself\u001b[39m, other)\n\u001b[1;32m    255\u001b[0m \u001b[38;5;28;01mif\u001b[39;00m \u001b[38;5;28misinstance\u001b[39m(other, _accepted_binop_types):\n\u001b[0;32m--> 256\u001b[0m   \u001b[38;5;28;01mreturn\u001b[39;00m \u001b[43mbinary_op\u001b[49m\u001b[43m(\u001b[49m\u001b[38;5;241;43m*\u001b[39;49m\u001b[43margs\u001b[49m\u001b[43m)\u001b[49m\n\u001b[1;32m    257\u001b[0m \u001b[38;5;66;03m# Note: don't use isinstance here, because we don't want to raise for\u001b[39;00m\n\u001b[1;32m    258\u001b[0m \u001b[38;5;66;03m# subclasses, e.g. NamedTuple objects that may override operators.\u001b[39;00m\n\u001b[1;32m    259\u001b[0m \u001b[38;5;28;01mif\u001b[39;00m \u001b[38;5;28mtype\u001b[39m(other) \u001b[38;5;129;01min\u001b[39;00m _rejected_binop_types:\n",
      "File \u001b[0;32m~/anaconda3/envs/flexfillb/lib/python3.11/site-packages/jax/_src/numpy/ufuncs.py:342\u001b[0m, in \u001b[0;36mpower\u001b[0;34m(x1, x2)\u001b[0m\n\u001b[1;32m    339\u001b[0m     \u001b[38;5;28;01mreturn\u001b[39;00m lax\u001b[38;5;241m.\u001b[39minteger_pow(x1, x2)\n\u001b[1;32m    341\u001b[0m \u001b[38;5;66;03m# Handle cases #2 and #3 under a jit:\u001b[39;00m\n\u001b[0;32m--> 342\u001b[0m \u001b[38;5;28;01mreturn\u001b[39;00m \u001b[43m_power\u001b[49m\u001b[43m(\u001b[49m\u001b[43mx1\u001b[49m\u001b[43m,\u001b[49m\u001b[43m \u001b[49m\u001b[43mx2\u001b[49m\u001b[43m)\u001b[49m\n",
      "\u001b[0;31mKeyboardInterrupt\u001b[0m: "
     ]
    }
   ],
   "source": [
    "for i in range(50):\n",
    "    succ,crashn,fes=mdx(i,1,1,1,i)\n",
    "    cresult.append([succ,crashn,fes])\n",
    "    print(i,succ,crashn,fes)"
   ]
  },
  {
   "cell_type": "code",
   "execution_count": null,
   "id": "57e676fc",
   "metadata": {},
   "outputs": [],
   "source": []
  }
 ],
 "metadata": {
  "kernelspec": {
   "display_name": "Python 3 (ipykernel)",
   "language": "python",
   "name": "python3"
  },
  "language_info": {
   "codemirror_mode": {
    "name": "ipython",
    "version": 3
   },
   "file_extension": ".py",
   "mimetype": "text/x-python",
   "name": "python",
   "nbconvert_exporter": "python",
   "pygments_lexer": "ipython3",
   "version": "3.11.10"
  }
 },
 "nbformat": 4,
 "nbformat_minor": 5
}
